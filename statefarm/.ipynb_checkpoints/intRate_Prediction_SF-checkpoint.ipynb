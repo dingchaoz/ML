{
 "cells": [
  {
   "cell_type": "code",
   "execution_count": 2,
   "metadata": {
    "collapsed": false
   },
   "outputs": [],
   "source": [
    "import matplotlib.pyplot as plt\n",
    "%matplotlib inline\n",
    "import numpy as np\n",
    "import pandas as pd\n",
    "import statsmodels.api as sm\n",
    "import decimal\n",
    "from statsmodels.nonparametric.kde import KDEUnivariate\n",
    "from statsmodels.nonparametric import smoothers_lowess\n",
    "from pandas import Series, DataFrame\n",
    "from patsy import dmatrices\n",
    "from sklearn import datasets, svm\n",
    "from sklearn.svm import SVR\n",
    "\n",
    "#data = pd.read_csv('data', parse_dates=[[0,1]], infer_datetime_format=True)\n",
    "df = pd.read_csv(\"training.csv\", infer_datetime_format=True,low_memory=False)\n",
    "\n",
    "columnNames = ['int_rate','id_loan','id_borrower','loan_amt','funded_amt','funded_amt_inv',\n",
<<<<<<< HEAD
    "              'term','grade','subgrade','emp_title','emp_length','home_ownership','annual_inc',\n",
=======
    "              'term','grade','subgrade','emp_title','emp_length','home_ownership','annal_inc',\n",
>>>>>>> cc98d0a5d9de28dbcf50863d5aa1c5a1e393ea6d
    "               'verification_status','issue_d','purpose','loan_cat','loan_title','zip_code',\n",
    "               'state','dti','delinq_2yrs','earliest_cr_line','inq_last_6mths','mths_since_last_deliq',\n",
    "               'mths_since_last_record','num_opencr_line','num_der_rec','revol_bal','revol_util',\n",
    "               'total_cr_line','init_list_status']\n",
    "\n",
    "df.columns = columnNames\n",
    "\n",
    "# # Remove the following columns since it has too many missing values\n",
    "# df = df.drop(['X16','X25','X26'], axis=1)\n",
    "# # Remove NaN values if any of the column has a NaN\n",
    "# #df = df.dropna()\n",
    "\n",
    "\n",
    "# # X1 is the response column, thus removing all NaNs from it\n",
    "# # X4,X5,X6 are currency and need to be converted to int\n",
    "# # Pandas can not store NaN in int type column, thus had remove all NaNs from them as well\n",
    "# for col in ('X1','X4', 'X5','X6'):\n",
    "#     df = df[pd.notnull(df[col])]\n",
    "\n",
    "# D = decimal.Decimal\n",
    "# # Pandas can not store NaN in int type column, thus had remove all NaNs\n",
    "# for col in ('X4', 'X5','X6'):\n",
    "#     df[col] = df[col].str.replace(r'[^-+\\d.]', '').astype(D)\n",
    "#     df[col] = df[col].astype('int')\n",
    "    \n",
    "# # Convert columns having % from obj(string type) to float and divide by 100 \n",
    "# for col in ('X1', 'X30'):\n",
    "#     df[col] = df[col].str.replace('%','').astype('float')/100\n",
    "\n",
    "# #df.dtypes"
   ]
  },
  {
   "cell_type": "markdown",
   "metadata": {},
   "source": [
    "##Predictors Filtering and Pre-Processing\n",
    "####Preliminary data exploratory, dropping useless attributes and cleaning-up/ modifying others"
   ]
  },
  {
   "cell_type": "markdown",
   "metadata": {},
   "source": [
    "Quickly review the first slice of data frame"
   ]
  },
  {
   "cell_type": "code",
<<<<<<< HEAD
   "execution_count": 3,
=======
   "execution_count": 17,
>>>>>>> cc98d0a5d9de28dbcf50863d5aa1c5a1e393ea6d
   "metadata": {
    "collapsed": false,
    "scrolled": false
   },
   "outputs": [
    {
     "data": {
      "text/html": [
       "<div>\n",
       "<table border=\"1\" class=\"dataframe\">\n",
       "  <thead>\n",
       "    <tr style=\"text-align: right;\">\n",
       "      <th></th>\n",
       "      <th>int_rate</th>\n",
       "      <th>id_loan</th>\n",
       "      <th>id_borrower</th>\n",
       "      <th>loan_amt</th>\n",
       "      <th>funded_amt</th>\n",
       "      <th>funded_amt_inv</th>\n",
       "      <th>term</th>\n",
       "      <th>grade</th>\n",
       "      <th>subgrade</th>\n",
       "      <th>emp_title</th>\n",
       "      <th>...</th>\n",
       "      <th>earliest_cr_line</th>\n",
       "      <th>inq_last_6mths</th>\n",
       "      <th>mths_since_last_deliq</th>\n",
       "      <th>mths_since_last_record</th>\n",
       "      <th>num_opencr_line</th>\n",
       "      <th>num_der_rec</th>\n",
       "      <th>revol_bal</th>\n",
       "      <th>revol_util</th>\n",
       "      <th>total_cr_line</th>\n",
       "      <th>init_list_status</th>\n",
       "    </tr>\n",
       "  </thead>\n",
       "  <tbody>\n",
       "    <tr>\n",
       "      <th>0</th>\n",
       "      <td>11.89%</td>\n",
       "      <td>54734</td>\n",
       "      <td>80364</td>\n",
       "      <td>$25,000</td>\n",
       "      <td>$25,000</td>\n",
       "      <td>$19,080</td>\n",
       "      <td>36 months</td>\n",
       "      <td>B</td>\n",
       "      <td>B4</td>\n",
       "      <td>NaN</td>\n",
       "      <td>...</td>\n",
       "      <td>Feb-94</td>\n",
       "      <td>0</td>\n",
       "      <td>NaN</td>\n",
       "      <td>NaN</td>\n",
       "      <td>10</td>\n",
       "      <td>0</td>\n",
       "      <td>28854</td>\n",
       "      <td>52.10%</td>\n",
       "      <td>42</td>\n",
       "      <td>f</td>\n",
       "    </tr>\n",
       "    <tr>\n",
       "      <th>1</th>\n",
       "      <td>10.71%</td>\n",
       "      <td>55742</td>\n",
       "      <td>114426</td>\n",
       "      <td>$7,000</td>\n",
       "      <td>$7,000</td>\n",
       "      <td>$673</td>\n",
       "      <td>36 months</td>\n",
       "      <td>B</td>\n",
       "      <td>B5</td>\n",
       "      <td>CNN</td>\n",
       "      <td>...</td>\n",
       "      <td>Oct-00</td>\n",
       "      <td>0</td>\n",
       "      <td>NaN</td>\n",
       "      <td>NaN</td>\n",
       "      <td>7</td>\n",
       "      <td>0</td>\n",
       "      <td>33623</td>\n",
       "      <td>76.70%</td>\n",
       "      <td>7</td>\n",
       "      <td>f</td>\n",
       "    </tr>\n",
       "    <tr>\n",
       "      <th>2</th>\n",
       "      <td>16.99%</td>\n",
       "      <td>57167</td>\n",
       "      <td>137225</td>\n",
       "      <td>$25,000</td>\n",
       "      <td>$25,000</td>\n",
       "      <td>$24,725</td>\n",
       "      <td>36 months</td>\n",
       "      <td>D</td>\n",
       "      <td>D3</td>\n",
       "      <td>Web Programmer</td>\n",
       "      <td>...</td>\n",
       "      <td>Jun-00</td>\n",
       "      <td>0</td>\n",
       "      <td>41</td>\n",
       "      <td>NaN</td>\n",
       "      <td>10</td>\n",
       "      <td>0</td>\n",
       "      <td>19878</td>\n",
       "      <td>66.30%</td>\n",
       "      <td>17</td>\n",
       "      <td>f</td>\n",
       "    </tr>\n",
       "  </tbody>\n",
       "</table>\n",
       "<p>3 rows × 32 columns</p>\n",
       "</div>"
      ],
      "text/plain": [
       "  int_rate  id_loan  id_borrower loan_amt funded_amt funded_amt_inv  \\\n",
       "0   11.89%    54734        80364  $25,000    $25,000        $19,080   \n",
       "1   10.71%    55742       114426   $7,000     $7,000           $673   \n",
       "2   16.99%    57167       137225  $25,000    $25,000        $24,725   \n",
       "\n",
       "         term grade subgrade       emp_title       ...         \\\n",
       "0   36 months     B       B4             NaN       ...          \n",
       "1   36 months     B       B5             CNN       ...          \n",
       "2   36 months     D       D3  Web Programmer       ...          \n",
       "\n",
       "  earliest_cr_line inq_last_6mths  mths_since_last_deliq  \\\n",
       "0           Feb-94              0                    NaN   \n",
       "1           Oct-00              0                    NaN   \n",
       "2           Jun-00              0                     41   \n",
       "\n",
       "  mths_since_last_record num_opencr_line num_der_rec revol_bal revol_util  \\\n",
       "0                    NaN              10           0     28854     52.10%   \n",
       "1                    NaN               7           0     33623     76.70%   \n",
       "2                    NaN              10           0     19878     66.30%   \n",
       "\n",
       "  total_cr_line init_list_status  \n",
       "0            42                f  \n",
       "1             7                f  \n",
       "2            17                f  \n",
       "\n",
       "[3 rows x 32 columns]"
      ]
     },
<<<<<<< HEAD
     "execution_count": 3,
=======
     "execution_count": 17,
>>>>>>> cc98d0a5d9de28dbcf50863d5aa1c5a1e393ea6d
     "metadata": {},
     "output_type": "execute_result"
    }
   ],
   "source": [
    "df.head(3)"
   ]
  },
  {
   "cell_type": "markdown",
   "metadata": {},
   "source": [
    "Review the data type of the first several columns"
   ]
  },
  {
   "cell_type": "code",
   "execution_count": 15,
   "metadata": {
    "collapsed": false
   },
   "outputs": [
    {
     "data": {
      "text/plain": [
       "int_rate           object\n",
       "id_loan           float64\n",
       "id_borrower       float64\n",
       "loan_amt           object\n",
       "funded_amt         object\n",
       "funded_amt_inv     object\n",
       "term               object\n",
       "dtype: object"
      ]
     },
     "execution_count": 15,
     "metadata": {},
     "output_type": "execute_result"
    }
   ],
   "source": [
    "df.ix[:3,:7].dtypes"
   ]
  },
  {
   "cell_type": "markdown",
   "metadata": {},
   "source": [
    "### Convert data type column of int_rate, loan_amt,funded_amt, funded_amt_inv,term\n",
    "1. int_rate, loan_amt,funded_amt, funded_amt_inv,term were loaded as object data type due to '%' or '$' or 'months' characters,thus need strip those characters out and convert column type\n",
    "2. loan_amt,funded_amt, funded_amt_inv,term need to be converted to int type, and Pandas do not allow to store NaN in int column, thus will remove NaN from those columns before convert"
   ]
  },
  {
   "cell_type": "code",
<<<<<<< HEAD
   "execution_count": 4,
=======
   "execution_count": 3,
>>>>>>> cc98d0a5d9de28dbcf50863d5aa1c5a1e393ea6d
   "metadata": {
    "collapsed": false
   },
   "outputs": [],
   "source": [
    "# Pandas can not store NaN in int type column, thus had remove all NaNs from them as well\n",
    "for col in ('loan_amt','funded_amt','funded_amt_inv', 'term'):\n",
    "    df = df[pd.notnull(df[col])]\n",
    "    \n",
    "# reset index\n",
    "df = df.reset_index(drop=True)\n",
    "\n",
    "D = decimal.Decimal\n",
    "# Pandas can not store NaN in int type column, thus had remove all NaNs\n",
    "for col in ('loan_amt','funded_amt','funded_amt_inv','term'):\n",
    "    df[col] = df[col].str.replace(r'[^-+\\d.]', '').astype(D)\n",
    "    df[col] = df[col].astype('int')\n",
    "    \n",
    "#  Convert columns having % from obj(string type) to float and divide by 100    \n",
    "df['int_rate'] = df['int_rate'].str.replace('%','').astype('float')/100"
   ]
  },
  {
   "cell_type": "markdown",
   "metadata": {},
   "source": [
    "### Dealing missing values in int_rate column\n",
    "1. There were some NaN value in int_rate column, we need to examine the pattern of missingness to understand if it can be\n",
    "informative missingness, e.g.: certain loan requested by certain borrower were rejected thus no int_rate recorded\n",
    "2. lf it is no informative missingness, then we can remove the rows in which the int_rate is missing"
   ]
  },
  {
   "cell_type": "code",
   "execution_count": 34,
   "metadata": {
    "collapsed": false
   },
   "outputs": [
    {
     "data": {
      "text/html": [
       "<div>\n",
       "<table border=\"1\" class=\"dataframe\">\n",
       "  <thead>\n",
       "    <tr style=\"text-align: right;\">\n",
       "      <th></th>\n",
       "      <th>int_rate</th>\n",
       "      <th>id_loan</th>\n",
       "      <th>id_borrower</th>\n",
       "      <th>loan_amt</th>\n",
       "      <th>funded_amt</th>\n",
       "      <th>funded_amt_inv</th>\n",
       "      <th>term</th>\n",
       "      <th>annal_inc</th>\n",
       "      <th>dti</th>\n",
       "      <th>delinq_2yrs</th>\n",
       "      <th>inq_last_6mths</th>\n",
       "      <th>mths_since_last_deliq</th>\n",
       "      <th>mths_since_last_record</th>\n",
       "      <th>num_opencr_line</th>\n",
       "      <th>num_der_rec</th>\n",
       "      <th>revol_bal</th>\n",
       "      <th>total_cr_line</th>\n",
       "    </tr>\n",
       "  </thead>\n",
       "  <tbody>\n",
       "    <tr>\n",
       "      <th>count</th>\n",
       "      <td>0</td>\n",
       "      <td>61010.000000</td>\n",
       "      <td>61010.00000</td>\n",
       "      <td>61010.000000</td>\n",
       "      <td>61010.000000</td>\n",
       "      <td>61010.000000</td>\n",
       "      <td>61010.000000</td>\n",
       "      <td>51734.000000</td>\n",
       "      <td>61010.000000</td>\n",
       "      <td>61010.000000</td>\n",
       "      <td>61010.000000</td>\n",
       "      <td>27665.000000</td>\n",
       "      <td>7755.000000</td>\n",
       "      <td>61010.000000</td>\n",
       "      <td>61010.000000</td>\n",
       "      <td>61010.000000</td>\n",
       "      <td>61010.000000</td>\n",
       "    </tr>\n",
       "    <tr>\n",
       "      <th>mean</th>\n",
       "      <td>NaN</td>\n",
       "      <td>10013043.130634</td>\n",
       "      <td>11366605.92852</td>\n",
       "      <td>14257.931077</td>\n",
       "      <td>14231.621865</td>\n",
       "      <td>14188.417128</td>\n",
       "      <td>42.463990</td>\n",
       "      <td>73208.373956</td>\n",
       "      <td>17.020475</td>\n",
       "      <td>0.275873</td>\n",
       "      <td>0.812949</td>\n",
       "      <td>34.236255</td>\n",
       "      <td>77.198968</td>\n",
       "      <td>11.117243</td>\n",
       "      <td>0.150041</td>\n",
       "      <td>15854.421898</td>\n",
       "      <td>25.009130</td>\n",
       "    </tr>\n",
       "    <tr>\n",
       "      <th>std</th>\n",
       "      <td>NaN</td>\n",
       "      <td>7923666.061475</td>\n",
       "      <td>8659546.18622</td>\n",
       "      <td>8246.996054</td>\n",
       "      <td>8230.712767</td>\n",
       "      <td>8227.999839</td>\n",
       "      <td>10.646804</td>\n",
       "      <td>54045.679519</td>\n",
       "      <td>7.742808</td>\n",
       "      <td>0.772163</td>\n",
       "      <td>1.055861</td>\n",
       "      <td>21.780102</td>\n",
       "      <td>28.666714</td>\n",
       "      <td>4.912408</td>\n",
       "      <td>0.450513</td>\n",
       "      <td>18154.455242</td>\n",
       "      <td>11.485004</td>\n",
       "    </tr>\n",
       "    <tr>\n",
       "      <th>min</th>\n",
       "      <td>NaN</td>\n",
       "      <td>68926.000000</td>\n",
       "      <td>92390.00000</td>\n",
       "      <td>1000.000000</td>\n",
       "      <td>1000.000000</td>\n",
       "      <td>300.000000</td>\n",
       "      <td>36.000000</td>\n",
       "      <td>4800.000000</td>\n",
       "      <td>0.000000</td>\n",
       "      <td>0.000000</td>\n",
       "      <td>0.000000</td>\n",
       "      <td>0.000000</td>\n",
       "      <td>0.000000</td>\n",
       "      <td>0.000000</td>\n",
       "      <td>0.000000</td>\n",
       "      <td>0.000000</td>\n",
       "      <td>2.000000</td>\n",
       "    </tr>\n",
       "    <tr>\n",
       "      <th>25%</th>\n",
       "      <td>NaN</td>\n",
       "      <td>3158950.500000</td>\n",
       "      <td>3769079.25000</td>\n",
       "      <td>8000.000000</td>\n",
       "      <td>8000.000000</td>\n",
       "      <td>8000.000000</td>\n",
       "      <td>36.000000</td>\n",
       "      <td>45000.000000</td>\n",
       "      <td>11.240000</td>\n",
       "      <td>0.000000</td>\n",
       "      <td>0.000000</td>\n",
       "      <td>16.000000</td>\n",
       "      <td>55.000000</td>\n",
       "      <td>8.000000</td>\n",
       "      <td>0.000000</td>\n",
       "      <td>6408.000000</td>\n",
       "      <td>17.000000</td>\n",
       "    </tr>\n",
       "    <tr>\n",
       "      <th>50%</th>\n",
       "      <td>NaN</td>\n",
       "      <td>8295077.500000</td>\n",
       "      <td>9677484.00000</td>\n",
       "      <td>12000.000000</td>\n",
       "      <td>12000.000000</td>\n",
       "      <td>12000.000000</td>\n",
       "      <td>36.000000</td>\n",
       "      <td>63000.000000</td>\n",
       "      <td>16.740000</td>\n",
       "      <td>0.000000</td>\n",
       "      <td>0.000000</td>\n",
       "      <td>31.000000</td>\n",
       "      <td>80.000000</td>\n",
       "      <td>10.000000</td>\n",
       "      <td>0.000000</td>\n",
       "      <td>11757.000000</td>\n",
       "      <td>23.000000</td>\n",
       "    </tr>\n",
       "    <tr>\n",
       "      <th>75%</th>\n",
       "      <td>NaN</td>\n",
       "      <td>15340539.250000</td>\n",
       "      <td>17332998.25000</td>\n",
       "      <td>20000.000000</td>\n",
       "      <td>20000.000000</td>\n",
       "      <td>19925.000000</td>\n",
       "      <td>60.000000</td>\n",
       "      <td>88500.000000</td>\n",
       "      <td>22.600000</td>\n",
       "      <td>0.000000</td>\n",
       "      <td>1.000000</td>\n",
       "      <td>49.000000</td>\n",
       "      <td>103.000000</td>\n",
       "      <td>14.000000</td>\n",
       "      <td>0.000000</td>\n",
       "      <td>20055.000000</td>\n",
       "      <td>32.000000</td>\n",
       "    </tr>\n",
       "    <tr>\n",
       "      <th>max</th>\n",
       "      <td>NaN</td>\n",
       "      <td>28753078.000000</td>\n",
       "      <td>31278000.00000</td>\n",
       "      <td>35000.000000</td>\n",
       "      <td>35000.000000</td>\n",
       "      <td>35000.000000</td>\n",
       "      <td>60.000000</td>\n",
       "      <td>6000000.000000</td>\n",
       "      <td>39.950000</td>\n",
       "      <td>15.000000</td>\n",
       "      <td>8.000000</td>\n",
       "      <td>152.000000</td>\n",
       "      <td>119.000000</td>\n",
       "      <td>53.000000</td>\n",
       "      <td>11.000000</td>\n",
       "      <td>1190046.000000</td>\n",
       "      <td>121.000000</td>\n",
       "    </tr>\n",
       "  </tbody>\n",
       "</table>\n",
       "</div>"
      ],
      "text/plain": [
       "       int_rate          id_loan     id_borrower      loan_amt    funded_amt  \\\n",
       "count         0     61010.000000     61010.00000  61010.000000  61010.000000   \n",
       "mean        NaN  10013043.130634  11366605.92852  14257.931077  14231.621865   \n",
       "std         NaN   7923666.061475   8659546.18622   8246.996054   8230.712767   \n",
       "min         NaN     68926.000000     92390.00000   1000.000000   1000.000000   \n",
       "25%         NaN   3158950.500000   3769079.25000   8000.000000   8000.000000   \n",
       "50%         NaN   8295077.500000   9677484.00000  12000.000000  12000.000000   \n",
       "75%         NaN  15340539.250000  17332998.25000  20000.000000  20000.000000   \n",
       "max         NaN  28753078.000000  31278000.00000  35000.000000  35000.000000   \n",
       "\n",
       "       funded_amt_inv          term       annal_inc           dti  \\\n",
       "count    61010.000000  61010.000000    51734.000000  61010.000000   \n",
       "mean     14188.417128     42.463990    73208.373956     17.020475   \n",
       "std       8227.999839     10.646804    54045.679519      7.742808   \n",
       "min        300.000000     36.000000     4800.000000      0.000000   \n",
       "25%       8000.000000     36.000000    45000.000000     11.240000   \n",
       "50%      12000.000000     36.000000    63000.000000     16.740000   \n",
       "75%      19925.000000     60.000000    88500.000000     22.600000   \n",
       "max      35000.000000     60.000000  6000000.000000     39.950000   \n",
       "\n",
       "        delinq_2yrs  inq_last_6mths  mths_since_last_deliq  \\\n",
       "count  61010.000000    61010.000000           27665.000000   \n",
       "mean       0.275873        0.812949              34.236255   \n",
       "std        0.772163        1.055861              21.780102   \n",
       "min        0.000000        0.000000               0.000000   \n",
       "25%        0.000000        0.000000              16.000000   \n",
       "50%        0.000000        0.000000              31.000000   \n",
       "75%        0.000000        1.000000              49.000000   \n",
       "max       15.000000        8.000000             152.000000   \n",
       "\n",
       "       mths_since_last_record  num_opencr_line   num_der_rec       revol_bal  \\\n",
       "count             7755.000000     61010.000000  61010.000000    61010.000000   \n",
       "mean                77.198968        11.117243      0.150041    15854.421898   \n",
       "std                 28.666714         4.912408      0.450513    18154.455242   \n",
       "min                  0.000000         0.000000      0.000000        0.000000   \n",
       "25%                 55.000000         8.000000      0.000000     6408.000000   \n",
       "50%                 80.000000        10.000000      0.000000    11757.000000   \n",
       "75%                103.000000        14.000000      0.000000    20055.000000   \n",
       "max                119.000000        53.000000     11.000000  1190046.000000   \n",
       "\n",
       "       total_cr_line  \n",
       "count   61010.000000  \n",
       "mean       25.009130  \n",
       "std        11.485004  \n",
       "min         2.000000  \n",
       "25%        17.000000  \n",
       "50%        23.000000  \n",
       "75%        32.000000  \n",
       "max       121.000000  "
      ]
     },
     "execution_count": 34,
     "metadata": {},
     "output_type": "execute_result"
    }
   ],
   "source": [
    "# Describe the columns where int_rate value is missing\n",
    "df[pd.isnull(df['int_rate'])].describe()"
   ]
  },
  {
   "cell_type": "markdown",
   "metadata": {},
   "source": [
    "3  We can see that the min funded amt is 1000 thus no loan request was not approved, also skipping through the min and max range of other columns, we can see that there is no particular pattern of int_rate missingness, therefore we can safely remove rows of missing int_rate"
   ]
  },
  {
   "cell_type": "code",
<<<<<<< HEAD
   "execution_count": 5,
=======
   "execution_count": 4,
>>>>>>> cc98d0a5d9de28dbcf50863d5aa1c5a1e393ea6d
   "metadata": {
    "collapsed": false
   },
   "outputs": [],
   "source": [
    "# Remove the rows where int_rate is missing\n",
    "df = df[pd.notnull(df['int_rate'])]\n",
    "# Reset index, this is critical\n",
    "df = df.reset_index(drop=True)"
   ]
  },
  {
   "cell_type": "markdown",
   "metadata": {},
   "source": [
    "### Loan amount requested vs funded amount\n",
    "1. Let's discover the relationship between loan amount requested verus the funded amount see if a lower amount is issued and why."
   ]
  },
  {
   "cell_type": "code",
   "execution_count": null,
   "metadata": {
    "collapsed": true
   },
   "outputs": [],
   "source": [
    "#df = pd.read_csv(\"training.csv\", parse_dates=True,index_col = [14,22],infer_datetime_format=True,low_memory=False)\n",
    "## Need to deal with date, maybe convert it to month or days of the year,since interest rate is related to timing"
   ]
  },
  {
   "cell_type": "code",
   "execution_count": 89,
   "metadata": {
    "collapsed": false
   },
   "outputs": [
    {
     "name": "stdout",
     "output_type": "stream",
     "text": [
      "Loan amount requested not equal to funded amount:\n",
      " False    337338\n",
      "True       1651\n",
      "dtype: int64\n",
      "\n",
      "Loan amount requested smaller than funded amount:\n",
      " False    337338\n",
      "True       1651\n",
      "dtype: int64\n"
     ]
    }
   ],
   "source": [
    "print (\"Loan amount requested not equal to funded amount:\\n\", (df['loan_amt'] != df['funded_amt']).value_counts())\n",
    "print (\"\\nLoan amount requested smaller than funded amount:\\n\",(df['loan_amt'] > df['funded_amt']).value_counts())"
   ]
  },
  {
   "cell_type": "markdown",
   "metadata": {},
   "source": [
    "2 There were 1651 instances where loan amt is not equal to funded amt and they were all funded amount lower than requested amount"
   ]
  },
  {
   "cell_type": "code",
   "execution_count": 50,
   "metadata": {
    "collapsed": false,
    "scrolled": true
   },
   "outputs": [
    {
     "data": {
      "text/html": [
       "<div>\n",
       "<table border=\"1\" class=\"dataframe\">\n",
       "  <thead>\n",
       "    <tr style=\"text-align: right;\">\n",
       "      <th></th>\n",
       "      <th>int_rate</th>\n",
       "      <th>id_loan</th>\n",
       "      <th>id_borrower</th>\n",
       "      <th>loan_amt</th>\n",
       "      <th>funded_amt</th>\n",
       "      <th>funded_amt_inv</th>\n",
       "      <th>term</th>\n",
       "      <th>annal_inc</th>\n",
       "      <th>dti</th>\n",
       "      <th>delinq_2yrs</th>\n",
       "      <th>inq_last_6mths</th>\n",
       "      <th>mths_since_last_deliq</th>\n",
       "      <th>mths_since_last_record</th>\n",
       "      <th>num_opencr_line</th>\n",
       "      <th>num_der_rec</th>\n",
       "      <th>revol_bal</th>\n",
       "      <th>total_cr_line</th>\n",
       "    </tr>\n",
       "  </thead>\n",
       "  <tbody>\n",
       "    <tr>\n",
       "      <th>count</th>\n",
       "      <td>1651.000000</td>\n",
       "      <td>1651.000000</td>\n",
       "      <td>1651.000000</td>\n",
       "      <td>1651.000000</td>\n",
       "      <td>1651.000000</td>\n",
       "      <td>1651.000000</td>\n",
       "      <td>1651.000000</td>\n",
       "      <td>1445.000000</td>\n",
       "      <td>1651.000000</td>\n",
       "      <td>1651.000000</td>\n",
       "      <td>1651.000000</td>\n",
       "      <td>512.000000</td>\n",
       "      <td>91.000000</td>\n",
       "      <td>1651.000000</td>\n",
       "      <td>1651.000000</td>\n",
       "      <td>1651.000000</td>\n",
       "      <td>1651.000000</td>\n",
       "    </tr>\n",
       "    <tr>\n",
       "      <th>mean</th>\n",
       "      <td>0.123344</td>\n",
       "      <td>661620.138704</td>\n",
       "      <td>820854.021805</td>\n",
       "      <td>18861.901878</td>\n",
       "      <td>12976.877650</td>\n",
       "      <td>11955.199273</td>\n",
       "      <td>49.998789</td>\n",
       "      <td>83621.750325</td>\n",
       "      <td>13.741593</td>\n",
       "      <td>0.137492</td>\n",
       "      <td>0.874016</td>\n",
       "      <td>35.378906</td>\n",
       "      <td>86.780220</td>\n",
       "      <td>10.180497</td>\n",
       "      <td>0.050878</td>\n",
       "      <td>19336.230769</td>\n",
       "      <td>25.677771</td>\n",
       "    </tr>\n",
       "    <tr>\n",
       "      <th>std</th>\n",
       "      <td>0.044364</td>\n",
       "      <td>383445.320296</td>\n",
       "      <td>468243.822001</td>\n",
       "      <td>7989.809082</td>\n",
       "      <td>5936.465913</td>\n",
       "      <td>6621.371746</td>\n",
       "      <td>11.835949</td>\n",
       "      <td>110624.861410</td>\n",
       "      <td>6.707110</td>\n",
       "      <td>0.453798</td>\n",
       "      <td>1.080347</td>\n",
       "      <td>21.631430</td>\n",
       "      <td>33.849603</td>\n",
       "      <td>4.264882</td>\n",
       "      <td>0.225262</td>\n",
       "      <td>20005.724271</td>\n",
       "      <td>11.507378</td>\n",
       "    </tr>\n",
       "    <tr>\n",
       "      <th>min</th>\n",
       "      <td>0.054200</td>\n",
       "      <td>58915.000000</td>\n",
       "      <td>136922.000000</td>\n",
       "      <td>1500.000000</td>\n",
       "      <td>1000.000000</td>\n",
       "      <td>0.000000</td>\n",
       "      <td>36.000000</td>\n",
       "      <td>12000.000000</td>\n",
       "      <td>0.000000</td>\n",
       "      <td>0.000000</td>\n",
       "      <td>0.000000</td>\n",
       "      <td>0.000000</td>\n",
       "      <td>0.000000</td>\n",
       "      <td>2.000000</td>\n",
       "      <td>0.000000</td>\n",
       "      <td>0.000000</td>\n",
       "      <td>3.000000</td>\n",
       "    </tr>\n",
       "    <tr>\n",
       "      <th>25%</th>\n",
       "      <td>0.086300</td>\n",
       "      <td>522173.000000</td>\n",
       "      <td>675128.500000</td>\n",
       "      <td>12425.000000</td>\n",
       "      <td>8400.000000</td>\n",
       "      <td>7600.000000</td>\n",
       "      <td>36.000000</td>\n",
       "      <td>50000.000000</td>\n",
       "      <td>8.610000</td>\n",
       "      <td>0.000000</td>\n",
       "      <td>0.000000</td>\n",
       "      <td>18.000000</td>\n",
       "      <td>86.500000</td>\n",
       "      <td>7.000000</td>\n",
       "      <td>0.000000</td>\n",
       "      <td>6774.500000</td>\n",
       "      <td>17.000000</td>\n",
       "    </tr>\n",
       "    <tr>\n",
       "      <th>50%</th>\n",
       "      <td>0.116600</td>\n",
       "      <td>611554.000000</td>\n",
       "      <td>783538.000000</td>\n",
       "      <td>19000.000000</td>\n",
       "      <td>12650.000000</td>\n",
       "      <td>12075.000000</td>\n",
       "      <td>60.000000</td>\n",
       "      <td>70099.000000</td>\n",
       "      <td>14.240000</td>\n",
       "      <td>0.000000</td>\n",
       "      <td>1.000000</td>\n",
       "      <td>32.000000</td>\n",
       "      <td>99.000000</td>\n",
       "      <td>9.000000</td>\n",
       "      <td>0.000000</td>\n",
       "      <td>13815.000000</td>\n",
       "      <td>24.000000</td>\n",
       "    </tr>\n",
       "    <tr>\n",
       "      <th>75%</th>\n",
       "      <td>0.159500</td>\n",
       "      <td>784370.500000</td>\n",
       "      <td>987210.000000</td>\n",
       "      <td>25000.000000</td>\n",
       "      <td>16675.000000</td>\n",
       "      <td>16104.500000</td>\n",
       "      <td>60.000000</td>\n",
       "      <td>98000.000000</td>\n",
       "      <td>19.055000</td>\n",
       "      <td>0.000000</td>\n",
       "      <td>1.000000</td>\n",
       "      <td>50.250000</td>\n",
       "      <td>108.000000</td>\n",
       "      <td>13.000000</td>\n",
       "      <td>0.000000</td>\n",
       "      <td>24675.500000</td>\n",
       "      <td>33.000000</td>\n",
       "    </tr>\n",
       "    <tr>\n",
       "      <th>max</th>\n",
       "      <td>0.247000</td>\n",
       "      <td>7060671.000000</td>\n",
       "      <td>8647048.000000</td>\n",
       "      <td>35000.000000</td>\n",
       "      <td>34675.000000</td>\n",
       "      <td>34650.000000</td>\n",
       "      <td>60.000000</td>\n",
       "      <td>3900000.000000</td>\n",
       "      <td>31.410000</td>\n",
       "      <td>5.000000</td>\n",
       "      <td>8.000000</td>\n",
       "      <td>82.000000</td>\n",
       "      <td>118.000000</td>\n",
       "      <td>28.000000</td>\n",
       "      <td>2.000000</td>\n",
       "      <td>147897.000000</td>\n",
       "      <td>79.000000</td>\n",
       "    </tr>\n",
       "  </tbody>\n",
       "</table>\n",
       "</div>"
      ],
      "text/plain": [
       "          int_rate         id_loan     id_borrower      loan_amt  \\\n",
       "count  1651.000000     1651.000000     1651.000000   1651.000000   \n",
       "mean      0.123344   661620.138704   820854.021805  18861.901878   \n",
       "std       0.044364   383445.320296   468243.822001   7989.809082   \n",
       "min       0.054200    58915.000000   136922.000000   1500.000000   \n",
       "25%       0.086300   522173.000000   675128.500000  12425.000000   \n",
       "50%       0.116600   611554.000000   783538.000000  19000.000000   \n",
       "75%       0.159500   784370.500000   987210.000000  25000.000000   \n",
       "max       0.247000  7060671.000000  8647048.000000  35000.000000   \n",
       "\n",
       "         funded_amt  funded_amt_inv         term       annal_inc          dti  \\\n",
       "count   1651.000000     1651.000000  1651.000000     1445.000000  1651.000000   \n",
       "mean   12976.877650    11955.199273    49.998789    83621.750325    13.741593   \n",
       "std     5936.465913     6621.371746    11.835949   110624.861410     6.707110   \n",
       "min     1000.000000        0.000000    36.000000    12000.000000     0.000000   \n",
       "25%     8400.000000     7600.000000    36.000000    50000.000000     8.610000   \n",
       "50%    12650.000000    12075.000000    60.000000    70099.000000    14.240000   \n",
       "75%    16675.000000    16104.500000    60.000000    98000.000000    19.055000   \n",
       "max    34675.000000    34650.000000    60.000000  3900000.000000    31.410000   \n",
       "\n",
       "       delinq_2yrs  inq_last_6mths  mths_since_last_deliq  \\\n",
       "count  1651.000000     1651.000000             512.000000   \n",
       "mean      0.137492        0.874016              35.378906   \n",
       "std       0.453798        1.080347              21.631430   \n",
       "min       0.000000        0.000000               0.000000   \n",
       "25%       0.000000        0.000000              18.000000   \n",
       "50%       0.000000        1.000000              32.000000   \n",
       "75%       0.000000        1.000000              50.250000   \n",
       "max       5.000000        8.000000              82.000000   \n",
       "\n",
       "       mths_since_last_record  num_opencr_line  num_der_rec      revol_bal  \\\n",
       "count               91.000000      1651.000000  1651.000000    1651.000000   \n",
       "mean                86.780220        10.180497     0.050878   19336.230769   \n",
       "std                 33.849603         4.264882     0.225262   20005.724271   \n",
       "min                  0.000000         2.000000     0.000000       0.000000   \n",
       "25%                 86.500000         7.000000     0.000000    6774.500000   \n",
       "50%                 99.000000         9.000000     0.000000   13815.000000   \n",
       "75%                108.000000        13.000000     0.000000   24675.500000   \n",
       "max                118.000000        28.000000     2.000000  147897.000000   \n",
       "\n",
       "       total_cr_line  \n",
       "count    1651.000000  \n",
       "mean       25.677771  \n",
       "std        11.507378  \n",
       "min         3.000000  \n",
       "25%        17.000000  \n",
       "50%        24.000000  \n",
       "75%        33.000000  \n",
       "max        79.000000  "
      ]
     },
     "execution_count": 50,
     "metadata": {},
     "output_type": "execute_result"
    }
   ],
   "source": [
    "df[(df['loan_amt'] > df['funded_amt'])].describe()"
   ]
  },
  {
   "cell_type": "code",
   "execution_count": 69,
   "metadata": {
    "collapsed": false
   },
   "outputs": [
    {
     "data": {
      "image/png": "iVBORw0KGgoAAAANSUhEUgAAAdIAAAEKCAYAAACmDdR0AAAABHNCSVQICAgIfAhkiAAAAAlwSFlz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\nRK5CYII=\n",
      "text/plain": [
       "<matplotlib.figure.Figure at 0xaff5630>"
      ]
     },
     "metadata": {},
     "output_type": "display_data"
    }
   ],
   "source": [
    "# Create a scatter plot to compare interest rate by if loan amnt is different than funded amnt or not\n",
    "x1 = np.ones((len(df[(df['loan_amt'] != df['funded_amt'])]['int_rate']), 1))\n",
    "y1 = df[(df['loan_amt'] != df['funded_amt'])]['int_rate']\n",
    "x0 = np.zeros((len(df[(df['loan_amt'] == df['funded_amt'])]['int_rate']), 1))\n",
    "y0 = df[(df['loan_amt'] == df['funded_amt'])]['int_rate']\n",
    "fig = plt.figure()\n",
    "ax1 = fig.add_subplot(111)\n",
    "\n",
    "ax1.scatter(x1, y1, s=10, c='b', marker=\"s\",label = '1= different')\n",
    "ax1.scatter(x0,y0, s=10, c='r', marker=\"o\",label = '0 = not different')\n",
    "plt.ylabel(\"Interest rate\")\n",
    "plt.legend(loc='upper center');\n",
    "plt.title(\"Interest rate by if loan amnt is different than funded amnt ,  (1 = different)\")\n",
    "plt.show()"
   ]
  },
  {
   "cell_type": "markdown",
   "metadata": {},
   "source": [
    "3 There is not significant different of interest rate issued comparing the above two cases, thus we don't need to stratefied resampling using loan_amt and funded_amt these two predictors"
   ]
  },
  {
   "cell_type": "markdown",
   "metadata": {},
   "source": [
    "### id_loan vs id_borrower\n",
    "1. Let's look deeper into these two columns, first is to see if there were any typos like two different borrower share the same id_borrower or two different loans share the same id, if there are we may need to resolve any borrower or loan information conflict"
   ]
  },
  {
   "cell_type": "code",
   "execution_count": 76,
   "metadata": {
    "collapsed": false
   },
   "outputs": [
    {
     "name": "stdout",
     "output_type": "stream",
     "text": [
      "there are 338989 unique id_loan\n",
      "there are 338989 unique id_borrower\n"
     ]
    }
   ],
   "source": [
    "print('there are %d unique id_loan' % len(pd.unique(df.id_loan.ravel())))\n",
    "print('there are %d unique id_borrower' % len(pd.unique(df.id_borrower.ravel())))"
   ]
  },
  {
   "cell_type": "markdown",
   "metadata": {},
   "source": [
    "2 No duplicate id_loan or id_borrower, now we can remove these columns, since there were no conflicts to be resolved and these two columns have no predictive power"
   ]
  },
  {
   "cell_type": "code",
<<<<<<< HEAD
   "execution_count": 6,
=======
   "execution_count": 5,
>>>>>>> cc98d0a5d9de28dbcf50863d5aa1c5a1e393ea6d
   "metadata": {
    "collapsed": true
   },
   "outputs": [],
   "source": [
    "df.drop(['id_loan','id_borrower'],1, inplace=True)"
   ]
  },
  {
   "cell_type": "markdown",
   "metadata": {},
   "source": [
    "Now we keep moving to next slice of columns"
   ]
  },
  {
   "cell_type": "code",
   "execution_count": 79,
   "metadata": {
    "collapsed": false,
    "scrolled": true
   },
   "outputs": [
    {
     "data": {
      "text/html": [
       "<div>\n",
       "<table border=\"1\" class=\"dataframe\">\n",
       "  <thead>\n",
       "    <tr style=\"text-align: right;\">\n",
       "      <th></th>\n",
       "      <th>grade</th>\n",
       "      <th>subgrade</th>\n",
       "      <th>emp_title</th>\n",
       "      <th>emp_length</th>\n",
       "      <th>home_ownership</th>\n",
       "      <th>annal_inc</th>\n",
       "      <th>verification_status</th>\n",
       "      <th>issue_d</th>\n",
       "      <th>purpose</th>\n",
       "      <th>loan_cat</th>\n",
       "    </tr>\n",
       "  </thead>\n",
       "  <tbody>\n",
       "    <tr>\n",
       "      <th>0</th>\n",
       "      <td>B</td>\n",
       "      <td>B4</td>\n",
       "      <td>NaN</td>\n",
       "      <td>&lt; 1 year</td>\n",
       "      <td>RENT</td>\n",
       "      <td>85000</td>\n",
       "      <td>VERIFIED - income</td>\n",
       "      <td>Aug-09</td>\n",
       "      <td>Due to a lack of personal finance education an...</td>\n",
       "      <td>debt_consolidation</td>\n",
       "    </tr>\n",
       "    <tr>\n",
       "      <th>1</th>\n",
       "      <td>B</td>\n",
       "      <td>B5</td>\n",
       "      <td>CNN</td>\n",
       "      <td>&lt; 1 year</td>\n",
       "      <td>RENT</td>\n",
       "      <td>65000</td>\n",
       "      <td>not verified</td>\n",
       "      <td>May-08</td>\n",
       "      <td>Just want to pay off the last bit of credit ca...</td>\n",
       "      <td>credit_card</td>\n",
       "    </tr>\n",
       "    <tr>\n",
       "      <th>2</th>\n",
       "      <td>D</td>\n",
       "      <td>D3</td>\n",
       "      <td>Web Programmer</td>\n",
       "      <td>1 year</td>\n",
       "      <td>RENT</td>\n",
       "      <td>70000</td>\n",
       "      <td>VERIFIED - income</td>\n",
       "      <td>Aug-14</td>\n",
       "      <td>Trying to pay a friend back for apartment brok...</td>\n",
       "      <td>debt_consolidation</td>\n",
       "    </tr>\n",
       "    <tr>\n",
       "      <th>3</th>\n",
       "      <td>C</td>\n",
       "      <td>C2</td>\n",
       "      <td>city of beaumont texas</td>\n",
       "      <td>10+ years</td>\n",
       "      <td>OWN</td>\n",
       "      <td>54000</td>\n",
       "      <td>not verified</td>\n",
       "      <td>Mar-10</td>\n",
       "      <td>If funded, I would use this loan consolidate t...</td>\n",
       "      <td>debt_consolidation</td>\n",
       "    </tr>\n",
       "    <tr>\n",
       "      <th>4</th>\n",
       "      <td>C</td>\n",
       "      <td>C3</td>\n",
       "      <td>State Farm Insurance</td>\n",
       "      <td>6 years</td>\n",
       "      <td>RENT</td>\n",
       "      <td>32000</td>\n",
       "      <td>not verified</td>\n",
       "      <td>Nov-09</td>\n",
       "      <td>I currently have a personal loan with Citifina...</td>\n",
       "      <td>debt_consolidation</td>\n",
       "    </tr>\n",
       "    <tr>\n",
       "      <th>5</th>\n",
       "      <td>D</td>\n",
       "      <td>D4</td>\n",
       "      <td>Arkwright</td>\n",
       "      <td>9 years</td>\n",
       "      <td>RENT</td>\n",
       "      <td>58000</td>\n",
       "      <td>VERIFIED - income source</td>\n",
       "      <td>Aug-12</td>\n",
       "      <td>Credit cards are out of here, I am tired of be...</td>\n",
       "      <td>debt_consolidation</td>\n",
       "    </tr>\n",
       "  </tbody>\n",
       "</table>\n",
       "</div>"
      ],
      "text/plain": [
       "  grade subgrade               emp_title emp_length home_ownership  annal_inc  \\\n",
       "0     B       B4                     NaN   < 1 year           RENT      85000   \n",
       "1     B       B5                     CNN   < 1 year           RENT      65000   \n",
       "2     D       D3          Web Programmer     1 year           RENT      70000   \n",
       "3     C       C2  city of beaumont texas  10+ years            OWN      54000   \n",
       "4     C       C3    State Farm Insurance    6 years           RENT      32000   \n",
       "5     D       D4               Arkwright    9 years           RENT      58000   \n",
       "\n",
       "        verification_status issue_d  \\\n",
       "0         VERIFIED - income  Aug-09   \n",
       "1              not verified  May-08   \n",
       "2         VERIFIED - income  Aug-14   \n",
       "3              not verified  Mar-10   \n",
       "4              not verified  Nov-09   \n",
       "5  VERIFIED - income source  Aug-12   \n",
       "\n",
       "                                             purpose            loan_cat  \n",
       "0  Due to a lack of personal finance education an...  debt_consolidation  \n",
       "1  Just want to pay off the last bit of credit ca...         credit_card  \n",
       "2  Trying to pay a friend back for apartment brok...  debt_consolidation  \n",
       "3  If funded, I would use this loan consolidate t...  debt_consolidation  \n",
       "4  I currently have a personal loan with Citifina...  debt_consolidation  \n",
       "5  Credit cards are out of here, I am tired of be...  debt_consolidation  "
      ]
     },
     "execution_count": 79,
     "metadata": {},
     "output_type": "execute_result"
    }
   ],
   "source": [
    "df.ix[:5,5:15]"
   ]
  },
  {
   "cell_type": "markdown",
   "metadata": {},
   "source": [
    "### Examine the distribution of Grade and subgrade and their influence to interest rate\n",
    "1. If the distribution of different grades and subgrades were not even, and the range of interest rate associated with different grades and subgrades are distince, we need to perform stratefied resampling to assure no grade or subgrade class were missing from the training data set "
   ]
  },
  {
   "cell_type": "code",
<<<<<<< HEAD
   "execution_count": 168,
=======
   "execution_count": 85,
>>>>>>> cc98d0a5d9de28dbcf50863d5aa1c5a1e393ea6d
   "metadata": {
    "collapsed": false
   },
   "outputs": [
    {
<<<<<<< HEAD
     "data": {
      "image/png": "iVBORw0KGgoAAAANSUhEUgAAAX8AAAEKCAYAAAD6q1UVAAAABHNCSVQICAgIfAhkiAAAAAlwSFlz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\nJfwjIhro/wMsn0FcrMl4tgAAAABJRU5ErkJggg==\n",
      "text/plain": [
       "<matplotlib.figure.Figure at 0x66f53eb8>"
      ]
     },
     "metadata": {},
     "output_type": "display_data"
    }
   ],
   "source": [
    "# need to look at on how to place multiple plots side by side http://worksofscience.net/matplotlib/gridspec\n",
    "frequencies = []\n",
    "counts = df.grade.value_counts()\n",
    "keys = list(dict(counts).keys())\n",
    "keys.sort()\n",
    "for each in keys:\n",
    "    frequencies.append(dict(counts).get(each))\n",
    "\n",
    "pos = np.arange(len(keys))\n",
    "width = 1.0     # gives histogram aspect to the bar diagram\n",
    "\n",
    "ax = plt.axes()\n",
    "ax.set_xticks(pos + (width / 2))\n",
    "ax.set_xticklabels(keys)\n",
    "\n",
    "plt.bar(pos, frequencies, width, color='r')\n",
    "plt.title('Grade frequencies')\n",
    "plt.show()"
=======
     "name": "stdout",
     "output_type": "stream",
     "text": [
      "Grades count B    86121\n",
      "C    76446\n",
      "D    46984\n",
      "A    45525\n",
      "E    21628\n",
      "F     8395\n",
      "G     2024\n",
      "dtype: int64\n",
      "\n",
      "Subgrades count B3    20352\n",
      "B4    19137\n",
      "B2    16767\n",
      "C1    16342\n",
      "C2    16310\n",
      "B5    15521\n",
      "C3    15425\n",
      "C4    14646\n",
      "B1    14344\n",
      "C5    13723\n",
      "A5    13086\n",
      "A4    11806\n",
      "D1    11720\n",
      "D2    10498\n",
      "D3     9091\n",
      "D4     8573\n",
      "A3     7653\n",
      "D5     7102\n",
      "A2     6496\n",
      "A1     6484\n",
      "E1     5447\n",
      "E2     5246\n",
      "E3     4230\n",
      "E4     3640\n",
      "E5     3065\n",
      "F1     2490\n",
      "F2     1873\n",
      "F3     1712\n",
      "F4     1331\n",
      "F5      989\n",
      "G1      677\n",
      "G2      511\n",
      "G3      378\n",
      "G4      252\n",
      "G5      206\n",
      "dtype: int64\n"
     ]
    }
   ],
   "source": [
    "print (\"Grades count\", df.grade.value_counts())\n",
    "print (\"\\nSubgrades count\",df.subgrade.value_counts())"
   ]
  },
  {
   "cell_type": "markdown",
   "metadata": {},
   "source": [
    "# To continue the above: scatter plot of interest rate by different grade, subgrade, distribution plot"
   ]
  },
  {
   "cell_type": "markdown",
   "metadata": {},
   "source": [
    "### Issue date column conversion\n",
    "issue_d is currently an object dtype however we don't want to convert it to a date, rather a scalar to describe the length of time( in /year unit) since the first day of the year 2016, since all the loans were issued in the year of 2016. "
>>>>>>> cc98d0a5d9de28dbcf50863d5aa1c5a1e393ea6d
   ]
  },
  {
   "cell_type": "code",
<<<<<<< HEAD
   "execution_count": 169,
   "metadata": {
    "collapsed": false
   },
   "outputs": [
    {
     "data": {
      "image/png": "iVBORw0KGgoAAAANSUhEUgAAAYAAAAEKCAYAAAAb7IIBAAAABHNCSVQICAgIfAhkiAAAAAlwSFlz\nAAALEgAACxIB0t1+/AAAIABJREFUeJzt3X28HVV97/HPl+cgCCIIITwkQBBiUStK5KpwhMpNHyTU\nCoS+xKipVlMfWm01sV5zaHstqFXxAe6rledKSq5YBIspKXIUr0J8AIkEJFGCSSRBIkJSURLzu3+s\ntZOVyd777Oxzkn3Ome/79dqvzF7zm7XWTPaZ38ya2bMVEZiZWf3s1usOmJlZbzgBmJnVlBOAmVlN\nOQGYmdWUE4CZWU05AZiZ1ZQTgPWMpAFJs0Zj+5L+WNJKSeslvWi4+9YLeV0m9roftus4AdiQSHql\npG9J+qWkdZK+KemlHS4e+dUrQ2n/48DsiNg/In4wjH3qmbwuK3rdD9t19uh1B2z0kvRs4CvAnwML\ngL2BVwG/6UFfdo+I3+6itgQcBSxtMX+PiNi0K/piNhQ+A7ChOB6IiLghkl9HxKKIWAIgqV/SdY1g\nSRMlbZZUfu6Ok3S3pCcl3STpOUX8GyU9IulxSR+StELSGUXdX5R0naQngZmSXibp25KekPQzSZ+R\ntGdR32skPZjPVj4DKL8a898iaamkX0haKOmo6gpL2htYD+wO/EDSsly+QtL7Jd0HrJe0m6SX57Oj\nJyTdK+n0op5Jkr4u6SlJt0n6bGNbSeqTtLLS7gpJZ+ZpSZojaXneNjc0tluxjRvb7ueSPljUs5uk\nD+Zln5L0XUkT8rzNko5prKekj+c61ki6XNI+ed7Bkr6S12udpG/kpGijjBOADcWPgN9KulrStHLn\nnQ02vCLgjcCbgfHAJuDTAJKmAJ8DLsjzDgAOryx/NvB/I+IA4Hrgt8B7gOcCpwJnArNzfQcDNwIf\nzPN/DLyi0UdJ04G5wB8DBwN3AvOrHY6I30TEfvntCyNicjF7BvD7wIG5z18B/i4ingP8NXCjpOfm\n2OuB7+S+/H3eDu22Vzlc9e687qfldp7I26r0ClKCPhP4sKTn5/L3NfoZEc8G3gI83aS9i4HjgBfl\nfycAHy7qWEnaTs8D5oafKTM6RYRffnX9Ak4AriLtEDYCXwael+f1A9cVsROBzcBu+f0dwEeK+SeS\nho92I+1svlDMG5fnnVHUPTBI3/4S+FKefiPwrcr8lcBb8vRXG9P5/W7AfwNHtqh7M3BM8f5h4E3F\n+w8A11aWWZj7cVTeVuOKeV9oxAN9wMrKsg8X6760MZ3fjweeyX1ubOPDi/l3A+fl6R8Br223TqTE\nvKGyfqcCP8nTFwE3Acf2+vPn19BePgOwIYmIByPizRFxJPA7pKP0T+1AFeVQx0+BPUlHluOBVUU7\nTwPrKsuuKt9IOj4PTTyah4X+N+kIm9yvVZXly7aPBi7NwxpPFG1N6HJdjgbObdSX63wFcFjuyxN5\nnRoeoRiOGsRE4N+LepeSzp4OLWLWFNO/AhpnLUeQzn7aOQTYF/he0cZXSf8vAB8DlgO3SfqxpA90\n2G8bYZwAbNhExI+Aa0iJANIR9L5FyGFNFjuqMr0ReBx4lLSzAkDSOLbuzLc0WXl/OWlneFykYaG/\nZetn/GfAkUV9Kt+Tks/bIuI5xetZEXFXi9VtpuzPT0lnP2V9+0fER/O6PUdSuW2OLpbfZrtJ2p20\nUy7rnlape9+IeLSDPq4kDem08zhpWGhKUf+BkYaMiIgNEfHXEXEsaSjqvY1rMza6OAFY1yQ9X9J7\ni4uIR5LG7L+dQ+4FTpN0pKQDSGPs21QBvEHSiXln+HekMf3NpPH610o6VdJepCGfwY6Q9yNdoP2V\npBOAdxTzbgVeoHT//h6kcfQyIf0f4IP52gOSDpB0budbYzv/mvt/lqTdJe2TL+5OiIhHgO8CF0na\nU9IrgT8qln0I2EfSH+SL2B8i3WFV9vUjjYvUkg6RdHaH/fo88PeSjssXk18o6aAyIG//fwE+JemQ\n3MYESWfl6T9sLA88Rbr2skvuwLLh5QRgQ7EemArcLWkDacd/H+kiIRGxCLghl30HuIVtj5IDuBa4\nmnRUvBdpx0xE3A+8C/g30tH7euAxtt5i2uwe/r8G/pS0U/rnvGzk+h4HziVd3HycdBT8zS0dibgJ\nuAT4tzx8tAT4n23Wve1Fz4hYBUwnXXR+jHTU/j62/s39KWnb/YJ0veNacoKLiCdJF68/Txq22sC2\nw0uXAjeThmCeIm33Uzrs2ydIt+zeBjxJ2tHv02S5D5CGee7K22MR6aIywOT8fj3wLeBzEfH1dtvD\nRiZFtP6sSLoS+EPgsYg4KZedAnyWNFa7ifRlmO/keXNJdxX8Fnh3RNyWy08m/ZHvA9waEe/J5XuT\nPvgvIY25np+Pjsy2IWk/0t0ux43Fz4ikeaR1u7DXfbH6GOwM4CpgWqXso8D/iojfJR25fBS23LZ3\nPjAlL3NZcW/w5cCsSLfMTZbUqHMWsC6Xf5J0BGYGgKTXStpX0rNI37y9byzu/DPfR2+7XNsEEBF3\nko66So+S7smGdL/z6jw9HZgfERsjfZ18OTBV0nhg/4hYnOOuBc7J02eTLhpCGvM9s8v1sLHpbNLn\nazVwLOn+9bGq14/FsBrq5lEQc4BvSvo4KYGcmssPB8o7JlaRbqHbyLa3361m6611E8hjmxGxSenb\noAdFxC+66JeNMRHxVuCtve7HrhARF/W6D1Y/3VwEvoI0vn8U8FfAlcPbJTMz2xW6OQM4JSJ+L09/\nkXSnAqQj+/K+6iNIR/6rKe7nLsobyxwF/CzfmndAs6N/ST41NjPrQkS0vL7UzRnAcm19qNUZpHuW\nId2WNkPSXpImkW4VWxwRa4CnJE3NF4UvJD0uoLHMzDz9euD2NiuxzWvevHkdfdW5k7g61DXa+z9S\n6xrt/fe2GNvbYjBtzwAkzQdOBw5Wejrhh4G3AZ/Lt3A+nd8TEUslLWDr19Jnx9YezCbdBjqOdBvo\nwlx+BXCd0hMV1zG2L/KZmY0obRNARFzQYtbUFvEfAT7SpPx7wElNyn8DnDd4N83MbLjt3t/f3+s+\nDOqiiy7qb9bPiRMndrR8J3F1qKsXbdahrl60OVLr6kWbI7WuXrRZjbnooovo7+9veYdZ228CjxSS\nYjT008xsJJFEDPNFYDMzGwOcAMzMaso/Cj/K7MhPr3rYzMzacQIYhTrZrfvJYmY2GA8BmZnVlBOA\nmVlNOQGYmdWUE4CZWU05AZiZ1ZQTgJlZTTkBmJnVlBOAmVlNOQGYmdWUE4CZWU21TQCSrpS0VtKS\nSvm7JD0g6YeSLinK50paJulBSWcV5SdLWpLnXVqU7y3phlx+l6Sjh3PlzMystcHOAK4CppUFkl4N\nnA28MCJ+B/h4Lp8CnA9Myctcpq1PLrscmBURk4HJkhp1zgLW5fJPApdgZma7RNsEEBF3Ak9Uit8B\n/GNEbMwxP8/l04H5EbExIlYAy4GpksYD+0fE4hx3LXBOnj4buCZP3wicOYR1sQpJg77MrL66uQYw\nGTgtD9kMSHppLj8cWFXErQImNClfncvJ/64EiIhNwJOSDuqiT9ZEDPIys3rr5nHQewDPiYiXS3oZ\nsAA4Zni7tb3yN4H7+vro6+vb2U2amY0qAwMDDAwMdBw/6G8CS5oI3BIRJ+X3XwUujoiv5/fLgZcD\nfwYQERfn8oXAPOAR4I6IODGXXwCcFhHvyDH9EXGXpD2ARyPikCZ98G8CZ5I6/j2AweKEfzTGbCzb\nGb8JfBNwRq78eGCviHgcuBmYIWkvSZNIQ0WLI2IN8JSkqfmi8IXAl3NdNwMz8/Trgdu76I+ZmXWh\n7RCQpPnA6cBzJa0EPgxcCVyZbw19BngjQEQslbQAWApsAmYXh+2zgauBccCtEbEwl18BXCdpGbAO\nmDGM62ZmZm0MOgQ0EngIaCsPAZlZp3bGEJCZmY0BTgBmZjXlBGBmVlNOAGZmNeUEYGZWU04AZmY1\n5QRgZlZTTgBmZjXlBGBmVlNOAGZmNeUEYGZWU04AZmY15QRgZlZTTgBmZjXlBGBmVlNOAGZmNdU2\nAUi6UtLa/Otf1Xnvk7RZ0kFF2VxJyyQ9KOmsovxkSUvyvEuL8r0l3ZDL75J09HCtmJmZtTfYGcBV\nwLRqoaQjgdeQfvC9UTYFOB+Ykpe5LP8GMMDlwKyImAxMltSocxawLpd/ErhkCOtiZmY7oG0CiIg7\ngSeazPoE8P5K2XRgfkRsjIgVwHJgqqTxwP4RsTjHXQuck6fPBq7J0zcCZ+7wGpiZWVd2+BqApOnA\nqoi4rzLrcGBV8X4VMKFJ+epcTv53JUBEbAKeLIeU6kbSoC8zs+Gyx44ES9oX+CBp+GdL8bD2qIX+\n/v4t0319ffT19e2KZne5Tn7I3cysmYGBAQYGBjqOV0T7XY6kicAtEXGSpJOA/wJ+lWcfQTqinwq8\nGSAiLs7LLQTmka4T3BERJ+byC4DTIuIdOaY/Iu6StAfwaEQc0qQPMVg/xwJJHSWATrZEJ3EC6rBd\nzepKEhHR8rhxh4aAImJJRBwaEZMiYhJpaOclEbEWuBmYIWkvSZOAycDiiFgDPCVpar4ofCHw5Vzl\nzcDMPP164PYdWjvbJToZmtqRl5mNDG2HgCTNB04HnitpJfDhiLiqCNly+BgRSyUtAJYCm4DZxWH7\nbOBqYBxwa0QszOVXANdJWgasA2YMfZVsZxjOMxMzGxkGHQIaCTwEVMSw64eAhr1fNfi/NBsJhnUI\nyMzMxg4nADOzmnICMDOrKScAM7OacgIwM6spJwAzs5raoUdB2NjTiy9mddqmbxc127mcAGquF1/e\n8hfGzEYGDwGZmdWUE4CZWU05AZiZ1ZQTgJlZTTkBmJnVlBOAmVlNOQGYmdWUE4CZWU21TQCSrpS0\nVtKSouxjkh6Q9ANJX5J0QDFvrqRlkh6UdFZRfrKkJXnepUX53pJuyOV3STp6uFfQRi//vKTZzjXY\nGcBVwLRK2W3ACyLiRcBDwFwASVOA84EpeZnLtPUv9HJgVkRMBiZLatQ5C1iXyz8JXDLE9bExJAZ5\nmdnQtE0AEXEn8ESlbFFEbM5v7waOyNPTgfkRsTEiVgDLgamSxgP7R8TiHHctcE6ePhu4Jk/fCJw5\nhHUZsfxj6WY2Eg31GsBbgFvz9OHAqmLeKmBCk/LVuZz870qAiNgEPCnpoCH2aUQa7GjWR7Rmtqt1\n/TA4SX8LPBMR1w9jf1rq7+/fMt3X10dfX9+uaNbMbNQYGBhgYGCg43gN9shdSROBWyLipKLsTcBb\ngTMj4te5bA5ARFyc3y8E5gGPAHdExIm5/ALgtIh4R47pj4i7JO0BPBoRhzTpQ4zmRwNL6vgJmIPF\ndRIz2uvaoTZH8efCbGeTRES0HF/e4SGgfAH3b4DpjZ1/djMwQ9JekiYBk4HFEbEGeErS1HxR+ELg\ny8UyM/P064Hbd7Q/ZmbWnbZDQJLmA6cDB0taSTqinwvsBSzKFy6/HRGzI2KppAXAUmATMLs4bJ8N\nXA2MA26NiIW5/ArgOknLgHXAjOFcOTMza23QIaCRwENAOxYz2uvaoTZH8efCbGcb9iEgMzMbG/yT\nkDaq+feFzbrnBGCjmn9f2Kx7HgIyM6spJwAzs5pyAjAzqylfAxgCP8DNzEYzJ4Ah8kVIMxutPARk\nZlZTTgBmZjXlBGBmVlNOAGZmNeUEYGZWU04AZmY15QRgZlZTbROApCslrZW0pCg7SNIiSQ9Juk3S\ngcW8uZKWSXpQ0llF+cmSluR5lxble0u6IZffJeno4V5BMzNrbrAzgKuAaZWyOcCiiDie9BOOcwAk\nTQHOB6bkZS7T1q/KXg7MiojJwOT8s5IAs4B1ufyTwCVDXB8zM+tQ2wQQEXcCT1SKzwauydPXAOfk\n6enA/IjYGBErgOXAVEnjgf0jYnGOu7ZYpqzrRuDMLtfDzMx2UDfXAA6NiLV5ei1waJ4+HFhVxK0C\nJjQpX53Lyf+uBIiITcCTkg7qok9mZraDhnQROP9Qr39qycxsFOrmYXBrJR0WEWvy8M5juXw1cGQR\ndwTpyH91nq6WN5Y5CviZpD2AAyLiF80a7e/v3zLd19dHX19fF13vnJ/0aWajzcDAAAMDAx3Ha7Df\nSpU0EbglIk7K7z9KunB7iaQ5wIERMSdfBL4eOIU0tPNfwHEREZLuBt4NLAb+A/h0RCyUNBs4KSLe\nIWkGcE5EzGjSh9jVv+kqadBTG9H500CHK64Ode2MNjvh3w22sUYSEdHyT6DtGYCk+cDpwMGSVgIf\nBi4GFkiaBawAzgOIiKWSFgBLgU3A7GKvPRu4GhgH3BoRC3P5FcB1kpYB64Dtdv5mw6GTZGJWN4Oe\nAYwEPgOoV129aFP4DMDGnsHOAPxNYDOzmnICMDOrKScAM7OacgIwM6spJwAzs5pyAjAzqyknADOz\nmnICMDOrKScAM7OacgIwM6upbp4GajYmdfoEWD8ywsYKJwCzbDifLGo2GngIyMysppwAzMxqygnA\nzKymnADMzGqq6wQgaa6k+yUtkXS9pL0lHSRpkaSHJN0m6cBK/DJJD0o6qyg/OdexTNKlQ10hMzPr\nTFcJIP9O8FuBl+TfCt6d9HOOc4BFEXE8cHt+T/694POBKcA04DJtvefucmBWREwGJkua1vXamJlZ\nx7o9A3gK2AjsK2kPYF/gZ8DZwDU55hrgnDw9HZgfERsjYgWwHJgqaTywf0QsznHXFsuYmdlO1FUC\niIhfAP8E/JS04/9lRCwCDo2ItTlsLXBonj4cWFVUsQqY0KR8dS43M7OdrNshoGOBvwQmknbi+0l6\nQxmTf8XdX5k0Mxuhuv0m8EuBb0XEOgBJXwJOBdZIOiwi1uThncdy/GrgyGL5I0hH/qvzdFm+ulmD\n/f39W6b7+vro6+vrsutmZmPTwMAAAwMDHcerm+eaSHoR8AXgZcCvgauBxcDRwLqIuETSHODAiJiT\nLwJfD5xCGuL5L+C4iAhJdwPvzsv/B/DpiFhYaS929fNXJA16+iI6f3zAcMXVoa5etLlDdflZQDZK\nSCIiWj7BpKszgIj4gaRrge8Cm4HvA/8M7A8skDQLWAGcl+OXSloALAU2AbOLPfpsUgIZB9xa3fmb\nmdnO0dUZwK7mM4B61dWLNn0GYGPRTjkDMKuzTh4b7SRho4ETgNkO6uRswmw08LOAzMxqygnAzKym\nnADMzGrK1wDMdgL/vrCNBk4AZjuBf1/YRgMPAZmZ1ZQTgJlZTTkBmJnVlBOAmVlNOQGYmdWUE4CZ\nWU05AZiZ1VTtvgfQ6Rd0zMzGutolAPCXdMzMYAhDQJIOlPRFSQ9IWippqqSDJC2S9JCk2yQdWMTP\nlbRM0oOSzirKT5a0JM+7dKgrZGZmnRnKNYBLST/heCLwQuBBYA6wKCKOB27P78m/CXw+MAWYBlym\nrWMxlwOzImIyMFnStCH0yczMOtRVApB0APCqiLgSICI2RcSTwNnANTnsGuCcPD0dmB8RGyNiBbAc\nmCppPLB/RCzOcdcWy5iZ2U7U7RnAJODnkq6S9H1J/yLpWcChEbE2x6wFDs3ThwOriuVXAROalK/O\n5WZmtpN1exF4D+AlwDsj4juSPkUe7mmIiJA0bM+67e/v3zLd19dHX1/fcFVt1jN+bLQNp4GBAQYG\nBjqOVzcfLEmHAd+OiEn5/SuBucAxwKsjYk0e3rkjIk6QNAcgIi7O8QuBecAjOebEXH4BcHpEvL3S\nXgzXH4Ckju8C6uS3X4errl60OVLr6kWbI7WuLXFOANYFSUREy6OMroaAImINsFLS8bno94D7gVuA\nmblsJnBTnr4ZmCFpL0mTgMnA4lzPU/kOIgEXFsuYmdlONJTvAbwL+IKkvYAfA28GdgcWSJoFrADO\nA4iIpZIWAEuBTcDs4pB+NnA1MI50V9HCIfTJzMw61NUQ0K7mIaB61dWLNkdqXVviRsHfqY08O2UI\nyMzMRr9R8ygI3y1hZja8Rk0C6PRU2Q97MzPrzKhJAJ3qZHzWzMx8DcDMrLacAMzMasoJwMysppwA\nzMxqygnAzKymnADMzGrKCcDMrKacAMzMasoJwMyspsbcN4HNxqJOHnHi52DZjnICMBsF/IgT2xmc\nAMzGCD8x13bUkK4BSNpd0j2SbsnvD5K0SNJDkm6TdGARO1fSMkkPSjqrKD9Z0pI879Kh9MeszqKD\nl1lpqBeB30P6mcfGZ2sOsCgijgduz++RNAU4H5gCTAMu09bDlcuBWRExGZgsadoQ+2RmZh3oOgFI\nOgL4A+DzbB2CPBu4Jk9fA5yTp6cD8yNiY0SsAJYDUyWNB/aPiMU57tpiGTMz24mGcgbwSeBvgM1F\n2aERsTZPrwUOzdOHA6uKuFXAhCblq3O5mZntZF1dBJb0R8BjEXGPpL5mMRERkoZt2LG/mO7LLzMz\n22pgYICBgYGO49XNHQGSPgJcCGwC9gGeDXwJeBnQFxFr8vDOHRFxgqQ5ABFxcV5+ITAPeCTHnJjL\nLwBOj4i3V9rrqJeis9vlRmJdvWhzpNbVizZHal07pU3fBVQbkoiIlreHdTUEFBEfjIgjI2ISMAP4\nWkRcCNwMzMxhM4Gb8vTNwAxJe0maBEwGFkfEGuApSVPzReELi2XMzGwnGq7vATQOKS4GFkiaBawA\nzgOIiKWSFpDuGNoEzI6thyGzgauBccCtEbFwmPpkZmZtdDUEtKt5CKhedfWizZFa105pcxT8zdvw\nGGwIyN8ENqsZP1fIGpwAzGrGzxWyBj8O2sysppwAzMxqygnAzKymnADMzGrKF4HNbDv+bYF6cAIw\ns+10+p0CG908BGRmVlNOAGZmNeUEYGZWU04AZmY15YvAZtY1P1dodHMCMLOu+blCo5uHgMzMasoJ\nwMysprpKAJKOlHSHpPsl/VDSu3P5QZIWSXpI0m2SDiyWmStpmaQHJZ1VlJ8saUmed+nQV8nMzDrR\n7RnARuCvIuIFwMuBv5B0IjAHWBQRxwO35/dImgKcD0wBpgGXaevVo8uBWRExGZgsaVrXa2NmZh3r\n9kfh10TEvXl6A/AAMAE4G7gmh10DnJOnpwPzI2JjRKwAlgNTJY0H9o+IxTnu2mIZMzPbiYZ8F5Ck\nicDvAncDh0bE2jxrLXBonj4cuKtYbBUpYWzM0w2rc7mZjRF+sNzINaQEIGk/4EbgPRGxvvyPjoiQ\nNGz/o/3FdF9+mdnI5wfL7ToDAwMMDAx0HK9us66kPYGvAF+NiE/lsgeBvohYk4d37oiIEyTNAYiI\ni3PcQmAe8EiOOTGXXwCcHhFvr7TVUS9FZ/clj8S6etHmSK2rF22O1Lp60WbP6vIZwLCTRES0zK/d\n3gUk4ApgaWPnn90MzMzTM4GbivIZkvaSNAmYDCyOiDXAU5Km5jovLJYxM7OdqKszAEmvBL4B3MfW\nBD8XWAwsAI4CVgDnRcQv8zIfBN4CbCINGf1nLj8ZuBoYB9waEe9u0p7PAGpUVy/aHKl19aJNnwGM\nHYOdAXQ9BLQrOQHUq65etDlS6+pFm04AY8dgCcDPAjKzEcEPltv1nADMbETwg+V2PScAMxs1/J2C\n4eUEYGajhr9TMLz8NFAzs5pyAjAzqykPAZnZmONrBZ1xAjCzMcfXCjrjISAzs5ryGYCZ1Vbdv3zm\nBGBmtVX3L595CMjMrKacAMzMaspDQGZmbYzlW0qdAMzM2uj0ltLReEF5RAwBSZom6UFJyyR9oNf9\nMTPbUTHIayTqeQKQtDvwWWAaMAW4QNKJgy030GH9ncTVoa5etFmHunrR5kitqxdtjtS6WsVJ6ui1\nXV0d/ND7jvwYfEPPEwBwCrA8IlZExEbg34Dpgy000GHlncTVoa5etFmHunrR5kitqxdtjtS6WsVV\nzwrmNSmD7RPFq1/96mFJElUjIQFMAFYW71flMjOzWhosUcD2SeKiiy4aNElUjYQEMFKHx8zMRqxO\nzyba6fmPwkt6OdAfEdPy+7nA5oi4pIhxkjAz60K7H4UfCQlgD+BHwJnAz4DFwAUR8UBPO2ZmNsb1\n/HsAEbFJ0juB/wR2B67wzt/MbOfr+RmAmZn1SESMihdwDrAZeH5RthB4ArilWQzwYuBbwA+BHwDn\ntYg7GvgecA9wP/CeZu3l2GeT7lT6TJt+/TbXdQ/pWsw9wL25jVOb9b9YZpu4yjoE8HCTmGr/N7dq\ns1iHAH7eol9l/28CDiPdnrsc+C7wH8DkSv+bxbwM+Ha5/VvEnVbp/4eatVfd/m361eh/AL/M7d8L\nvJetBz0HAXcA64vt1SzuNbnuAH5VbP8y5pTK//fDzeoqtu9ROW51izYnAk8X9f28qP/9Oeadeb03\n53Up/8/KuC8ADwJLivWsxlyR+3Af8O+t6ir6/2m2fq6rdV0N/KQor9Z1VGXbf6bJZ+4e0me6se3v\ny/82iym3/X3A+c3iKtt+Q5NtcVRlu98DXAYcClwP/Dj34Vukv/lyHT7fIqba/9e1iHtZ0eZS4JvV\nmCb9n9eiru3Woe1+tdc79h1IADcAN5MuGDfKzgD+iK0JYJsY0s7g2Dw9nnSN4dlN4vYE9szTzwJW\n5PnbtJfnX0r6o/pMm36tbzF9FjDQrP+t4irrsKFYhzKm2v/NwBHN2izWYWOxDtV+lX0RaSf+tqLs\nhcArgVcX/W8Wc1qT7b+4RVzZ/19T7HQa7VW3f5M2TwJe1eh/ZT0OARYV/+f7Aq8A/hx4pk3ci0mJ\nZj3wAlLyqcaMA3Yr/o8eJw1nbhNXtPHFvP3f16LNicCS6jpU6ngxaQf4MGln1Cru94vpjcDbm8Ts\nX0z/E/CbNn+HLwWuBaLF/KuA1zX7LBVl5bb/TJu4FwOH5ekXkG4OqcaU2/6wvO2bboti298A/LrJ\nvC3bvc1n/yhS8i3X4dEWMdX+/6ZF3DjSHZki7czXA7uXMU36v6JFXUeX6zDYq+c79o46CfvlFT4K\neKAyr4+0A2oZU8TeS9pJtIwDDiYdWf20GgOcDMwHZpJ2QE3bpHUCOBf4Uov+t41r1JXX4dg2MQeT\njwqb1VWsw9Ns/eOrxpR9OQP4epv/mz7S0UfLmCJ2OXD3IDHnkI60D2oyr9z+/96qTZokgPx+EvB4\npexNFAku4fylAAAHD0lEQVSgTdx60h/oOlLC3S4mx20Aftyqrrx+HyXtDN7XLI4OEkCxXNsEUIn9\nNfAPbeaLdNS73c4xz98d+BppRxstYq4C/qTZZ6lJ7JtokwCa9C3IBwotYiaRjohbJcPGtp/XbB3Z\nPgGcSeXgqckylwCrOtj2Z5IScLv+nwncVX5+WvT/atKXZ5vFbLMOg71GwvcAOjEdWBgRPwV+Lukl\nOxoj6RTSH+4Lm8VJOlLSfaQd/53ArWWMpN2AjwPv66DNfSR9T9K3gX0l3SPpAeBfgH9osY7jOogb\nBzwf+Eo1RtIRRf8DuL1aV2Ud9gJmtGiv7P8FpOGZdp49WEze/s8C/l+L+Y3+LwC+HRG/qMyvbv+D\n2rS5j6Tvkbb9lm+VR8TDwO6SDilio7pwiziAPwG+FxEbqzGSTpF0f17H9zarS9J+wPuB/g7anCTp\nHmA/SQ/lz8Y9ks5tsc7jipjt4iTtCewNnFfEnFfMv4p0JPtCYI8Wdb0T+HJErMnLtGrvHyX9QNIn\nKv26sbraLfpfjYO07QNYXI0ptv39pG2/XV1Ntv2eLdqblMsGgNcC32/Sl9IE0hDdYP4UWB3paQfb\nyX8f/0o6yHlvk/ll/59HGj5sZcs6SHpl2151mil6+SLt8M7M0+8CPlbM6yMdQbeLGU8aBz2lXVwR\nuwG4sIwB/gL4myiOXFrVBYwvjkg2A8fk9y8Hflhpr9H/8qi7Wdx40tjmKa1iirjNwHHVONIfcGMd\nyjOAbeqq9H8d6c6sVv83faTx5U+0iWls/4+3i8uxf0u6rnBcpbzs+5uAr7eqq+j/BtIR8jHFvCeA\nQ4r3M6mcAbSI+2/SGcykVjFF3ArggErc8/L6n5vLtjkDKOsjJefnFPX9lGKYprJMR2cApCS/3XpW\nYnYjnQFsNwQEHE46MNqdfDTeoo7GkMdepCPVdsNJM+ngDIA0fLIc2DBI/0/I277ZcFK57ftpfgZQ\nbveXAL9o9C+XfZZ0Br64KLsOuGeQmBeQksTnB4l7F+kMagVwAPC5RgxpH9To/60UZ79lXU3WoeVn\nJyJGfgLIH+7GH9XDeYUeKeafTroY2TSGrUenrxusrqK9jcBjZQwpOz+Sy34OPAU8066uXN9Gtj0l\nXgMcXOn/NgmgGlesw9OtYirlzwCvr8QdUlmHzcCTwEcGqWshcH+b/5/TaTMEVNn+bYeTcvwZpCPR\n11fKq9t/Q7PtXVlmPcWQBHAM2w/tbJcAqnHAEXl7ndoqptLm7cDJ1TjgG7n/D5OOZtcBszuo7w7g\nJS3WcdAEQBry+FK7mCL2NGBTk/I/yP8vZf8fGqSu05vVVdn2bRNA3vY/Ak7tsP+3A//dpLzc9k/k\n/s8epK57gO9Wyp4LPFy8v5jKEFAZU/T/nWx/La5a1xmkRwiVn5/n5j5/vej/etJ+ZXaruorylp+d\niNGRAN4GXF4pGwBelaf7SHeYNIs5LW/M9wxWFzAuv//L/AE5vll7xQf3a23a3Du/b4zHn5Dfn0Da\nealYpo/tzwC2xJEy+u2kO5OqMY/lmAlF/59DOlM4vlWbubw8AyjrOrDS/4dIRxdvLZYtL8o2+n9X\nk5jTy+2fy5vFvbLS/6eBDzVrr9j+n2lTV6P/G3L/TyAlwNuAeZXt8Ca2vwi8JS5vjx9QJN8mMROB\nPYo2f0pKfE3bzHG/Ad7bor6D2XoRcAPpwvOBLf4+Hib98bfagf4ZadhtnzYxjbNFkY6UWx61F8tE\ni/LxRV2falcXg1wDKLb9OW1iym1/dN72g50NzaP5GUC53Y/J2/07FBfOSdf7Hq6sw5omMT8hHcWX\n/b+rWV2Vdfg+6czj2c3aK/q/okVdzdah6WcnYnQkgK8BZ1XK3kU6Vf0Gacf12/zvayoxP8l/aI1b\notYDf96krqX5P+reHPPRZu0V72eSHmDXrF9fI9321bitrrwl7V62vSvjztzvX5GOSJZX44A3kI7o\nG7cE/gp4oBLze0X/q7febdNm0XZjm1Xb+x+V/r+ZNIRzQ+7fD0k7/OMq/V9NSoCNmK+Qbuds9L3x\nOqNS11dIO6my/+9q0t6xle3/6Rb9Oq3of5DOGprekkn6I1qX455ha7J7bxHzIdJOuLHtnyYNeZUx\nb8htNP6Plrdqs7L9V5VxxbzXVer7cbH9Gmds7yZ9Bp/J2756W2MjbiOwrKjrZ2UMaUf9zbzN7gOu\nBDY1q6vS/2jR3u25niWku4WeavF33dj260k77e2Gd4ptX95SenAlptz2i0mPlW/aZmUH2iwBlNv9\ne8Afki54zyftS+4m/X2fW1mHDaSRhZVlDGk4s+z/EuDGal2VdbiH9He0XXuV/s9r1q9m69BuW/iL\nYGZmNTVa7gIyM7Nh5gRgZlZTTgBmZjXlBGBmVlNOAGZmNeUEYGZWU04AZmY15QRgZlZT/x+mSxVr\nweIVxgAAAABJRU5ErkJggg==\n",
      "text/plain": [
       "<matplotlib.figure.Figure at 0x677bfe10>"
      ]
     },
     "metadata": {},
     "output_type": "display_data"
    }
   ],
   "source": [
    "frequencies = []\n",
    "counts = df.subgrade.value_counts()\n",
    "keys = list(dict(counts).keys())\n",
    "keys.sort()\n",
    "for each in keys:\n",
    "    frequencies.append(dict(counts).get(each))\n",
    "\n",
    "pos = np.arange(len(keys))\n",
    "width = 1.0     # gives histogram aspect to the bar diagram\n",
    "\n",
    "ax = plt.axes()\n",
    "ax.set_xticks(pos + (width / 2))\n",
    "ax.set_xticklabels(keys)\n",
    "\n",
    "plt.bar(pos, frequencies, width, color='r')\n",
    "plt.title('Subgrade frequencies')\n",
    "plt.show()"
   ]
  },
  {
   "cell_type": "code",
   "execution_count": 100,
   "metadata": {
    "collapsed": false
   },
   "outputs": [
    {
     "data": {
      "text/plain": [
       "<matplotlib.figure.Figure at 0x11da8e10>"
      ]
     },
     "metadata": {},
     "output_type": "display_data"
    },
    {
     "data": {
      "image/png": "iVBORw0KGgoAAAANSUhEUgAAAY8AAAEaCAYAAADpMdsXAAAABHNCSVQICAgIfAhkiAAAAAlwSFlz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\ncBTyrAAAAABJRU5ErkJggg==\n",
      "text/plain": [
       "<matplotlib.figure.Figure at 0xbce50b8>"
      ]
     },
     "metadata": {},
     "output_type": "display_data"
    }
   ],
   "source": [
    "plt.figure()\n",
    "\n",
    "p = df.boxplot('int_rate','grade')\n",
    "\n",
    "q0 = p.set_xlabel('Loan Grade')\n",
    "q1 = p.set_ylabel('Interest Rate %')\n",
    "q2 = p.set_title('                          ')\n",
    "plt.show()"
=======
   "execution_count": 71,
   "metadata": {
    "collapsed": true
   },
   "outputs": [],
   "source": [
    "from datetime import datetime\n",
    "# Read the column in the correct format\n",
    "temp = pd.to_datetime(df['issue_d'],format = '%b-%d')\n",
    "\n",
    "date_format = \"%m/%d/%Y\"\n",
    "dttoday = datetime.strptime('1/1/1900', date_format)\n",
    "\n",
    "d = np.zeros(len(temp))\n",
    "for i in range(len(temp)):\n",
    "    try:\n",
    "        d[i] = ((np.timedelta64(temp[i] - pd.Timestamp(dttoday),'D').astype(int))/365)\n",
    "        #break\n",
    "    except:\n",
    "        d[i] = ((np.timedelta64(temp[i] - pd.Timestamp(dttoday),'M').astype(int))/12)\n",
    "\n",
    "df['issue_d'] = d"
   ]
  },
  {
   "cell_type": "markdown",
   "metadata": {},
   "source": [
    "### Employment title\n",
    "emp_title is a free text field. Let's examine how many unique values exist:"
>>>>>>> cc98d0a5d9de28dbcf50863d5aa1c5a1e393ea6d
   ]
  },
  {
   "cell_type": "code",
<<<<<<< HEAD
   "execution_count": 140,
=======
   "execution_count": 92,
>>>>>>> cc98d0a5d9de28dbcf50863d5aa1c5a1e393ea6d
   "metadata": {
    "collapsed": false
   },
   "outputs": [
    {
<<<<<<< HEAD
     "data": {
      "text/plain": [
       "<matplotlib.figure.Figure at 0x674eae48>"
      ]
     },
     "metadata": {},
     "output_type": "display_data"
    },
    {
     "data": {
      "image/png": "iVBORw0KGgoAAAANSUhEUgAAAZEAAAEaCAYAAADQVmpMAAAABHNCSVQICAgIfAhkiAAAAAlwSFlz\nAAALEgAACxIB0t1+/AAAIABJREFUeJztnX28XFV577/POQkQSSAEI/EqJBFQQQJBbCoS4US9FC0W\nUKylviT2itwrQVBqbT/qDbS9tbVag0RbqhRQq2gR8KVW0XoGQVEEEwgKKpqAoijyZhKBvD33j7X3\nmTX77L1nzczeM+vMeb6fzyT75bfXetbec/Yzaz3rRVQVwzAMw+iGkUEbYBiGYUxdzIkYhmEYXWNO\nxDAMw+gacyKGYRhG15gTMQzDMLrGnIhhGIbRNeZEjEoRkV0isl5ENojIrSJybMXpj4nIF9poTqg6\n334gIptFZF7O8a19yn+RiGzsU16Xi8gr+5GXUS8zBm2AMXT8TlWPBhCRE4H3AGN9tmEFsAW4qZuL\nRUQAtP+DqIrymxKDuURkhqruDJQrU6RcRjlWEzHqZF/gIXAvZhH5RxHZKCK3i8gfJ8fXisi7k+0/\nEJHrE+3lIvIvIvJdEfmhiPxhNnERmSci14rIbSJyk4gsEZFFwFnAW5Ma0fLMNfNF5KsicoeIfCT9\n9Z/8Cv+hiFwBbAQOLLC3pSYkIutEZGWyvVlE/iHRf0dEDvbyvEpEbk4+L0iO7y8i16W2AFJ0I0Xk\nnxLd10TkySJysIjc6p0/1N/3jr9FRL6f3KNPJscuEJHzPc0dInJQsjtDRD4hIj8Qkf8QkVmJ5mUi\ncqeI3CIiH0zvQZLWx0XkRuAKEVkoIt9IaqETNdHkma4TkbtE5KvAU9LyisgxItJI0v6yiCwoug9G\nhKiqfexT2QfYCawH7gQeAY5Ojr8SuA734ngKcA9wADALuANXe7gLWJzoLwe+lGwfAvwM2BNXq/lC\ncvxi4N3J9gpgfbK9BnhbgX3rgHck238A7AbmAYuAXcCyEnsX+Pl7Nrw+2d4E/FWy/TrPzk8CxyXb\nBwE/SLY/CLwr2X5ZakuOzbuBM5LtdwMXJ9tfB45Ktv8OODvn2vuAmcn2Pt79Od/TbEzsWpTkdWxy\n/FLgfGAv4F5goVeezyfbFwDfBfZM9md524cC3022X+Hdz6cCDyfHZgLfAvZPdK8GLh3099g+4R+r\niRhV85iqHq2qhwEnAR9Pji8HPqmOXwPX417YjwFnAl/FvRw3JXoFPgOgqncDPwWencnruDR9VR0H\n9heROcm5ol/1xwFXJtd8BfcyS7lHVW/2dFl7f4/2TTCfSv6/EkjjMi8B1onIeuBzwBwR2Rt4IfCJ\nxJYvZWzx2Q18Otn+BO5eAnwUeIOIjAB/jHu5Z7kd+KSIvAbnJNvxM1VNmwHTvJ4F/FRV7/HKmN5f\nxTmUJ5L9PYCPisjtuOd3WHL8eJr385c4B0iS9nOAryX3553A0wLsNCLBYiJGbajqt5Oml/m4l43/\nYheaL+QjgQdo//LYnXOssAmohKJrtrXRKa6m5f/4mlWST1o+AX5fVbe3JO5CL53a79+3q3G1iq8D\nt6hqnhP6Q9wL/OXAO0VkSU4Z9sqxOZtX1gaf33nbbwV+qaqvE5FR4HEv3aKyfl9VX1Bwzogcq4kY\ntSEiz8Z9x34D3AC8WkRGEqfyQuBmEVkIvA04GnipiCxLLwdelbSlHww8A/hhJosbgNckeY0BD6jq\nFlxQfQ75fBP3qz0N/O9XoMvaezxwM65Z53AR2UNE5gIvylz3au//byXb1wFv8e7LUcnmN4A/TY69\ntMSWEeBVyfafJrahqo8DXwH+Gbgse5E4L3WQqjaAv8TFqPYGNgPPTTTPBRZ7lx0kIs/P5PVD4BnJ\ns0rL5jtIn32A+5Pt1wOjXlnT+/lUXPMjSdrz0zxFZKaIHF5wH4wIsZqIUTWzkmYJcC+YlaqqwDVJ\nkPU23Avo7ar66yTIer6q3i8i/wu4XETSZqN7cS/ufYCzVHW7iPi9ei4A/k1EbsPVIlYmx78AXCUi\npwCrVfWbnn0XAp8Skdfhem/dj3M6+3jpoqq59gKIyGdwcZxNwPcy5d8vsedx4Izk2FuADyXHZ+Ca\nxt7s2XIGzuHcQz7bgGUi8i7gVzQdFbgmrNNwjirLKPBxEdkX9ywuUtXfishngdeLyB3Ad2h1zj8E\nzhaRfwO+D/yzqj4uIm8Gviwi23AxkLRWmO1l9WHgsyLyeuDLwFaYuJ8vAn6Ae67fSo7vEJHTgQ8m\nds4APpDojCmAuL9vw4gLEbkMF5i+uuJ09wB2qequxEl8SFWfW1Ham4BjVPWhKtILzPPPgTmquqbm\nfPZW1W3J9oeAH6nqRXXmaUwNrCZiTDcOAj6TBKO344L6VdHXX2Qicg2uKSrbpFYHZ4rryrwHrvZ1\nSR/yNKYAVhMxDMMwusYC64ZhGEbXmBMxDMMwusaciGEYhtE15kQMwzCMrjEnYhiGYXSNORHDMAyj\na8yJGIZhGF1TqxMRkZOS9QN+LCLvyDl/SrLOwfpk7YEXhV5rGIZhDJ7aBhsmM3j+EDcN9n24+XbO\nUNU7PY0/lcIS4BpVPSTkWsMwDGPw1FkTWQbcraqbVXUHbn2FU3xB6kASZuNmew261jAMwxg8dTqR\np+FWo0v5OTnrRYjIqSJyJ/BfNKfLDrrWMAzDGCx1OpGgdjJVvTZZBe/luGmru1lkyDAMwxgAdc7i\nex9woLd/IK5GkYuq3iAiM3DrXf885NpkbQnDMAyjRlS18Md9nTWRW4BDRWRRsobDq4HP+wIROTit\neSQrrKGqD4Zcm5JdNH7NmjVBi8sPgy5m22LXxWyb3ZOpp4vZtl517aitJqKqO0VkNW75zlHgUlW9\nU0TOSs5fArwSt8LaDtwKaH9Sdm1dthqGYRjdUeuiVKr6X7iAuX/sEm/7vcB7Q68NYfPmzdNGF7Nt\nsetitm1Quphti10Xs2116HyGbsT60qVLp40uZtti18Vs26B0MdsWuy5m2+rQ+UzplQ1FRKey/YZh\nGLEjIuiAAuuGYRjGkDN0TqTRaEwbXcy2xa6L2bZB6WK2LXZdzLbVofMZOidiGIZh9A+LiRiGYRiF\nWEzEMAzDqI2hcyKxtyVaO2wcuphtG5QuZtti18VsWx06n6FzIoZhGEb/sJiIYRiGUYjFRAzDMIza\nGDonEntborXDxqGL2bZB6WK2LXZdzLbVofMZOidiGIZh9A+LiRiGYRiFWEzEMAzDqI2hcyKxtyVa\nO2wcuphtG5QuZtti18VsWx06n6FzIoZhGEb/sJiIYRiGUYjFRAzDMIzaGDonEntborXDxqGL2bZB\n6WK2LXZdzLbVofMZOidiGIZh9A+LiRiGYRiFWEzEMAzDqI2hcyKxtyVaO2wcuphtG5QuZtti18Vs\nWx06n6FzIoZhGEb/sJiIYRiGUYjFRAzDMIzaGDonEntborXDxqGL2bZB6WK2LXZdzLbVofMZOidi\nGIZh9A+LiRiGYRiFtIuJzOinMYZhGEYfkZx3f/aHd54mT1fA0DVnxd6WaO2wcehitm1Quphti13X\n9zxFQIRG8v/EJytDQZXG+Diouv0sqhMfYby5H4jVRAzDMOom9Nd+qC7ZXyENVMd6s61HLCZiGIZR\nMyL5/qLbYyHn8s53qnfHBjhOREROEpG7ROTHIvKOnPOvEZHbROR2EfmmiBzpnducHF8vIjfXaadh\nGEY3zJvnXrL+Z968QVvVX2pzIiIyCqwDTgIOB84QkcMysp8Cx6vqkcDfAP/qnVNgTFWPVtVlofnG\n3G5atS5m22LXxWzboHQx2xar7uGHQVUZHx9HVVFVHn64f7bBYNLzqbMmsgy4W1U3q+oO4ErgFF+g\nqjep6qPJ7neAp2fSKKxCGYZhGNWycmXn19QWExGR04E/UNUzk/3XAr+vqucU6P8ceKaqvinZ/ynw\nKLALuERVP5JzjcVEDMMYHIGB8LpiIhdc4D5l5nUSE8lPY3DjRIJNFZEVwJ8Bx3mHj1PVX4rIfOCr\nInKXqt5QtZGGYRjdImj+S79P+Zc5kH5RpxO5DzjQ2z8Q+HlWlATTPwKcpKoTrYmq+svk/wdE5Bpc\n89gkJ7Jq1SoWLVoEwNy5cwE477zzgGY74NjY2KR9v40w73y6v2HDhmjTW7t2LUuXLi3Nz0+jLL/p\nlt4wPH/7PtWYnkhLdGCMJFowPp6TX+v9der2zwsaNBp59neXXvH96Cy9pUuX0mg02Lx5M0GkwaCq\nPzgH9RNgEbAHsAE4LKM5CLgbeH7m+JOAOcn23sA3gRNz8tAs4+Pjk47lMQy6mG2LXRezbYPSxWxb\nv3X+qyXV5bxuJo75afWqc5/xie399is0s21Zs+mVpVWUXvKeLXzX1zpOREReCqwFRoFLVfU9InJW\n8va/REQ+CpwG3JtcskNVl4nIM4Crk2MzgH9X1ffkpK912m8YxvSk6hhG1eM/OqWX9NrFRGywoWEY\nRoY6HEaW/faDhx4Kz78XQtPLC9RPu0WpWtv+hlsXs22x62K2bVC6mG2rTOfNM9Uy71SP+bbTNKej\nakxsFzmQJMW2eQKsWhWmC03vwgtD02sydE7EMAyjiHRCQhcmKJmUcIpwxRWDtsCaswzDmEZMhViH\neDWjdu+30GaqXnS2nohhGEYEpM4h9RFFDqKOH8Zr1lSe5ARD15wVZTtsTbqYbYtdF7Ntg9LFbFtb\nXU2xjlBdiEYzc2xVYVtorGNsrNr0fKwmYhjGlKdl5LgbwdfXkeMx00nzWFRzZ/UDi4kYhgGDi3V0\n2nW3atrNnVUFNk7EMIwpT7tf04N2DlWP64gJGycyxLqYbYtdF7Ntg9LFbJtzHONBQed26TVDJg1E\nnHOYnN/ksR1VjOsY1D1evLja9HyGzokYhjFcuNUD3bYIPa0c2OocQgb9DYaXv7za9O69t72mW6w5\nyzCMgREU9M1rW8poOx2vEXK+E11Mc13lMWMG7NzZrS3TrDnLMIypQzJJbGkzVcso85IR5n7P3qJm\nqunEkiXOecyYAbt2NbeXLCm+ppsg/dA5kZjbdavWxWxb7LqYbRuUrsq0RGTiE5Biz/l2GsNwdlVn\n38qV7TVQXoa02c6Z1JjYLmu+K5s7a+NGV/vYuRNGRhoT2xs3Fqdnc2cZhhEF/sC6GOnEvpCxE6tW\nheW7YkXxuYcemhyvaecMbe6sHrGYiGFMfUJiFz7txmHE3N22H3Nd5bFkSXkNpCw9GydiGEbUVBvg\nDh+dPQgG5URC6caJDF1zVsxtzlXrYrYtdl3Mtg1KV3We7da6aHbdDWv/D4lNdNJM1a971zqVVyOz\nX5hikG1Vj0/pZu6soXMihmHEQbv2+ocfblnWA1V3bNjIG5vi78eEzZ1lGEatZHszlXbNbdfUUvRT\nPHdak7ibqULnsCq7J3vsATt2TD4+cyZs395bvr1gMRHDMAZCN4P9YgyKh7yoY4919ILFRIZYF7Nt\nsetitm1QuqpiHV6KYaqKy7p2bbXphY2dCEtrULGOqnU+tp6IYRgdccUVcPnl1aSV1323VzZs6D0N\naG1CczWD7qoG2TL6+0VJjo52ldVAsOYswzA6IvZYRxXxiU6Zis1UoVS6xrqIHALMUtWAYSuGYUxH\nWlYZTI8VrDJYleNoNNwH4MILm8fHxtzHCKOrQH263m+7D/BO4N+AjwIfD72uzo8zv5Xx8fFJx/IY\nBl3MtsWui9m2QelC04JyXfpn6aeX86facb6hupUrw3TtyhGqw/nHiU8VeVZd1l6ebVKmwvdwYWBd\nRM4VEb9l7khV/TNVfSNwVIe+yjCMiBERVqxY0cGkifFSNj4lO9AvbOBfOeoNcNQ2Navx8e7zySN0\n7qxzzqk2X5/CmIiIvBZYBXxQVT8vIm8ETgdGgQ2q+vb6zArDYiKGUR3t2uvnzZs8GDBvHqtBd90d\n5u62WUJtGxmB3bu7S6+ncSIiMgv4c2AZ8G7gR8AeqvpIe3Pqx5yIYVRHVeM6hsGJlNVMYnrl9MNh\n9jpO5GDgM8CbgLOBi4C92psyOGLuh1+1LmbbYtfFbNvgdIPIE1av7j29quenap2apNF2qpLBjdco\n1i1fDnvt5T7QmNhevry79Ioo7J0lIlcA24EnAb9Q1TNF5GjgIyLyXVX9645zMwxjyqIISPZY899u\nufHGMN2KFcUvcf94zM1P/WT+/NSBwBNPNLfnzy++ptK5s0TkNlU9SlyU7XuqerR37hRV/Vzn2VWL\nNWcZRnUMqjlrbKzZPbcX+watGwT9GBPTdUxERP4BOBqYCXxJVf+xOxPqw5yIYZQTMmFi1QHzvCak\nbHpr18K117rt66+HE05w26eeCuedV1SW6RPrqJo6nUi7cRj7AnPKNIP8YONE+p7nsOhitq0OXdn4\nhNBxHZ2O/wgdE3HUUeW2NT/jLfu95lvlmI1+Pq/Q9M4+W3XhQveB8Ynts8/uLD3ajBMpHbGuqo92\n57sMwzB6x2Id3bNhA9x/f3M/3a5qbrEUmzvLMKYB7Zp46oh19DM20U0zVcxOqR/L3oZfO8Cp4EXk\nJBG5S0R+LCLvyDn/GhG5TURuF5FvisiRodcahlFOuvysPzo7b/lZ1+uq9aPZbliRk+2C265Lbqrp\nN2XOro7R9CkjgW/6bha4apu0iOwtIu8WkY8k+4eKyMkB140C64CTgMOBM0TksIzsp8Dxqnok8DfA\nv3ZwbS5x98O3sQ6x6GK2rSpduvysKoyPu7EOecvPCk7U8NaplZJuu1WMYYhBN4jvU5VjUyB8bZfD\nDw/Tha2d0krILL6XAbcCL0j2fwFcBXyxzXXLgLtVdTOAiFwJnALcmQpU9SZP/x3g6aHXGsZ0ZxBL\nxnay/kfZmIPQNTa6WYtjOhG6tsvFF9dnQ9uYiIjcqqrHiMh6TcaKpGNI2lx3OvAHqnpmsv9a4PdV\nNXcqMBH5c+CZqvqm0GstJmJMd2KOdYQyDOM1qojX1NntudEImxK/m2lPQmoiTyRzaKUJHgw8EXBd\n8OMWkRXAnwHHdXrtqlWrWLRoEQBz585l6dKljCV3K61i2r7tD/M+5J8fR2hIetY1pIwD6Z9Xu+s7\nza9q+7P70EhehtXmX/e+anPfjbpv7vvlueiiBvfeCyJu/4Yb3PUPPjjGeef1dv/cZpi9jYbb3rx5\nM0GU9f9NfuWfCFwPPAB8ErgHWBFw3fOBL3v7fwW8I0d3JHA3cEgX1wb1cw7tDz3VdDHbFrsuZts6\n0YWM//DT69f4DwLX1whNrxPdIJ5F1WWoWtfLGiv0Mk4keUtfJyLfS17sAOeq6gMB/ukW4FARWYSL\no7waOMMXiMhBwNXAa1X17k6uNQwjXlSVRqPh1SJ6p+q1OEIpmrMrNF5z2mmtts+d20z3mmuqszOL\nq1G47SuugKTBhrLVHiudO2tCIPLfqvridscKrn0psBa3BsmlqvoeETkLQFUvEZGPAqcB9yaX7FDV\nZUXX5qSv7ew3jGGjjmlK+j3+YypNPxJS3jJNN7GOJUtgY8Ai5KFzZ3W17G1CL3NnzcLN4DtOs1kV\nYB9cU9OzuzOpOsyJGMNIu15XVTuHkLmufKqe9C/mgDn07kR8ZsyAnTvb61avhnXrwuwLoU4nUjZO\n5Cxcs9KzcF1808/ncWM4oqQZbBp+Xcy2xa6L2TbnOMYLu+36gwMbgYMDy/LNG5tQ5EAAxsaK08rk\nWqmu6mchUqwbGfEH+jUmtke8N2Y363XsvXeYbVddFaYLLetvflNtej6FTkRV16rqYuDtqrrY+xyp\nqtE6EcMYdtLBgckowraDA/tJnaOu+0lRrcI/nq7Xka7TkW6XrdfxutdVZ2MnbN1aX9pBc2eJyBG4\nkeMTqxqq6sfqMysMa84yphKdDA6cTuM/BkWVzW2haa1dWxwHWb0avpgM4b7nHli40G2ffHLvTVsD\niYl4CVwAnAA8B/hP4KXAjap6encmVYc5EWOqUfaymSoB81BidCKhAf3Fi92LPD2eXrdwIWzaNPna\n0VHYtat9/qELcC1aBKHDNIrwe2ddeCGsWdO0oah3Vp6z6Wk9keQFfQeuh9Rtyf4BwNfaXdePDzZO\npO95DotuGMZ1hOi8di8F1f326842n36uiVF1vqOjk+8JuOPdpJdy3HFhtpWtneJzwAFhutDxH3WO\nEwmZ2/ExVd0F7BSRfYFfAwcGXGcYRge0zKa7YkXPs+n6r8t0vyxgHjpGIGSuJhjcuI4ydu7Mn+03\n22NqyRLXk2pGMpIu3V6yJD/dsjjI2rXNX/+33dbcXru2+Jpjjw0rzxVXhOnqJKQ568PAO3ED/s4H\ntgHrVfUN9ZtXjjVnGVOFbFNVP5upQs6HErLc7qApK2s3TTwh9y60+Sm0OSuETmJsbnqVkDQ7nzur\no0WpRGQxMAfYGMPb25yIMVXI/nHWMdajH05kkAxqUaqQsR2DcCJ10I0TCVlPZL4kLk9VNwFHAAFj\nKQdDzP3/q9bFbFvsuqrScgs/iffJX/ip6nw71YWMxYj5eSXKwjOtTXeNzH6TWbPyx3/MmjU5zZR9\n9snPd/Vq5zwWLYJ77mlMbK9eXZzWEUcUl8EnxntcROHcWSLyCtwiUTuAXSLyZuAC3BQlr+84J8MY\nQtzCT63zRE21MREwNZqpyvC7x0Jznqhs99jHHmtuh9ZEDjoo//i6dc20FywIq4mcPvA+rcWk3wF3\nXzpooSoSi8hG4DRVvVtEjsEtGnWaqn6hd3OrwZqzjEET3LSU51kyorqmKYHexgnUzaCaqUJ1IU1Q\nVXTJjZVe1hPZqcnMuqp6q4jcFZMDMYyphKCTYyJdptUutpJHrA6kHaFlDZ1R12d0tDjf7KSJaVC6\naNLEk9suGD68lMVE5ovI20TkfBE5H5jr7b+tXwZ2SuztujG2609HXcy2daKrct6pGMvQ2tW2UdjV\nNjQm4vPa1xbn6xaBcp+jjmpMbBeNNj/99OK0fGL/PnUzd1ZZTeSjuJ5YRfuGYUTOIGMdRetwQHjN\nwZ8OXSRsBtwyulljwyinoy6+sWExEaNOQvrhd9sFdzp03a0i1jE6Crt3T9aMjBRPM9JJE19IM1/Z\nfFfTgZ67+BrGdMR109WJT7uuu0ZnjBS8ebLHd+3KH2FeNk9V1b3jqnQgMY8R6ZahcyKxtyVau34c\nunYa13UXxseb7evZyRGhOVVJuq5Hu6lK2uXbTMaNYdhvv/JyrFxZnl5ovqEaoHQdjtap3xuZ/Sat\nzqER5BzKYieLFzsHNDICqo2J7cWLi1ObO7c4vZZcK7x3l19eXZ6D1PmEDDZ8Rsgxw5iOTKztkazr\ngXa/tkenc10BrFrVVVYDp+p1RzZtcs1eadNXup03427K0qXd5WW0EjJ31npVPTpz7FZVPaZWywKw\nmIhRF3VPSzKssY499oAdOyYfnzkTtm/vPD2f0KVlR0by4yjdEjLvVFncpJv5umKi63EiInIYbiGq\nfZPR64JrIN4Hb3Eqw5hqTPXR2YMgtDeV7yiqcIRLlsCdd7rtXbuas+oedlhrzy2fdDGnqghxItde\nW+xEss5iqo7ZKaKsOeuZwMuBfZP/T07+fy5wZv2mdUfsbYkWExmsrhkwHycNmk/Vua6qzrcs1pFJ\nrW+6jRtd7WPnThgZaUxsFzkQgMsuC8s39N5t3txe98gj1aUFcf7tFFFYE1HVzwGfE5FjVfWmjlM2\njAhJA+b+r8vcGUkQsvFx9f7tBj+fdgHz2Jg9O3+d7tmzW/e7GTle1FNrkISMJ/FHtafrhEDxqHYY\nzjhMSEzkH4G/AR4DvgwcBbxVVT9ev3nlWEzE6JR+TMHebnxElWMYqpwTq+o5p8p02WaqdAqSsmaq\nJUvKayB1ETJ3VuxTvPdCFeNETlTV3+KaszYDBwNvr8Y8wzDyCHUMF14Ypivq9VR1L6lQ/Gaq0VGC\nmqmqdiDD+tLvNyFOJG3yOhm4SlUfpZc6fc3E3pZoMZE4dMMS66g2PlGsCR3/4dZXmawrizuphtgW\nfk9Wrw7TlY3ZaDSatbzrr29MbBeZEPs6IQOJiXh8QUTuAh4H/o+IPCXZNgxjihPa7ThU549r6XW9\njm658cYw3f33F5/zYx+bN7evGca8TkjdBM2dJSLzgEdVdZeI7A3MUdWSR9AfLCZidMpUiYmEUuVa\nHP2MidTJ054G992Xf66bMRsxr8XSD3pZTyRNYG/gbOAgXNfe/wE8C/hi2XWG0W8GNf4j+7Iu63mV\nvrRiIbQ3VTe9rqrugVY2XsPvKfWLXxT3lPKdRdpk1Y65c7swdhoREhO5DNgOvCDZ/wXw/2qzqEdi\nb0schnb9GHWtEya6MSB57fBVz3WVN/9T2VQlY2Pl6aWsWhWmK4tjhKyxEboORzfrdZxwQlgZQp9/\nWQzDX/9jZKQxsZ3tattprANgw4b29sX4N1GnzickJnKwqv6xiPwJgKpuy/7iM4xBk47/gOYv1ryv\n6cQKg97P2l5WGayLK66Ayy8ftBW9cVPg6LING8Km//j2t4vP+Wus795dvMa6XxP59rendzNVVYSM\nE/kW8GLgW6p6tIgcDHxKVZf1w8AyLCZipEzPWIfSnI3IHSxrgvJJdZ3GTdrZ5rNoUdi642Uxh25i\nGKFzbK1aVeyop/p8V1XSc0wEuAA3yPDpIvJJ4DhgVSXWGUYANtdVK83iS/JCz//7DulR1cmkkCl7\n7ll8zq8R3HNPcY0glOwI8SJn48dEdu0KGz0emi9YjaUUVS384GImrwaejBsncjIwv+yafn6c+a2M\nj49POpbHMOhitq0OHRTr/K9Cml7O12PimJ9nL7oQ23yqKGtdutC0Zs4M082eXawbH1dds8Z9YHxi\nO3t7zj5bdeFC94Hxie2zzy7Od//9w+xbubI6Xex/O73okvds4Xu4tCaiqrtF5C9U9dNYbyxjAMyb\n17oYVLpQUzZ4XfdcV1De22jlyrA0L7+8fXNIWvNyNYPJ9tfZo6qI5cvhllvc9o4dsFcyj/fznlc8\nLuOJJ4rT83/pv+99xb/0161r1mDmzQtrHiurKYXMiZVlGOe7qpKQmMjfA78BPg1sS4+rapvlckBE\nTgLWAqPAR1X1HzLnn43r/XU08E5Vfb93bjPwW2AXsENzYjAWExl+plOsY9C60BjGXnvB4wHDjUN1\nRZM7ZglMMvuuAAAgAElEQVS175BD4O672+um+/iPUKqIifwJ7ufc2Znji9tkPAqsA14C3Ad8V0Q+\nr6p3erIHgXOAU3OSUGAsxFkZxnSiyhpGN5QFrf3YxBNPFMcm/NjJtm1hsZOnPz3MvlCdURFlbV29\nfIBjgS97+38J/GWBdg1wfubYJmD/NnlU2vY31XQx2xaqozm4o+D85PTKYhihuukU6yjTdRNzeNKT\nqrVt773DdEcdVaz7wAdUTzjBfWB8YvsDHyhO7wMfCMt3uvwtFunoJSYCEyPW3wYcpKpnisihwLNU\ntV2M5GnAz7z9nwO/H+jbSF4sXxORXcAlqvqRDq41pgiqikgD1bFBmzJw6qxhFK3Z4cccFiwIay6a\nNav43GmnueXmU9LR3itWwDXXNI/7sYlt25rNSt12oT3vvGZNZ+nSsBl6LdZRDSHNWZcBt9I6Yv0q\n2gfae61YH6eqvxSR+cBXReQuVb0hK1q1ahWLkrrw3LlzWep9M9LRl2PJt9LfHxsbKz3v78eaXnqs\nXX6h+/1MzwXMG4lqDBGYPbvBF76Qd79a00v32+ffSMYUtp4XGUvScPv77VeeXmve9T3/5ujzVvva\nlTfEPpH29j36aPHzWru2OWL8wQfHGBtzq/ktXw7r1jX1554L11zj9kXg2mvz03OH3P6HPzyWjBqf\nXN6rroI77nD7t90GS5c2mDt3jFNPddt55Zk7t/x+1fF9H4b3SbrfaDRoNBpsDvlFAe2bs4Bbk//X\ne8duC7ju+bQ2Z/0V8I4C7aTmrJDzlLVDGFHTrkmq5WDep9v0As75rFkzGF2ofWXNNUccoTo66j7Q\n3D7iiHz97Nlhee65Z7k9zWYlDWpW2nffsHxPOCFMV5aX0Tm0ac4KmTvrCRGZqMAmI9ZLOu9NcAtw\nqIgsEpE9cONNPl+gbanIi8iTRGROsr03cCIQtCRN1jsPsy5m26rSCU3X0RgfB1V3rOd8w2wLnevq\nwgurTS/UvrL5pDpdn3zbtuK0Vq92we9Fi+CJJxoT26tXt+r8Oaz22ad4DiufkZHifH1C1zFPayjt\nsL/F7nU+tY1YV9WdIrIa+Aqui++lqnqniJyVnL9ERBYA3wX2AXaLyLnA4cBTgKuT/vIzgH9X1es6\nLJthRIU/8l770Y0qAL+XlGpxLyk/djJnTljsZObMsHwffjisd9by5e3zNPpP6HoiT8Y1TwF8R1Uf\nqNWqQGycyNRluo7/CGXuXHjkkfxzfjfa66+HE05w22VTfIyMuIkJy6h6Tqx588pnNO40PWMwtBsn\nEjLY8L9V9cXtjg0CcyJTlzocRpa8ke1lafRCP52IT9kCTD5F9i1YAL/61eTjBxxQvPLf8uVhqweG\nOgdzInHTzokUxkREZJaI7A/MF5F53mcRrvtulMTeljjs7bDNNbZl4lO2roe/tkfZuh7t8vWj7uDW\nuyj7FbxyZXFaoXlmlEGqBQuKdaed5pzH3Lnw6KONie3TTitO74EHerPv/vvz1wkpWzp269biPP3Y\nyT33FMdOfI4+ujg9nxi/74PMc5A6n7KYyFnAubiVDG/1jm/BjUQ3jEk01/VQGkn3ydJ1PcBFXhNd\nv+qVq1aF6ULmuoLwubPyfvWn+OMoZs8Oq4ns2FF8Lm/eMWitoflNY9D77LfdjDs599zO8zHiIaQ5\n6y2q+sE+2dMR1pzVf9oFhwcd6wg53wlVN1OFxCbABaWLHER2uvWFC912WVA6pBxlmm7iMNZMNRz0\nHBNJEnkBsAiv5qKqH6vCwF4wJzIYOg1Y9zPW0c6+TqkircWL3cseXFppmRYuhE2b8q8JXVipygkY\nQx3c2JirPLZj9eru1hAx4qLrmIiXwCeA9wHLgd/zPlESe1viMLTDhrb/V5Fvp7GOUPv6WdZNm9zL\n2b2gGxPbRQ4EYNeu4vRGRyfCSUBjYnt0tFXnxyegfXxCpDhPn9DxGqefHqaL+W8sVBezbXXofELG\niRwDHG4/+Y2pQmh8IjZC553atau5XVbDCBnb4a8Tsnt32DohNl7D8AmJifwHcK6q/qI/JoVjzVn9\nJRuozW1WKlq0O/OcBh3rCF1LouqYSOgaG1XHJ0LyDbXNmF5UMU6kASwFbqY53Ymq6h9VZWS3mBPp\nL9kX23QImIc6mzJd6Eu/yP9C74MmQ8aTmBMx8mjnREonUUxe0GN5n3bX9eODrSfS1zyza3FUsa5H\nO13rNeX2ZdPrV1qdpFe1rmw98U7X2DjiiLA8Y/6bGJQuZtt61dHreiKq2ujJjRlGAdlf3mVrmMPU\njXWE4scnoPd1zDtdY+Pii4NNNYwJCpuzRGQrxWO/VFX3qc2qQKw5q79U2ZzVyfk6qLZpTIDdwEjh\n2Jkiem2mCh2LEdot1zCydN3FV1Vnq+qcgs/AHYhRHW6qEvE+5E5VMlUIiWFUiXMckutA3Hm/m/Lk\n/U5pnVqkuV02tcipp3aXl2G0I2Q9kSlF7P2rY+yb7qYqUcbHx5N2ztZeWCnpfFft5rpKxy2IuDEM\n7Zqpqh53ErK2RxVzZzXLCf54jWzNo9PxGknOhWfWrXO1j82b4YADGhPbZQP7QtbYiPm7HrsuZtvq\n0PkMnRMx6mNigaiSxaHyfnWHTAfebzqZO6uI0BqG/9IHCl/6ixe7UeMjyV9lur14cZithjEIgqY9\niRWLiVRDt7GNqmIdMU/LXnUZQnWhU5DY1CJG3fQ87Ylh1M2aNWG6fsc6XMD88ZZJJ32WL3c9qNJe\nVOl2P0d0mwMxBs3QOZHY2xJjbIfNxjraxzuqjXVUvY55VXNnqSozZ367MGB+441ucJ4boNeY2M52\nx12wID92smBBcd5PeUp7+0LLEaqL+bseuy5m2+rQ+QydEzE6JxvraBfvSLdjjHVA7+NJ/BrGjh29\n1zBaF35qbpct/HTlld3lZRj9xmIiRsdjO6qeMiSUQcydVcVcV93oDCMWKllPJFbMiZTjJkz0n73m\nTppYlxOpmtgC5nPmwNatk4/Png1btuRfs2BBeQ3EMGJj2gXWY29L7Gc77EMPu0apcdzUA4rw0MOF\n34UO2kPDdNW3w4bp5swp17lAeXNwZbd5btkyea0T1WIHAnDlleW2TeQa4ffJdHHlOUidz9A5EaNJ\naKxj0JSNxfBpF+tIncLWrVrqHFSV2bPTgZXx3Q/DmEpYc9YQU9e07IOKdSxeXL4aYCfplWkWLIBf\n/Wry8QMOKG6KmjOnvAZiGFMVi4lMY+pcx7xK2g9aTA3cBYzm1h6yC2alFJXDAuGGEYbFRIZYV9k4\nkZx2/TIHEprvqlVhunaxjmaz0zcKm58eeqh9OdxEk5PHa5RPNhlWhpi/J6G6mG2LXRezbXXofIbO\niQwLK1aUnxcRVqxYERgcHgxXXNF7GlXOJ9XqaAhymO0HVBrG9MaasyKl13b9ovP97Lo7qPmkqrh3\nhmE42jVntV3Z0DDqJnTurLKX/sjI5Mkh0//zHI/VMAyjGoauOSv2tsQyXej6FGnbfmi7ftXjMESq\nS09EuPDC0Ca54vR2786PiRTVXK6+ur1tEOf3pC5dzLbFrovZtjp0PkPnRKYDbhChMM4K3MiP4kGE\nIi6+kjqbsl/gIXNOuZd9+TiMTnT+YliGYUw9LCYSKZ3GLqZyrGPWLHjssfxz2WYqP+2iWkZo7MQw\njPZYTMSohGyFwt/3X/KdxiagfIJD/5pQp2QOxDD6x9A1Z8XellhVfMJf16P92h6929a69Gsjs9+k\n09hEJ/ZVOWYj9udv7fpTSxezbXXofGp1IiJykojcJSI/FpF35Jx/tojcJCKPi8j5nVw77IyPF5/r\ndKxDjMya1dppIN2eNWuwdhmG0Rm1xUREZBT4IfAS4D7gu8AZqnqnp5kPLAROBR5W1feHXpvohi4m\nkg1El5Wvn1N3lMXHe43F2JgNw4iXQU57sgy4W1U3q+oO4ErgFF+gqg+o6i3Ajk6vHVaaU3xUN8Ns\nFWuYZ5uvipqzst2Si7opG4YxHNTpRJ4G/Mzb/3lyrNZrY29LrHbMRlha/VzDPDR24jNzZli+1oZd\nry5m22LXxWxbHTqfOp1ILz+jrXFjGnHddYO2wDCMbqmzi+99wIHe/oG4GkWl165atYpFixYBMHfu\nXJYuXTpxLvWqY2Njk/bHxsZKz/v7/UpvzpxGstzqGDCGSCNZanVyei528vWJGIqqBudftJ8eyzuf\njpB3tO6rdp5e1fZ1uh/j8x90eumxGJ9X7OkNw/NP9xuNBo1Gg82bNxNCnYH1Gbjg+IuBXwA3kxMc\nT7QXAFu8wHrQtcMWWB+2QYSGYUx9BhZYV9WdwGrgK8APgE+r6p0icpaInJUYt0BEfga8FXiXiNwr\nIrOLrg3JN+ud+6ULnU+qLD2lGYVuJP8rrc8udH6t0Dwzykp1g3oWIbqYbRuULmbbYtfFbFsdOp9a\nR6yr6n8B/5U5dom3fT+tzVal105lgrruesdWSGOimahAElwjuPxy8Grwpfa5NK2aYRhGGDZ3VkVU\n3RRUpBvpYi4pa34yDKNbbO6sGgmdT6pKOp1LymoYhmHUic2d1YOumzERvcYdOo2JdDLVeuztsNaG\nXa8uZtti18VsWx06H6uJRIRzBOrtK5B24aXl/1RvlQvDMAaJxUR6YI89YEd2whZg5kzYvj3/ml5j\nInPmkIwlacWNJ2mfrmEYRie0i4mYE6mIUudQ3NYUJMuRts/TMAyjAgY5AeNAGFwbYbFOaAZLGuPj\noG5R2yydx1jCbIu9fdXasOPQxWxb7LqYbatD52MxkYjotLfXXnvVa49hGEY7rDmrp/yLz7ULgLdr\nirKmKsMwYsDGidSI9ZQyDGO6YzGRHnSdjNlonmsErInu0uvFNtPFl2fsuphti10Xs2116HysJtID\noTWRbmosZWusG4ZhxILFRKqxA9gNjLQdGW7NXoZhTCWmXRffUELW/BaRiU8ZznGIzU1lGMa0Y+ic\nSBXjOlKcUyiZd8oLgoxTEhDpMF+wdti6dTHbNihdzLbFrovZtjp0PkPnRPqJP4iQkkGEhmEYw8q0\niokETyvSwzQl++0HDz2Ul3fAolSGYRiRYXNnFV7b2drl5frwwLphGMZUYloF1tsFwutan9w5juv7\nvmZH7O2mMetitm1Quphti10Xs2116HyGyom0W4ApO6Fh2CJSxWSdUIhTWrGiu7wMwzBixJqzCs5l\nKYp1hKTXjc4wDCMGbO6sLrA5sQzDMMIYquYsqG6uK6cXoP1gwyTnyvIFa4etWxezbYPSxWxb7LqY\nbatD5zN0TqSMTmMi7WIsdeVrGIYxVRi6mMgFF7hPm+uoukuuxUQMwxhGpt04kbYv6aQNSdiJpiGh\nHoLzRXQyBsUwDCNWptU4EUej9KyguLsxAwHm7ddu1t3i9DpfEx3Gx8vtS7F22Hp1Mds2KF3MtsWu\ni9m2OnQ+Q+hEynEv+ebEimXddutgw4Yw3VVXVZdWqC6Uiy4K051zTpgupKyd6N71rurSesMbwnRV\n3+Oqn23oM6syz0F9PwdB6PdpKFHVKftx5reScyiXQenWrAnTnXBCdWmF6kJZuDBMt+eeYbqQsnai\n23ff6tIaHQ3TVX2Pq362oc+syjwH9f0cBKHfp6lI8p4tfA/bOJEcsrEOf7+4J1d99hiGYcTK8DiR\n5E0/DuA7Ae/t3uocGoiM5ckygw0bqDZ1RTQaDcbG8nWNhvsAXHhhA3C6sTH3SVm7Fq691m1ff30z\nvVNPhfPO6yytUF1oGVavhi9+0W3fc0+DRYuc7uSTYd26pm75crjlFrf9xBMN9trL6Z73PLjxxs7K\n2onutNOaSwo/+miDuXOdbsUKuOaaztJasgTuvNNt79rVYMYMpzvsMNi40b9f1d7jqp9t6DMbhG1V\n37tB6EK/T4OwrW5dC2XVlNg/5DZnjQdW0arVjY+H6VauDNMddVR7XWhaobrQMhxwQJhu5swwXUhZ\nO9HtvXd7XWhaIyNhuqrvcdXPNuSZDcq2qu/dIHSh36eYy1Cko01z1sAdQS+ffCdSfINa+1O1fsqu\nqRKLiUzGYiLdp2cxkTiwmMg0obWZKiyOUXWsI7SmeOqp1aXVae20HSefHKZ73vPCdCFl7UQXMlNy\naFqHHRamq/oeV/1sQ59ZlXkO6vs5CEK/T8NIrV18ReQkEblLRH4sIu8o0HwwOX+biBztHd8sIreL\nyHoRuTk810aluur7V4fpli4N0VWbZ2gZTj89TPe3fxumCytruO7cc9vrQtO6+OIwXdX3uOpnG/LM\nBmXboP4Wq9SFfp9iLkMnOp/anIiIjALrgJOAw4EzROSwjOZlwCGqeijwJuCfvdMKjKnq0aq6LDBP\nYEXghIlhndM3BHZiH4QuZtti18Vs26B0MdsWuy5m2+rQ+dRZE1kG3K2qm1V1B3AlcEpG80fAFQCq\n+h1grogc4J0P8QYTqCpr1qxJ4yWlrFnzSFCajzwSry5m22LXxWzboHQx2xa7Lmbb6tD51OlEngb8\nzNv/eXIsVKPA10TkFhE5szYrDcMwjK6pM7AeGpIuqm0sV9VfiMh84Ksicpeq3tAusc2bNwdlOgy6\nmG2LXRezbYPSxWxb7LqYbatD51PbLL4i8nzgAlU9Kdn/K2C3qv6Dp/kXoKGqVyb7dwEnqOqvMmmt\nAbaq6vszx22cuGEYRs3ogJbHvQU4VEQWAb8AXg2ckdF8HlgNXJk4nUdU9Vci8iRgVFW3iMjewInA\nhdkMygpmGIZh1E9tTkRVd4rIauArwChwqareKSJnJecvUdUvicjLRORuYBuQzpm6ALg66WU1A/h3\nVb2uLlsNwzCM7pjSi1IZhmEYA6ZsOPtU+ACn4ta6fZZ37MvAw8AXinTAUuBbwB3AbcAfF+gWArcC\n64HvA+fm5Zlo98H1MLu4xLZdSVrrgWu9/Q1JPsfmlaNIl1OO3QU6vxya2Dkpz0w5ctMqKMcCXDfu\nu3FNmf8JHJp9FgW63wNu8p9Fge74zLN4V16e2WdRYptfBk3+vyMp79to/siah5vbc4t3T/J0/zNJ\n//YkvR8X6JZl8t2Up/Pu9UGJ7r6C9BYBj3npPeCl/xeJZnVS/t1Jefyy+7p/B+4CNgKXluguTey4\nHbimSOeV4YPJ/StK73Lgp97xrO6gzHO4OOd7uB73Pfefwy3AigKd/xxu957thCbzDLYC5xfY5j+D\n9cCHgQOATwI/Sez4Fu6d0FKOEl22HK8o0P2el+8PgBuzmpxyrClIa1I52r6DB+0EKnAin8bFVi7w\njr0IOJlWJ9Kiw71EDk62n4qL2+yTo5sJzEy29wY2J+db8kzOX4T7I7y4xLYtmWu2eNsn4joaTCpH\nkS6nHLuBfXJ0fjm2JOV4ejbPTDm2l9jm2yM4J/Am79iRwHLcH3BahiLd8TnP4uYCnf8sHsd7WaV5\nZp9FTp5LgBdmyuBvzwe+6n0HngQcB5yVuSdZ3VJgQbK9Dfh5gW4WMJJsbwV+g2vybdF5+VwF7ADO\nL0hvEbAx7/vlpbEU9+LchHuJFele6m1/Eni8QDfH234/8ETJ3+jzgI8Bvy3J9zLgFUV/JznP4eIS\nnf8cnoP7MZGn85/DAtzfzmiBfVfh/p7PL0hr4hmU/E0chHPmLeUo0WXL8USBbhZuuIbgHMKWtByp\nJqccmwvSWuiXI+QzcCfQyweYndyMg4A7M+fGaP76LdR5+g24l0uhDngy7tfcvVkNcAzwKWBl8sXI\nzTP7BaT15fUq4Oq8crTTeed20Xwh5+pwL64f414mLZpMObYX5Zmx50XA9SXPKS1Dqc7T3w18p43m\nVOB3wLycc34ZrinKkwInkuwvBn6TObbKvydFujQ94EGaTq9ItxX4SVF6STnfi3uBnJ+nI8CJeNeV\nOpGM9q2UOIdEI7hf3UXOZhT4Ou4lvaUoX5wTeWXR88h5DoVOJMe+BwN0i3G9R4u+a+/F/XoPdSIv\nJvPjrKAc17TTeentSL9PJZpv+9+ngnJcjhsInqdpKUfIZ6pPwHgK8GVVvVdEHhCR56rq9zrVicgy\n3C/1I/N0InIgrgnkEJwXf8LX4BzQ+4DX4KqgZXnuJSK3AtuBvwdmich6YC/cr/AXFZS1rS4pxwhw\nlYhM0onI04Ev4X7F7wV809eIyEimHDNK8vTLcQeumakdR7TTJWXYG1eDyzufluHZwA2q+lDmfLYM\n80ry9MvQ8regqptEZFRE5qvqA+nhbAIFOpL0blI3W8MkXVLOy5Kyvi0vPVyzwl8AL8E1o+bmmxxa\nnDyr2SLyI1xNCODvVPU/csqefp/I04nITOC1wGhG9x5V/UyiuQx4Kc7pzyhIbzXwOVW9P+koU5bv\ne0Tk/wL/ndH9VFVf6Re/oBxZHcArcc//RXk67zksBjSrEZHZNJ/B29vkmT6DR3HvhLx3kY9S/v30\n+VPgvvT7lCUpxydwP3RPzznvl+MqXNNoEX453qWqN5Zop3xN5IvAi5Ptc4B/9M6N0ayJlOmeimsD\nXlam87Rbgdf5GuBs4O3er4uLi9ICnqrNXz6bcONf0vSfD9yRyXOMyTWRPF1ajm1luuT4VuBHOKc4\nocH9wfvl2F6UVqYcD+J63xU9p7QM5wD/VKJLy/C+Ml2ifScu1nJI5ni2DNcXpZUpw27gGZnzDwPz\nvf2W2lmJ7jlJeovLdMmxbbga674Z3VOS+/Cq5FhLTcRPD9gD2M9L71685qbMNUE1EeAjwD8F6EZw\nNZFJNRbgfwA34GojQnlNJG222QP3S7mseWwlATWR5DncnTzfduV4dvLM9s0c95/BBRTXRPxn8Fzg\nodTG5Ng6nGO5OVOOlu9nge45uDjXR9vozsE5xM3AvsCHUg3uPZWW40t4tXM/rZxyFH6XJq4vOxnz\nJ/lDSP8ANyWFvcc7fwLuxVWow8VAbsUFrErT8/LcAfza1+B+AdyTHHsA1/a7vSytJL3LgMcyx+4H\nnpxTjmxzy4QuU45CnXdsCy4werqnmZ9TDsX9UixMKzn+ZeD7Jc8qLUNhc1amDG2bvRLNL9MyeMez\nZdiad+9z0ttBa3PKM5jcnDXJiWR1uDjTD/GceVF63rP4b+CYrA74RlKOTcmzeBB4c0B648BzC8rZ\n1ongmm2uTtMLuHfHAztzjr8seUZpGXZR0GSU832ZlF7mOZQ6Ee85HFumy1yzM30O3jH/GTycPIPc\nprvMdeuBWzLH9gc2ZcoxqTnL13nlWF2m8/4mGpnv0/6J7dd75diSfN/fXJSWd7zwuzShaXczYv2Q\nzPqbOdYAXphsj+FeXEW645ObfW679IBZyf55yRfpmXl5el+Mr5fkuWey/2RcbcCvOTwb9+IT71ha\nji15OtwvB78cWd2vE93TvHJswf3if2Zenl45thekNTenHBuAMz29H+Qeo1kr/HaO7gS/DCW65V4Z\n9sM197wrL0+vDBeXpOWXYTfw7GR/PnAdsCZzT1YxObA+oUvuy224tudsoN7XLQJmJNtbcT8y9inK\nN9E9AbytIL0n0wykbsUFkucW/N1swr0wil6+b8Q1c+6V/T5ldIck/wvu13pp7MT73hWl91QvvbVl\n6dEmJuI/Bz/vHJ3/HBbidUopyHcNrukxLy3/GTwjeQbfBf63pzmI1pf+Ku/7mdX9FFebmChHgW5T\nphzfw9WC9snL0yvH5oK08sqR+12auLbdg4/1g3tRn5g5dg6uav0N3Avvd7gePH+Zo/sp7g8z7cq2\nBTgrR/eD5EFuSDTvzcvT21+Jm1Qyz7av47rrpV0j34D79ZPasIHW3jE3eOVQXNW8RYdrt97upaHA\nnTm6l3jl0ORLNCnPTDn8Lo9+Wi/IKcdTcfGiu3Exki/gmsv8MvwMN3OBr/sirquuX4b1uF9VWd0b\nvTKsT+5pNs+DM2X4YIFtx2fKkHbbzO1qm9yvB5N7t52m43ybp3kX7iWePoffJc8iq3ttkk+qu7so\nX++aXbg/6Dty0ntFJr2fePfx7xLNW5L7vx3XHp7tzprqduA6XRR1tf073Iv+xuS+3Q78G63f44n0\nMmX4bZEO9yPidlzX4o8Bvy34u0+fwxac892ao/Gfw8Tfd47Ofw43k6k95uhTJzLJtswzuBX4Q1xn\ngk/h3jXfwf39vyqnHD/Hfb9bdLgmW78cG4HP5uj8cqzH/WCdlGemHGvybMsrR7t3sQ02NAzDMLqm\n1pUNDcMwjOHGnIhhGIbRNeZEDMMwjK4xJ2IYhmF0jTkRwzAMo2vMiRiGYRhdY07EGGpEZGsf83qn\niNwhIreJyPpkPqMy/QUicn6fbOvbfTCmF1N9AkbDaEdfBkKJyLG4AWZHq+oOEZkH7Nnmsp5sE5ER\nVd0dKLcBYUYtWE3EmHaIyFIR+XZSY7haROYmx88UkZtFZIOIXCUis5Ljl4vIRSLyTRH5iYhkZ4oF\nNzr5N9qctfchVf1lcv3mxKkgIs8TkXHvuqNE5Fsi8iMReWOiGRGRD4vInSJynYj8Z5pnktbfJ7MP\nv0pE3lhg82IRuUlEbheRv82U/+3JNbeJyAUV3lpjGmJOxJiOfAw30+9RuKkk1iTHP6uqy1R1KW66\nkv/lXbNAVY/DLbD19zlpXgccKCI/FJEPicjx3rmiWoDg5vFaARwL/F8ReSpu6omFqnoY8LrkXJqG\n4pzVMar6adxEiXk2XwR8SFWPxC3y5TIUORE379Uy4GjgGBF5Ycm9MoxSzIkY0woR2Rc33fcNyaEr\ncPNoASwRkRtE5HbceiSHJ8cVtwQwqnonbjnTFlR1G24xrDfhJrT8tIisbGOOAteq6hOq+iBuxtRl\nuFXvPpOk+6vkuM+nve0im1+AmxsJ3MzGKScCJybrRdwKPAs3x5lhdIXFRIzpjnjblwN/pKobEwcw\n5p3bXnDNBEl84nrgehHZiJsA8grcpIPpD7a92tiT1jj8PLL5bfO2szaf0CZ9cAtL/WuAzjDaYjUR\nY1qhqo8CD4vI8uTQ63CznoJb0vh+b1W/4GC0iDxTRA71Dh2Nm6mV5P/nJdt+PEWAU0RkTxHZH+e0\nbjwpkOUAAAEFSURBVMZNxf5KcRxAuWPI2pzyTeBPku3XeMe/AvyZiOyd2P00b3VEw+gYq4kYw86T\nRORn3v77cTWEfxGRJ+GmTX9Dcu7duGmxH0j+n+1dpwXbKbOBi5Mg/U7cdOpvSs5dCFwqIr/FOSw/\nvnE7rrnqycBfq1tG9rO49bJ/gJu+/Xu4pUrzKLL5XOCTIvIO4HNpnqr6VRE5DLgpWa52C875PIBh\ndIFNBW8YESIie6vqtqSG8h3gBar660HbZRhZrCZiGHHyxaRWsweuhmIOxIgSq4kYhmEYXWOBdcMw\nDKNrzIkYhmEYXWNOxDAMw+gacyKGYRhG15gTMQzDMLrGnIhhGIbRNf8f39BkFnBzpKwAAAAASUVO\nRK5CYII=\n",
      "text/plain": [
       "<matplotlib.figure.Figure at 0x6d17be10>"
      ]
     },
     "metadata": {},
     "output_type": "display_data"
    }
   ],
   "source": [
    "plt.figure(figsize=(3,4))\n",
    "\n",
    "p = df.boxplot('int_rate','subgrade')\n",
    "\n",
    "q0 = p.set_xlabel('Loan Subgrade')\n",
    "q1 = p.set_ylabel('Interest Rate %')\n",
    "q2 = p.set_title('                          ')\n",
    "plt.show()"
=======
     "name": "stdout",
     "output_type": "stream",
     "text": [
      "Teacher             3602\n",
      "Manager             2875\n",
      "Registered Nurse    1537\n",
      "RN                  1452\n",
      "Supervisor          1286\n",
      "dtype: int64\n",
      "AMSTER ROTHSTEIN & EBENSTEIN LLP    1\n",
      "EvaluMed                            1\n",
      "c.t. tech aid                       1\n",
      "Dr Jani Rollins MD                  1\n",
      "Kintetsu World Express USA Inc.     1\n",
      "dtype: int64\n"
     ]
    },
    {
     "data": {
      "text/plain": [
       "(163397,)"
      ]
     },
     "execution_count": 92,
     "metadata": {},
     "output_type": "execute_result"
    }
   ],
   "source": [
    "print (df.emp_title.value_counts().head())\n",
    "print (df.emp_title.value_counts().tail())\n",
    "df.emp_title.unique().shape"
   ]
  },
  {
   "cell_type": "markdown",
   "metadata": {},
   "source": [
    "There were 163397 unique entries among 338989 observations.It shows some suspiciously specific titles such as EvaluMed/c.t. tech aid. This predictor won't be meaningful and any relationship we might observe might be due to confounding relationships with other predictors like income, employment length."
>>>>>>> cc98d0a5d9de28dbcf50863d5aa1c5a1e393ea6d
   ]
  },
  {
   "cell_type": "code",
<<<<<<< HEAD
   "execution_count": null,
=======
   "execution_count": 6,
>>>>>>> cc98d0a5d9de28dbcf50863d5aa1c5a1e393ea6d
   "metadata": {
    "collapsed": true
   },
   "outputs": [],
<<<<<<< HEAD
   "source": []
  },
  {
   "cell_type": "markdown",
   "metadata": {},
   "source": [
    "# To continue the above: scatter plot of interest rate by different grade, subgrade, distribution plot"
=======
   "source": [
    "df.drop(['emp_title'],1, inplace=True)"
>>>>>>> cc98d0a5d9de28dbcf50863d5aa1c5a1e393ea6d
   ]
  },
  {
   "cell_type": "markdown",
   "metadata": {},
   "source": [
<<<<<<< HEAD
    "### Issue date column conversion\n",
    "issue_d is currently an object dtype however we don't want to convert it to a date, rather a scalar to describe the length of time( in /year unit) since the first day of the year 2016, since all the loans were issued in the year of 2016. "
=======
    "### Employment length\n",
    "emp_length may or may not be confounding with other predictors like income( a 2 year director may make more income than a 10 year tech aid), we can convert this column to int type and leave it for now, and we will examine further pair-wise correlation among predictors to determine if we remove it or not."
>>>>>>> cc98d0a5d9de28dbcf50863d5aa1c5a1e393ea6d
   ]
  },
  {
   "cell_type": "code",
   "execution_count": 7,
   "metadata": {
    "collapsed": true
   },
   "outputs": [],
   "source": [
<<<<<<< HEAD
    "from datetime import datetime\n",
    "# Read the column in the correct format\n",
    "temp = pd.to_datetime(df['issue_d'],format = '%b-%d')\n",
    "\n",
    "date_format = \"%m/%d/%Y\"\n",
    "dttoday = datetime.strptime('1/1/1900', date_format)\n",
    "\n",
    "d = np.zeros(len(temp))\n",
    "for i in range(len(temp)):\n",
    "    try:\n",
    "        d[i] = ((np.timedelta64(temp[i] - pd.Timestamp(dttoday),'D').astype(int))/365)\n",
    "        #break\n",
    "    except:\n",
    "        d[i] = ((np.timedelta64(temp[i] - pd.Timestamp(dttoday),'M').astype(int))/12)\n",
    "\n",
    "df['issue_d'] = d"
=======
    "df.replace('n/a', np.nan,inplace=True)\n",
    "df.emp_length.fillna(value=0,inplace=True)\n",
    "df['emp_length'].replace(to_replace='[^0-9]+', value='', inplace=True, regex=True)\n",
    "df['emp_length'] = df['emp_length'].astype(int)"
>>>>>>> cc98d0a5d9de28dbcf50863d5aa1c5a1e393ea6d
   ]
  },
  {
   "cell_type": "markdown",
   "metadata": {},
   "source": [
<<<<<<< HEAD
    "### Annual income outlier examination\n",
    "1. Let's examine if any outliers due to typos or other reasons of annual income existing in our data, if a borrower's annual income as claimed is millions per year but request to borrow a loan of several thousands, it would be suspicious record and may need to be drop that record\n",
    "2. From the statistics below, we see the maximum claimed annual income is $7.5 millions,which is certainly possible, \n",
    "highly implausible for a person seeking a loan of a few 10's of K dollars, i.e. implausible in this context."
=======
    "###Verification Status\n",
    "VERIFIED - income and VERIFIED - income source could potentially be the same criteria.For now we'll trust that these are indeed different methods or levels (perhaps even ordinal) of verification."
>>>>>>> cc98d0a5d9de28dbcf50863d5aa1c5a1e393ea6d
   ]
  },
  {
   "cell_type": "code",
<<<<<<< HEAD
   "execution_count": 86,
=======
   "execution_count": 95,
>>>>>>> cc98d0a5d9de28dbcf50863d5aa1c5a1e393ea6d
   "metadata": {
    "collapsed": false
   },
   "outputs": [
    {
     "data": {
      "text/plain": [
<<<<<<< HEAD
       "count     287238.000000\n",
       "mean       73151.464096\n",
       "std        56189.665971\n",
       "min         3000.000000\n",
       "25%        45000.000000\n",
       "50%        63000.000000\n",
       "75%        88078.750000\n",
       "max      7500000.000000\n",
       "Name: annual_inc, dtype: float64"
      ]
     },
     "execution_count": 86,
=======
       "VERIFIED - income           127040\n",
       "not verified                107873\n",
       "VERIFIED - income source    104076\n",
       "dtype: int64"
      ]
     },
     "execution_count": 95,
>>>>>>> cc98d0a5d9de28dbcf50863d5aa1c5a1e393ea6d
     "metadata": {},
     "output_type": "execute_result"
    }
   ],
   "source": [
<<<<<<< HEAD
    "df['annual_inc'].describe()"
=======
    "df.verification_status.value_counts()"
   ]
  },
  {
   "cell_type": "markdown",
   "metadata": {},
   "source": [
    "###Purpose loan category and loan title\n",
    "1. Loan purpose is self filled by borrower and we can use natural language processing technique to extract useful n-grams words and cluster them into different subgroups using unsupervised learning techniques, to keep this project not too sophisticated, for now we will drop this column \n",
    "2. Examing the loan category unique counts show they are state farm selected options.\n",
    "3. Examing the loan title unique counts show they are free text fields and we can drop this column."
>>>>>>> cc98d0a5d9de28dbcf50863d5aa1c5a1e393ea6d
   ]
  },
  {
   "cell_type": "code",
<<<<<<< HEAD
   "execution_count": 78,
=======
   "execution_count": 8,
>>>>>>> cc98d0a5d9de28dbcf50863d5aa1c5a1e393ea6d
   "metadata": {
    "collapsed": false
   },
   "outputs": [
    {
<<<<<<< HEAD
     "data": {
      "text/plain": [
       "count    338989.000000\n",
       "mean      14276.968353\n",
       "std        8252.264104\n",
       "min         500.000000\n",
       "25%        8000.000000\n",
       "50%       12000.000000\n",
       "75%       20000.000000\n",
       "max       35000.000000\n",
       "Name: loan_amt, dtype: float64"
      ]
     },
     "execution_count": 78,
     "metadata": {},
     "output_type": "execute_result"
    }
   ],
   "source": [
    "df['loan_amt'].describe()"
=======
     "name": "stdout",
     "output_type": "stream",
     "text": [
      "loan category unique counts:\n",
      "debt_consolidation    198226\n",
      "credit_card            75680\n",
      "home_improvement       19625\n",
      "other                  17154\n",
      "major_purchase          7312\n",
      "small_business          5359\n",
      "car                     4115\n",
      "medical                 3329\n",
      "moving                  2138\n",
      "wedding                 1934\n",
      "vacation                1848\n",
      "house                   1723\n",
      "educational              279\n",
      "renewable_energy         267\n",
      "dtype: int64\n",
      "\n",
      "loan title unique counts:\n",
      "Debt consolidation                          105698\n",
      "Credit card refinancing                      40499\n",
      "Debt Consolidation                           13275\n",
      "Home improvement                              9888\n",
      "Other                                         8188\n",
      "Consolidation                                 4504\n",
      "debt consolidation                            4075\n",
      "Debt Consolidation Loan                       3247\n",
      "Major purchase                                3010\n",
      "Business                                      2397\n",
      "Credit Card Consolidation                     1982\n",
      "consolidation                                 1827\n",
      "Personal Loan                                 1806\n",
      "Medical expenses                              1803\n",
      "Consolidation Loan                            1499\n",
      "Home Improvement                              1481\n",
      "Car financing                                 1373\n",
      "Credit Card Refinance                         1246\n",
      "Credit Card Payoff                            1177\n",
      "Vacation                                      1078\n",
      "Consolidate                                   1038\n",
      "Personal                                       979\n",
      "Moving and relocation                          947\n",
      "Loan                                           885\n",
      "Freedom                                        680\n",
      "Credit Card Loan                               669\n",
      "consolidate                                    656\n",
      "personal                                       637\n",
      "Home buying                                    615\n",
      "personal loan                                  614\n",
      "                                             ...  \n",
      "Consolidate debt single fixed payment            1\n",
      "Super Tub Spa                                    1\n",
      "great rate loan                                  1\n",
      "USBank/Citi Consolidation                        1\n",
      "Construction Truck                               1\n",
      "Taking my credit score to the next level         1\n",
      "Clear 3 cards to 1 payment                       1\n",
      "conloan1                                         1\n",
      "Monkey Off My Back Loan                          1\n",
      "Debt Paydown Accelerator                         1\n",
      "maybe enough left for short vacation             1\n",
      "Rid Credit To Breathe                            1\n",
      "consolidate-credit car                           1\n",
      "Credit Debt Demolition                           1\n",
      "Debt Consolidate/Simplification                  1\n",
      "lending money                                    1\n",
      "ConsolidationHelp                                1\n",
      "credit card pay                                  1\n",
      "Brooklyn Relocate                                1\n",
      "Wedding Debt / Credit Card Refinancing           1\n",
      "Moving/Down Payment on Home                      1\n",
      "Watch                                            1\n",
      "Closer To Freedom                                1\n",
      "workable                                         1\n",
      "Reduce payments.                                 1\n",
      "Wedding/Credit Card                              1\n",
      "Kitchen Update                                   1\n",
      "Flipflop Girl Wants To Be Debt-Free!!            1\n",
      "Refinance Debt Consolidation                     1\n",
      "Heating/Cooling                                  1\n",
      "dtype: int64\n"
     ]
    }
   ],
   "source": [
    "df.drop(['purpose'],1, inplace=True)\n",
    "print('loan category unique counts:')\n",
    "print (df.loan_cat.value_counts())\n",
    "print('\\nloan title unique counts:')\n",
    "print (df.loan_title.value_counts())"
   ]
  },
  {
   "cell_type": "code",
   "execution_count": 9,
   "metadata": {
    "collapsed": true
   },
   "outputs": [],
   "source": [
    "df.drop(['loan_title'],1, inplace=True)"
>>>>>>> cc98d0a5d9de28dbcf50863d5aa1c5a1e393ea6d
   ]
  },
  {
   "cell_type": "markdown",
   "metadata": {},
   "source": [
<<<<<<< HEAD
    "3 We found the borrowers who claim make more than 1 million a year requested loan amount up to 35k only, and many of the employment title like technician raises suspiciousness about the claim of income over 1 million."
=======
    "let's keep moving to the next slice of data"
>>>>>>> cc98d0a5d9de28dbcf50863d5aa1c5a1e393ea6d
   ]
  },
  {
   "cell_type": "code",
<<<<<<< HEAD
   "execution_count": 88,
   "metadata": {
    "collapsed": false,
    "scrolled": true
=======
   "execution_count": 111,
   "metadata": {
    "collapsed": false
>>>>>>> cc98d0a5d9de28dbcf50863d5aa1c5a1e393ea6d
   },
   "outputs": [
    {
     "data": {
      "text/html": [
       "<div>\n",
       "<table border=\"1\" class=\"dataframe\">\n",
       "  <thead>\n",
       "    <tr style=\"text-align: right;\">\n",
       "      <th></th>\n",
<<<<<<< HEAD
       "      <th>int_rate</th>\n",
       "      <th>loan_amt</th>\n",
       "      <th>funded_amt</th>\n",
       "      <th>funded_amt_inv</th>\n",
       "      <th>term</th>\n",
       "      <th>grade</th>\n",
       "      <th>subgrade</th>\n",
       "      <th>emp_title</th>\n",
       "      <th>emp_length</th>\n",
       "      <th>home_ownership</th>\n",
       "      <th>...</th>\n",
=======
       "      <th>zip_code</th>\n",
       "      <th>state</th>\n",
       "      <th>dti</th>\n",
       "      <th>delinq_2yrs</th>\n",
>>>>>>> cc98d0a5d9de28dbcf50863d5aa1c5a1e393ea6d
       "      <th>earliest_cr_line</th>\n",
       "      <th>inq_last_6mths</th>\n",
       "      <th>mths_since_last_deliq</th>\n",
       "      <th>mths_since_last_record</th>\n",
       "      <th>num_opencr_line</th>\n",
<<<<<<< HEAD
       "      <th>num_der_rec</th>\n",
       "      <th>revol_bal</th>\n",
       "      <th>revol_util</th>\n",
       "      <th>total_cr_line</th>\n",
       "      <th>init_list_status</th>\n",
=======
>>>>>>> cc98d0a5d9de28dbcf50863d5aa1c5a1e393ea6d
       "    </tr>\n",
       "  </thead>\n",
       "  <tbody>\n",
       "    <tr>\n",
<<<<<<< HEAD
       "      <th>626</th>\n",
       "      <td>0.1229</td>\n",
       "      <td>8450</td>\n",
       "      <td>8450</td>\n",
       "      <td>3747</td>\n",
       "      <td>36</td>\n",
       "      <td>C</td>\n",
       "      <td>C5</td>\n",
       "      <td>at&amp;t wireless</td>\n",
       "      <td>&lt; 1 year</td>\n",
       "      <td>RENT</td>\n",
       "      <td>...</td>\n",
       "      <td>Aug-04</td>\n",
       "      <td>1</td>\n",
       "      <td>0</td>\n",
       "      <td>0</td>\n",
       "      <td>7</td>\n",
       "      <td>0</td>\n",
       "      <td>8747</td>\n",
       "      <td>51.80%</td>\n",
       "      <td>11</td>\n",
       "      <td>f</td>\n",
       "    </tr>\n",
       "    <tr>\n",
       "      <th>4964</th>\n",
       "      <td>0.0774</td>\n",
       "      <td>6600</td>\n",
       "      <td>6600</td>\n",
       "      <td>6600</td>\n",
       "      <td>36</td>\n",
       "      <td>A</td>\n",
       "      <td>A3</td>\n",
       "      <td>Lockheed Martin</td>\n",
       "      <td>9 years</td>\n",
       "      <td>MORTGAGE</td>\n",
       "      <td>...</td>\n",
       "      <td>Nov-96</td>\n",
       "      <td>2</td>\n",
       "      <td>NaN</td>\n",
       "      <td>NaN</td>\n",
       "      <td>13</td>\n",
       "      <td>0</td>\n",
       "      <td>20</td>\n",
       "      <td>0.10%</td>\n",
       "      <td>36</td>\n",
       "      <td>f</td>\n",
       "    </tr>\n",
       "    <tr>\n",
       "      <th>5225</th>\n",
       "      <td>0.0740</td>\n",
       "      <td>6400</td>\n",
       "      <td>6400</td>\n",
       "      <td>6300</td>\n",
       "      <td>36</td>\n",
       "      <td>A</td>\n",
       "      <td>A2</td>\n",
       "      <td>Hewlett Packard</td>\n",
       "      <td>7 years</td>\n",
       "      <td>MORTGAGE</td>\n",
       "      <td>...</td>\n",
       "      <td>Dec-95</td>\n",
       "      <td>0</td>\n",
       "      <td>39</td>\n",
       "      <td>NaN</td>\n",
       "      <td>6</td>\n",
       "      <td>0</td>\n",
       "      <td>2926</td>\n",
       "      <td>13%</td>\n",
       "      <td>38</td>\n",
       "      <td>f</td>\n",
       "    </tr>\n",
       "    <tr>\n",
       "      <th>8902</th>\n",
       "      <td>0.1062</td>\n",
       "      <td>25000</td>\n",
       "      <td>15500</td>\n",
       "      <td>11430</td>\n",
       "      <td>60</td>\n",
       "      <td>B</td>\n",
       "      <td>B3</td>\n",
       "      <td>Lea Regional Hospital/Pecos Valley</td>\n",
       "      <td>3 years</td>\n",
       "      <td>MORTGAGE</td>\n",
       "      <td>...</td>\n",
       "      <td>Sep-99</td>\n",
       "      <td>3</td>\n",
       "      <td>NaN</td>\n",
       "      <td>NaN</td>\n",
       "      <td>12</td>\n",
       "      <td>0</td>\n",
       "      <td>3270</td>\n",
       "      <td>10.20%</td>\n",
       "      <td>32</td>\n",
       "      <td>f</td>\n",
       "    </tr>\n",
       "    <tr>\n",
       "      <th>9386</th>\n",
       "      <td>0.0788</td>\n",
       "      <td>4500</td>\n",
       "      <td>4500</td>\n",
       "      <td>4500</td>\n",
       "      <td>60</td>\n",
       "      <td>A</td>\n",
       "      <td>A5</td>\n",
       "      <td>St. John Lutheran Church</td>\n",
       "      <td>8 years</td>\n",
       "      <td>MORTGAGE</td>\n",
       "      <td>...</td>\n",
       "      <td>Nov-83</td>\n",
       "      <td>0</td>\n",
       "      <td>31</td>\n",
       "      <td>NaN</td>\n",
       "      <td>7</td>\n",
       "      <td>0</td>\n",
       "      <td>46337</td>\n",
       "      <td>1.90%</td>\n",
       "      <td>20</td>\n",
       "      <td>f</td>\n",
       "    </tr>\n",
       "    <tr>\n",
       "      <th>10660</th>\n",
       "      <td>0.1361</td>\n",
       "      <td>5600</td>\n",
       "      <td>5600</td>\n",
       "      <td>5600</td>\n",
       "      <td>60</td>\n",
       "      <td>C</td>\n",
       "      <td>C2</td>\n",
       "      <td>Dept of army</td>\n",
       "      <td>10+ years</td>\n",
       "      <td>MORTGAGE</td>\n",
       "      <td>...</td>\n",
       "      <td>Mar-97</td>\n",
       "      <td>0</td>\n",
       "      <td>4</td>\n",
       "      <td>NaN</td>\n",
       "      <td>6</td>\n",
       "      <td>0</td>\n",
       "      <td>11753</td>\n",
       "      <td>73.50%</td>\n",
       "      <td>25</td>\n",
       "      <td>f</td>\n",
       "    </tr>\n",
       "    <tr>\n",
       "      <th>11831</th>\n",
       "      <td>0.0751</td>\n",
       "      <td>12000</td>\n",
       "      <td>12000</td>\n",
       "      <td>12000</td>\n",
       "      <td>36</td>\n",
       "      <td>A</td>\n",
       "      <td>A4</td>\n",
       "      <td>TelSource Corp</td>\n",
       "      <td>1 year</td>\n",
       "      <td>MORTGAGE</td>\n",
       "      <td>...</td>\n",
       "      <td>Oct-89</td>\n",
       "      <td>2</td>\n",
       "      <td>NaN</td>\n",
       "      <td>NaN</td>\n",
       "      <td>12</td>\n",
       "      <td>0</td>\n",
       "      <td>26684</td>\n",
       "      <td>51.90%</td>\n",
       "      <td>26</td>\n",
       "      <td>f</td>\n",
       "    </tr>\n",
       "    <tr>\n",
       "      <th>13568</th>\n",
       "      <td>0.1520</td>\n",
       "      <td>25000</td>\n",
       "      <td>25000</td>\n",
       "      <td>24493</td>\n",
       "      <td>60</td>\n",
       "      <td>D</td>\n",
       "      <td>D4</td>\n",
       "      <td>Avis Budget Group</td>\n",
       "      <td>10+ years</td>\n",
       "      <td>RENT</td>\n",
       "      <td>...</td>\n",
       "      <td>Aug-98</td>\n",
       "      <td>1</td>\n",
       "      <td>NaN</td>\n",
       "      <td>NaN</td>\n",
       "      <td>4</td>\n",
       "      <td>0</td>\n",
       "      <td>11168</td>\n",
       "      <td>69.80%</td>\n",
       "      <td>12</td>\n",
       "      <td>f</td>\n",
       "    </tr>\n",
       "    <tr>\n",
       "      <th>14096</th>\n",
       "      <td>0.0617</td>\n",
       "      <td>1500</td>\n",
       "      <td>1500</td>\n",
       "      <td>1500</td>\n",
       "      <td>36</td>\n",
       "      <td>A</td>\n",
       "      <td>A3</td>\n",
       "      <td>Montgomery ISD</td>\n",
       "      <td>5 years</td>\n",
       "      <td>MORTGAGE</td>\n",
       "      <td>...</td>\n",
       "      <td>Jun-81</td>\n",
       "      <td>2</td>\n",
       "      <td>NaN</td>\n",
       "      <td>NaN</td>\n",
       "      <td>17</td>\n",
       "      <td>0</td>\n",
       "      <td>17396</td>\n",
       "      <td>59.60%</td>\n",
       "      <td>36</td>\n",
       "      <td>f</td>\n",
       "    </tr>\n",
       "    <tr>\n",
       "      <th>15948</th>\n",
       "      <td>0.0654</td>\n",
       "      <td>10000</td>\n",
       "      <td>10000</td>\n",
       "      <td>9500</td>\n",
       "      <td>36</td>\n",
       "      <td>A</td>\n",
       "      <td>A4</td>\n",
       "      <td>Convent of the Sacred Heart</td>\n",
       "      <td>10+ years</td>\n",
       "      <td>OWN</td>\n",
       "      <td>...</td>\n",
       "      <td>Jun-94</td>\n",
       "      <td>0</td>\n",
       "      <td>NaN</td>\n",
       "      <td>NaN</td>\n",
       "      <td>6</td>\n",
       "      <td>0</td>\n",
       "      <td>75706</td>\n",
       "      <td>49.10%</td>\n",
       "      <td>13</td>\n",
       "      <td>f</td>\n",
       "    </tr>\n",
       "    <tr>\n",
       "      <th>25199</th>\n",
       "      <td>0.1299</td>\n",
       "      <td>15775</td>\n",
       "      <td>15775</td>\n",
       "      <td>15750</td>\n",
       "      <td>60</td>\n",
       "      <td>C</td>\n",
       "      <td>C1</td>\n",
       "      <td>Stryker Instruments</td>\n",
       "      <td>2 years</td>\n",
       "      <td>NaN</td>\n",
       "      <td>...</td>\n",
       "      <td>May-97</td>\n",
       "      <td>0</td>\n",
       "      <td>NaN</td>\n",
       "      <td>NaN</td>\n",
       "      <td>10</td>\n",
       "      <td>0</td>\n",
       "      <td>48258</td>\n",
       "      <td>83.20%</td>\n",
       "      <td>28</td>\n",
       "      <td>f</td>\n",
       "    </tr>\n",
       "    <tr>\n",
       "      <th>28082</th>\n",
       "      <td>0.1427</td>\n",
       "      <td>12025</td>\n",
       "      <td>12025</td>\n",
       "      <td>12000</td>\n",
       "      <td>36</td>\n",
       "      <td>NaN</td>\n",
       "      <td>NaN</td>\n",
       "      <td>NYCDOE</td>\n",
       "      <td>10+ years</td>\n",
       "      <td>RENT</td>\n",
       "      <td>...</td>\n",
       "      <td>Dec-87</td>\n",
       "      <td>0</td>\n",
       "      <td>46</td>\n",
       "      <td>NaN</td>\n",
       "      <td>9</td>\n",
       "      <td>0</td>\n",
       "      <td>49208</td>\n",
       "      <td>85.70%</td>\n",
       "      <td>30</td>\n",
       "      <td>f</td>\n",
       "    </tr>\n",
       "    <tr>\n",
       "      <th>39404</th>\n",
       "      <td>0.2100</td>\n",
       "      <td>24000</td>\n",
       "      <td>24000</td>\n",
       "      <td>24000</td>\n",
       "      <td>60</td>\n",
       "      <td>E</td>\n",
       "      <td>E2</td>\n",
       "      <td>sfpd</td>\n",
       "      <td>7 years</td>\n",
       "      <td>NaN</td>\n",
       "      <td>...</td>\n",
       "      <td>Aug-01</td>\n",
       "      <td>0</td>\n",
       "      <td>NaN</td>\n",
       "      <td>NaN</td>\n",
       "      <td>20</td>\n",
       "      <td>0</td>\n",
       "      <td>18544</td>\n",
       "      <td>77%</td>\n",
       "      <td>32</td>\n",
       "      <td>f</td>\n",
       "    </tr>\n",
       "    <tr>\n",
       "      <th>47017</th>\n",
       "      <td>0.0762</td>\n",
       "      <td>33000</td>\n",
       "      <td>33000</td>\n",
       "      <td>33000</td>\n",
       "      <td>36</td>\n",
       "      <td>NaN</td>\n",
       "      <td>NaN</td>\n",
       "      <td>Fiam Pack corp</td>\n",
       "      <td>10+ years</td>\n",
       "      <td>NaN</td>\n",
       "      <td>...</td>\n",
       "      <td>Apr-88</td>\n",
       "      <td>0</td>\n",
       "      <td>NaN</td>\n",
       "      <td>NaN</td>\n",
       "      <td>7</td>\n",
       "      <td>0</td>\n",
       "      <td>95435</td>\n",
       "      <td>1.90%</td>\n",
       "      <td>26</td>\n",
       "      <td>f</td>\n",
       "    </tr>\n",
       "    <tr>\n",
       "      <th>62457</th>\n",
       "      <td>0.1212</td>\n",
       "      <td>35000</td>\n",
       "      <td>35000</td>\n",
       "      <td>35000</td>\n",
       "      <td>36</td>\n",
       "      <td>B</td>\n",
       "      <td>B3</td>\n",
       "      <td>Highbridge Capital</td>\n",
       "      <td>5 years</td>\n",
       "      <td>MORTGAGE</td>\n",
       "      <td>...</td>\n",
       "      <td>Jan-87</td>\n",
       "      <td>2</td>\n",
       "      <td>71</td>\n",
       "      <td>NaN</td>\n",
       "      <td>5</td>\n",
       "      <td>0</td>\n",
       "      <td>20228</td>\n",
       "      <td>47.80%</td>\n",
       "      <td>11</td>\n",
       "      <td>f</td>\n",
       "    </tr>\n",
       "    <tr>\n",
       "      <th>78373</th>\n",
       "      <td>0.1531</td>\n",
       "      <td>35000</td>\n",
       "      <td>35000</td>\n",
       "      <td>35000</td>\n",
       "      <td>36</td>\n",
       "      <td>NaN</td>\n",
       "      <td>NaN</td>\n",
       "      <td>VISIUM asset management</td>\n",
       "      <td>10+ years</td>\n",
       "      <td>MORTGAGE</td>\n",
       "      <td>...</td>\n",
       "      <td>Apr-94</td>\n",
       "      <td>2</td>\n",
       "      <td>12</td>\n",
       "      <td>NaN</td>\n",
       "      <td>13</td>\n",
       "      <td>0</td>\n",
       "      <td>975800</td>\n",
       "      <td>0%</td>\n",
       "      <td>36</td>\n",
       "      <td>w</td>\n",
       "    </tr>\n",
       "    <tr>\n",
       "      <th>79072</th>\n",
       "      <td>0.1114</td>\n",
       "      <td>30000</td>\n",
       "      <td>30000</td>\n",
       "      <td>30000</td>\n",
       "      <td>36</td>\n",
       "      <td>B</td>\n",
       "      <td>B2</td>\n",
       "      <td>Murray's Cheese</td>\n",
       "      <td>6 years</td>\n",
       "      <td>OWN</td>\n",
       "      <td>...</td>\n",
       "      <td>Apr-04</td>\n",
       "      <td>0</td>\n",
       "      <td>NaN</td>\n",
       "      <td>NaN</td>\n",
       "      <td>16</td>\n",
       "      <td>0</td>\n",
       "      <td>81138</td>\n",
       "      <td>78.20%</td>\n",
       "      <td>22</td>\n",
       "      <td>f</td>\n",
       "    </tr>\n",
       "    <tr>\n",
       "      <th>79455</th>\n",
       "      <td>0.1311</td>\n",
       "      <td>18000</td>\n",
       "      <td>18000</td>\n",
       "      <td>18000</td>\n",
       "      <td>36</td>\n",
       "      <td>B</td>\n",
       "      <td>B4</td>\n",
       "      <td>Argus Health Stystems, Inc</td>\n",
       "      <td>7 years</td>\n",
       "      <td>MORTGAGE</td>\n",
       "      <td>...</td>\n",
       "      <td>Jul-00</td>\n",
       "      <td>5</td>\n",
       "      <td>NaN</td>\n",
       "      <td>NaN</td>\n",
       "      <td>10</td>\n",
       "      <td>0</td>\n",
       "      <td>17148</td>\n",
       "      <td>50.10%</td>\n",
       "      <td>29</td>\n",
       "      <td>w</td>\n",
       "    </tr>\n",
       "    <tr>\n",
       "      <th>80270</th>\n",
       "      <td>0.1311</td>\n",
       "      <td>14825</td>\n",
       "      <td>14825</td>\n",
       "      <td>14825</td>\n",
       "      <td>36</td>\n",
       "      <td>B</td>\n",
       "      <td>B4</td>\n",
       "      <td>Us postal service</td>\n",
       "      <td>10+ years</td>\n",
       "      <td>MORTGAGE</td>\n",
       "      <td>...</td>\n",
       "      <td>Mar-96</td>\n",
       "      <td>2</td>\n",
       "      <td>26</td>\n",
       "      <td>NaN</td>\n",
       "      <td>17</td>\n",
       "      <td>0</td>\n",
       "      <td>11351</td>\n",
       "      <td>70.90%</td>\n",
       "      <td>31</td>\n",
       "      <td>w</td>\n",
       "    </tr>\n",
       "    <tr>\n",
       "      <th>86014</th>\n",
       "      <td>0.0890</td>\n",
       "      <td>21250</td>\n",
       "      <td>21250</td>\n",
       "      <td>21075</td>\n",
       "      <td>36</td>\n",
       "      <td>A</td>\n",
       "      <td>A5</td>\n",
       "      <td>UPS</td>\n",
       "      <td>10+ years</td>\n",
       "      <td>NaN</td>\n",
       "      <td>...</td>\n",
       "      <td>Apr-94</td>\n",
       "      <td>0</td>\n",
       "      <td>NaN</td>\n",
       "      <td>NaN</td>\n",
       "      <td>13</td>\n",
       "      <td>0</td>\n",
       "      <td>12367</td>\n",
       "      <td>59.20%</td>\n",
       "      <td>31</td>\n",
       "      <td>f</td>\n",
       "    </tr>\n",
       "    <tr>\n",
       "      <th>88221</th>\n",
       "      <td>0.1580</td>\n",
       "      <td>35000</td>\n",
       "      <td>35000</td>\n",
       "      <td>34950</td>\n",
       "      <td>60</td>\n",
       "      <td>C</td>\n",
       "      <td>C3</td>\n",
       "      <td>R Markey &amp;Sons Inc</td>\n",
       "      <td>5 years</td>\n",
       "      <td>MORTGAGE</td>\n",
       "      <td>...</td>\n",
       "      <td>Dec-91</td>\n",
       "      <td>2</td>\n",
       "      <td>NaN</td>\n",
       "      <td>NaN</td>\n",
       "      <td>14</td>\n",
       "      <td>0</td>\n",
       "      <td>694615</td>\n",
       "      <td>0%</td>\n",
       "      <td>48</td>\n",
       "      <td>f</td>\n",
       "    </tr>\n",
       "    <tr>\n",
       "      <th>90290</th>\n",
       "      <td>0.0762</td>\n",
       "      <td>21000</td>\n",
       "      <td>21000</td>\n",
       "      <td>21000</td>\n",
       "      <td>36</td>\n",
       "      <td>A</td>\n",
       "      <td>A3</td>\n",
       "      <td>Texas A&amp;M university-Kingsville</td>\n",
       "      <td>10+ years</td>\n",
       "      <td>MORTGAGE</td>\n",
       "      <td>...</td>\n",
       "      <td>Sep-93</td>\n",
       "      <td>1</td>\n",
       "      <td>62</td>\n",
       "      <td>NaN</td>\n",
       "      <td>15</td>\n",
       "      <td>0</td>\n",
       "      <td>15654</td>\n",
       "      <td>68.10%</td>\n",
       "      <td>31</td>\n",
       "      <td>w</td>\n",
       "    </tr>\n",
       "    <tr>\n",
       "      <th>107022</th>\n",
       "      <td>0.0603</td>\n",
       "      <td>21000</td>\n",
       "      <td>21000</td>\n",
       "      <td>21000</td>\n",
       "      <td>36</td>\n",
       "      <td>NaN</td>\n",
       "      <td>NaN</td>\n",
       "      <td>RBC Capital Markets</td>\n",
       "      <td>3 years</td>\n",
       "      <td>RENT</td>\n",
       "      <td>...</td>\n",
       "      <td>Jul-00</td>\n",
       "      <td>1</td>\n",
       "      <td>NaN</td>\n",
       "      <td>NaN</td>\n",
       "      <td>12</td>\n",
       "      <td>0</td>\n",
       "      <td>1063</td>\n",
       "      <td>2.90%</td>\n",
       "      <td>29</td>\n",
       "      <td>w</td>\n",
       "    </tr>\n",
       "    <tr>\n",
       "      <th>107644</th>\n",
       "      <td>0.1727</td>\n",
       "      <td>35000</td>\n",
       "      <td>35000</td>\n",
       "      <td>35000</td>\n",
       "      <td>36</td>\n",
       "      <td>C</td>\n",
       "      <td>C5</td>\n",
       "      <td>Harris C, Siskind, P.A.</td>\n",
       "      <td>5 years</td>\n",
       "      <td>MORTGAGE</td>\n",
       "      <td>...</td>\n",
       "      <td>Jun-87</td>\n",
       "      <td>3</td>\n",
       "      <td>16</td>\n",
       "      <td>NaN</td>\n",
       "      <td>13</td>\n",
       "      <td>0</td>\n",
       "      <td>103537</td>\n",
       "      <td>91%</td>\n",
       "      <td>43</td>\n",
       "      <td>w</td>\n",
       "    </tr>\n",
       "    <tr>\n",
       "      <th>165661</th>\n",
       "      <td>0.1952</td>\n",
       "      <td>15000</td>\n",
       "      <td>15000</td>\n",
       "      <td>15000</td>\n",
       "      <td>36</td>\n",
       "      <td>D</td>\n",
       "      <td>D4</td>\n",
       "      <td>Group Supervisor</td>\n",
       "      <td>10+ years</td>\n",
       "      <td>MORTGAGE</td>\n",
       "      <td>...</td>\n",
       "      <td>Sep-94</td>\n",
       "      <td>1</td>\n",
       "      <td>4</td>\n",
       "      <td>NaN</td>\n",
       "      <td>20</td>\n",
       "      <td>0</td>\n",
       "      <td>31363</td>\n",
       "      <td>70.50%</td>\n",
       "      <td>47</td>\n",
       "      <td>f</td>\n",
       "    </tr>\n",
       "    <tr>\n",
       "      <th>176362</th>\n",
       "      <td>0.0890</td>\n",
       "      <td>35000</td>\n",
       "      <td>35000</td>\n",
       "      <td>35000</td>\n",
       "      <td>36</td>\n",
       "      <td>A</td>\n",
       "      <td>A5</td>\n",
       "      <td>Sales</td>\n",
       "      <td>10+ years</td>\n",
       "      <td>MORTGAGE</td>\n",
       "      <td>...</td>\n",
       "      <td>Jul-01</td>\n",
       "      <td>1</td>\n",
       "      <td>NaN</td>\n",
       "      <td>NaN</td>\n",
       "      <td>16</td>\n",
       "      <td>0</td>\n",
       "      <td>2458</td>\n",
       "      <td>2.70%</td>\n",
       "      <td>23</td>\n",
       "      <td>f</td>\n",
       "    </tr>\n",
       "    <tr>\n",
       "      <th>197480</th>\n",
       "      <td>0.1447</td>\n",
       "      <td>35000</td>\n",
       "      <td>35000</td>\n",
       "      <td>34950</td>\n",
       "      <td>36</td>\n",
       "      <td>C</td>\n",
       "      <td>C2</td>\n",
       "      <td>President, Alternative and Late night</td>\n",
       "      <td>5 years</td>\n",
       "      <td>NaN</td>\n",
       "      <td>...</td>\n",
       "      <td>Jul-04</td>\n",
       "      <td>0</td>\n",
       "      <td>44</td>\n",
       "      <td>NaN</td>\n",
       "      <td>9</td>\n",
       "      <td>0</td>\n",
       "      <td>3939</td>\n",
       "      <td>48.60%</td>\n",
       "      <td>24</td>\n",
       "      <td>f</td>\n",
       "    </tr>\n",
       "    <tr>\n",
       "      <th>208169</th>\n",
       "      <td>0.0762</td>\n",
       "      <td>20000</td>\n",
       "      <td>20000</td>\n",
       "      <td>20000</td>\n",
       "      <td>36</td>\n",
       "      <td>A</td>\n",
       "      <td>A3</td>\n",
       "      <td>Registered Nurse</td>\n",
       "      <td>5 years</td>\n",
       "      <td>RENT</td>\n",
       "      <td>...</td>\n",
       "      <td>Apr-93</td>\n",
       "      <td>0</td>\n",
       "      <td>45</td>\n",
       "      <td>NaN</td>\n",
       "      <td>10</td>\n",
       "      <td>0</td>\n",
       "      <td>24494</td>\n",
       "      <td>50.70%</td>\n",
       "      <td>24</td>\n",
       "      <td>w</td>\n",
       "    </tr>\n",
       "    <tr>\n",
       "      <th>237807</th>\n",
       "      <td>0.1947</td>\n",
       "      <td>31175</td>\n",
       "      <td>31175</td>\n",
       "      <td>31175</td>\n",
       "      <td>36</td>\n",
       "      <td>D</td>\n",
       "      <td>D5</td>\n",
       "      <td>ceo</td>\n",
       "      <td>10+ years</td>\n",
       "      <td>MORTGAGE</td>\n",
       "      <td>...</td>\n",
       "      <td>Nov-00</td>\n",
       "      <td>1</td>\n",
       "      <td>NaN</td>\n",
       "      <td>14</td>\n",
       "      <td>12</td>\n",
       "      <td>1</td>\n",
       "      <td>8103</td>\n",
       "      <td>23.20%</td>\n",
       "      <td>34</td>\n",
       "      <td>w</td>\n",
       "    </tr>\n",
       "    <tr>\n",
       "      <th>277471</th>\n",
       "      <td>0.1299</td>\n",
       "      <td>20000</td>\n",
       "      <td>20000</td>\n",
       "      <td>20000</td>\n",
       "      <td>60</td>\n",
       "      <td>C</td>\n",
       "      <td>C1</td>\n",
       "      <td>test technician</td>\n",
       "      <td>10+ years</td>\n",
       "      <td>NaN</td>\n",
       "      <td>...</td>\n",
       "      <td>Jan-06</td>\n",
       "      <td>0</td>\n",
       "      <td>NaN</td>\n",
       "      <td>NaN</td>\n",
       "      <td>11</td>\n",
       "      <td>0</td>\n",
       "      <td>15429</td>\n",
       "      <td>36%</td>\n",
       "      <td>19</td>\n",
       "      <td>f</td>\n",
       "    </tr>\n",
       "    <tr>\n",
       "      <th>298406</th>\n",
       "      <td>0.0769</td>\n",
       "      <td>28000</td>\n",
       "      <td>28000</td>\n",
       "      <td>28000</td>\n",
       "      <td>36</td>\n",
       "      <td>A</td>\n",
       "      <td>A4</td>\n",
       "      <td>Managing Director</td>\n",
       "      <td>4 years</td>\n",
       "      <td>MORTGAGE</td>\n",
       "      <td>...</td>\n",
       "      <td>Mar-91</td>\n",
       "      <td>1</td>\n",
       "      <td>NaN</td>\n",
       "      <td>NaN</td>\n",
       "      <td>12</td>\n",
       "      <td>0</td>\n",
       "      <td>840548</td>\n",
       "      <td>66.30%</td>\n",
       "      <td>28</td>\n",
       "      <td>f</td>\n",
       "    </tr>\n",
       "    <tr>\n",
       "      <th>305110</th>\n",
       "      <td>0.1757</td>\n",
       "      <td>28000</td>\n",
       "      <td>28000</td>\n",
       "      <td>28000</td>\n",
       "      <td>36</td>\n",
       "      <td>NaN</td>\n",
       "      <td>NaN</td>\n",
       "      <td>OWNER/OPERATOR</td>\n",
       "      <td>10+ years</td>\n",
       "      <td>NaN</td>\n",
       "      <td>...</td>\n",
       "      <td>Jun-00</td>\n",
       "      <td>1</td>\n",
       "      <td>7</td>\n",
       "      <td>10</td>\n",
       "      <td>8</td>\n",
       "      <td>6</td>\n",
       "      <td>12974</td>\n",
       "      <td>60.10%</td>\n",
       "      <td>15</td>\n",
       "      <td>f</td>\n",
       "    </tr>\n",
       "    <tr>\n",
       "      <th>309791</th>\n",
       "      <td>0.1449</td>\n",
       "      <td>8000</td>\n",
       "      <td>8000</td>\n",
       "      <td>8000</td>\n",
       "      <td>36</td>\n",
       "      <td>C</td>\n",
       "      <td>C4</td>\n",
       "      <td>Sr. Eng. Project Mgr.</td>\n",
       "      <td>10+ years</td>\n",
       "      <td>RENT</td>\n",
       "      <td>...</td>\n",
       "      <td>Mar-95</td>\n",
       "      <td>1</td>\n",
       "      <td>19</td>\n",
       "      <td>NaN</td>\n",
       "      <td>9</td>\n",
       "      <td>0</td>\n",
       "      <td>4666</td>\n",
       "      <td>12.40%</td>\n",
       "      <td>21</td>\n",
       "      <td>w</td>\n",
       "    </tr>\n",
       "    <tr>\n",
       "      <th>316111</th>\n",
       "      <td>0.1952</td>\n",
       "      <td>15000</td>\n",
       "      <td>15000</td>\n",
       "      <td>15000</td>\n",
       "      <td>36</td>\n",
       "      <td>E</td>\n",
       "      <td>E2</td>\n",
       "      <td>Sales &amp; service rep</td>\n",
       "      <td>10+ years</td>\n",
       "      <td>MORTGAGE</td>\n",
       "      <td>...</td>\n",
       "      <td>Jan-88</td>\n",
       "      <td>5</td>\n",
       "      <td>17</td>\n",
       "      <td>82</td>\n",
       "      <td>29</td>\n",
       "      <td>1</td>\n",
       "      <td>9872</td>\n",
       "      <td>27.30%</td>\n",
       "      <td>42</td>\n",
       "      <td>f</td>\n",
       "    </tr>\n",
       "    <tr>\n",
       "      <th>324303</th>\n",
       "      <td>0.1561</td>\n",
       "      <td>35000</td>\n",
       "      <td>35000</td>\n",
       "      <td>35000</td>\n",
       "      <td>60</td>\n",
       "      <td>D</td>\n",
       "      <td>D1</td>\n",
       "      <td>Managing Director</td>\n",
       "      <td>4 years</td>\n",
       "      <td>MORTGAGE</td>\n",
       "      <td>...</td>\n",
       "      <td>Dec-99</td>\n",
       "      <td>0</td>\n",
       "      <td>NaN</td>\n",
       "      <td>NaN</td>\n",
       "      <td>10</td>\n",
       "      <td>0</td>\n",
       "      <td>46663</td>\n",
       "      <td>64.20%</td>\n",
       "      <td>15</td>\n",
       "      <td>w</td>\n",
       "    </tr>\n",
       "    <tr>\n",
       "      <th>330460</th>\n",
       "      <td>0.0769</td>\n",
       "      <td>15600</td>\n",
       "      <td>15600</td>\n",
       "      <td>15600</td>\n",
       "      <td>36</td>\n",
       "      <td>A</td>\n",
       "      <td>A4</td>\n",
       "      <td>quality lead</td>\n",
       "      <td>8 years</td>\n",
       "      <td>MORTGAGE</td>\n",
       "      <td>...</td>\n",
       "      <td>Jul-05</td>\n",
       "      <td>0</td>\n",
       "      <td>4</td>\n",
       "      <td>NaN</td>\n",
       "      <td>13</td>\n",
       "      <td>0</td>\n",
       "      <td>9015</td>\n",
       "      <td>26.10%</td>\n",
       "      <td>26</td>\n",
       "      <td>f</td>\n",
       "    </tr>\n",
       "    <tr>\n",
       "      <th>330652</th>\n",
       "      <td>0.0603</td>\n",
       "      <td>28000</td>\n",
       "      <td>28000</td>\n",
       "      <td>28000</td>\n",
       "      <td>36</td>\n",
       "      <td>A</td>\n",
       "      <td>A1</td>\n",
       "      <td>Portfolio Manager</td>\n",
       "      <td>10+ years</td>\n",
       "      <td>MORTGAGE</td>\n",
       "      <td>...</td>\n",
       "      <td>Jul-98</td>\n",
       "      <td>0</td>\n",
       "      <td>NaN</td>\n",
       "      <td>NaN</td>\n",
       "      <td>6</td>\n",
       "      <td>0</td>\n",
       "      <td>62740</td>\n",
       "      <td>39.40%</td>\n",
       "      <td>14</td>\n",
       "      <td>f</td>\n",
       "    </tr>\n",
       "  </tbody>\n",
       "</table>\n",
       "<p>37 rows × 30 columns</p>\n",
       "</div>"
      ],
      "text/plain": [
       "        int_rate  loan_amt  funded_amt  funded_amt_inv  term grade subgrade  \\\n",
       "626       0.1229      8450        8450            3747    36     C       C5   \n",
       "4964      0.0774      6600        6600            6600    36     A       A3   \n",
       "5225      0.0740      6400        6400            6300    36     A       A2   \n",
       "8902      0.1062     25000       15500           11430    60     B       B3   \n",
       "9386      0.0788      4500        4500            4500    60     A       A5   \n",
       "10660     0.1361      5600        5600            5600    60     C       C2   \n",
       "11831     0.0751     12000       12000           12000    36     A       A4   \n",
       "13568     0.1520     25000       25000           24493    60     D       D4   \n",
       "14096     0.0617      1500        1500            1500    36     A       A3   \n",
       "15948     0.0654     10000       10000            9500    36     A       A4   \n",
       "25199     0.1299     15775       15775           15750    60     C       C1   \n",
       "28082     0.1427     12025       12025           12000    36   NaN      NaN   \n",
       "39404     0.2100     24000       24000           24000    60     E       E2   \n",
       "47017     0.0762     33000       33000           33000    36   NaN      NaN   \n",
       "62457     0.1212     35000       35000           35000    36     B       B3   \n",
       "78373     0.1531     35000       35000           35000    36   NaN      NaN   \n",
       "79072     0.1114     30000       30000           30000    36     B       B2   \n",
       "79455     0.1311     18000       18000           18000    36     B       B4   \n",
       "80270     0.1311     14825       14825           14825    36     B       B4   \n",
       "86014     0.0890     21250       21250           21075    36     A       A5   \n",
       "88221     0.1580     35000       35000           34950    60     C       C3   \n",
       "90290     0.0762     21000       21000           21000    36     A       A3   \n",
       "107022    0.0603     21000       21000           21000    36   NaN      NaN   \n",
       "107644    0.1727     35000       35000           35000    36     C       C5   \n",
       "165661    0.1952     15000       15000           15000    36     D       D4   \n",
       "176362    0.0890     35000       35000           35000    36     A       A5   \n",
       "197480    0.1447     35000       35000           34950    36     C       C2   \n",
       "208169    0.0762     20000       20000           20000    36     A       A3   \n",
       "237807    0.1947     31175       31175           31175    36     D       D5   \n",
       "277471    0.1299     20000       20000           20000    60     C       C1   \n",
       "298406    0.0769     28000       28000           28000    36     A       A4   \n",
       "305110    0.1757     28000       28000           28000    36   NaN      NaN   \n",
       "309791    0.1449      8000        8000            8000    36     C       C4   \n",
       "316111    0.1952     15000       15000           15000    36     E       E2   \n",
       "324303    0.1561     35000       35000           35000    60     D       D1   \n",
       "330460    0.0769     15600       15600           15600    36     A       A4   \n",
       "330652    0.0603     28000       28000           28000    36     A       A1   \n",
       "\n",
       "                                    emp_title emp_length home_ownership  \\\n",
       "626                             at&t wireless   < 1 year           RENT   \n",
       "4964                          Lockheed Martin    9 years       MORTGAGE   \n",
       "5225                          Hewlett Packard    7 years       MORTGAGE   \n",
       "8902       Lea Regional Hospital/Pecos Valley    3 years       MORTGAGE   \n",
       "9386                 St. John Lutheran Church    8 years       MORTGAGE   \n",
       "10660                            Dept of army  10+ years       MORTGAGE   \n",
       "11831                          TelSource Corp     1 year       MORTGAGE   \n",
       "13568                       Avis Budget Group  10+ years           RENT   \n",
       "14096                          Montgomery ISD    5 years       MORTGAGE   \n",
       "15948             Convent of the Sacred Heart  10+ years            OWN   \n",
       "25199                     Stryker Instruments    2 years            NaN   \n",
       "28082                                  NYCDOE  10+ years           RENT   \n",
       "39404                                    sfpd    7 years            NaN   \n",
       "47017                          Fiam Pack corp  10+ years            NaN   \n",
       "62457                      Highbridge Capital    5 years       MORTGAGE   \n",
       "78373                 VISIUM asset management  10+ years       MORTGAGE   \n",
       "79072                         Murray's Cheese    6 years            OWN   \n",
       "79455              Argus Health Stystems, Inc    7 years       MORTGAGE   \n",
       "80270                       Us postal service  10+ years       MORTGAGE   \n",
       "86014                                     UPS  10+ years            NaN   \n",
       "88221                      R Markey &Sons Inc    5 years       MORTGAGE   \n",
       "90290         Texas A&M university-Kingsville  10+ years       MORTGAGE   \n",
       "107022                    RBC Capital Markets    3 years           RENT   \n",
       "107644                Harris C, Siskind, P.A.    5 years       MORTGAGE   \n",
       "165661                       Group Supervisor  10+ years       MORTGAGE   \n",
       "176362                                  Sales  10+ years       MORTGAGE   \n",
       "197480  President, Alternative and Late night    5 years            NaN   \n",
       "208169                       Registered Nurse    5 years           RENT   \n",
       "237807                                    ceo  10+ years       MORTGAGE   \n",
       "277471                        test technician  10+ years            NaN   \n",
       "298406                     Managing Director     4 years       MORTGAGE   \n",
       "305110                         OWNER/OPERATOR  10+ years            NaN   \n",
       "309791                  Sr. Eng. Project Mgr.  10+ years           RENT   \n",
       "316111                    Sales & service rep  10+ years       MORTGAGE   \n",
       "324303                      Managing Director    4 years       MORTGAGE   \n",
       "330460                           quality lead    8 years       MORTGAGE   \n",
       "330652                      Portfolio Manager  10+ years       MORTGAGE   \n",
       "\n",
       "              ...         earliest_cr_line inq_last_6mths  \\\n",
       "626           ...                   Aug-04              1   \n",
       "4964          ...                   Nov-96              2   \n",
       "5225          ...                   Dec-95              0   \n",
       "8902          ...                   Sep-99              3   \n",
       "9386          ...                   Nov-83              0   \n",
       "10660         ...                   Mar-97              0   \n",
       "11831         ...                   Oct-89              2   \n",
       "13568         ...                   Aug-98              1   \n",
       "14096         ...                   Jun-81              2   \n",
       "15948         ...                   Jun-94              0   \n",
       "25199         ...                   May-97              0   \n",
       "28082         ...                   Dec-87              0   \n",
       "39404         ...                   Aug-01              0   \n",
       "47017         ...                   Apr-88              0   \n",
       "62457         ...                   Jan-87              2   \n",
       "78373         ...                   Apr-94              2   \n",
       "79072         ...                   Apr-04              0   \n",
       "79455         ...                   Jul-00              5   \n",
       "80270         ...                   Mar-96              2   \n",
       "86014         ...                   Apr-94              0   \n",
       "88221         ...                   Dec-91              2   \n",
       "90290         ...                   Sep-93              1   \n",
       "107022        ...                   Jul-00              1   \n",
       "107644        ...                   Jun-87              3   \n",
       "165661        ...                   Sep-94              1   \n",
       "176362        ...                   Jul-01              1   \n",
       "197480        ...                   Jul-04              0   \n",
       "208169        ...                   Apr-93              0   \n",
       "237807        ...                   Nov-00              1   \n",
       "277471        ...                   Jan-06              0   \n",
       "298406        ...                   Mar-91              1   \n",
       "305110        ...                   Jun-00              1   \n",
       "309791        ...                   Mar-95              1   \n",
       "316111        ...                   Jan-88              5   \n",
       "324303        ...                   Dec-99              0   \n",
       "330460        ...                   Jul-05              0   \n",
       "330652        ...                   Jul-98              0   \n",
       "\n",
       "        mths_since_last_deliq mths_since_last_record num_opencr_line  \\\n",
       "626                         0                      0               7   \n",
       "4964                      NaN                    NaN              13   \n",
       "5225                       39                    NaN               6   \n",
       "8902                      NaN                    NaN              12   \n",
       "9386                       31                    NaN               7   \n",
       "10660                       4                    NaN               6   \n",
       "11831                     NaN                    NaN              12   \n",
       "13568                     NaN                    NaN               4   \n",
       "14096                     NaN                    NaN              17   \n",
       "15948                     NaN                    NaN               6   \n",
       "25199                     NaN                    NaN              10   \n",
       "28082                      46                    NaN               9   \n",
       "39404                     NaN                    NaN              20   \n",
       "47017                     NaN                    NaN               7   \n",
       "62457                      71                    NaN               5   \n",
       "78373                      12                    NaN              13   \n",
       "79072                     NaN                    NaN              16   \n",
       "79455                     NaN                    NaN              10   \n",
       "80270                      26                    NaN              17   \n",
       "86014                     NaN                    NaN              13   \n",
       "88221                     NaN                    NaN              14   \n",
       "90290                      62                    NaN              15   \n",
       "107022                    NaN                    NaN              12   \n",
       "107644                     16                    NaN              13   \n",
       "165661                      4                    NaN              20   \n",
       "176362                    NaN                    NaN              16   \n",
       "197480                     44                    NaN               9   \n",
       "208169                     45                    NaN              10   \n",
       "237807                    NaN                     14              12   \n",
       "277471                    NaN                    NaN              11   \n",
       "298406                    NaN                    NaN              12   \n",
       "305110                      7                     10               8   \n",
       "309791                     19                    NaN               9   \n",
       "316111                     17                     82              29   \n",
       "324303                    NaN                    NaN              10   \n",
       "330460                      4                    NaN              13   \n",
       "330652                    NaN                    NaN               6   \n",
       "\n",
       "       num_der_rec revol_bal revol_util  total_cr_line  init_list_status  \n",
       "626              0      8747     51.80%             11                 f  \n",
       "4964             0        20      0.10%             36                 f  \n",
       "5225             0      2926        13%             38                 f  \n",
       "8902             0      3270     10.20%             32                 f  \n",
       "9386             0     46337      1.90%             20                 f  \n",
       "10660            0     11753     73.50%             25                 f  \n",
       "11831            0     26684     51.90%             26                 f  \n",
       "13568            0     11168     69.80%             12                 f  \n",
       "14096            0     17396     59.60%             36                 f  \n",
       "15948            0     75706     49.10%             13                 f  \n",
       "25199            0     48258     83.20%             28                 f  \n",
       "28082            0     49208     85.70%             30                 f  \n",
       "39404            0     18544        77%             32                 f  \n",
       "47017            0     95435      1.90%             26                 f  \n",
       "62457            0     20228     47.80%             11                 f  \n",
       "78373            0    975800         0%             36                 w  \n",
       "79072            0     81138     78.20%             22                 f  \n",
       "79455            0     17148     50.10%             29                 w  \n",
       "80270            0     11351     70.90%             31                 w  \n",
       "86014            0     12367     59.20%             31                 f  \n",
       "88221            0    694615         0%             48                 f  \n",
       "90290            0     15654     68.10%             31                 w  \n",
       "107022           0      1063      2.90%             29                 w  \n",
       "107644           0    103537        91%             43                 w  \n",
       "165661           0     31363     70.50%             47                 f  \n",
       "176362           0      2458      2.70%             23                 f  \n",
       "197480           0      3939     48.60%             24                 f  \n",
       "208169           0     24494     50.70%             24                 w  \n",
       "237807           1      8103     23.20%             34                 w  \n",
       "277471           0     15429        36%             19                 f  \n",
       "298406           0    840548     66.30%             28                 f  \n",
       "305110           6     12974     60.10%             15                 f  \n",
       "309791           0      4666     12.40%             21                 w  \n",
       "316111           1      9872     27.30%             42                 f  \n",
       "324303           0     46663     64.20%             15                 w  \n",
       "330460           0      9015     26.10%             26                 f  \n",
       "330652           0     62740     39.40%             14                 f  \n",
       "\n",
       "[37 rows x 30 columns]"
      ]
     },
     "execution_count": 88,
     "metadata": {},
     "output_type": "execute_result"
    }
   ],
   "source": [
    "# Examine the information of borrowers who annual income is more than 1 million\n",
    "df[df['annual_inc'] > 1000000]"
   ]
  },
  {
   "cell_type": "code",
   "execution_count": 8,
   "metadata": {
    "collapsed": true
   },
   "outputs": [],
   "source": [
    "# Remove the rows where annual income claim is larger than 1 million\n",
    "df = df[df['annual_inc'] <= 1000000]\n",
    "# Reset index, this is critical\n",
    "df = df.reset_index(drop=True)"
   ]
  },
  {
   "cell_type": "markdown",
   "metadata": {},
   "source": [
    "### Employment title\n",
    "emp_title is a free text field. Let's examine how many unique values exist:"
   ]
  },
  {
   "cell_type": "code",
   "execution_count": 92,
   "metadata": {
    "collapsed": false
   },
   "outputs": [
    {
     "name": "stdout",
     "output_type": "stream",
     "text": [
      "Teacher             3602\n",
      "Manager             2875\n",
      "Registered Nurse    1537\n",
      "RN                  1452\n",
      "Supervisor          1286\n",
      "dtype: int64\n",
      "AMSTER ROTHSTEIN & EBENSTEIN LLP    1\n",
      "EvaluMed                            1\n",
      "c.t. tech aid                       1\n",
      "Dr Jani Rollins MD                  1\n",
      "Kintetsu World Express USA Inc.     1\n",
      "dtype: int64\n"
     ]
    },
    {
     "data": {
      "text/plain": [
       "(163397,)"
      ]
     },
     "execution_count": 92,
     "metadata": {},
     "output_type": "execute_result"
    }
   ],
   "source": [
    "print (df.emp_title.value_counts().head())\n",
    "print (df.emp_title.value_counts().tail())\n",
    "df.emp_title.unique().shape"
   ]
  },
  {
   "cell_type": "markdown",
   "metadata": {},
   "source": [
    "There were 163397 unique entries among 338989 observations.It shows some suspiciously specific titles such as EvaluMed/c.t. tech aid. This predictor won't be meaningful and any relationship we might observe might be due to confounding relationships with other predictors like income, employment length."
   ]
  },
  {
   "cell_type": "code",
   "execution_count": 9,
   "metadata": {
    "collapsed": true
   },
   "outputs": [],
   "source": [
    "df.drop(['emp_title'],1, inplace=True)"
   ]
  },
  {
   "cell_type": "markdown",
   "metadata": {},
   "source": [
    "### Employment length\n",
    "emp_length may or may not be confounding with other predictors like income( a 2 year director may make more income than a 10 year tech aid), we can convert this column to int type and leave it for now, and we will examine further pair-wise correlation among predictors to determine if we remove it or not."
   ]
  },
  {
   "cell_type": "code",
   "execution_count": 10,
   "metadata": {
    "collapsed": true
   },
   "outputs": [],
   "source": [
    "df.replace('n/a', np.nan,inplace=True)\n",
    "df.emp_length.fillna(value=0,inplace=True)\n",
    "df['emp_length'].replace(to_replace='[^0-9]+', value='', inplace=True, regex=True)\n",
    "df['emp_length'] = df['emp_length'].astype(int)"
   ]
  },
  {
   "cell_type": "markdown",
   "metadata": {},
   "source": [
    "###Verification Status\n",
    "VERIFIED - income and VERIFIED - income source could potentially be the same criteria.For now we'll trust that these are indeed different methods or levels (perhaps even ordinal) of verification."
   ]
  },
  {
   "cell_type": "code",
   "execution_count": 95,
   "metadata": {
    "collapsed": false
   },
   "outputs": [
    {
     "data": {
      "text/plain": [
       "VERIFIED - income           127040\n",
       "not verified                107873\n",
       "VERIFIED - income source    104076\n",
       "dtype: int64"
      ]
     },
     "execution_count": 95,
     "metadata": {},
     "output_type": "execute_result"
    }
   ],
   "source": [
    "df.verification_status.value_counts()"
   ]
  },
  {
   "cell_type": "markdown",
   "metadata": {},
   "source": [
    "###Purpose loan category and loan title\n",
    "1. Loan purpose is self filled by borrower and we can use natural language processing technique to extract useful n-grams words and cluster them into different subgroups using unsupervised learning techniques, to keep this project not too sophisticated, for now we will drop this column \n",
    "2. Examing the loan category unique counts show they are state farm selected options.\n",
    "3. Examing the loan title unique counts show they are free text fields and we can drop this column."
   ]
  },
  {
   "cell_type": "code",
   "execution_count": 11,
   "metadata": {
    "collapsed": false
   },
   "outputs": [
    {
     "name": "stdout",
     "output_type": "stream",
     "text": [
      "loan category unique counts:\n",
      "debt_consolidation    167858\n",
      "credit_card            64161\n",
      "home_improvement       16686\n",
      "other                  14533\n",
      "major_purchase          6180\n",
      "small_business          4528\n",
      "car                     3473\n",
      "medical                 2814\n",
      "moving                  1809\n",
      "wedding                 1637\n",
      "vacation                1571\n",
      "house                   1483\n",
      "educational              247\n",
      "renewable_energy         221\n",
      "dtype: int64\n",
      "\n",
      "loan title unique counts:\n",
      "Debt consolidation                         89487\n",
      "Credit card refinancing                    34295\n",
      "Debt Consolidation                         11206\n",
      "Home improvement                            8428\n",
      "Other                                       6912\n",
      "Consolidation                               3804\n",
      "debt consolidation                          3483\n",
      "Debt Consolidation Loan                     2751\n",
      "Major purchase                              2556\n",
      "Business                                    2029\n",
      "Credit Card Consolidation                   1684\n",
      "consolidation                               1557\n",
      "Personal Loan                               1543\n",
      "Medical expenses                            1508\n",
      "Consolidation Loan                          1286\n",
      "Home Improvement                            1237\n",
      "Car financing                               1189\n",
      "Credit Card Refinance                       1036\n",
      "Credit Card Payoff                           990\n",
      "Vacation                                     919\n",
      "Consolidate                                  888\n",
      "Personal                                     827\n",
      "Moving and relocation                        806\n",
      "Loan                                         743\n",
      "Freedom                                      575\n",
      "Credit Card Loan                             565\n",
      "consolidate                                  547\n",
      "personal                                     535\n",
      "Home buying                                  530\n",
      "Debt                                         527\n",
      "                                           ...  \n",
      "CC DEBT CONSOLODATION                          1\n",
      "hard time                                      1\n",
      "Fresh Start- Debt Consolidation                1\n",
      "Refinancing high interest loan                 1\n",
      "Down The Creek w/ No Paddle                    1\n",
      "Debt Consolidation debt                        1\n",
      "on our way to debt free                        1\n",
      "Payoff home improvement bills                  1\n",
      "Credits and improvements                       1\n",
      "Paying my bills                                1\n",
      "ducati gt1000                                  1\n",
      "The Helper Outer                               1\n",
      "Help eliminate my debts, perfect credit        1\n",
      "merrychristmasloan                             1\n",
      "Star Street Renovation                         1\n",
      "Credit Card refinacing                         1\n",
      "Short-Term Risk-Free Bridge Loan               1\n",
      "Debt Consolidation / Medical Expenses          1\n",
      "refinance credit sync                          1\n",
      "Making Memories                                1\n",
      "Discover Card Revenge                          1\n",
      "Money in the bank.                             1\n",
      "pay all cards                                  1\n",
      "Debt_Killer                                    1\n",
      "New Patio                                      1\n",
      "Personal Loan for Home Improvement             1\n",
      "Weekend                                        1\n",
      "Credit Combo                                   1\n",
      "Debt Concoluation                              1\n",
      "Shannon's loan                                 1\n",
      "dtype: int64\n"
     ]
    }
   ],
   "source": [
    "df.drop(['purpose'],1, inplace=True)\n",
    "print('loan category unique counts:')\n",
    "print (df.loan_cat.value_counts())\n",
    "print('\\nloan title unique counts:')\n",
    "print (df.loan_title.value_counts())"
   ]
  },
  {
   "cell_type": "code",
   "execution_count": 12,
   "metadata": {
    "collapsed": true
   },
   "outputs": [],
   "source": [
    "df.drop(['loan_title'],1, inplace=True)"
   ]
  },
  {
   "cell_type": "markdown",
   "metadata": {},
   "source": [
    "let's keep moving to the next slice of data"
   ]
  },
  {
   "cell_type": "code",
   "execution_count": 111,
   "metadata": {
    "collapsed": false
   },
   "outputs": [
    {
     "data": {
      "text/html": [
       "<div>\n",
       "<table border=\"1\" class=\"dataframe\">\n",
       "  <thead>\n",
       "    <tr style=\"text-align: right;\">\n",
       "      <th></th>\n",
       "      <th>zip_code</th>\n",
       "      <th>state</th>\n",
       "      <th>dti</th>\n",
       "      <th>delinq_2yrs</th>\n",
       "      <th>earliest_cr_line</th>\n",
       "      <th>inq_last_6mths</th>\n",
       "      <th>mths_since_last_deliq</th>\n",
       "      <th>mths_since_last_record</th>\n",
       "      <th>num_opencr_line</th>\n",
       "    </tr>\n",
       "  </thead>\n",
       "  <tbody>\n",
       "    <tr>\n",
       "      <th>0</th>\n",
       "      <td>941xx</td>\n",
       "      <td>CA</td>\n",
       "      <td>19.48</td>\n",
       "      <td>0</td>\n",
       "      <td>Feb-94</td>\n",
=======
       "      <th>0</th>\n",
       "      <td>941xx</td>\n",
       "      <td>CA</td>\n",
       "      <td>19.48</td>\n",
       "      <td>0</td>\n",
       "      <td>Feb-94</td>\n",
>>>>>>> cc98d0a5d9de28dbcf50863d5aa1c5a1e393ea6d
       "      <td>0</td>\n",
       "      <td>NaN</td>\n",
       "      <td>NaN</td>\n",
       "      <td>10</td>\n",
       "    </tr>\n",
       "    <tr>\n",
       "      <th>1</th>\n",
       "      <td>112xx</td>\n",
       "      <td>NY</td>\n",
       "      <td>14.29</td>\n",
       "      <td>0</td>\n",
       "      <td>Oct-00</td>\n",
       "      <td>0</td>\n",
       "      <td>NaN</td>\n",
       "      <td>NaN</td>\n",
       "      <td>7</td>\n",
       "    </tr>\n",
       "    <tr>\n",
       "      <th>2</th>\n",
       "      <td>100xx</td>\n",
       "      <td>NY</td>\n",
       "      <td>10.50</td>\n",
       "      <td>0</td>\n",
       "      <td>Jun-00</td>\n",
       "      <td>0</td>\n",
       "      <td>41</td>\n",
       "      <td>NaN</td>\n",
       "      <td>10</td>\n",
       "    </tr>\n",
       "    <tr>\n",
       "      <th>3</th>\n",
       "      <td>777xx</td>\n",
       "      <td>TX</td>\n",
       "      <td>5.47</td>\n",
       "      <td>0</td>\n",
       "      <td>Jan-85</td>\n",
       "      <td>0</td>\n",
       "      <td>64</td>\n",
       "      <td>NaN</td>\n",
       "      <td>5</td>\n",
       "    </tr>\n",
       "    <tr>\n",
       "      <th>4</th>\n",
       "      <td>067xx</td>\n",
       "      <td>CT</td>\n",
       "      <td>11.63</td>\n",
       "      <td>0</td>\n",
       "      <td>Dec-96</td>\n",
       "      <td>1</td>\n",
       "      <td>58</td>\n",
       "      <td>NaN</td>\n",
       "      <td>14</td>\n",
       "    </tr>\n",
       "    <tr>\n",
       "      <th>5</th>\n",
       "      <td>028xx</td>\n",
       "      <td>RI</td>\n",
       "      <td>2.05</td>\n",
       "      <td>0</td>\n",
       "      <td>Apr-94</td>\n",
       "      <td>0</td>\n",
       "      <td>26</td>\n",
       "      <td>NaN</td>\n",
       "      <td>6</td>\n",
       "    </tr>\n",
       "  </tbody>\n",
       "</table>\n",
       "</div>"
      ],
      "text/plain": [
       "  zip_code state    dti  delinq_2yrs earliest_cr_line  inq_last_6mths  \\\n",
       "0    941xx    CA  19.48            0           Feb-94               0   \n",
       "1    112xx    NY  14.29            0           Oct-00               0   \n",
       "2    100xx    NY  10.50            0           Jun-00               0   \n",
       "3    777xx    TX   5.47            0           Jan-85               0   \n",
       "4    067xx    CT  11.63            0           Dec-96               1   \n",
       "5    028xx    RI   2.05            0           Apr-94               0   \n",
       "\n",
       "   mths_since_last_deliq  mths_since_last_record  num_opencr_line  \n",
       "0                    NaN                     NaN               10  \n",
       "1                    NaN                     NaN                7  \n",
       "2                     41                     NaN               10  \n",
       "3                     64                     NaN                5  \n",
       "4                     58                     NaN               14  \n",
       "5                     26                     NaN                6  "
      ]
     },
     "execution_count": 111,
     "metadata": {},
     "output_type": "execute_result"
    }
   ],
   "source": [
    "df.ix[:5,13:22]"
   ]
  },
  {
   "cell_type": "code",
<<<<<<< HEAD
   "execution_count": 13,
=======
   "execution_count": 10,
>>>>>>> cc98d0a5d9de28dbcf50863d5aa1c5a1e393ea6d
   "metadata": {
    "collapsed": true
   },
   "outputs": [],
   "source": [
    "df.drop(['zip_code'],1, inplace=True)"
   ]
  },
  {
   "cell_type": "markdown",
   "metadata": {},
   "source": [
    "### Delinquency skewed distribution\n",
    "Examine the distribution of delinquency, it shows it is a right skewed distribution and may need apply box-cox transformation in some cases before modelling depending on what model is used."
   ]
  },
  {
   "cell_type": "code",
   "execution_count": 113,
   "metadata": {
    "collapsed": false
   },
   "outputs": [
    {
     "data": {
      "text/plain": [
       "0     280249\n",
       "1      39796\n",
       "2      11494\n",
       "3       3964\n",
       "4       1658\n",
       "5        841\n",
       "6        441\n",
       "7        226\n",
       "8        111\n",
       "9         68\n",
       "10        48\n",
       "11        27\n",
       "12        23\n",
       "13        13\n",
       "14         6\n",
       "18         6\n",
       "16         5\n",
       "15         4\n",
       "17         3\n",
       "19         2\n",
       "24         1\n",
       "21         1\n",
       "22         1\n",
       "29         1\n",
       "dtype: int64"
      ]
     },
     "execution_count": 113,
     "metadata": {},
     "output_type": "execute_result"
    }
   ],
   "source": [
    "df.delinq_2yrs.value_counts()"
   ]
  },
  {
   "cell_type": "markdown",
   "metadata": {},
   "source": [
    "### Earliest Credit Line type conversion\n",
    "We will convert this column from object type to a scalar to describe the length of time since the first line of credit. "
   ]
  },
  {
   "cell_type": "code",
<<<<<<< HEAD
   "execution_count": 14,
=======
   "execution_count": 23,
>>>>>>> cc98d0a5d9de28dbcf50863d5aa1c5a1e393ea6d
   "metadata": {
    "collapsed": false
   },
   "outputs": [],
   "source": [
    "from datetime import datetime\n",
    "# Read the column in the correct format\n",
    "t = pd.to_datetime(df['earliest_cr_line'],format = '%b-%y')\n",
    "\n",
    "date_format = \"%m/%d/%Y\"\n",
    "dttoday = datetime.strptime('1/1/2017', date_format)\n",
    "\n",
    "d = np.zeros(len(t))\n",
    "for i in range(len(t)):\n",
    "    try:\n",
    "        d[i] = ((np.timedelta64(t[i] - pd.Timestamp(dttoday),'D').astype(int))/-365)\n",
    "        #break\n",
    "    except:\n",
    "        d[i] = ((np.timedelta64(t[i] - pd.Timestamp(dttoday),'M').astype(int))/-12)\n",
    "\n",
    "d[d<0] = d[d<0] + 100\n",
    "\n",
    "df['earliest_cr_line'] = d\n",
    "# d[d<0]\n",
    "# print(np.nonzero(d <0)[0][0])\n",
    "# t[np.nonzero(d <0)[0][0]]"
   ]
  },
  {
   "cell_type": "markdown",
   "metadata": {},
   "source": [
    "We move to the last slice of the predictors"
   ]
  },
  {
   "cell_type": "code",
   "execution_count": 52,
   "metadata": {
    "collapsed": false
   },
   "outputs": [
    {
     "data": {
      "text/html": [
       "<div>\n",
       "<table border=\"1\" class=\"dataframe\">\n",
       "  <thead>\n",
       "    <tr style=\"text-align: right;\">\n",
       "      <th></th>\n",
       "      <th>num_der_rec</th>\n",
       "      <th>revol_bal</th>\n",
       "      <th>revol_util</th>\n",
       "      <th>total_cr_line</th>\n",
       "      <th>init_list_status</th>\n",
       "    </tr>\n",
       "  </thead>\n",
       "  <tbody>\n",
       "    <tr>\n",
       "      <th>0</th>\n",
       "      <td>0</td>\n",
       "      <td>28854</td>\n",
       "      <td>52.10%</td>\n",
       "      <td>42</td>\n",
       "      <td>f</td>\n",
       "    </tr>\n",
       "    <tr>\n",
       "      <th>1</th>\n",
       "      <td>0</td>\n",
       "      <td>33623</td>\n",
       "      <td>76.70%</td>\n",
       "      <td>7</td>\n",
       "      <td>f</td>\n",
       "    </tr>\n",
       "    <tr>\n",
       "      <th>2</th>\n",
       "      <td>0</td>\n",
       "      <td>19878</td>\n",
       "      <td>66.30%</td>\n",
       "      <td>17</td>\n",
       "      <td>f</td>\n",
       "    </tr>\n",
       "    <tr>\n",
       "      <th>3</th>\n",
       "      <td>0</td>\n",
       "      <td>2584</td>\n",
       "      <td>40.40%</td>\n",
       "      <td>31</td>\n",
       "      <td>f</td>\n",
       "    </tr>\n",
       "    <tr>\n",
       "      <th>4</th>\n",
       "      <td>0</td>\n",
       "      <td>3511</td>\n",
       "      <td>25.60%</td>\n",
       "      <td>40</td>\n",
       "      <td>f</td>\n",
       "    </tr>\n",
       "    <tr>\n",
       "      <th>5</th>\n",
       "      <td>0</td>\n",
       "      <td>3874</td>\n",
       "      <td>90.10%</td>\n",
       "      <td>25</td>\n",
       "      <td>f</td>\n",
       "    </tr>\n",
       "  </tbody>\n",
       "</table>\n",
       "</div>"
      ],
      "text/plain": [
       "   num_der_rec  revol_bal revol_util  total_cr_line init_list_status\n",
       "0            0      28854     52.10%             42                f\n",
       "1            0      33623     76.70%              7                f\n",
       "2            0      19878     66.30%             17                f\n",
       "3            0       2584     40.40%             31                f\n",
       "4            0       3511     25.60%             40                f\n",
       "5            0       3874     90.10%             25                f"
      ]
     },
     "execution_count": 52,
     "metadata": {},
     "output_type": "execute_result"
    }
   ],
   "source": [
    "df.ix[:5,21:]"
   ]
  },
  {
   "cell_type": "code",
   "execution_count": 60,
   "metadata": {
    "collapsed": false
   },
   "outputs": [
    {
     "data": {
      "text/plain": [
       "185456"
      ]
     },
     "execution_count": 60,
     "metadata": {},
     "output_type": "execute_result"
    }
   ],
   "source": [
    "#df.num_der_rec.value_counts()\n",
    "#df.mths_since_last_record.value_counts()\n",
    "#df.mths_since_last_deliq.isnull().sum()\n",
    "\n",
    "## Note\n",
    "# there were a substantial missing values in mths_since_last_deliq and mths_since_last_record\n",
    "# do we need to remove them in gradient boosting?\n",
    "## the distribution of unique counts of some of those columns were not normal"
   ]
  },
  {
   "cell_type": "markdown",
   "metadata": {},
   "source": [
    "### Revolving utility\n",
    "Remove the % sign and convert it to float type"
   ]
  },
  {
   "cell_type": "code",
<<<<<<< HEAD
   "execution_count": 15,
=======
   "execution_count": 53,
>>>>>>> cc98d0a5d9de28dbcf50863d5aa1c5a1e393ea6d
   "metadata": {
    "collapsed": true
   },
   "outputs": [],
   "source": [
    "df.revol_util = pd.Series(df.revol_util).str.replace('%', '').astype(float)"
   ]
  },
  {
<<<<<<< HEAD
   "cell_type": "markdown",
   "metadata": {},
   "source": [
    "### Remove highly correlated data\n",
    "Examine correlation matrix and remove highly correlated data to address multicollinearity"
   ]
  },
  {
   "cell_type": "code",
   "execution_count": 170,
=======
   "cell_type": "code",
   "execution_count": 35,
>>>>>>> cc98d0a5d9de28dbcf50863d5aa1c5a1e393ea6d
   "metadata": {
    "collapsed": false
   },
   "outputs": [
    {
     "data": {
      "text/plain": [
<<<<<<< HEAD
       "funded_amt             loan_amt           0.998292\n",
       "funded_amt_inv         loan_amt           0.994128\n",
       "                       funded_amt         0.996181\n",
       "mths_since_last_deliq  delinq_2yrs       -0.575830\n",
       "total_cr_line          num_opencr_line    0.677215\n",
       "dtype: float64"
      ]
     },
     "execution_count": 170,
=======
       "SGDRegressor(alpha=0.0001, average=False, epsilon=0.1, eta0=0.01,\n",
       "       fit_intercept=True, l1_ratio=0.15, learning_rate='invscaling',\n",
       "       loss='squared_loss', n_iter=5, penalty='l2', power_t=0.25,\n",
       "       random_state=None, shuffle=True, verbose=0, warm_start=False)"
      ]
     },
     "execution_count": 35,
>>>>>>> cc98d0a5d9de28dbcf50863d5aa1c5a1e393ea6d
     "metadata": {},
     "output_type": "execute_result"
    }
   ],
   "source": [
<<<<<<< HEAD
    "cor = df.corr()\n",
    "cor.loc[:,:] = np.tril(cor, k=-1) # below main lower triangle of an array\n",
    "cor = cor.stack()\n",
    "cor[(cor > 0.55) | (cor < -0.55)]"
   ]
  },
  {
   "cell_type": "code",
   "execution_count": 16,
   "metadata": {
    "collapsed": false
   },
   "outputs": [],
   "source": [
    "df.drop(['funded_amt','funded_amt_inv','mths_since_last_deliq', 'total_cr_line'], axis=1, inplace=True)"
   ]
  },
  {
   "cell_type": "markdown",
   "metadata": {},
   "source": [
    "### Create dummy variables to encode categorical variables"
   ]
  },
  {
   "cell_type": "code",
   "execution_count": 17,
   "metadata": {
    "collapsed": true
   },
   "outputs": [],
   "source": [
    "df2 = df\n",
    "df2 = pd.get_dummies(df2)\n",
    "\n",
    "from sklearn import ensemble\n",
    "from sklearn import datasets\n",
    "from sklearn.utils import shuffle\n",
    "from sklearn.metrics import mean_squared_error\n",
    "from matplotlib import pyplot as plt\n",
    "\n",
    "y = df2.int_rate.values\n",
    "df2.drop('int_rate',axis = 1, inplace=True)\n",
    "\n",
    "X, y = shuffle(df2.values, y, random_state=30)\n",
    "X = X.astype(np.float32)\n",
    "\n",
    "offset = int(X.shape[0] * 0.75)\n",
    "X_train, y_train = X[:offset], y[:offset]\n",
    "X_test, y_test = X[offset:], y[offset:]"
   ]
  },
  {
   "cell_type": "code",
   "execution_count": 27,
   "metadata": {
    "collapsed": false
   },
   "outputs": [],
   "source": [
    "df2.replace([np.inf, -np.inf], np.nan)\n",
    "df2 = df2.dropna()\n",
    "# reset index\n",
    "df2 = df2.reset_index(drop=True)"
   ]
  },
  {
   "cell_type": "code",
   "execution_count": 37,
   "metadata": {
    "collapsed": false
   },
   "outputs": [],
   "source": [
    "#df2.columns.to_series().groupby(df.dtypes).groups\n"
   ]
  },
  {
   "cell_type": "code",
   "execution_count": 25,
   "metadata": {
    "collapsed": false
   },
   "outputs": [
    {
     "ename": "ValueError",
     "evalue": "Input contains NaN, infinity or a value too large for dtype('float32').",
     "output_type": "error",
     "traceback": [
      "\u001b[1;31m---------------------------------------------------------------------------\u001b[0m",
      "\u001b[1;31mValueError\u001b[0m                                Traceback (most recent call last)",
      "\u001b[1;32m<ipython-input-25-ae7514fb601d>\u001b[0m in \u001b[0;36m<module>\u001b[1;34m()\u001b[0m\n\u001b[0;32m      1\u001b[0m \u001b[1;32mimport\u001b[0m \u001b[0msklearn\u001b[0m\u001b[1;33m.\u001b[0m\u001b[0mensemble\u001b[0m \u001b[1;32mas\u001b[0m \u001b[0msk\u001b[0m\u001b[1;33m\u001b[0m\u001b[0m\n\u001b[0;32m      2\u001b[0m \u001b[0mrfc\u001b[0m \u001b[1;33m=\u001b[0m \u001b[0msk\u001b[0m\u001b[1;33m.\u001b[0m\u001b[0mRandomForestClassifier\u001b[0m\u001b[1;33m(\u001b[0m\u001b[0mn_estimators\u001b[0m\u001b[1;33m=\u001b[0m\u001b[1;36m100\u001b[0m\u001b[1;33m,\u001b[0m \u001b[0moob_score\u001b[0m\u001b[1;33m=\u001b[0m\u001b[1;32mTrue\u001b[0m\u001b[1;33m)\u001b[0m\u001b[1;33m\u001b[0m\u001b[0m\n\u001b[1;32m----> 3\u001b[1;33m \u001b[0mmodel\u001b[0m \u001b[1;33m=\u001b[0m \u001b[0mrfc\u001b[0m\u001b[1;33m.\u001b[0m\u001b[0mfit\u001b[0m\u001b[1;33m(\u001b[0m\u001b[0mX_train\u001b[0m\u001b[1;33m,\u001b[0m \u001b[0my_train\u001b[0m\u001b[1;33m)\u001b[0m\u001b[1;33m\u001b[0m\u001b[0m\n\u001b[0m",
      "\u001b[1;32mC:\\Users\\ks692\\AppData\\Local\\Continuum\\Anaconda3\\lib\\site-packages\\sklearn\\ensemble\\forest.py\u001b[0m in \u001b[0;36mfit\u001b[1;34m(self, X, y, sample_weight)\u001b[0m\n\u001b[0;32m    193\u001b[0m         \"\"\"\n\u001b[0;32m    194\u001b[0m         \u001b[1;31m# Validate or convert input data\u001b[0m\u001b[1;33m\u001b[0m\u001b[1;33m\u001b[0m\u001b[0m\n\u001b[1;32m--> 195\u001b[1;33m         \u001b[0mX\u001b[0m \u001b[1;33m=\u001b[0m \u001b[0mcheck_array\u001b[0m\u001b[1;33m(\u001b[0m\u001b[0mX\u001b[0m\u001b[1;33m,\u001b[0m \u001b[0mdtype\u001b[0m\u001b[1;33m=\u001b[0m\u001b[0mDTYPE\u001b[0m\u001b[1;33m,\u001b[0m \u001b[0maccept_sparse\u001b[0m\u001b[1;33m=\u001b[0m\u001b[1;34m\"csc\"\u001b[0m\u001b[1;33m)\u001b[0m\u001b[1;33m\u001b[0m\u001b[0m\n\u001b[0m\u001b[0;32m    196\u001b[0m         \u001b[1;32mif\u001b[0m \u001b[0missparse\u001b[0m\u001b[1;33m(\u001b[0m\u001b[0mX\u001b[0m\u001b[1;33m)\u001b[0m\u001b[1;33m:\u001b[0m\u001b[1;33m\u001b[0m\u001b[0m\n\u001b[0;32m    197\u001b[0m             \u001b[1;31m# Pre-sort indices to avoid that each individual tree of the\u001b[0m\u001b[1;33m\u001b[0m\u001b[1;33m\u001b[0m\u001b[0m\n",
      "\u001b[1;32mC:\\Users\\ks692\\AppData\\Local\\Continuum\\Anaconda3\\lib\\site-packages\\sklearn\\utils\\validation.py\u001b[0m in \u001b[0;36mcheck_array\u001b[1;34m(array, accept_sparse, dtype, order, copy, force_all_finite, ensure_2d, allow_nd, ensure_min_samples, ensure_min_features)\u001b[0m\n\u001b[0;32m    350\u001b[0m                              array.ndim)\n\u001b[0;32m    351\u001b[0m         \u001b[1;32mif\u001b[0m \u001b[0mforce_all_finite\u001b[0m\u001b[1;33m:\u001b[0m\u001b[1;33m\u001b[0m\u001b[0m\n\u001b[1;32m--> 352\u001b[1;33m             \u001b[0m_assert_all_finite\u001b[0m\u001b[1;33m(\u001b[0m\u001b[0marray\u001b[0m\u001b[1;33m)\u001b[0m\u001b[1;33m\u001b[0m\u001b[0m\n\u001b[0m\u001b[0;32m    353\u001b[0m \u001b[1;33m\u001b[0m\u001b[0m\n\u001b[0;32m    354\u001b[0m     \u001b[0mshape_repr\u001b[0m \u001b[1;33m=\u001b[0m \u001b[0m_shape_repr\u001b[0m\u001b[1;33m(\u001b[0m\u001b[0marray\u001b[0m\u001b[1;33m.\u001b[0m\u001b[0mshape\u001b[0m\u001b[1;33m)\u001b[0m\u001b[1;33m\u001b[0m\u001b[0m\n",
      "\u001b[1;32mC:\\Users\\ks692\\AppData\\Local\\Continuum\\Anaconda3\\lib\\site-packages\\sklearn\\utils\\validation.py\u001b[0m in \u001b[0;36m_assert_all_finite\u001b[1;34m(X)\u001b[0m\n\u001b[0;32m     50\u001b[0m             and not np.isfinite(X).all()):\n\u001b[0;32m     51\u001b[0m         raise ValueError(\"Input contains NaN, infinity\"\n\u001b[1;32m---> 52\u001b[1;33m                          \" or a value too large for %r.\" % X.dtype)\n\u001b[0m\u001b[0;32m     53\u001b[0m \u001b[1;33m\u001b[0m\u001b[0m\n\u001b[0;32m     54\u001b[0m \u001b[1;33m\u001b[0m\u001b[0m\n",
      "\u001b[1;31mValueError\u001b[0m: Input contains NaN, infinity or a value too large for dtype('float32')."
     ]
    }
   ],
   "source": [
    "import sklearn.ensemble as sk\n",
    "rfc = sk.RandomForestClassifier(n_estimators=100, oob_score=True)\n",
    "model = rfc.fit(X_train, y_train)"
   ]
  },
  {
   "cell_type": "code",
   "execution_count": 19,
   "metadata": {
    "collapsed": true
   },
   "outputs": [],
   "source": []
  },
  {
   "cell_type": "code",
   "execution_count": 184,
   "metadata": {
    "collapsed": false
   },
   "outputs": [
    {
     "name": "stdout",
     "output_type": "stream",
     "text": [
      "<class 'pandas.core.frame.DataFrame'>\n",
      "Int64Index: 287201 entries, 0 to 287200\n",
      "Columns: 132 entries, int_rate to init_list_status_w\n",
      "dtypes: float64(129), int32(3)\n",
      "memory usage: 288.1 MB\n"
     ]
    }
   ],
   "source": [
    "df = pd.get_dummies(df)\n",
    "df.info()"
   ]
  },
  {
   "cell_type": "code",
   "execution_count": 187,
   "metadata": {
    "collapsed": false
   },
   "outputs": [],
   "source": [
    "from sklearn import ensemble\n",
    "from sklearn import datasets\n",
    "from sklearn.utils import shuffle\n",
    "from sklearn.metrics import mean_squared_error\n",
    "from matplotlib import pyplot as plt\n",
    "\n",
    "y = df.int_rate.values\n",
    "df.drop('int_rate',axis = 1, inplace=True)\n",
    "\n",
    "X, y = shuffle(df.values, y, random_state=30)\n",
    "X = X.astype(np.float32)\n",
    "\n",
    "offset = int(X.shape[0] * 0.75)\n",
    "X_train, y_train = X[:offset], y[:offset]\n",
    "X_test, y_test = X[offset:], y[offset:]"
   ]
  },
  {
   "cell_type": "code",
   "execution_count": 191,
   "metadata": {
    "collapsed": false
   },
   "outputs": [],
   "source": [
    "df = df.dropna()\n",
    "# reset index\n",
    "df = df.reset_index(drop=True)"
=======
    "# n_samples, n_features = 10, 5\n",
    "# np.random.seed(0)\n",
    "# y = np.random.randn(n_samples)\n",
    "# X = np.random.randn(n_samples, n_features)\n",
    "from sklearn import linear_model\n",
    "\n",
    "clf = linear_model.SGDRegressor()\n",
    "clf.fit(X, y)"
>>>>>>> cc98d0a5d9de28dbcf50863d5aa1c5a1e393ea6d
   ]
  },
  {
   "cell_type": "code",
<<<<<<< HEAD
   "execution_count": 28,
   "metadata": {
    "collapsed": false
   },
   "outputs": [
    {
     "ename": "JoblibValueError",
     "evalue": "JoblibValueError\n___________________________________________________________________________\nMultiprocessing exception:\n    ...........................................................................\nC:\\Users\\ks692\\AppData\\Local\\Continuum\\Anaconda3\\lib\\runpy.py in _run_module_as_main(mod_name='IPython.kernel.__main__', alter_argv=1)\n    165         sys.exit(msg)\n    166     main_globals = sys.modules[\"__main__\"].__dict__\n    167     if alter_argv:\n    168         sys.argv[0] = mod_spec.origin\n    169     return _run_code(code, main_globals, None,\n--> 170                      \"__main__\", mod_spec)\n        mod_spec = ModuleSpec(name='IPython.kernel.__main__', loade...ib\\\\site-packages\\\\IPython\\\\kernel\\\\__main__.py')\n    171 \n    172 def run_module(mod_name, init_globals=None,\n    173                run_name=None, alter_sys=False):\n    174     \"\"\"Execute a module's code without importing it\n\n...........................................................................\nC:\\Users\\ks692\\AppData\\Local\\Continuum\\Anaconda3\\lib\\runpy.py in _run_code(code=<code object <module> at 0x0000000003D40ED0, fil...ite-packages\\IPython\\kernel\\__main__.py\", line 1>, run_globals={'__builtins__': <module 'builtins' (built-in)>, '__cached__': r'C:\\Users\\ks692\\AppData\\Local\\Continuum\\Anaconda3...Python\\kernel\\__pycache__\\__main__.cpython-34.pyc', '__doc__': None, '__file__': r'C:\\Users\\ks692\\AppData\\Local\\Continuum\\Anaconda3\\lib\\site-packages\\IPython\\kernel\\__main__.py', '__loader__': <_frozen_importlib.SourceFileLoader object>, '__name__': '__main__', '__package__': 'IPython.kernel', '__spec__': ModuleSpec(name='IPython.kernel.__main__', loade...ib\\\\site-packages\\\\IPython\\\\kernel\\\\__main__.py'), 'app': <module 'IPython.kernel.zmq.kernelapp' from 'C:\\...te-packages\\\\IPython\\\\kernel\\\\zmq\\\\kernelapp.py'>}, init_globals=None, mod_name='__main__', mod_spec=ModuleSpec(name='IPython.kernel.__main__', loade...ib\\\\site-packages\\\\IPython\\\\kernel\\\\__main__.py'), pkg_name='IPython.kernel', script_name=None)\n     80                        __cached__ = cached,\n     81                        __doc__ = None,\n     82                        __loader__ = loader,\n     83                        __package__ = pkg_name,\n     84                        __spec__ = mod_spec)\n---> 85     exec(code, run_globals)\n        code = <code object <module> at 0x0000000003D40ED0, fil...ite-packages\\IPython\\kernel\\__main__.py\", line 1>\n        run_globals = {'__builtins__': <module 'builtins' (built-in)>, '__cached__': r'C:\\Users\\ks692\\AppData\\Local\\Continuum\\Anaconda3...Python\\kernel\\__pycache__\\__main__.cpython-34.pyc', '__doc__': None, '__file__': r'C:\\Users\\ks692\\AppData\\Local\\Continuum\\Anaconda3\\lib\\site-packages\\IPython\\kernel\\__main__.py', '__loader__': <_frozen_importlib.SourceFileLoader object>, '__name__': '__main__', '__package__': 'IPython.kernel', '__spec__': ModuleSpec(name='IPython.kernel.__main__', loade...ib\\\\site-packages\\\\IPython\\\\kernel\\\\__main__.py'), 'app': <module 'IPython.kernel.zmq.kernelapp' from 'C:\\...te-packages\\\\IPython\\\\kernel\\\\zmq\\\\kernelapp.py'>}\n     86     return run_globals\n     87 \n     88 def _run_module_code(code, init_globals=None,\n     89                     mod_name=None, mod_spec=None,\n\n...........................................................................\nC:\\Users\\ks692\\AppData\\Local\\Continuum\\Anaconda3\\lib\\site-packages\\IPython\\kernel\\__main__.py in <module>()\n      1 \n      2 \n----> 3 \n      4 if __name__ == '__main__':\n      5     from IPython.kernel.zmq import kernelapp as app\n      6     app.launch_new_instance()\n      7 \n      8 \n      9 \n     10 \n\n...........................................................................\nC:\\Users\\ks692\\AppData\\Local\\Continuum\\Anaconda3\\lib\\site-packages\\IPython\\config\\application.py in launch_instance(cls=<class 'IPython.kernel.zmq.kernelapp.IPKernelApp'>, argv=None, **kwargs={})\n    569         \n    570         If a global instance already exists, this reinitializes and starts it\n    571         \"\"\"\n    572         app = cls.instance(**kwargs)\n    573         app.initialize(argv)\n--> 574         app.start()\n        app.start = <bound method IPKernelApp.start of <IPython.kernel.zmq.kernelapp.IPKernelApp object>>\n    575 \n    576 #-----------------------------------------------------------------------------\n    577 # utility functions, for convenience\n    578 #-----------------------------------------------------------------------------\n\n...........................................................................\nC:\\Users\\ks692\\AppData\\Local\\Continuum\\Anaconda3\\lib\\site-packages\\IPython\\kernel\\zmq\\kernelapp.py in start(self=<IPython.kernel.zmq.kernelapp.IPKernelApp object>)\n    368     def start(self):\n    369         if self.poller is not None:\n    370             self.poller.start()\n    371         self.kernel.start()\n    372         try:\n--> 373             ioloop.IOLoop.instance().start()\n    374         except KeyboardInterrupt:\n    375             pass\n    376 \n    377 launch_new_instance = IPKernelApp.launch_instance\n\n...........................................................................\nC:\\Users\\ks692\\AppData\\Local\\Continuum\\Anaconda3\\lib\\site-packages\\zmq\\eventloop\\ioloop.py in start(self=<zmq.eventloop.ioloop.ZMQIOLoop object>)\n    146             PollIOLoop.configure(ZMQIOLoop)\n    147         return PollIOLoop.instance()\n    148     \n    149     def start(self):\n    150         try:\n--> 151             super(ZMQIOLoop, self).start()\n        self.start = <bound method ZMQIOLoop.start of <zmq.eventloop.ioloop.ZMQIOLoop object>>\n    152         except ZMQError as e:\n    153             if e.errno == ETERM:\n    154                 # quietly return on ETERM\n    155                 pass\n\n...........................................................................\nC:\\Users\\ks692\\AppData\\Local\\Continuum\\Anaconda3\\lib\\site-packages\\tornado\\ioloop.py in start(self=<zmq.eventloop.ioloop.ZMQIOLoop object>)\n    861                 self._events.update(event_pairs)\n    862                 while self._events:\n    863                     fd, events = self._events.popitem()\n    864                     try:\n    865                         fd_obj, handler_func = self._handlers[fd]\n--> 866                         handler_func(fd_obj, events)\n        handler_func = <function wrap.<locals>.null_wrapper>\n        fd_obj = <zmq.sugar.socket.Socket object>\n        events = 1\n    867                     except (OSError, IOError) as e:\n    868                         if errno_from_exception(e) == errno.EPIPE:\n    869                             # Happens when the client closes the connection\n    870                             pass\n\n...........................................................................\nC:\\Users\\ks692\\AppData\\Local\\Continuum\\Anaconda3\\lib\\site-packages\\tornado\\stack_context.py in null_wrapper(*args=(<zmq.sugar.socket.Socket object>, 1), **kwargs={})\n    270         # Fast path when there are no active contexts.\n    271         def null_wrapper(*args, **kwargs):\n    272             try:\n    273                 current_state = _state.contexts\n    274                 _state.contexts = cap_contexts[0]\n--> 275                 return fn(*args, **kwargs)\n        args = (<zmq.sugar.socket.Socket object>, 1)\n        kwargs = {}\n    276             finally:\n    277                 _state.contexts = current_state\n    278         null_wrapper._wrapped = True\n    279         return null_wrapper\n\n...........................................................................\nC:\\Users\\ks692\\AppData\\Local\\Continuum\\Anaconda3\\lib\\site-packages\\zmq\\eventloop\\zmqstream.py in _handle_events(self=<zmq.eventloop.zmqstream.ZMQStream object>, fd=<zmq.sugar.socket.Socket object>, events=1)\n    428             # dispatch events:\n    429             if events & IOLoop.ERROR:\n    430                 gen_log.error(\"got POLLERR event on ZMQStream, which doesn't make sense\")\n    431                 return\n    432             if events & IOLoop.READ:\n--> 433                 self._handle_recv()\n        self._handle_recv = <bound method ZMQStream._handle_recv of <zmq.eventloop.zmqstream.ZMQStream object>>\n    434                 if not self.socket:\n    435                     return\n    436             if events & IOLoop.WRITE:\n    437                 self._handle_send()\n\n...........................................................................\nC:\\Users\\ks692\\AppData\\Local\\Continuum\\Anaconda3\\lib\\site-packages\\zmq\\eventloop\\zmqstream.py in _handle_recv(self=<zmq.eventloop.zmqstream.ZMQStream object>)\n    460                 gen_log.error(\"RECV Error: %s\"%zmq.strerror(e.errno))\n    461         else:\n    462             if self._recv_callback:\n    463                 callback = self._recv_callback\n    464                 # self._recv_callback = None\n--> 465                 self._run_callback(callback, msg)\n        self._run_callback = <bound method ZMQStream._run_callback of <zmq.eventloop.zmqstream.ZMQStream object>>\n        callback = <function wrap.<locals>.null_wrapper>\n        msg = [<zmq.sugar.frame.Frame object>, <zmq.sugar.frame.Frame object>, <zmq.sugar.frame.Frame object>, <zmq.sugar.frame.Frame object>, <zmq.sugar.frame.Frame object>, <zmq.sugar.frame.Frame object>, <zmq.sugar.frame.Frame object>]\n    466                 \n    467         # self.update_state()\n    468         \n    469 \n\n...........................................................................\nC:\\Users\\ks692\\AppData\\Local\\Continuum\\Anaconda3\\lib\\site-packages\\zmq\\eventloop\\zmqstream.py in _run_callback(self=<zmq.eventloop.zmqstream.ZMQStream object>, callback=<function wrap.<locals>.null_wrapper>, *args=([<zmq.sugar.frame.Frame object>, <zmq.sugar.frame.Frame object>, <zmq.sugar.frame.Frame object>, <zmq.sugar.frame.Frame object>, <zmq.sugar.frame.Frame object>, <zmq.sugar.frame.Frame object>, <zmq.sugar.frame.Frame object>],), **kwargs={})\n    402         close our socket.\"\"\"\n    403         try:\n    404             # Use a NullContext to ensure that all StackContexts are run\n    405             # inside our blanket exception handler rather than outside.\n    406             with stack_context.NullContext():\n--> 407                 callback(*args, **kwargs)\n        callback = <function wrap.<locals>.null_wrapper>\n        args = ([<zmq.sugar.frame.Frame object>, <zmq.sugar.frame.Frame object>, <zmq.sugar.frame.Frame object>, <zmq.sugar.frame.Frame object>, <zmq.sugar.frame.Frame object>, <zmq.sugar.frame.Frame object>, <zmq.sugar.frame.Frame object>],)\n        kwargs = {}\n    408         except:\n    409             gen_log.error(\"Uncaught exception, closing connection.\",\n    410                           exc_info=True)\n    411             # Close the socket on an uncaught exception from a user callback\n\n...........................................................................\nC:\\Users\\ks692\\AppData\\Local\\Continuum\\Anaconda3\\lib\\site-packages\\tornado\\stack_context.py in null_wrapper(*args=([<zmq.sugar.frame.Frame object>, <zmq.sugar.frame.Frame object>, <zmq.sugar.frame.Frame object>, <zmq.sugar.frame.Frame object>, <zmq.sugar.frame.Frame object>, <zmq.sugar.frame.Frame object>, <zmq.sugar.frame.Frame object>],), **kwargs={})\n    270         # Fast path when there are no active contexts.\n    271         def null_wrapper(*args, **kwargs):\n    272             try:\n    273                 current_state = _state.contexts\n    274                 _state.contexts = cap_contexts[0]\n--> 275                 return fn(*args, **kwargs)\n        args = ([<zmq.sugar.frame.Frame object>, <zmq.sugar.frame.Frame object>, <zmq.sugar.frame.Frame object>, <zmq.sugar.frame.Frame object>, <zmq.sugar.frame.Frame object>, <zmq.sugar.frame.Frame object>, <zmq.sugar.frame.Frame object>],)\n        kwargs = {}\n    276             finally:\n    277                 _state.contexts = current_state\n    278         null_wrapper._wrapped = True\n    279         return null_wrapper\n\n...........................................................................\nC:\\Users\\ks692\\AppData\\Local\\Continuum\\Anaconda3\\lib\\site-packages\\IPython\\kernel\\zmq\\kernelbase.py in dispatcher(msg=[<zmq.sugar.frame.Frame object>, <zmq.sugar.frame.Frame object>, <zmq.sugar.frame.Frame object>, <zmq.sugar.frame.Frame object>, <zmq.sugar.frame.Frame object>, <zmq.sugar.frame.Frame object>, <zmq.sugar.frame.Frame object>])\n    247         if self.control_stream:\n    248             self.control_stream.on_recv(self.dispatch_control, copy=False)\n    249 \n    250         def make_dispatcher(stream):\n    251             def dispatcher(msg):\n--> 252                 return self.dispatch_shell(stream, msg)\n        msg = [<zmq.sugar.frame.Frame object>, <zmq.sugar.frame.Frame object>, <zmq.sugar.frame.Frame object>, <zmq.sugar.frame.Frame object>, <zmq.sugar.frame.Frame object>, <zmq.sugar.frame.Frame object>, <zmq.sugar.frame.Frame object>]\n    253             return dispatcher\n    254 \n    255         for s in self.shell_streams:\n    256             s.on_recv(make_dispatcher(s), copy=False)\n\n...........................................................................\nC:\\Users\\ks692\\AppData\\Local\\Continuum\\Anaconda3\\lib\\site-packages\\IPython\\kernel\\zmq\\kernelbase.py in dispatch_shell(self=<IPython.kernel.zmq.ipkernel.IPythonKernel object>, stream=<zmq.eventloop.zmqstream.ZMQStream object>, msg={'buffers': [], 'content': {'allow_stdin': True, 'code': 'from sklearn.grid_search import GridSearchCV\\n\\npa...X_train, y_train)\\n\\nbest_params = est.best_params_', 'silent': False, 'stop_on_error': True, 'store_history': True, 'user_expressions': {}}, 'header': {'msg_id': 'C322EBA8417F4197847FA26163BBFC4D', 'msg_type': 'execute_request', 'session': '0EC27FB2265B416F9FEF768ACDE7D4B3', 'username': 'username', 'version': '5.0'}, 'metadata': {}, 'msg_id': 'C322EBA8417F4197847FA26163BBFC4D', 'msg_type': 'execute_request', 'parent_header': {}})\n    208         else:\n    209             # ensure default_int_handler during handler call\n    210             sig = signal(SIGINT, default_int_handler)\n    211             self.log.debug(\"%s: %s\", msg_type, msg)\n    212             try:\n--> 213                 handler(stream, idents, msg)\n        handler = <bound method IPythonKernel.execute_request of <IPython.kernel.zmq.ipkernel.IPythonKernel object>>\n        stream = <zmq.eventloop.zmqstream.ZMQStream object>\n        idents = [b'0EC27FB2265B416F9FEF768ACDE7D4B3']\n        msg = {'buffers': [], 'content': {'allow_stdin': True, 'code': 'from sklearn.grid_search import GridSearchCV\\n\\npa...X_train, y_train)\\n\\nbest_params = est.best_params_', 'silent': False, 'stop_on_error': True, 'store_history': True, 'user_expressions': {}}, 'header': {'msg_id': 'C322EBA8417F4197847FA26163BBFC4D', 'msg_type': 'execute_request', 'session': '0EC27FB2265B416F9FEF768ACDE7D4B3', 'username': 'username', 'version': '5.0'}, 'metadata': {}, 'msg_id': 'C322EBA8417F4197847FA26163BBFC4D', 'msg_type': 'execute_request', 'parent_header': {}}\n    214             except Exception:\n    215                 self.log.error(\"Exception in message handler:\", exc_info=True)\n    216             finally:\n    217                 signal(SIGINT, sig)\n\n...........................................................................\nC:\\Users\\ks692\\AppData\\Local\\Continuum\\Anaconda3\\lib\\site-packages\\IPython\\kernel\\zmq\\kernelbase.py in execute_request(self=<IPython.kernel.zmq.ipkernel.IPythonKernel object>, stream=<zmq.eventloop.zmqstream.ZMQStream object>, ident=[b'0EC27FB2265B416F9FEF768ACDE7D4B3'], parent={'buffers': [], 'content': {'allow_stdin': True, 'code': 'from sklearn.grid_search import GridSearchCV\\n\\npa...X_train, y_train)\\n\\nbest_params = est.best_params_', 'silent': False, 'stop_on_error': True, 'store_history': True, 'user_expressions': {}}, 'header': {'msg_id': 'C322EBA8417F4197847FA26163BBFC4D', 'msg_type': 'execute_request', 'session': '0EC27FB2265B416F9FEF768ACDE7D4B3', 'username': 'username', 'version': '5.0'}, 'metadata': {}, 'msg_id': 'C322EBA8417F4197847FA26163BBFC4D', 'msg_type': 'execute_request', 'parent_header': {}})\n    357         if not silent:\n    358             self.execution_count += 1\n    359             self._publish_execute_input(code, parent, self.execution_count)\n    360         \n    361         reply_content = self.do_execute(code, silent, store_history,\n--> 362                                         user_expressions, allow_stdin)\n        user_expressions = {}\n        allow_stdin = True\n    363 \n    364         # Flush output before sending the reply.\n    365         sys.stdout.flush()\n    366         sys.stderr.flush()\n\n...........................................................................\nC:\\Users\\ks692\\AppData\\Local\\Continuum\\Anaconda3\\lib\\site-packages\\IPython\\kernel\\zmq\\ipkernel.py in do_execute(self=<IPython.kernel.zmq.ipkernel.IPythonKernel object>, code='from sklearn.grid_search import GridSearchCV\\n\\npa...X_train, y_train)\\n\\nbest_params = est.best_params_', silent=False, store_history=True, user_expressions={}, allow_stdin=True)\n    176 \n    177         reply_content = {}\n    178         # FIXME: the shell calls the exception handler itself.\n    179         shell._reply_content = None\n    180         try:\n--> 181             shell.run_cell(code, store_history=store_history, silent=silent)\n        shell.run_cell = <bound method ZMQInteractiveShell.run_cell of <I....kernel.zmq.zmqshell.ZMQInteractiveShell object>>\n        code = 'from sklearn.grid_search import GridSearchCV\\n\\npa...X_train, y_train)\\n\\nbest_params = est.best_params_'\n        store_history = True\n        silent = False\n    182         except:\n    183             status = u'error'\n    184             # FIXME: this code right now isn't being used yet by default,\n    185             # because the run_cell() call above directly fires off exception\n\n...........................................................................\nC:\\Users\\ks692\\AppData\\Local\\Continuum\\Anaconda3\\lib\\site-packages\\IPython\\core\\interactiveshell.py in run_cell(self=<IPython.kernel.zmq.zmqshell.ZMQInteractiveShell object>, raw_cell='from sklearn.grid_search import GridSearchCV\\n\\npa...X_train, y_train)\\n\\nbest_params = est.best_params_', store_history=True, silent=False, shell_futures=True)\n   2866                 self.displayhook.exec_result = result\n   2867 \n   2868                 # Execute the user code\n   2869                 interactivity = \"none\" if silent else self.ast_node_interactivity\n   2870                 self.run_ast_nodes(code_ast.body, cell_name,\n-> 2871                    interactivity=interactivity, compiler=compiler, result=result)\n        interactivity = 'last_expr'\n        compiler = <IPython.core.compilerop.CachingCompiler object>\n   2872 \n   2873                 # Reset this so later displayed values do not modify the\n   2874                 # ExecutionResult\n   2875                 self.displayhook.exec_result = None\n\n...........................................................................\nC:\\Users\\ks692\\AppData\\Local\\Continuum\\Anaconda3\\lib\\site-packages\\IPython\\core\\interactiveshell.py in run_ast_nodes(self=<IPython.kernel.zmq.zmqshell.ZMQInteractiveShell object>, nodelist=[<_ast.ImportFrom object>, <_ast.Assign object>, <_ast.Assign object>, <_ast.Expr object>, <_ast.Assign object>], cell_name='<ipython-input-28-720bd00ca491>', interactivity='none', compiler=<IPython.core.compilerop.CachingCompiler object>, result=<IPython.core.interactiveshell.ExecutionResult object>)\n   2970 \n   2971         try:\n   2972             for i, node in enumerate(to_run_exec):\n   2973                 mod = ast.Module([node])\n   2974                 code = compiler(mod, cell_name, \"exec\")\n-> 2975                 if self.run_code(code, result):\n        self.run_code = <bound method ZMQInteractiveShell.run_code of <I....kernel.zmq.zmqshell.ZMQInteractiveShell object>>\n        code = <code object <module> at 0x000000000B163930, file \"<ipython-input-28-720bd00ca491>\", line 17>\n        result = <IPython.core.interactiveshell.ExecutionResult object>\n   2976                     return True\n   2977 \n   2978             for i, node in enumerate(to_run_interactive):\n   2979                 mod = ast.Interactive([node])\n\n...........................................................................\nC:\\Users\\ks692\\AppData\\Local\\Continuum\\Anaconda3\\lib\\site-packages\\IPython\\core\\interactiveshell.py in run_code(self=<IPython.kernel.zmq.zmqshell.ZMQInteractiveShell object>, code_obj=<code object <module> at 0x000000000B163930, file \"<ipython-input-28-720bd00ca491>\", line 17>, result=<IPython.core.interactiveshell.ExecutionResult object>)\n   3030         outflag = 1  # happens in more places, so it's easier as default\n   3031         try:\n   3032             try:\n   3033                 self.hooks.pre_run_code_hook()\n   3034                 #rprint('Running code', repr(code_obj)) # dbg\n-> 3035                 exec(code_obj, self.user_global_ns, self.user_ns)\n        code_obj = <code object <module> at 0x000000000B163930, file \"<ipython-input-28-720bd00ca491>\", line 17>\n        self.user_global_ns = {'D': <class 'decimal.Decimal'>, 'DataFrame': <class 'pandas.core.frame.DataFrame'>, 'GridSearchCV': <class 'sklearn.grid_search.GridSearchCV'>, 'In': ['', 'df.head(3)', \"import matplotlib.pyplot as plt\\nget_ipython().ma...replace('%','').astype('float')/100\\n\\n# #df.dtypes\", 'df.head(3)', \"# Pandas can not store NaN in int type column, t...nt_rate'].str.replace('%','').astype('float')/100\", '# Remove the rows where int_rate is missing\\ndf =..., this is critical\\ndf = df.reset_index(drop=True)', \"df.drop(['id_loan','id_borrower'],1, inplace=True)\", \"from datetime import datetime\\n# Read the column ...dttoday),'M').astype(int))/12)\\n\\ndf['issue_d'] = d\", '# Remove the rows where annual income claim is l..., this is critical\\ndf = df.reset_index(drop=True)', \"df.drop(['emp_title'],1, inplace=True)\", \"df.replace('n/a', np.nan,inplace=True)\\ndf.emp_le...)\\ndf['emp_length'] = df['emp_length'].astype(int)\", \"df.drop(['purpose'],1, inplace=True)\\nprint('loan...ue counts:')\\nprint (df.loan_title.value_counts())\", \"df.drop(['loan_title'],1, inplace=True)\", \"df.drop(['zip_code'],1, inplace=True)\", 'from datetime import datetime\\n# Read the column ....nonzero(d <0)[0][0])\\n# t[np.nonzero(d <0)[0][0]]', \"df.revol_util = pd.Series(df.revol_util).str.replace('%', '').astype(float)\", \"df.drop(['funded_amt','funded_amt_inv','mths_sin...t_deliq', 'total_cr_line'], axis=1, inplace=True)\", 'df2 = df', 'df2 = pd.get_dummies(df2)', 'from sklearn import ensemble\\nfrom sklearn import...[:offset]\\nX_test, y_test = X[offset:], y[offset:]', ...], 'KDEUnivariate': <class 'statsmodels.nonparametric.kde.KDEUnivariate'>, 'Out': {3:   int_rate  id_loan  id_borrower loan_amt funded...     17                f  \n\n[3 rows x 32 columns], 23:         loan_amt  term  emp_length  annual_inc  ...                 0  \n\n[287201 rows x 131 columns], 26:         loan_amt  term  emp_length  annual_inc  ...                 0  \n\n[287201 rows x 131 columns]}, 'SVR': <class 'sklearn.svm.classes.SVR'>, 'Series': <class 'pandas.core.series.Series'>, 'X': array([[  1.56100005e-01,   1.60000000e+04,   6.....00000000e+00,   0.00000000e+00]], dtype=float32), 'X_test': array([[  1.19900003e-01,   1.44000000e+04,   3.....00000000e+00,   0.00000000e+00]], dtype=float32), ...}\n        self.user_ns = {'D': <class 'decimal.Decimal'>, 'DataFrame': <class 'pandas.core.frame.DataFrame'>, 'GridSearchCV': <class 'sklearn.grid_search.GridSearchCV'>, 'In': ['', 'df.head(3)', \"import matplotlib.pyplot as plt\\nget_ipython().ma...replace('%','').astype('float')/100\\n\\n# #df.dtypes\", 'df.head(3)', \"# Pandas can not store NaN in int type column, t...nt_rate'].str.replace('%','').astype('float')/100\", '# Remove the rows where int_rate is missing\\ndf =..., this is critical\\ndf = df.reset_index(drop=True)', \"df.drop(['id_loan','id_borrower'],1, inplace=True)\", \"from datetime import datetime\\n# Read the column ...dttoday),'M').astype(int))/12)\\n\\ndf['issue_d'] = d\", '# Remove the rows where annual income claim is l..., this is critical\\ndf = df.reset_index(drop=True)', \"df.drop(['emp_title'],1, inplace=True)\", \"df.replace('n/a', np.nan,inplace=True)\\ndf.emp_le...)\\ndf['emp_length'] = df['emp_length'].astype(int)\", \"df.drop(['purpose'],1, inplace=True)\\nprint('loan...ue counts:')\\nprint (df.loan_title.value_counts())\", \"df.drop(['loan_title'],1, inplace=True)\", \"df.drop(['zip_code'],1, inplace=True)\", 'from datetime import datetime\\n# Read the column ....nonzero(d <0)[0][0])\\n# t[np.nonzero(d <0)[0][0]]', \"df.revol_util = pd.Series(df.revol_util).str.replace('%', '').astype(float)\", \"df.drop(['funded_amt','funded_amt_inv','mths_sin...t_deliq', 'total_cr_line'], axis=1, inplace=True)\", 'df2 = df', 'df2 = pd.get_dummies(df2)', 'from sklearn import ensemble\\nfrom sklearn import...[:offset]\\nX_test, y_test = X[offset:], y[offset:]', ...], 'KDEUnivariate': <class 'statsmodels.nonparametric.kde.KDEUnivariate'>, 'Out': {3:   int_rate  id_loan  id_borrower loan_amt funded...     17                f  \n\n[3 rows x 32 columns], 23:         loan_amt  term  emp_length  annual_inc  ...                 0  \n\n[287201 rows x 131 columns], 26:         loan_amt  term  emp_length  annual_inc  ...                 0  \n\n[287201 rows x 131 columns]}, 'SVR': <class 'sklearn.svm.classes.SVR'>, 'Series': <class 'pandas.core.series.Series'>, 'X': array([[  1.56100005e-01,   1.60000000e+04,   6.....00000000e+00,   0.00000000e+00]], dtype=float32), 'X_test': array([[  1.19900003e-01,   1.44000000e+04,   3.....00000000e+00,   0.00000000e+00]], dtype=float32), ...}\n   3036             finally:\n   3037                 # Reset our crash handler in place\n   3038                 sys.excepthook = old_excepthook\n   3039         except SystemExit as e:\n\n...........................................................................\nC:\\Users\\ks692\\Documents\\Dingchao\\Courses\\CS81_Machine_Learning\\HW\\independhw\\statefarm\\<ipython-input-28-720bd00ca491> in <module>()\n     12 #               }\n     13 \n     14 est = GridSearchCV(ensemble.GradientBoostingRegressor(n_estimators=100),\n     15                    param_grid, n_jobs=4, refit=True)\n     16 \n---> 17 est.fit(X_train, y_train)\n     18 \n     19 best_params = est.best_params_\n     20 \n     21 \n\n...........................................................................\nC:\\Users\\ks692\\AppData\\Local\\Continuum\\Anaconda3\\lib\\site-packages\\sklearn\\grid_search.py in fit(self=GridSearchCV(cv=None, error_score='raise',\n     ... score_func=None, scoring=None,\n       verbose=0), X=array([[  1.56100005e-01,   1.60000000e+04,   6.....00000000e+00,   1.00000000e+00]], dtype=float32), y=array([ 0.1561,  0.2376,  0.1727, ...,  0.089 ,  0.2148,  0.143 ]))\n    727         y : array-like, shape = [n_samples] or [n_samples, n_output], optional\n    728             Target relative to X for classification or regression;\n    729             None for unsupervised learning.\n    730 \n    731         \"\"\"\n--> 732         return self._fit(X, y, ParameterGrid(self.param_grid))\n        self._fit = <bound method GridSearchCV._fit of GridSearchCV(...score_func=None, scoring=None,\n       verbose=0)>\n        X = array([[  1.56100005e-01,   1.60000000e+04,   6.....00000000e+00,   1.00000000e+00]], dtype=float32)\n        y = array([ 0.1561,  0.2376,  0.1727, ...,  0.089 ,  0.2148,  0.143 ])\n        self.param_grid = {'learning_rate': [0.1, 0.05, 0.02, 0.01], 'max_depth': [4, 6], 'max_features': [1.0, 0.3, 0.1], 'min_samples_leaf': [3, 5, 9, 17]}\n    733 \n    734 \n    735 class RandomizedSearchCV(BaseSearchCV):\n    736     \"\"\"Randomized search on hyper parameters.\n\n...........................................................................\nC:\\Users\\ks692\\AppData\\Local\\Continuum\\Anaconda3\\lib\\site-packages\\sklearn\\grid_search.py in _fit(self=GridSearchCV(cv=None, error_score='raise',\n     ... score_func=None, scoring=None,\n       verbose=0), X=array([[  1.56100005e-01,   1.60000000e+04,   6.....00000000e+00,   1.00000000e+00]], dtype=float32), y=array([ 0.1561,  0.2376,  0.1727, ...,  0.089 ,  0.2148,  0.143 ]), parameter_iterable=<sklearn.grid_search.ParameterGrid object>)\n    500         )(\n    501             delayed(_fit_and_score)(clone(base_estimator), X, y, self.scorer_,\n    502                                     train, test, self.verbose, parameters,\n    503                                     self.fit_params, return_parameters=True,\n    504                                     error_score=self.error_score)\n--> 505                 for parameters in parameter_iterable\n        parameters = undefined\n        parameter_iterable = <sklearn.grid_search.ParameterGrid object>\n    506                 for train, test in cv)\n    507 \n    508         # Out is a list of triplet: score, estimator, n_test_samples\n    509         n_fits = len(out)\n\n...........................................................................\nC:\\Users\\ks692\\AppData\\Local\\Continuum\\Anaconda3\\lib\\site-packages\\sklearn\\externals\\joblib\\parallel.py in __call__(self=Parallel(n_jobs=4), iterable=<itertools.islice object>)\n    661             if pre_dispatch == \"all\" or n_jobs == 1:\n    662                 # The iterable was consumed all at once by the above for loop.\n    663                 # No need to wait for async callbacks to trigger to\n    664                 # consumption.\n    665                 self._iterating = False\n--> 666             self.retrieve()\n        self.retrieve = <bound method Parallel.retrieve of Parallel(n_jobs=4)>\n    667             # Make sure that we get a last message telling us we are done\n    668             elapsed_time = time.time() - self._start_time\n    669             self._print('Done %3i out of %3i | elapsed: %s finished',\n    670                         (len(self._output),\n\n    ---------------------------------------------------------------------------\n    Sub-process traceback:\n    ---------------------------------------------------------------------------\n    ValueError                                         Mon Jan 25 10:32:00 2016\nPID: 10120Python 3.4.3: C:\\Users\\ks692\\AppData\\Local\\Continuum\\Anaconda3\\python.exe\n...........................................................................\nC:\\Users\\ks692\\AppData\\Local\\Continuum\\Anaconda3\\lib\\site-packages\\sklearn\\cross_validation.py in _fit_and_score(estimator=GradientBoostingRegressor(alpha=0.9, init=None, ...None, subsample=1.0, verbose=0, warm_start=False), X=memmap([[  1.56100005e-01,   1.60000000e+04,   6....00000000e+00,   1.00000000e+00]], dtype=float32), y=array([ 0.1561,  0.2376,  0.1727, ...,  0.089 ,  0.2148,  0.143 ]), scorer=<function _passthrough_scorer>, train=array([ 71800,  71801,  71802, ..., 215397, 215398, 215399]), test=array([    0,     1,     2, ..., 71797, 71798, 71799]), verbose=0, parameters={'learning_rate': 0.1, 'max_depth': 4, 'max_features': 1.0, 'min_samples_leaf': 3}, fit_params={}, return_train_score=False, return_parameters=True, error_score='raise')\n   1454 \n   1455     try:\n   1456         if y_train is None:\n   1457             estimator.fit(X_train, **fit_params)\n   1458         else:\n-> 1459             estimator.fit(X_train, y_train, **fit_params)\n        estimator.fit = <bound method GradientBoostingRegressor.fit of G...one, subsample=1.0, verbose=0, warm_start=False)>\n        X_train = memmap([[  1.21200003e-01,   1.05000000e+04,   3....00000000e+00,   1.00000000e+00]], dtype=float32)\n        y_train = array([ 0.1212,  0.1599,  0.0762, ...,  0.089 ,  0.2148,  0.143 ])\n        fit_params = {}\n   1460 \n   1461     except Exception as e:\n   1462         if error_score == 'raise':\n   1463             raise\n\n...........................................................................\nC:\\Users\\ks692\\AppData\\Local\\Continuum\\Anaconda3\\lib\\site-packages\\sklearn\\ensemble\\gradient_boosting.py in fit(self=GradientBoostingRegressor(alpha=0.9, init=None, ...None, subsample=1.0, verbose=0, warm_start=False), X=memmap([[  1.21200003e-01,   1.05000000e+04,   3....00000000e+00,   1.00000000e+00]], dtype=float32), y=array([ 0.1212,  0.1599,  0.0762, ...,  0.089 ,  0.2148,  0.143 ]), sample_weight=None, monitor=None)\n    936         # if not warmstart - clear the estimator state\n    937         if not self.warm_start:\n    938             self._clear_state()\n    939 \n    940         # Check input\n--> 941         X, y = check_X_y(X, y, dtype=DTYPE)\n        X = memmap([[  1.21200003e-01,   1.05000000e+04,   3....00000000e+00,   1.00000000e+00]], dtype=float32)\n        y = array([ 0.1212,  0.1599,  0.0762, ...,  0.089 ,  0.2148,  0.143 ])\n    942         n_samples, self.n_features = X.shape\n    943         if sample_weight is None:\n    944             sample_weight = np.ones(n_samples, dtype=np.float32)\n    945         else:\n\n...........................................................................\nC:\\Users\\ks692\\AppData\\Local\\Continuum\\Anaconda3\\lib\\site-packages\\sklearn\\utils\\validation.py in check_X_y(X=memmap([[  1.21200003e-01,   1.05000000e+04,   3....00000000e+00,   1.00000000e+00]], dtype=float32), y=array([ 0.1212,  0.1599,  0.0762, ...,  0.089 ,  0.2148,  0.143 ]), accept_sparse=None, dtype=<class 'numpy.float32'>, order=None, copy=False, force_all_finite=True, ensure_2d=True, allow_nd=False, multi_output=False, ensure_min_samples=1, ensure_min_features=1, y_numeric=False)\n    439     X_converted : object\n    440         The converted and validated X.\n    441     \"\"\"\n    442     X = check_array(X, accept_sparse, dtype, order, copy, force_all_finite,\n    443                     ensure_2d, allow_nd, ensure_min_samples,\n--> 444                     ensure_min_features)\n        ensure_min_features = 1\n    445     if multi_output:\n    446         y = check_array(y, 'csr', force_all_finite=True, ensure_2d=False,\n    447                         dtype=None)\n    448     else:\n\n...........................................................................\nC:\\Users\\ks692\\AppData\\Local\\Continuum\\Anaconda3\\lib\\site-packages\\sklearn\\utils\\validation.py in check_array(array=array([[  1.21200003e-01,   1.05000000e+04,   3.....00000000e+00,   1.00000000e+00]], dtype=float32), accept_sparse=None, dtype=<class 'numpy.float32'>, order=None, copy=False, force_all_finite=True, ensure_2d=True, allow_nd=False, ensure_min_samples=1, ensure_min_features=1)\n    347             array = array.astype(np.float64)\n    348         if not allow_nd and array.ndim >= 3:\n    349             raise ValueError(\"Found array with dim %d. Expected <= 2\" %\n    350                              array.ndim)\n    351         if force_all_finite:\n--> 352             _assert_all_finite(array)\n        array = array([[  1.21200003e-01,   1.05000000e+04,   3.....00000000e+00,   1.00000000e+00]], dtype=float32)\n    353 \n    354     shape_repr = _shape_repr(array.shape)\n    355     if ensure_min_samples > 0:\n    356         n_samples = _num_samples(array)\n\n...........................................................................\nC:\\Users\\ks692\\AppData\\Local\\Continuum\\Anaconda3\\lib\\site-packages\\sklearn\\utils\\validation.py in _assert_all_finite(X=array([[  1.21200003e-01,   1.05000000e+04,   3.....00000000e+00,   1.00000000e+00]], dtype=float32))\n     47     # everything is finite; fall back to O(n) space np.isfinite to prevent\n     48     # false positives from overflow in sum method.\n     49     if (X.dtype.char in np.typecodes['AllFloat'] and not np.isfinite(X.sum())\n     50             and not np.isfinite(X).all()):\n     51         raise ValueError(\"Input contains NaN, infinity\"\n---> 52                          \" or a value too large for %r.\" % X.dtype)\n        X.dtype = dtype('float32')\n     53 \n     54 \n     55 def assert_all_finite(X):\n     56     \"\"\"Throw a ValueError if X contains NaN or infinity.\n\nValueError: Input contains NaN, infinity or a value too large for dtype('float32').\n___________________________________________________________________________",
     "output_type": "error",
     "traceback": [
      "\u001b[1;31m---------------------------------------------------------------------------\u001b[0m",
      "\u001b[1;31mRemoteTraceback\u001b[0m                           Traceback (most recent call last)",
      "\u001b[1;31mRemoteTraceback\u001b[0m: \n\"\"\"\nTraceback (most recent call last):\n  File \"C:\\Users\\ks692\\AppData\\Local\\Continuum\\Anaconda3\\lib\\site-packages\\sklearn\\externals\\joblib\\parallel.py\", line 94, in __call__\n    return self.func(*args, **kwargs)\n  File \"C:\\Users\\ks692\\AppData\\Local\\Continuum\\Anaconda3\\lib\\site-packages\\sklearn\\cross_validation.py\", line 1459, in _fit_and_score\n    estimator.fit(X_train, y_train, **fit_params)\n  File \"C:\\Users\\ks692\\AppData\\Local\\Continuum\\Anaconda3\\lib\\site-packages\\sklearn\\ensemble\\gradient_boosting.py\", line 941, in fit\n    X, y = check_X_y(X, y, dtype=DTYPE)\n  File \"C:\\Users\\ks692\\AppData\\Local\\Continuum\\Anaconda3\\lib\\site-packages\\sklearn\\utils\\validation.py\", line 444, in check_X_y\n    ensure_min_features)\n  File \"C:\\Users\\ks692\\AppData\\Local\\Continuum\\Anaconda3\\lib\\site-packages\\sklearn\\utils\\validation.py\", line 352, in check_array\n    _assert_all_finite(array)\n  File \"C:\\Users\\ks692\\AppData\\Local\\Continuum\\Anaconda3\\lib\\site-packages\\sklearn\\utils\\validation.py\", line 52, in _assert_all_finite\n    \" or a value too large for %r.\" % X.dtype)\nValueError: Input contains NaN, infinity or a value too large for dtype('float32').\n\nDuring handling of the above exception, another exception occurred:\n\nTraceback (most recent call last):\n  File \"C:\\Users\\ks692\\AppData\\Local\\Continuum\\Anaconda3\\lib\\multiprocessing\\pool.py\", line 119, in worker\n    result = (True, func(*args, **kwds))\n  File \"C:\\Users\\ks692\\AppData\\Local\\Continuum\\Anaconda3\\lib\\site-packages\\sklearn\\externals\\joblib\\parallel.py\", line 104, in __call__\n    raise TransportableException(text, e_type)\nsklearn.externals.joblib.my_exceptions.TransportableException: TransportableException\n___________________________________________________________________________\nValueError                                         Mon Jan 25 10:32:00 2016\nPID: 10120Python 3.4.3: C:\\Users\\ks692\\AppData\\Local\\Continuum\\Anaconda3\\python.exe\n...........................................................................\nC:\\Users\\ks692\\AppData\\Local\\Continuum\\Anaconda3\\lib\\site-packages\\sklearn\\cross_validation.py in _fit_and_score(estimator=GradientBoostingRegressor(alpha=0.9, init=None, ...None, subsample=1.0, verbose=0, warm_start=False), X=memmap([[  1.56100005e-01,   1.60000000e+04,   6....00000000e+00,   1.00000000e+00]], dtype=float32), y=array([ 0.1561,  0.2376,  0.1727, ...,  0.089 ,  0.2148,  0.143 ]), scorer=<function _passthrough_scorer>, train=array([ 71800,  71801,  71802, ..., 215397, 215398, 215399]), test=array([    0,     1,     2, ..., 71797, 71798, 71799]), verbose=0, parameters={'learning_rate': 0.1, 'max_depth': 4, 'max_features': 1.0, 'min_samples_leaf': 3}, fit_params={}, return_train_score=False, return_parameters=True, error_score='raise')\n   1454 \n   1455     try:\n   1456         if y_train is None:\n   1457             estimator.fit(X_train, **fit_params)\n   1458         else:\n-> 1459             estimator.fit(X_train, y_train, **fit_params)\n        estimator.fit = <bound method GradientBoostingRegressor.fit of G...one, subsample=1.0, verbose=0, warm_start=False)>\n        X_train = memmap([[  1.21200003e-01,   1.05000000e+04,   3....00000000e+00,   1.00000000e+00]], dtype=float32)\n        y_train = array([ 0.1212,  0.1599,  0.0762, ...,  0.089 ,  0.2148,  0.143 ])\n        fit_params = {}\n   1460 \n   1461     except Exception as e:\n   1462         if error_score == 'raise':\n   1463             raise\n\n...........................................................................\nC:\\Users\\ks692\\AppData\\Local\\Continuum\\Anaconda3\\lib\\site-packages\\sklearn\\ensemble\\gradient_boosting.py in fit(self=GradientBoostingRegressor(alpha=0.9, init=None, ...None, subsample=1.0, verbose=0, warm_start=False), X=memmap([[  1.21200003e-01,   1.05000000e+04,   3....00000000e+00,   1.00000000e+00]], dtype=float32), y=array([ 0.1212,  0.1599,  0.0762, ...,  0.089 ,  0.2148,  0.143 ]), sample_weight=None, monitor=None)\n    936         # if not warmstart - clear the estimator state\n    937         if not self.warm_start:\n    938             self._clear_state()\n    939 \n    940         # Check input\n--> 941         X, y = check_X_y(X, y, dtype=DTYPE)\n        X = memmap([[  1.21200003e-01,   1.05000000e+04,   3....00000000e+00,   1.00000000e+00]], dtype=float32)\n        y = array([ 0.1212,  0.1599,  0.0762, ...,  0.089 ,  0.2148,  0.143 ])\n    942         n_samples, self.n_features = X.shape\n    943         if sample_weight is None:\n    944             sample_weight = np.ones(n_samples, dtype=np.float32)\n    945         else:\n\n...........................................................................\nC:\\Users\\ks692\\AppData\\Local\\Continuum\\Anaconda3\\lib\\site-packages\\sklearn\\utils\\validation.py in check_X_y(X=memmap([[  1.21200003e-01,   1.05000000e+04,   3....00000000e+00,   1.00000000e+00]], dtype=float32), y=array([ 0.1212,  0.1599,  0.0762, ...,  0.089 ,  0.2148,  0.143 ]), accept_sparse=None, dtype=<class 'numpy.float32'>, order=None, copy=False, force_all_finite=True, ensure_2d=True, allow_nd=False, multi_output=False, ensure_min_samples=1, ensure_min_features=1, y_numeric=False)\n    439     X_converted : object\n    440         The converted and validated X.\n    441     \"\"\"\n    442     X = check_array(X, accept_sparse, dtype, order, copy, force_all_finite,\n    443                     ensure_2d, allow_nd, ensure_min_samples,\n--> 444                     ensure_min_features)\n        ensure_min_features = 1\n    445     if multi_output:\n    446         y = check_array(y, 'csr', force_all_finite=True, ensure_2d=False,\n    447                         dtype=None)\n    448     else:\n\n...........................................................................\nC:\\Users\\ks692\\AppData\\Local\\Continuum\\Anaconda3\\lib\\site-packages\\sklearn\\utils\\validation.py in check_array(array=array([[  1.21200003e-01,   1.05000000e+04,   3.....00000000e+00,   1.00000000e+00]], dtype=float32), accept_sparse=None, dtype=<class 'numpy.float32'>, order=None, copy=False, force_all_finite=True, ensure_2d=True, allow_nd=False, ensure_min_samples=1, ensure_min_features=1)\n    347             array = array.astype(np.float64)\n    348         if not allow_nd and array.ndim >= 3:\n    349             raise ValueError(\"Found array with dim %d. Expected <= 2\" %\n    350                              array.ndim)\n    351         if force_all_finite:\n--> 352             _assert_all_finite(array)\n        array = array([[  1.21200003e-01,   1.05000000e+04,   3.....00000000e+00,   1.00000000e+00]], dtype=float32)\n    353 \n    354     shape_repr = _shape_repr(array.shape)\n    355     if ensure_min_samples > 0:\n    356         n_samples = _num_samples(array)\n\n...........................................................................\nC:\\Users\\ks692\\AppData\\Local\\Continuum\\Anaconda3\\lib\\site-packages\\sklearn\\utils\\validation.py in _assert_all_finite(X=array([[  1.21200003e-01,   1.05000000e+04,   3.....00000000e+00,   1.00000000e+00]], dtype=float32))\n     47     # everything is finite; fall back to O(n) space np.isfinite to prevent\n     48     # false positives from overflow in sum method.\n     49     if (X.dtype.char in np.typecodes['AllFloat'] and not np.isfinite(X.sum())\n     50             and not np.isfinite(X).all()):\n     51         raise ValueError(\"Input contains NaN, infinity\"\n---> 52                          \" or a value too large for %r.\" % X.dtype)\n        X.dtype = dtype('float32')\n     53 \n     54 \n     55 def assert_all_finite(X):\n     56     \"\"\"Throw a ValueError if X contains NaN or infinity.\n\nValueError: Input contains NaN, infinity or a value too large for dtype('float32').\n___________________________________________________________________________\n\"\"\"",
      "\nThe above exception was the direct cause of the following exception:\n",
      "\u001b[1;31mTransportableException\u001b[0m                    Traceback (most recent call last)",
      "\u001b[1;32mC:\\Users\\ks692\\AppData\\Local\\Continuum\\Anaconda3\\lib\\site-packages\\sklearn\\externals\\joblib\\parallel.py\u001b[0m in \u001b[0;36mretrieve\u001b[1;34m(self)\u001b[0m\n\u001b[0;32m    517\u001b[0m             \u001b[1;32mtry\u001b[0m\u001b[1;33m:\u001b[0m\u001b[1;33m\u001b[0m\u001b[0m\n\u001b[1;32m--> 518\u001b[1;33m                 \u001b[0mself\u001b[0m\u001b[1;33m.\u001b[0m\u001b[0m_output\u001b[0m\u001b[1;33m.\u001b[0m\u001b[0mappend\u001b[0m\u001b[1;33m(\u001b[0m\u001b[0mjob\u001b[0m\u001b[1;33m.\u001b[0m\u001b[0mget\u001b[0m\u001b[1;33m(\u001b[0m\u001b[1;33m)\u001b[0m\u001b[1;33m)\u001b[0m\u001b[1;33m\u001b[0m\u001b[0m\n\u001b[0m\u001b[0;32m    519\u001b[0m             \u001b[1;32mexcept\u001b[0m \u001b[0mtuple\u001b[0m\u001b[1;33m(\u001b[0m\u001b[0mself\u001b[0m\u001b[1;33m.\u001b[0m\u001b[0mexceptions\u001b[0m\u001b[1;33m)\u001b[0m \u001b[1;32mas\u001b[0m \u001b[0mexception\u001b[0m\u001b[1;33m:\u001b[0m\u001b[1;33m\u001b[0m\u001b[0m\n",
      "\u001b[1;32mC:\\Users\\ks692\\AppData\\Local\\Continuum\\Anaconda3\\lib\\multiprocessing\\pool.py\u001b[0m in \u001b[0;36mget\u001b[1;34m(self, timeout)\u001b[0m\n\u001b[0;32m    598\u001b[0m         \u001b[1;32melse\u001b[0m\u001b[1;33m:\u001b[0m\u001b[1;33m\u001b[0m\u001b[0m\n\u001b[1;32m--> 599\u001b[1;33m             \u001b[1;32mraise\u001b[0m \u001b[0mself\u001b[0m\u001b[1;33m.\u001b[0m\u001b[0m_value\u001b[0m\u001b[1;33m\u001b[0m\u001b[0m\n\u001b[0m\u001b[0;32m    600\u001b[0m \u001b[1;33m\u001b[0m\u001b[0m\n",
      "\u001b[1;31mTransportableException\u001b[0m: TransportableException\n___________________________________________________________________________\nValueError                                         Mon Jan 25 10:32:00 2016\nPID: 10120Python 3.4.3: C:\\Users\\ks692\\AppData\\Local\\Continuum\\Anaconda3\\python.exe\n...........................................................................\nC:\\Users\\ks692\\AppData\\Local\\Continuum\\Anaconda3\\lib\\site-packages\\sklearn\\cross_validation.py in _fit_and_score(estimator=GradientBoostingRegressor(alpha=0.9, init=None, ...None, subsample=1.0, verbose=0, warm_start=False), X=memmap([[  1.56100005e-01,   1.60000000e+04,   6....00000000e+00,   1.00000000e+00]], dtype=float32), y=array([ 0.1561,  0.2376,  0.1727, ...,  0.089 ,  0.2148,  0.143 ]), scorer=<function _passthrough_scorer>, train=array([ 71800,  71801,  71802, ..., 215397, 215398, 215399]), test=array([    0,     1,     2, ..., 71797, 71798, 71799]), verbose=0, parameters={'learning_rate': 0.1, 'max_depth': 4, 'max_features': 1.0, 'min_samples_leaf': 3}, fit_params={}, return_train_score=False, return_parameters=True, error_score='raise')\n   1454 \n   1455     try:\n   1456         if y_train is None:\n   1457             estimator.fit(X_train, **fit_params)\n   1458         else:\n-> 1459             estimator.fit(X_train, y_train, **fit_params)\n        estimator.fit = <bound method GradientBoostingRegressor.fit of G...one, subsample=1.0, verbose=0, warm_start=False)>\n        X_train = memmap([[  1.21200003e-01,   1.05000000e+04,   3....00000000e+00,   1.00000000e+00]], dtype=float32)\n        y_train = array([ 0.1212,  0.1599,  0.0762, ...,  0.089 ,  0.2148,  0.143 ])\n        fit_params = {}\n   1460 \n   1461     except Exception as e:\n   1462         if error_score == 'raise':\n   1463             raise\n\n...........................................................................\nC:\\Users\\ks692\\AppData\\Local\\Continuum\\Anaconda3\\lib\\site-packages\\sklearn\\ensemble\\gradient_boosting.py in fit(self=GradientBoostingRegressor(alpha=0.9, init=None, ...None, subsample=1.0, verbose=0, warm_start=False), X=memmap([[  1.21200003e-01,   1.05000000e+04,   3....00000000e+00,   1.00000000e+00]], dtype=float32), y=array([ 0.1212,  0.1599,  0.0762, ...,  0.089 ,  0.2148,  0.143 ]), sample_weight=None, monitor=None)\n    936         # if not warmstart - clear the estimator state\n    937         if not self.warm_start:\n    938             self._clear_state()\n    939 \n    940         # Check input\n--> 941         X, y = check_X_y(X, y, dtype=DTYPE)\n        X = memmap([[  1.21200003e-01,   1.05000000e+04,   3....00000000e+00,   1.00000000e+00]], dtype=float32)\n        y = array([ 0.1212,  0.1599,  0.0762, ...,  0.089 ,  0.2148,  0.143 ])\n    942         n_samples, self.n_features = X.shape\n    943         if sample_weight is None:\n    944             sample_weight = np.ones(n_samples, dtype=np.float32)\n    945         else:\n\n...........................................................................\nC:\\Users\\ks692\\AppData\\Local\\Continuum\\Anaconda3\\lib\\site-packages\\sklearn\\utils\\validation.py in check_X_y(X=memmap([[  1.21200003e-01,   1.05000000e+04,   3....00000000e+00,   1.00000000e+00]], dtype=float32), y=array([ 0.1212,  0.1599,  0.0762, ...,  0.089 ,  0.2148,  0.143 ]), accept_sparse=None, dtype=<class 'numpy.float32'>, order=None, copy=False, force_all_finite=True, ensure_2d=True, allow_nd=False, multi_output=False, ensure_min_samples=1, ensure_min_features=1, y_numeric=False)\n    439     X_converted : object\n    440         The converted and validated X.\n    441     \"\"\"\n    442     X = check_array(X, accept_sparse, dtype, order, copy, force_all_finite,\n    443                     ensure_2d, allow_nd, ensure_min_samples,\n--> 444                     ensure_min_features)\n        ensure_min_features = 1\n    445     if multi_output:\n    446         y = check_array(y, 'csr', force_all_finite=True, ensure_2d=False,\n    447                         dtype=None)\n    448     else:\n\n...........................................................................\nC:\\Users\\ks692\\AppData\\Local\\Continuum\\Anaconda3\\lib\\site-packages\\sklearn\\utils\\validation.py in check_array(array=array([[  1.21200003e-01,   1.05000000e+04,   3.....00000000e+00,   1.00000000e+00]], dtype=float32), accept_sparse=None, dtype=<class 'numpy.float32'>, order=None, copy=False, force_all_finite=True, ensure_2d=True, allow_nd=False, ensure_min_samples=1, ensure_min_features=1)\n    347             array = array.astype(np.float64)\n    348         if not allow_nd and array.ndim >= 3:\n    349             raise ValueError(\"Found array with dim %d. Expected <= 2\" %\n    350                              array.ndim)\n    351         if force_all_finite:\n--> 352             _assert_all_finite(array)\n        array = array([[  1.21200003e-01,   1.05000000e+04,   3.....00000000e+00,   1.00000000e+00]], dtype=float32)\n    353 \n    354     shape_repr = _shape_repr(array.shape)\n    355     if ensure_min_samples > 0:\n    356         n_samples = _num_samples(array)\n\n...........................................................................\nC:\\Users\\ks692\\AppData\\Local\\Continuum\\Anaconda3\\lib\\site-packages\\sklearn\\utils\\validation.py in _assert_all_finite(X=array([[  1.21200003e-01,   1.05000000e+04,   3.....00000000e+00,   1.00000000e+00]], dtype=float32))\n     47     # everything is finite; fall back to O(n) space np.isfinite to prevent\n     48     # false positives from overflow in sum method.\n     49     if (X.dtype.char in np.typecodes['AllFloat'] and not np.isfinite(X.sum())\n     50             and not np.isfinite(X).all()):\n     51         raise ValueError(\"Input contains NaN, infinity\"\n---> 52                          \" or a value too large for %r.\" % X.dtype)\n        X.dtype = dtype('float32')\n     53 \n     54 \n     55 def assert_all_finite(X):\n     56     \"\"\"Throw a ValueError if X contains NaN or infinity.\n\nValueError: Input contains NaN, infinity or a value too large for dtype('float32').\n___________________________________________________________________________",
      "\nDuring handling of the above exception, another exception occurred:\n",
      "\u001b[1;31mJoblibValueError\u001b[0m                          Traceback (most recent call last)",
      "\u001b[1;32m<ipython-input-28-720bd00ca491>\u001b[0m in \u001b[0;36m<module>\u001b[1;34m()\u001b[0m\n\u001b[0;32m     15\u001b[0m                    param_grid, n_jobs=4, refit=True)\n\u001b[0;32m     16\u001b[0m \u001b[1;33m\u001b[0m\u001b[0m\n\u001b[1;32m---> 17\u001b[1;33m \u001b[0mest\u001b[0m\u001b[1;33m.\u001b[0m\u001b[0mfit\u001b[0m\u001b[1;33m(\u001b[0m\u001b[0mX_train\u001b[0m\u001b[1;33m,\u001b[0m \u001b[0my_train\u001b[0m\u001b[1;33m)\u001b[0m\u001b[1;33m\u001b[0m\u001b[0m\n\u001b[0m\u001b[0;32m     18\u001b[0m \u001b[1;33m\u001b[0m\u001b[0m\n\u001b[0;32m     19\u001b[0m \u001b[0mbest_params\u001b[0m \u001b[1;33m=\u001b[0m \u001b[0mest\u001b[0m\u001b[1;33m.\u001b[0m\u001b[0mbest_params_\u001b[0m\u001b[1;33m\u001b[0m\u001b[0m\n",
      "\u001b[1;32mC:\\Users\\ks692\\AppData\\Local\\Continuum\\Anaconda3\\lib\\site-packages\\sklearn\\grid_search.py\u001b[0m in \u001b[0;36mfit\u001b[1;34m(self, X, y)\u001b[0m\n\u001b[0;32m    730\u001b[0m \u001b[1;33m\u001b[0m\u001b[0m\n\u001b[0;32m    731\u001b[0m         \"\"\"\n\u001b[1;32m--> 732\u001b[1;33m         \u001b[1;32mreturn\u001b[0m \u001b[0mself\u001b[0m\u001b[1;33m.\u001b[0m\u001b[0m_fit\u001b[0m\u001b[1;33m(\u001b[0m\u001b[0mX\u001b[0m\u001b[1;33m,\u001b[0m \u001b[0my\u001b[0m\u001b[1;33m,\u001b[0m \u001b[0mParameterGrid\u001b[0m\u001b[1;33m(\u001b[0m\u001b[0mself\u001b[0m\u001b[1;33m.\u001b[0m\u001b[0mparam_grid\u001b[0m\u001b[1;33m)\u001b[0m\u001b[1;33m)\u001b[0m\u001b[1;33m\u001b[0m\u001b[0m\n\u001b[0m\u001b[0;32m    733\u001b[0m \u001b[1;33m\u001b[0m\u001b[0m\n\u001b[0;32m    734\u001b[0m \u001b[1;33m\u001b[0m\u001b[0m\n",
      "\u001b[1;32mC:\\Users\\ks692\\AppData\\Local\\Continuum\\Anaconda3\\lib\\site-packages\\sklearn\\grid_search.py\u001b[0m in \u001b[0;36m_fit\u001b[1;34m(self, X, y, parameter_iterable)\u001b[0m\n\u001b[0;32m    503\u001b[0m                                     \u001b[0mself\u001b[0m\u001b[1;33m.\u001b[0m\u001b[0mfit_params\u001b[0m\u001b[1;33m,\u001b[0m \u001b[0mreturn_parameters\u001b[0m\u001b[1;33m=\u001b[0m\u001b[1;32mTrue\u001b[0m\u001b[1;33m,\u001b[0m\u001b[1;33m\u001b[0m\u001b[0m\n\u001b[0;32m    504\u001b[0m                                     error_score=self.error_score)\n\u001b[1;32m--> 505\u001b[1;33m                 \u001b[1;32mfor\u001b[0m \u001b[0mparameters\u001b[0m \u001b[1;32min\u001b[0m \u001b[0mparameter_iterable\u001b[0m\u001b[1;33m\u001b[0m\u001b[0m\n\u001b[0m\u001b[0;32m    506\u001b[0m                 for train, test in cv)\n\u001b[0;32m    507\u001b[0m \u001b[1;33m\u001b[0m\u001b[0m\n",
      "\u001b[1;32mC:\\Users\\ks692\\AppData\\Local\\Continuum\\Anaconda3\\lib\\site-packages\\sklearn\\externals\\joblib\\parallel.py\u001b[0m in \u001b[0;36m__call__\u001b[1;34m(self, iterable)\u001b[0m\n\u001b[0;32m    664\u001b[0m                 \u001b[1;31m# consumption.\u001b[0m\u001b[1;33m\u001b[0m\u001b[1;33m\u001b[0m\u001b[0m\n\u001b[0;32m    665\u001b[0m                 \u001b[0mself\u001b[0m\u001b[1;33m.\u001b[0m\u001b[0m_iterating\u001b[0m \u001b[1;33m=\u001b[0m \u001b[1;32mFalse\u001b[0m\u001b[1;33m\u001b[0m\u001b[0m\n\u001b[1;32m--> 666\u001b[1;33m             \u001b[0mself\u001b[0m\u001b[1;33m.\u001b[0m\u001b[0mretrieve\u001b[0m\u001b[1;33m(\u001b[0m\u001b[1;33m)\u001b[0m\u001b[1;33m\u001b[0m\u001b[0m\n\u001b[0m\u001b[0;32m    667\u001b[0m             \u001b[1;31m# Make sure that we get a last message telling us we are done\u001b[0m\u001b[1;33m\u001b[0m\u001b[1;33m\u001b[0m\u001b[0m\n\u001b[0;32m    668\u001b[0m             \u001b[0melapsed_time\u001b[0m \u001b[1;33m=\u001b[0m \u001b[0mtime\u001b[0m\u001b[1;33m.\u001b[0m\u001b[0mtime\u001b[0m\u001b[1;33m(\u001b[0m\u001b[1;33m)\u001b[0m \u001b[1;33m-\u001b[0m \u001b[0mself\u001b[0m\u001b[1;33m.\u001b[0m\u001b[0m_start_time\u001b[0m\u001b[1;33m\u001b[0m\u001b[0m\n",
      "\u001b[1;32mC:\\Users\\ks692\\AppData\\Local\\Continuum\\Anaconda3\\lib\\site-packages\\sklearn\\externals\\joblib\\parallel.py\u001b[0m in \u001b[0;36mretrieve\u001b[1;34m(self)\u001b[0m\n\u001b[0;32m    547\u001b[0m                         \u001b[1;31m# Convert this to a JoblibException\u001b[0m\u001b[1;33m\u001b[0m\u001b[1;33m\u001b[0m\u001b[0m\n\u001b[0;32m    548\u001b[0m                         \u001b[0mexception_type\u001b[0m \u001b[1;33m=\u001b[0m \u001b[0m_mk_exception\u001b[0m\u001b[1;33m(\u001b[0m\u001b[0mexception\u001b[0m\u001b[1;33m.\u001b[0m\u001b[0metype\u001b[0m\u001b[1;33m)\u001b[0m\u001b[1;33m[\u001b[0m\u001b[1;36m0\u001b[0m\u001b[1;33m]\u001b[0m\u001b[1;33m\u001b[0m\u001b[0m\n\u001b[1;32m--> 549\u001b[1;33m                         \u001b[1;32mraise\u001b[0m \u001b[0mexception_type\u001b[0m\u001b[1;33m(\u001b[0m\u001b[0mreport\u001b[0m\u001b[1;33m)\u001b[0m\u001b[1;33m\u001b[0m\u001b[0m\n\u001b[0m\u001b[0;32m    550\u001b[0m                     \u001b[1;32mraise\u001b[0m \u001b[0mexception\u001b[0m\u001b[1;33m\u001b[0m\u001b[0m\n\u001b[0;32m    551\u001b[0m                 \u001b[1;32mfinally\u001b[0m\u001b[1;33m:\u001b[0m\u001b[1;33m\u001b[0m\u001b[0m\n",
      "\u001b[1;31mJoblibValueError\u001b[0m: JoblibValueError\n___________________________________________________________________________\nMultiprocessing exception:\n    ...........................................................................\nC:\\Users\\ks692\\AppData\\Local\\Continuum\\Anaconda3\\lib\\runpy.py in _run_module_as_main(mod_name='IPython.kernel.__main__', alter_argv=1)\n    165         sys.exit(msg)\n    166     main_globals = sys.modules[\"__main__\"].__dict__\n    167     if alter_argv:\n    168         sys.argv[0] = mod_spec.origin\n    169     return _run_code(code, main_globals, None,\n--> 170                      \"__main__\", mod_spec)\n        mod_spec = ModuleSpec(name='IPython.kernel.__main__', loade...ib\\\\site-packages\\\\IPython\\\\kernel\\\\__main__.py')\n    171 \n    172 def run_module(mod_name, init_globals=None,\n    173                run_name=None, alter_sys=False):\n    174     \"\"\"Execute a module's code without importing it\n\n...........................................................................\nC:\\Users\\ks692\\AppData\\Local\\Continuum\\Anaconda3\\lib\\runpy.py in _run_code(code=<code object <module> at 0x0000000003D40ED0, fil...ite-packages\\IPython\\kernel\\__main__.py\", line 1>, run_globals={'__builtins__': <module 'builtins' (built-in)>, '__cached__': r'C:\\Users\\ks692\\AppData\\Local\\Continuum\\Anaconda3...Python\\kernel\\__pycache__\\__main__.cpython-34.pyc', '__doc__': None, '__file__': r'C:\\Users\\ks692\\AppData\\Local\\Continuum\\Anaconda3\\lib\\site-packages\\IPython\\kernel\\__main__.py', '__loader__': <_frozen_importlib.SourceFileLoader object>, '__name__': '__main__', '__package__': 'IPython.kernel', '__spec__': ModuleSpec(name='IPython.kernel.__main__', loade...ib\\\\site-packages\\\\IPython\\\\kernel\\\\__main__.py'), 'app': <module 'IPython.kernel.zmq.kernelapp' from 'C:\\...te-packages\\\\IPython\\\\kernel\\\\zmq\\\\kernelapp.py'>}, init_globals=None, mod_name='__main__', mod_spec=ModuleSpec(name='IPython.kernel.__main__', loade...ib\\\\site-packages\\\\IPython\\\\kernel\\\\__main__.py'), pkg_name='IPython.kernel', script_name=None)\n     80                        __cached__ = cached,\n     81                        __doc__ = None,\n     82                        __loader__ = loader,\n     83                        __package__ = pkg_name,\n     84                        __spec__ = mod_spec)\n---> 85     exec(code, run_globals)\n        code = <code object <module> at 0x0000000003D40ED0, fil...ite-packages\\IPython\\kernel\\__main__.py\", line 1>\n        run_globals = {'__builtins__': <module 'builtins' (built-in)>, '__cached__': r'C:\\Users\\ks692\\AppData\\Local\\Continuum\\Anaconda3...Python\\kernel\\__pycache__\\__main__.cpython-34.pyc', '__doc__': None, '__file__': r'C:\\Users\\ks692\\AppData\\Local\\Continuum\\Anaconda3\\lib\\site-packages\\IPython\\kernel\\__main__.py', '__loader__': <_frozen_importlib.SourceFileLoader object>, '__name__': '__main__', '__package__': 'IPython.kernel', '__spec__': ModuleSpec(name='IPython.kernel.__main__', loade...ib\\\\site-packages\\\\IPython\\\\kernel\\\\__main__.py'), 'app': <module 'IPython.kernel.zmq.kernelapp' from 'C:\\...te-packages\\\\IPython\\\\kernel\\\\zmq\\\\kernelapp.py'>}\n     86     return run_globals\n     87 \n     88 def _run_module_code(code, init_globals=None,\n     89                     mod_name=None, mod_spec=None,\n\n...........................................................................\nC:\\Users\\ks692\\AppData\\Local\\Continuum\\Anaconda3\\lib\\site-packages\\IPython\\kernel\\__main__.py in <module>()\n      1 \n      2 \n----> 3 \n      4 if __name__ == '__main__':\n      5     from IPython.kernel.zmq import kernelapp as app\n      6     app.launch_new_instance()\n      7 \n      8 \n      9 \n     10 \n\n...........................................................................\nC:\\Users\\ks692\\AppData\\Local\\Continuum\\Anaconda3\\lib\\site-packages\\IPython\\config\\application.py in launch_instance(cls=<class 'IPython.kernel.zmq.kernelapp.IPKernelApp'>, argv=None, **kwargs={})\n    569         \n    570         If a global instance already exists, this reinitializes and starts it\n    571         \"\"\"\n    572         app = cls.instance(**kwargs)\n    573         app.initialize(argv)\n--> 574         app.start()\n        app.start = <bound method IPKernelApp.start of <IPython.kernel.zmq.kernelapp.IPKernelApp object>>\n    575 \n    576 #-----------------------------------------------------------------------------\n    577 # utility functions, for convenience\n    578 #-----------------------------------------------------------------------------\n\n...........................................................................\nC:\\Users\\ks692\\AppData\\Local\\Continuum\\Anaconda3\\lib\\site-packages\\IPython\\kernel\\zmq\\kernelapp.py in start(self=<IPython.kernel.zmq.kernelapp.IPKernelApp object>)\n    368     def start(self):\n    369         if self.poller is not None:\n    370             self.poller.start()\n    371         self.kernel.start()\n    372         try:\n--> 373             ioloop.IOLoop.instance().start()\n    374         except KeyboardInterrupt:\n    375             pass\n    376 \n    377 launch_new_instance = IPKernelApp.launch_instance\n\n...........................................................................\nC:\\Users\\ks692\\AppData\\Local\\Continuum\\Anaconda3\\lib\\site-packages\\zmq\\eventloop\\ioloop.py in start(self=<zmq.eventloop.ioloop.ZMQIOLoop object>)\n    146             PollIOLoop.configure(ZMQIOLoop)\n    147         return PollIOLoop.instance()\n    148     \n    149     def start(self):\n    150         try:\n--> 151             super(ZMQIOLoop, self).start()\n        self.start = <bound method ZMQIOLoop.start of <zmq.eventloop.ioloop.ZMQIOLoop object>>\n    152         except ZMQError as e:\n    153             if e.errno == ETERM:\n    154                 # quietly return on ETERM\n    155                 pass\n\n...........................................................................\nC:\\Users\\ks692\\AppData\\Local\\Continuum\\Anaconda3\\lib\\site-packages\\tornado\\ioloop.py in start(self=<zmq.eventloop.ioloop.ZMQIOLoop object>)\n    861                 self._events.update(event_pairs)\n    862                 while self._events:\n    863                     fd, events = self._events.popitem()\n    864                     try:\n    865                         fd_obj, handler_func = self._handlers[fd]\n--> 866                         handler_func(fd_obj, events)\n        handler_func = <function wrap.<locals>.null_wrapper>\n        fd_obj = <zmq.sugar.socket.Socket object>\n        events = 1\n    867                     except (OSError, IOError) as e:\n    868                         if errno_from_exception(e) == errno.EPIPE:\n    869                             # Happens when the client closes the connection\n    870                             pass\n\n...........................................................................\nC:\\Users\\ks692\\AppData\\Local\\Continuum\\Anaconda3\\lib\\site-packages\\tornado\\stack_context.py in null_wrapper(*args=(<zmq.sugar.socket.Socket object>, 1), **kwargs={})\n    270         # Fast path when there are no active contexts.\n    271         def null_wrapper(*args, **kwargs):\n    272             try:\n    273                 current_state = _state.contexts\n    274                 _state.contexts = cap_contexts[0]\n--> 275                 return fn(*args, **kwargs)\n        args = (<zmq.sugar.socket.Socket object>, 1)\n        kwargs = {}\n    276             finally:\n    277                 _state.contexts = current_state\n    278         null_wrapper._wrapped = True\n    279         return null_wrapper\n\n...........................................................................\nC:\\Users\\ks692\\AppData\\Local\\Continuum\\Anaconda3\\lib\\site-packages\\zmq\\eventloop\\zmqstream.py in _handle_events(self=<zmq.eventloop.zmqstream.ZMQStream object>, fd=<zmq.sugar.socket.Socket object>, events=1)\n    428             # dispatch events:\n    429             if events & IOLoop.ERROR:\n    430                 gen_log.error(\"got POLLERR event on ZMQStream, which doesn't make sense\")\n    431                 return\n    432             if events & IOLoop.READ:\n--> 433                 self._handle_recv()\n        self._handle_recv = <bound method ZMQStream._handle_recv of <zmq.eventloop.zmqstream.ZMQStream object>>\n    434                 if not self.socket:\n    435                     return\n    436             if events & IOLoop.WRITE:\n    437                 self._handle_send()\n\n...........................................................................\nC:\\Users\\ks692\\AppData\\Local\\Continuum\\Anaconda3\\lib\\site-packages\\zmq\\eventloop\\zmqstream.py in _handle_recv(self=<zmq.eventloop.zmqstream.ZMQStream object>)\n    460                 gen_log.error(\"RECV Error: %s\"%zmq.strerror(e.errno))\n    461         else:\n    462             if self._recv_callback:\n    463                 callback = self._recv_callback\n    464                 # self._recv_callback = None\n--> 465                 self._run_callback(callback, msg)\n        self._run_callback = <bound method ZMQStream._run_callback of <zmq.eventloop.zmqstream.ZMQStream object>>\n        callback = <function wrap.<locals>.null_wrapper>\n        msg = [<zmq.sugar.frame.Frame object>, <zmq.sugar.frame.Frame object>, <zmq.sugar.frame.Frame object>, <zmq.sugar.frame.Frame object>, <zmq.sugar.frame.Frame object>, <zmq.sugar.frame.Frame object>, <zmq.sugar.frame.Frame object>]\n    466                 \n    467         # self.update_state()\n    468         \n    469 \n\n...........................................................................\nC:\\Users\\ks692\\AppData\\Local\\Continuum\\Anaconda3\\lib\\site-packages\\zmq\\eventloop\\zmqstream.py in _run_callback(self=<zmq.eventloop.zmqstream.ZMQStream object>, callback=<function wrap.<locals>.null_wrapper>, *args=([<zmq.sugar.frame.Frame object>, <zmq.sugar.frame.Frame object>, <zmq.sugar.frame.Frame object>, <zmq.sugar.frame.Frame object>, <zmq.sugar.frame.Frame object>, <zmq.sugar.frame.Frame object>, <zmq.sugar.frame.Frame object>],), **kwargs={})\n    402         close our socket.\"\"\"\n    403         try:\n    404             # Use a NullContext to ensure that all StackContexts are run\n    405             # inside our blanket exception handler rather than outside.\n    406             with stack_context.NullContext():\n--> 407                 callback(*args, **kwargs)\n        callback = <function wrap.<locals>.null_wrapper>\n        args = ([<zmq.sugar.frame.Frame object>, <zmq.sugar.frame.Frame object>, <zmq.sugar.frame.Frame object>, <zmq.sugar.frame.Frame object>, <zmq.sugar.frame.Frame object>, <zmq.sugar.frame.Frame object>, <zmq.sugar.frame.Frame object>],)\n        kwargs = {}\n    408         except:\n    409             gen_log.error(\"Uncaught exception, closing connection.\",\n    410                           exc_info=True)\n    411             # Close the socket on an uncaught exception from a user callback\n\n...........................................................................\nC:\\Users\\ks692\\AppData\\Local\\Continuum\\Anaconda3\\lib\\site-packages\\tornado\\stack_context.py in null_wrapper(*args=([<zmq.sugar.frame.Frame object>, <zmq.sugar.frame.Frame object>, <zmq.sugar.frame.Frame object>, <zmq.sugar.frame.Frame object>, <zmq.sugar.frame.Frame object>, <zmq.sugar.frame.Frame object>, <zmq.sugar.frame.Frame object>],), **kwargs={})\n    270         # Fast path when there are no active contexts.\n    271         def null_wrapper(*args, **kwargs):\n    272             try:\n    273                 current_state = _state.contexts\n    274                 _state.contexts = cap_contexts[0]\n--> 275                 return fn(*args, **kwargs)\n        args = ([<zmq.sugar.frame.Frame object>, <zmq.sugar.frame.Frame object>, <zmq.sugar.frame.Frame object>, <zmq.sugar.frame.Frame object>, <zmq.sugar.frame.Frame object>, <zmq.sugar.frame.Frame object>, <zmq.sugar.frame.Frame object>],)\n        kwargs = {}\n    276             finally:\n    277                 _state.contexts = current_state\n    278         null_wrapper._wrapped = True\n    279         return null_wrapper\n\n...........................................................................\nC:\\Users\\ks692\\AppData\\Local\\Continuum\\Anaconda3\\lib\\site-packages\\IPython\\kernel\\zmq\\kernelbase.py in dispatcher(msg=[<zmq.sugar.frame.Frame object>, <zmq.sugar.frame.Frame object>, <zmq.sugar.frame.Frame object>, <zmq.sugar.frame.Frame object>, <zmq.sugar.frame.Frame object>, <zmq.sugar.frame.Frame object>, <zmq.sugar.frame.Frame object>])\n    247         if self.control_stream:\n    248             self.control_stream.on_recv(self.dispatch_control, copy=False)\n    249 \n    250         def make_dispatcher(stream):\n    251             def dispatcher(msg):\n--> 252                 return self.dispatch_shell(stream, msg)\n        msg = [<zmq.sugar.frame.Frame object>, <zmq.sugar.frame.Frame object>, <zmq.sugar.frame.Frame object>, <zmq.sugar.frame.Frame object>, <zmq.sugar.frame.Frame object>, <zmq.sugar.frame.Frame object>, <zmq.sugar.frame.Frame object>]\n    253             return dispatcher\n    254 \n    255         for s in self.shell_streams:\n    256             s.on_recv(make_dispatcher(s), copy=False)\n\n...........................................................................\nC:\\Users\\ks692\\AppData\\Local\\Continuum\\Anaconda3\\lib\\site-packages\\IPython\\kernel\\zmq\\kernelbase.py in dispatch_shell(self=<IPython.kernel.zmq.ipkernel.IPythonKernel object>, stream=<zmq.eventloop.zmqstream.ZMQStream object>, msg={'buffers': [], 'content': {'allow_stdin': True, 'code': 'from sklearn.grid_search import GridSearchCV\\n\\npa...X_train, y_train)\\n\\nbest_params = est.best_params_', 'silent': False, 'stop_on_error': True, 'store_history': True, 'user_expressions': {}}, 'header': {'msg_id': 'C322EBA8417F4197847FA26163BBFC4D', 'msg_type': 'execute_request', 'session': '0EC27FB2265B416F9FEF768ACDE7D4B3', 'username': 'username', 'version': '5.0'}, 'metadata': {}, 'msg_id': 'C322EBA8417F4197847FA26163BBFC4D', 'msg_type': 'execute_request', 'parent_header': {}})\n    208         else:\n    209             # ensure default_int_handler during handler call\n    210             sig = signal(SIGINT, default_int_handler)\n    211             self.log.debug(\"%s: %s\", msg_type, msg)\n    212             try:\n--> 213                 handler(stream, idents, msg)\n        handler = <bound method IPythonKernel.execute_request of <IPython.kernel.zmq.ipkernel.IPythonKernel object>>\n        stream = <zmq.eventloop.zmqstream.ZMQStream object>\n        idents = [b'0EC27FB2265B416F9FEF768ACDE7D4B3']\n        msg = {'buffers': [], 'content': {'allow_stdin': True, 'code': 'from sklearn.grid_search import GridSearchCV\\n\\npa...X_train, y_train)\\n\\nbest_params = est.best_params_', 'silent': False, 'stop_on_error': True, 'store_history': True, 'user_expressions': {}}, 'header': {'msg_id': 'C322EBA8417F4197847FA26163BBFC4D', 'msg_type': 'execute_request', 'session': '0EC27FB2265B416F9FEF768ACDE7D4B3', 'username': 'username', 'version': '5.0'}, 'metadata': {}, 'msg_id': 'C322EBA8417F4197847FA26163BBFC4D', 'msg_type': 'execute_request', 'parent_header': {}}\n    214             except Exception:\n    215                 self.log.error(\"Exception in message handler:\", exc_info=True)\n    216             finally:\n    217                 signal(SIGINT, sig)\n\n...........................................................................\nC:\\Users\\ks692\\AppData\\Local\\Continuum\\Anaconda3\\lib\\site-packages\\IPython\\kernel\\zmq\\kernelbase.py in execute_request(self=<IPython.kernel.zmq.ipkernel.IPythonKernel object>, stream=<zmq.eventloop.zmqstream.ZMQStream object>, ident=[b'0EC27FB2265B416F9FEF768ACDE7D4B3'], parent={'buffers': [], 'content': {'allow_stdin': True, 'code': 'from sklearn.grid_search import GridSearchCV\\n\\npa...X_train, y_train)\\n\\nbest_params = est.best_params_', 'silent': False, 'stop_on_error': True, 'store_history': True, 'user_expressions': {}}, 'header': {'msg_id': 'C322EBA8417F4197847FA26163BBFC4D', 'msg_type': 'execute_request', 'session': '0EC27FB2265B416F9FEF768ACDE7D4B3', 'username': 'username', 'version': '5.0'}, 'metadata': {}, 'msg_id': 'C322EBA8417F4197847FA26163BBFC4D', 'msg_type': 'execute_request', 'parent_header': {}})\n    357         if not silent:\n    358             self.execution_count += 1\n    359             self._publish_execute_input(code, parent, self.execution_count)\n    360         \n    361         reply_content = self.do_execute(code, silent, store_history,\n--> 362                                         user_expressions, allow_stdin)\n        user_expressions = {}\n        allow_stdin = True\n    363 \n    364         # Flush output before sending the reply.\n    365         sys.stdout.flush()\n    366         sys.stderr.flush()\n\n...........................................................................\nC:\\Users\\ks692\\AppData\\Local\\Continuum\\Anaconda3\\lib\\site-packages\\IPython\\kernel\\zmq\\ipkernel.py in do_execute(self=<IPython.kernel.zmq.ipkernel.IPythonKernel object>, code='from sklearn.grid_search import GridSearchCV\\n\\npa...X_train, y_train)\\n\\nbest_params = est.best_params_', silent=False, store_history=True, user_expressions={}, allow_stdin=True)\n    176 \n    177         reply_content = {}\n    178         # FIXME: the shell calls the exception handler itself.\n    179         shell._reply_content = None\n    180         try:\n--> 181             shell.run_cell(code, store_history=store_history, silent=silent)\n        shell.run_cell = <bound method ZMQInteractiveShell.run_cell of <I....kernel.zmq.zmqshell.ZMQInteractiveShell object>>\n        code = 'from sklearn.grid_search import GridSearchCV\\n\\npa...X_train, y_train)\\n\\nbest_params = est.best_params_'\n        store_history = True\n        silent = False\n    182         except:\n    183             status = u'error'\n    184             # FIXME: this code right now isn't being used yet by default,\n    185             # because the run_cell() call above directly fires off exception\n\n...........................................................................\nC:\\Users\\ks692\\AppData\\Local\\Continuum\\Anaconda3\\lib\\site-packages\\IPython\\core\\interactiveshell.py in run_cell(self=<IPython.kernel.zmq.zmqshell.ZMQInteractiveShell object>, raw_cell='from sklearn.grid_search import GridSearchCV\\n\\npa...X_train, y_train)\\n\\nbest_params = est.best_params_', store_history=True, silent=False, shell_futures=True)\n   2866                 self.displayhook.exec_result = result\n   2867 \n   2868                 # Execute the user code\n   2869                 interactivity = \"none\" if silent else self.ast_node_interactivity\n   2870                 self.run_ast_nodes(code_ast.body, cell_name,\n-> 2871                    interactivity=interactivity, compiler=compiler, result=result)\n        interactivity = 'last_expr'\n        compiler = <IPython.core.compilerop.CachingCompiler object>\n   2872 \n   2873                 # Reset this so later displayed values do not modify the\n   2874                 # ExecutionResult\n   2875                 self.displayhook.exec_result = None\n\n...........................................................................\nC:\\Users\\ks692\\AppData\\Local\\Continuum\\Anaconda3\\lib\\site-packages\\IPython\\core\\interactiveshell.py in run_ast_nodes(self=<IPython.kernel.zmq.zmqshell.ZMQInteractiveShell object>, nodelist=[<_ast.ImportFrom object>, <_ast.Assign object>, <_ast.Assign object>, <_ast.Expr object>, <_ast.Assign object>], cell_name='<ipython-input-28-720bd00ca491>', interactivity='none', compiler=<IPython.core.compilerop.CachingCompiler object>, result=<IPython.core.interactiveshell.ExecutionResult object>)\n   2970 \n   2971         try:\n   2972             for i, node in enumerate(to_run_exec):\n   2973                 mod = ast.Module([node])\n   2974                 code = compiler(mod, cell_name, \"exec\")\n-> 2975                 if self.run_code(code, result):\n        self.run_code = <bound method ZMQInteractiveShell.run_code of <I....kernel.zmq.zmqshell.ZMQInteractiveShell object>>\n        code = <code object <module> at 0x000000000B163930, file \"<ipython-input-28-720bd00ca491>\", line 17>\n        result = <IPython.core.interactiveshell.ExecutionResult object>\n   2976                     return True\n   2977 \n   2978             for i, node in enumerate(to_run_interactive):\n   2979                 mod = ast.Interactive([node])\n\n...........................................................................\nC:\\Users\\ks692\\AppData\\Local\\Continuum\\Anaconda3\\lib\\site-packages\\IPython\\core\\interactiveshell.py in run_code(self=<IPython.kernel.zmq.zmqshell.ZMQInteractiveShell object>, code_obj=<code object <module> at 0x000000000B163930, file \"<ipython-input-28-720bd00ca491>\", line 17>, result=<IPython.core.interactiveshell.ExecutionResult object>)\n   3030         outflag = 1  # happens in more places, so it's easier as default\n   3031         try:\n   3032             try:\n   3033                 self.hooks.pre_run_code_hook()\n   3034                 #rprint('Running code', repr(code_obj)) # dbg\n-> 3035                 exec(code_obj, self.user_global_ns, self.user_ns)\n        code_obj = <code object <module> at 0x000000000B163930, file \"<ipython-input-28-720bd00ca491>\", line 17>\n        self.user_global_ns = {'D': <class 'decimal.Decimal'>, 'DataFrame': <class 'pandas.core.frame.DataFrame'>, 'GridSearchCV': <class 'sklearn.grid_search.GridSearchCV'>, 'In': ['', 'df.head(3)', \"import matplotlib.pyplot as plt\\nget_ipython().ma...replace('%','').astype('float')/100\\n\\n# #df.dtypes\", 'df.head(3)', \"# Pandas can not store NaN in int type column, t...nt_rate'].str.replace('%','').astype('float')/100\", '# Remove the rows where int_rate is missing\\ndf =..., this is critical\\ndf = df.reset_index(drop=True)', \"df.drop(['id_loan','id_borrower'],1, inplace=True)\", \"from datetime import datetime\\n# Read the column ...dttoday),'M').astype(int))/12)\\n\\ndf['issue_d'] = d\", '# Remove the rows where annual income claim is l..., this is critical\\ndf = df.reset_index(drop=True)', \"df.drop(['emp_title'],1, inplace=True)\", \"df.replace('n/a', np.nan,inplace=True)\\ndf.emp_le...)\\ndf['emp_length'] = df['emp_length'].astype(int)\", \"df.drop(['purpose'],1, inplace=True)\\nprint('loan...ue counts:')\\nprint (df.loan_title.value_counts())\", \"df.drop(['loan_title'],1, inplace=True)\", \"df.drop(['zip_code'],1, inplace=True)\", 'from datetime import datetime\\n# Read the column ....nonzero(d <0)[0][0])\\n# t[np.nonzero(d <0)[0][0]]', \"df.revol_util = pd.Series(df.revol_util).str.replace('%', '').astype(float)\", \"df.drop(['funded_amt','funded_amt_inv','mths_sin...t_deliq', 'total_cr_line'], axis=1, inplace=True)\", 'df2 = df', 'df2 = pd.get_dummies(df2)', 'from sklearn import ensemble\\nfrom sklearn import...[:offset]\\nX_test, y_test = X[offset:], y[offset:]', ...], 'KDEUnivariate': <class 'statsmodels.nonparametric.kde.KDEUnivariate'>, 'Out': {3:   int_rate  id_loan  id_borrower loan_amt funded...     17                f  \n\n[3 rows x 32 columns], 23:         loan_amt  term  emp_length  annual_inc  ...                 0  \n\n[287201 rows x 131 columns], 26:         loan_amt  term  emp_length  annual_inc  ...                 0  \n\n[287201 rows x 131 columns]}, 'SVR': <class 'sklearn.svm.classes.SVR'>, 'Series': <class 'pandas.core.series.Series'>, 'X': array([[  1.56100005e-01,   1.60000000e+04,   6.....00000000e+00,   0.00000000e+00]], dtype=float32), 'X_test': array([[  1.19900003e-01,   1.44000000e+04,   3.....00000000e+00,   0.00000000e+00]], dtype=float32), ...}\n        self.user_ns = {'D': <class 'decimal.Decimal'>, 'DataFrame': <class 'pandas.core.frame.DataFrame'>, 'GridSearchCV': <class 'sklearn.grid_search.GridSearchCV'>, 'In': ['', 'df.head(3)', \"import matplotlib.pyplot as plt\\nget_ipython().ma...replace('%','').astype('float')/100\\n\\n# #df.dtypes\", 'df.head(3)', \"# Pandas can not store NaN in int type column, t...nt_rate'].str.replace('%','').astype('float')/100\", '# Remove the rows where int_rate is missing\\ndf =..., this is critical\\ndf = df.reset_index(drop=True)', \"df.drop(['id_loan','id_borrower'],1, inplace=True)\", \"from datetime import datetime\\n# Read the column ...dttoday),'M').astype(int))/12)\\n\\ndf['issue_d'] = d\", '# Remove the rows where annual income claim is l..., this is critical\\ndf = df.reset_index(drop=True)', \"df.drop(['emp_title'],1, inplace=True)\", \"df.replace('n/a', np.nan,inplace=True)\\ndf.emp_le...)\\ndf['emp_length'] = df['emp_length'].astype(int)\", \"df.drop(['purpose'],1, inplace=True)\\nprint('loan...ue counts:')\\nprint (df.loan_title.value_counts())\", \"df.drop(['loan_title'],1, inplace=True)\", \"df.drop(['zip_code'],1, inplace=True)\", 'from datetime import datetime\\n# Read the column ....nonzero(d <0)[0][0])\\n# t[np.nonzero(d <0)[0][0]]', \"df.revol_util = pd.Series(df.revol_util).str.replace('%', '').astype(float)\", \"df.drop(['funded_amt','funded_amt_inv','mths_sin...t_deliq', 'total_cr_line'], axis=1, inplace=True)\", 'df2 = df', 'df2 = pd.get_dummies(df2)', 'from sklearn import ensemble\\nfrom sklearn import...[:offset]\\nX_test, y_test = X[offset:], y[offset:]', ...], 'KDEUnivariate': <class 'statsmodels.nonparametric.kde.KDEUnivariate'>, 'Out': {3:   int_rate  id_loan  id_borrower loan_amt funded...     17                f  \n\n[3 rows x 32 columns], 23:         loan_amt  term  emp_length  annual_inc  ...                 0  \n\n[287201 rows x 131 columns], 26:         loan_amt  term  emp_length  annual_inc  ...                 0  \n\n[287201 rows x 131 columns]}, 'SVR': <class 'sklearn.svm.classes.SVR'>, 'Series': <class 'pandas.core.series.Series'>, 'X': array([[  1.56100005e-01,   1.60000000e+04,   6.....00000000e+00,   0.00000000e+00]], dtype=float32), 'X_test': array([[  1.19900003e-01,   1.44000000e+04,   3.....00000000e+00,   0.00000000e+00]], dtype=float32), ...}\n   3036             finally:\n   3037                 # Reset our crash handler in place\n   3038                 sys.excepthook = old_excepthook\n   3039         except SystemExit as e:\n\n...........................................................................\nC:\\Users\\ks692\\Documents\\Dingchao\\Courses\\CS81_Machine_Learning\\HW\\independhw\\statefarm\\<ipython-input-28-720bd00ca491> in <module>()\n     12 #               }\n     13 \n     14 est = GridSearchCV(ensemble.GradientBoostingRegressor(n_estimators=100),\n     15                    param_grid, n_jobs=4, refit=True)\n     16 \n---> 17 est.fit(X_train, y_train)\n     18 \n     19 best_params = est.best_params_\n     20 \n     21 \n\n...........................................................................\nC:\\Users\\ks692\\AppData\\Local\\Continuum\\Anaconda3\\lib\\site-packages\\sklearn\\grid_search.py in fit(self=GridSearchCV(cv=None, error_score='raise',\n     ... score_func=None, scoring=None,\n       verbose=0), X=array([[  1.56100005e-01,   1.60000000e+04,   6.....00000000e+00,   1.00000000e+00]], dtype=float32), y=array([ 0.1561,  0.2376,  0.1727, ...,  0.089 ,  0.2148,  0.143 ]))\n    727         y : array-like, shape = [n_samples] or [n_samples, n_output], optional\n    728             Target relative to X for classification or regression;\n    729             None for unsupervised learning.\n    730 \n    731         \"\"\"\n--> 732         return self._fit(X, y, ParameterGrid(self.param_grid))\n        self._fit = <bound method GridSearchCV._fit of GridSearchCV(...score_func=None, scoring=None,\n       verbose=0)>\n        X = array([[  1.56100005e-01,   1.60000000e+04,   6.....00000000e+00,   1.00000000e+00]], dtype=float32)\n        y = array([ 0.1561,  0.2376,  0.1727, ...,  0.089 ,  0.2148,  0.143 ])\n        self.param_grid = {'learning_rate': [0.1, 0.05, 0.02, 0.01], 'max_depth': [4, 6], 'max_features': [1.0, 0.3, 0.1], 'min_samples_leaf': [3, 5, 9, 17]}\n    733 \n    734 \n    735 class RandomizedSearchCV(BaseSearchCV):\n    736     \"\"\"Randomized search on hyper parameters.\n\n...........................................................................\nC:\\Users\\ks692\\AppData\\Local\\Continuum\\Anaconda3\\lib\\site-packages\\sklearn\\grid_search.py in _fit(self=GridSearchCV(cv=None, error_score='raise',\n     ... score_func=None, scoring=None,\n       verbose=0), X=array([[  1.56100005e-01,   1.60000000e+04,   6.....00000000e+00,   1.00000000e+00]], dtype=float32), y=array([ 0.1561,  0.2376,  0.1727, ...,  0.089 ,  0.2148,  0.143 ]), parameter_iterable=<sklearn.grid_search.ParameterGrid object>)\n    500         )(\n    501             delayed(_fit_and_score)(clone(base_estimator), X, y, self.scorer_,\n    502                                     train, test, self.verbose, parameters,\n    503                                     self.fit_params, return_parameters=True,\n    504                                     error_score=self.error_score)\n--> 505                 for parameters in parameter_iterable\n        parameters = undefined\n        parameter_iterable = <sklearn.grid_search.ParameterGrid object>\n    506                 for train, test in cv)\n    507 \n    508         # Out is a list of triplet: score, estimator, n_test_samples\n    509         n_fits = len(out)\n\n...........................................................................\nC:\\Users\\ks692\\AppData\\Local\\Continuum\\Anaconda3\\lib\\site-packages\\sklearn\\externals\\joblib\\parallel.py in __call__(self=Parallel(n_jobs=4), iterable=<itertools.islice object>)\n    661             if pre_dispatch == \"all\" or n_jobs == 1:\n    662                 # The iterable was consumed all at once by the above for loop.\n    663                 # No need to wait for async callbacks to trigger to\n    664                 # consumption.\n    665                 self._iterating = False\n--> 666             self.retrieve()\n        self.retrieve = <bound method Parallel.retrieve of Parallel(n_jobs=4)>\n    667             # Make sure that we get a last message telling us we are done\n    668             elapsed_time = time.time() - self._start_time\n    669             self._print('Done %3i out of %3i | elapsed: %s finished',\n    670                         (len(self._output),\n\n    ---------------------------------------------------------------------------\n    Sub-process traceback:\n    ---------------------------------------------------------------------------\n    ValueError                                         Mon Jan 25 10:32:00 2016\nPID: 10120Python 3.4.3: C:\\Users\\ks692\\AppData\\Local\\Continuum\\Anaconda3\\python.exe\n...........................................................................\nC:\\Users\\ks692\\AppData\\Local\\Continuum\\Anaconda3\\lib\\site-packages\\sklearn\\cross_validation.py in _fit_and_score(estimator=GradientBoostingRegressor(alpha=0.9, init=None, ...None, subsample=1.0, verbose=0, warm_start=False), X=memmap([[  1.56100005e-01,   1.60000000e+04,   6....00000000e+00,   1.00000000e+00]], dtype=float32), y=array([ 0.1561,  0.2376,  0.1727, ...,  0.089 ,  0.2148,  0.143 ]), scorer=<function _passthrough_scorer>, train=array([ 71800,  71801,  71802, ..., 215397, 215398, 215399]), test=array([    0,     1,     2, ..., 71797, 71798, 71799]), verbose=0, parameters={'learning_rate': 0.1, 'max_depth': 4, 'max_features': 1.0, 'min_samples_leaf': 3}, fit_params={}, return_train_score=False, return_parameters=True, error_score='raise')\n   1454 \n   1455     try:\n   1456         if y_train is None:\n   1457             estimator.fit(X_train, **fit_params)\n   1458         else:\n-> 1459             estimator.fit(X_train, y_train, **fit_params)\n        estimator.fit = <bound method GradientBoostingRegressor.fit of G...one, subsample=1.0, verbose=0, warm_start=False)>\n        X_train = memmap([[  1.21200003e-01,   1.05000000e+04,   3....00000000e+00,   1.00000000e+00]], dtype=float32)\n        y_train = array([ 0.1212,  0.1599,  0.0762, ...,  0.089 ,  0.2148,  0.143 ])\n        fit_params = {}\n   1460 \n   1461     except Exception as e:\n   1462         if error_score == 'raise':\n   1463             raise\n\n...........................................................................\nC:\\Users\\ks692\\AppData\\Local\\Continuum\\Anaconda3\\lib\\site-packages\\sklearn\\ensemble\\gradient_boosting.py in fit(self=GradientBoostingRegressor(alpha=0.9, init=None, ...None, subsample=1.0, verbose=0, warm_start=False), X=memmap([[  1.21200003e-01,   1.05000000e+04,   3....00000000e+00,   1.00000000e+00]], dtype=float32), y=array([ 0.1212,  0.1599,  0.0762, ...,  0.089 ,  0.2148,  0.143 ]), sample_weight=None, monitor=None)\n    936         # if not warmstart - clear the estimator state\n    937         if not self.warm_start:\n    938             self._clear_state()\n    939 \n    940         # Check input\n--> 941         X, y = check_X_y(X, y, dtype=DTYPE)\n        X = memmap([[  1.21200003e-01,   1.05000000e+04,   3....00000000e+00,   1.00000000e+00]], dtype=float32)\n        y = array([ 0.1212,  0.1599,  0.0762, ...,  0.089 ,  0.2148,  0.143 ])\n    942         n_samples, self.n_features = X.shape\n    943         if sample_weight is None:\n    944             sample_weight = np.ones(n_samples, dtype=np.float32)\n    945         else:\n\n...........................................................................\nC:\\Users\\ks692\\AppData\\Local\\Continuum\\Anaconda3\\lib\\site-packages\\sklearn\\utils\\validation.py in check_X_y(X=memmap([[  1.21200003e-01,   1.05000000e+04,   3....00000000e+00,   1.00000000e+00]], dtype=float32), y=array([ 0.1212,  0.1599,  0.0762, ...,  0.089 ,  0.2148,  0.143 ]), accept_sparse=None, dtype=<class 'numpy.float32'>, order=None, copy=False, force_all_finite=True, ensure_2d=True, allow_nd=False, multi_output=False, ensure_min_samples=1, ensure_min_features=1, y_numeric=False)\n    439     X_converted : object\n    440         The converted and validated X.\n    441     \"\"\"\n    442     X = check_array(X, accept_sparse, dtype, order, copy, force_all_finite,\n    443                     ensure_2d, allow_nd, ensure_min_samples,\n--> 444                     ensure_min_features)\n        ensure_min_features = 1\n    445     if multi_output:\n    446         y = check_array(y, 'csr', force_all_finite=True, ensure_2d=False,\n    447                         dtype=None)\n    448     else:\n\n...........................................................................\nC:\\Users\\ks692\\AppData\\Local\\Continuum\\Anaconda3\\lib\\site-packages\\sklearn\\utils\\validation.py in check_array(array=array([[  1.21200003e-01,   1.05000000e+04,   3.....00000000e+00,   1.00000000e+00]], dtype=float32), accept_sparse=None, dtype=<class 'numpy.float32'>, order=None, copy=False, force_all_finite=True, ensure_2d=True, allow_nd=False, ensure_min_samples=1, ensure_min_features=1)\n    347             array = array.astype(np.float64)\n    348         if not allow_nd and array.ndim >= 3:\n    349             raise ValueError(\"Found array with dim %d. Expected <= 2\" %\n    350                              array.ndim)\n    351         if force_all_finite:\n--> 352             _assert_all_finite(array)\n        array = array([[  1.21200003e-01,   1.05000000e+04,   3.....00000000e+00,   1.00000000e+00]], dtype=float32)\n    353 \n    354     shape_repr = _shape_repr(array.shape)\n    355     if ensure_min_samples > 0:\n    356         n_samples = _num_samples(array)\n\n...........................................................................\nC:\\Users\\ks692\\AppData\\Local\\Continuum\\Anaconda3\\lib\\site-packages\\sklearn\\utils\\validation.py in _assert_all_finite(X=array([[  1.21200003e-01,   1.05000000e+04,   3.....00000000e+00,   1.00000000e+00]], dtype=float32))\n     47     # everything is finite; fall back to O(n) space np.isfinite to prevent\n     48     # false positives from overflow in sum method.\n     49     if (X.dtype.char in np.typecodes['AllFloat'] and not np.isfinite(X.sum())\n     50             and not np.isfinite(X).all()):\n     51         raise ValueError(\"Input contains NaN, infinity\"\n---> 52                          \" or a value too large for %r.\" % X.dtype)\n        X.dtype = dtype('float32')\n     53 \n     54 \n     55 def assert_all_finite(X):\n     56     \"\"\"Throw a ValueError if X contains NaN or infinity.\n\nValueError: Input contains NaN, infinity or a value too large for dtype('float32').\n___________________________________________________________________________"
     ]
    }
   ],
   "source": [
    "from sklearn.grid_search import GridSearchCV\n",
    "\n",
    "param_grid = {'learning_rate': [0.1, 0.05, 0.02, 0.01],\n",
    "              'max_depth': [4, 6],\n",
    "              'min_samples_leaf': [3, 5, 9, 17],\n",
    "              'max_features': [1.0, 0.3, 0.1]\n",
    "              }\n",
    "# param_grid = {'learning_rate': [0.1],\n",
    "#               'max_depth': [4],\n",
    "#               'min_samples_leaf': [3],\n",
    "#               'max_features': [1.0],\n",
    "#               }\n",
    "\n",
    "est = GridSearchCV(ensemble.GradientBoostingRegressor(n_estimators=100),\n",
    "                   param_grid, n_jobs=4, refit=True)\n",
    "\n",
    "est.fit(X_train, y_train)\n",
    "\n",
    "best_params = est.best_params_"
   ]
  },
  {
   "cell_type": "code",
   "execution_count": null,
   "metadata": {
    "collapsed": true
   },
   "outputs": [],
   "source": []
  },
  {
   "cell_type": "code",
   "execution_count": 193,
   "metadata": {
    "collapsed": false
   },
   "outputs": [
    {
     "ename": "ValueError",
     "evalue": "Input contains NaN, infinity or a value too large for dtype('float64').",
     "output_type": "error",
     "traceback": [
      "\u001b[1;31m---------------------------------------------------------------------------\u001b[0m",
      "\u001b[1;31mValueError\u001b[0m                                Traceback (most recent call last)",
      "\u001b[1;32m<ipython-input-193-a8dbb40c2a4c>\u001b[0m in \u001b[0;36m<module>\u001b[1;34m()\u001b[0m\n\u001b[0;32m      6\u001b[0m \u001b[1;33m\u001b[0m\u001b[0m\n\u001b[0;32m      7\u001b[0m \u001b[0mclf\u001b[0m \u001b[1;33m=\u001b[0m \u001b[0mlinear_model\u001b[0m\u001b[1;33m.\u001b[0m\u001b[0mSGDRegressor\u001b[0m\u001b[1;33m(\u001b[0m\u001b[1;33m)\u001b[0m\u001b[1;33m\u001b[0m\u001b[0m\n\u001b[1;32m----> 8\u001b[1;33m \u001b[0mclf\u001b[0m\u001b[1;33m.\u001b[0m\u001b[0mfit\u001b[0m\u001b[1;33m(\u001b[0m\u001b[0mX\u001b[0m\u001b[1;33m,\u001b[0m \u001b[0my\u001b[0m\u001b[1;33m)\u001b[0m\u001b[1;33m\u001b[0m\u001b[0m\n\u001b[0m",
      "\u001b[1;32mC:\\Users\\ks692\\AppData\\Local\\Continuum\\Anaconda3\\lib\\site-packages\\sklearn\\linear_model\\stochastic_gradient.py\u001b[0m in \u001b[0;36mfit\u001b[1;34m(self, X, y, coef_init, intercept_init, sample_weight)\u001b[0m\n\u001b[0;32m    980\u001b[0m                          \u001b[0mcoef_init\u001b[0m\u001b[1;33m=\u001b[0m\u001b[0mcoef_init\u001b[0m\u001b[1;33m,\u001b[0m\u001b[1;33m\u001b[0m\u001b[0m\n\u001b[0;32m    981\u001b[0m                          \u001b[0mintercept_init\u001b[0m\u001b[1;33m=\u001b[0m\u001b[0mintercept_init\u001b[0m\u001b[1;33m,\u001b[0m\u001b[1;33m\u001b[0m\u001b[0m\n\u001b[1;32m--> 982\u001b[1;33m                          sample_weight=sample_weight)\n\u001b[0m\u001b[0;32m    983\u001b[0m \u001b[1;33m\u001b[0m\u001b[0m\n\u001b[0;32m    984\u001b[0m     \u001b[1;32mdef\u001b[0m \u001b[0mdecision_function\u001b[0m\u001b[1;33m(\u001b[0m\u001b[0mself\u001b[0m\u001b[1;33m,\u001b[0m \u001b[0mX\u001b[0m\u001b[1;33m)\u001b[0m\u001b[1;33m:\u001b[0m\u001b[1;33m\u001b[0m\u001b[0m\n",
      "\u001b[1;32mC:\\Users\\ks692\\AppData\\Local\\Continuum\\Anaconda3\\lib\\site-packages\\sklearn\\linear_model\\stochastic_gradient.py\u001b[0m in \u001b[0;36m_fit\u001b[1;34m(self, X, y, alpha, C, loss, learning_rate, coef_init, intercept_init, sample_weight)\u001b[0m\n\u001b[0;32m    949\u001b[0m         return self._partial_fit(X, y, alpha, C, loss, learning_rate,\n\u001b[0;32m    950\u001b[0m                                  \u001b[0mself\u001b[0m\u001b[1;33m.\u001b[0m\u001b[0mn_iter\u001b[0m\u001b[1;33m,\u001b[0m \u001b[0msample_weight\u001b[0m\u001b[1;33m,\u001b[0m\u001b[1;33m\u001b[0m\u001b[0m\n\u001b[1;32m--> 951\u001b[1;33m                                  coef_init, intercept_init)\n\u001b[0m\u001b[0;32m    952\u001b[0m \u001b[1;33m\u001b[0m\u001b[0m\n\u001b[0;32m    953\u001b[0m     def fit(self, X, y, coef_init=None, intercept_init=None,\n",
      "\u001b[1;32mC:\\Users\\ks692\\AppData\\Local\\Continuum\\Anaconda3\\lib\\site-packages\\sklearn\\linear_model\\stochastic_gradient.py\u001b[0m in \u001b[0;36m_partial_fit\u001b[1;34m(self, X, y, alpha, C, loss, learning_rate, n_iter, sample_weight, coef_init, intercept_init)\u001b[0m\n\u001b[0;32m    873\u001b[0m                      \u001b[0mn_iter\u001b[0m\u001b[1;33m,\u001b[0m \u001b[0msample_weight\u001b[0m\u001b[1;33m,\u001b[0m\u001b[1;33m\u001b[0m\u001b[0m\n\u001b[0;32m    874\u001b[0m                      coef_init, intercept_init):\n\u001b[1;32m--> 875\u001b[1;33m         \u001b[0mX\u001b[0m\u001b[1;33m,\u001b[0m \u001b[0my\u001b[0m \u001b[1;33m=\u001b[0m \u001b[0mcheck_X_y\u001b[0m\u001b[1;33m(\u001b[0m\u001b[0mX\u001b[0m\u001b[1;33m,\u001b[0m \u001b[0my\u001b[0m\u001b[1;33m,\u001b[0m \u001b[1;34m\"csr\"\u001b[0m\u001b[1;33m,\u001b[0m \u001b[0mcopy\u001b[0m\u001b[1;33m=\u001b[0m\u001b[1;32mFalse\u001b[0m\u001b[1;33m,\u001b[0m \u001b[0morder\u001b[0m\u001b[1;33m=\u001b[0m\u001b[1;34m'C'\u001b[0m\u001b[1;33m,\u001b[0m \u001b[0mdtype\u001b[0m\u001b[1;33m=\u001b[0m\u001b[0mnp\u001b[0m\u001b[1;33m.\u001b[0m\u001b[0mfloat64\u001b[0m\u001b[1;33m)\u001b[0m\u001b[1;33m\u001b[0m\u001b[0m\n\u001b[0m\u001b[0;32m    876\u001b[0m         \u001b[0my\u001b[0m \u001b[1;33m=\u001b[0m \u001b[0my\u001b[0m\u001b[1;33m.\u001b[0m\u001b[0mastype\u001b[0m\u001b[1;33m(\u001b[0m\u001b[0mnp\u001b[0m\u001b[1;33m.\u001b[0m\u001b[0mfloat64\u001b[0m\u001b[1;33m)\u001b[0m\u001b[1;33m\u001b[0m\u001b[0m\n\u001b[0;32m    877\u001b[0m \u001b[1;33m\u001b[0m\u001b[0m\n",
      "\u001b[1;32mC:\\Users\\ks692\\AppData\\Local\\Continuum\\Anaconda3\\lib\\site-packages\\sklearn\\utils\\validation.py\u001b[0m in \u001b[0;36mcheck_X_y\u001b[1;34m(X, y, accept_sparse, dtype, order, copy, force_all_finite, ensure_2d, allow_nd, multi_output, ensure_min_samples, ensure_min_features, y_numeric)\u001b[0m\n\u001b[0;32m    442\u001b[0m     X = check_array(X, accept_sparse, dtype, order, copy, force_all_finite,\n\u001b[0;32m    443\u001b[0m                     \u001b[0mensure_2d\u001b[0m\u001b[1;33m,\u001b[0m \u001b[0mallow_nd\u001b[0m\u001b[1;33m,\u001b[0m \u001b[0mensure_min_samples\u001b[0m\u001b[1;33m,\u001b[0m\u001b[1;33m\u001b[0m\u001b[0m\n\u001b[1;32m--> 444\u001b[1;33m                     ensure_min_features)\n\u001b[0m\u001b[0;32m    445\u001b[0m     \u001b[1;32mif\u001b[0m \u001b[0mmulti_output\u001b[0m\u001b[1;33m:\u001b[0m\u001b[1;33m\u001b[0m\u001b[0m\n\u001b[0;32m    446\u001b[0m         y = check_array(y, 'csr', force_all_finite=True, ensure_2d=False,\n",
      "\u001b[1;32mC:\\Users\\ks692\\AppData\\Local\\Continuum\\Anaconda3\\lib\\site-packages\\sklearn\\utils\\validation.py\u001b[0m in \u001b[0;36mcheck_array\u001b[1;34m(array, accept_sparse, dtype, order, copy, force_all_finite, ensure_2d, allow_nd, ensure_min_samples, ensure_min_features)\u001b[0m\n\u001b[0;32m    350\u001b[0m                              array.ndim)\n\u001b[0;32m    351\u001b[0m         \u001b[1;32mif\u001b[0m \u001b[0mforce_all_finite\u001b[0m\u001b[1;33m:\u001b[0m\u001b[1;33m\u001b[0m\u001b[0m\n\u001b[1;32m--> 352\u001b[1;33m             \u001b[0m_assert_all_finite\u001b[0m\u001b[1;33m(\u001b[0m\u001b[0marray\u001b[0m\u001b[1;33m)\u001b[0m\u001b[1;33m\u001b[0m\u001b[0m\n\u001b[0m\u001b[0;32m    353\u001b[0m \u001b[1;33m\u001b[0m\u001b[0m\n\u001b[0;32m    354\u001b[0m     \u001b[0mshape_repr\u001b[0m \u001b[1;33m=\u001b[0m \u001b[0m_shape_repr\u001b[0m\u001b[1;33m(\u001b[0m\u001b[0marray\u001b[0m\u001b[1;33m.\u001b[0m\u001b[0mshape\u001b[0m\u001b[1;33m)\u001b[0m\u001b[1;33m\u001b[0m\u001b[0m\n",
      "\u001b[1;32mC:\\Users\\ks692\\AppData\\Local\\Continuum\\Anaconda3\\lib\\site-packages\\sklearn\\utils\\validation.py\u001b[0m in \u001b[0;36m_assert_all_finite\u001b[1;34m(X)\u001b[0m\n\u001b[0;32m     50\u001b[0m             and not np.isfinite(X).all()):\n\u001b[0;32m     51\u001b[0m         raise ValueError(\"Input contains NaN, infinity\"\n\u001b[1;32m---> 52\u001b[1;33m                          \" or a value too large for %r.\" % X.dtype)\n\u001b[0m\u001b[0;32m     53\u001b[0m \u001b[1;33m\u001b[0m\u001b[0m\n\u001b[0;32m     54\u001b[0m \u001b[1;33m\u001b[0m\u001b[0m\n",
      "\u001b[1;31mValueError\u001b[0m: Input contains NaN, infinity or a value too large for dtype('float64')."
     ]
    }
   ],
   "source": [
    "# n_samples, n_features = 10, 5\n",
    "# np.random.seed(0)\n",
    "# y = np.random.randn(n_samples)\n",
    "# X = np.random.randn(n_samples, n_features)\n",
    "from sklearn import linear_model\n",
    "\n",
    "clf = linear_model.SGDRegressor()\n",
    "clf.fit(X, y)"
=======
   "execution_count": 34,
   "metadata": {
    "collapsed": false
   },
   "outputs": [],
   "source": [
    "# Define X and Y vectors for model fitting\n",
    "# flattern the vector column y into an 1-d array which is a required format for model fitting\n",
    "y = np.ravel(df.ix[:, :1])\n",
    "X = df.ix[:, 1:5]"
>>>>>>> cc98d0a5d9de28dbcf50863d5aa1c5a1e393ea6d
   ]
  },
  {
   "cell_type": "code",
   "execution_count": null,
   "metadata": {
    "collapsed": false
   },
   "outputs": [],
   "source": [
    "# Try random forest\n",
    "#import randomforests as rf\n",
    "# rf super slow, and interation 10 is not sufficient\n",
    "# with error thrown out ome inputs do not have OOB scores. This probably means too few trees were used to compute any reliable oob estimates.\n",
    "#  warn(\"Some inputs do not have OOB scores. \"\n",
    "import sklearn.ensemble as sk\n",
    "rfc = sk.RandomForestClassifier(n_estimators=100, oob_score=True)\n",
    "model = rfc.fit(X, y)"
   ]
  },
  {
   "cell_type": "code",
<<<<<<< HEAD
   "execution_count": 194,
=======
   "execution_count": 36,
>>>>>>> cc98d0a5d9de28dbcf50863d5aa1c5a1e393ea6d
   "metadata": {
    "collapsed": false
   },
   "outputs": [
    {
<<<<<<< HEAD
     "ename": "ValueError",
     "evalue": "Input contains NaN, infinity or a value too large for dtype('float64').",
     "output_type": "error",
     "traceback": [
      "\u001b[1;31m---------------------------------------------------------------------------\u001b[0m",
      "\u001b[1;31mValueError\u001b[0m                                Traceback (most recent call last)",
      "\u001b[1;32m<ipython-input-194-cd5e27a8280a>\u001b[0m in \u001b[0;36m<module>\u001b[1;34m()\u001b[0m\n\u001b[0;32m      2\u001b[0m \u001b[1;31m# failed as there are a lot string type predictors in Y\u001b[0m\u001b[1;33m\u001b[0m\u001b[1;33m\u001b[0m\u001b[0m\n\u001b[0;32m      3\u001b[0m \u001b[0mclf\u001b[0m \u001b[1;33m=\u001b[0m \u001b[0mSVR\u001b[0m\u001b[1;33m(\u001b[0m\u001b[0mC\u001b[0m\u001b[1;33m=\u001b[0m\u001b[1;36m1.0\u001b[0m\u001b[1;33m,\u001b[0m \u001b[0mepsilon\u001b[0m\u001b[1;33m=\u001b[0m\u001b[1;36m0.2\u001b[0m\u001b[1;33m)\u001b[0m\u001b[1;33m\u001b[0m\u001b[0m\n\u001b[1;32m----> 4\u001b[1;33m \u001b[0mclf\u001b[0m\u001b[1;33m.\u001b[0m\u001b[0mfit\u001b[0m\u001b[1;33m(\u001b[0m\u001b[0mX\u001b[0m\u001b[1;33m,\u001b[0m \u001b[0my\u001b[0m\u001b[1;33m)\u001b[0m\u001b[1;33m\u001b[0m\u001b[0m\n\u001b[0m",
      "\u001b[1;32mC:\\Users\\ks692\\AppData\\Local\\Continuum\\Anaconda3\\lib\\site-packages\\sklearn\\svm\\base.py\u001b[0m in \u001b[0;36mfit\u001b[1;34m(self, X, y, sample_weight)\u001b[0m\n\u001b[0;32m    137\u001b[0m         \u001b[0mself\u001b[0m\u001b[1;33m.\u001b[0m\u001b[0m_sparse\u001b[0m \u001b[1;33m=\u001b[0m \u001b[0msparse\u001b[0m \u001b[1;32mand\u001b[0m \u001b[1;32mnot\u001b[0m \u001b[0mcallable\u001b[0m\u001b[1;33m(\u001b[0m\u001b[0mself\u001b[0m\u001b[1;33m.\u001b[0m\u001b[0mkernel\u001b[0m\u001b[1;33m)\u001b[0m\u001b[1;33m\u001b[0m\u001b[0m\n\u001b[0;32m    138\u001b[0m \u001b[1;33m\u001b[0m\u001b[0m\n\u001b[1;32m--> 139\u001b[1;33m         \u001b[0mX\u001b[0m \u001b[1;33m=\u001b[0m \u001b[0mcheck_array\u001b[0m\u001b[1;33m(\u001b[0m\u001b[0mX\u001b[0m\u001b[1;33m,\u001b[0m \u001b[0maccept_sparse\u001b[0m\u001b[1;33m=\u001b[0m\u001b[1;34m'csr'\u001b[0m\u001b[1;33m,\u001b[0m \u001b[0mdtype\u001b[0m\u001b[1;33m=\u001b[0m\u001b[0mnp\u001b[0m\u001b[1;33m.\u001b[0m\u001b[0mfloat64\u001b[0m\u001b[1;33m,\u001b[0m \u001b[0morder\u001b[0m\u001b[1;33m=\u001b[0m\u001b[1;34m'C'\u001b[0m\u001b[1;33m)\u001b[0m\u001b[1;33m\u001b[0m\u001b[0m\n\u001b[0m\u001b[0;32m    140\u001b[0m         \u001b[0my\u001b[0m \u001b[1;33m=\u001b[0m \u001b[0mself\u001b[0m\u001b[1;33m.\u001b[0m\u001b[0m_validate_targets\u001b[0m\u001b[1;33m(\u001b[0m\u001b[0my\u001b[0m\u001b[1;33m)\u001b[0m\u001b[1;33m\u001b[0m\u001b[0m\n\u001b[0;32m    141\u001b[0m \u001b[1;33m\u001b[0m\u001b[0m\n",
      "\u001b[1;32mC:\\Users\\ks692\\AppData\\Local\\Continuum\\Anaconda3\\lib\\site-packages\\sklearn\\utils\\validation.py\u001b[0m in \u001b[0;36mcheck_array\u001b[1;34m(array, accept_sparse, dtype, order, copy, force_all_finite, ensure_2d, allow_nd, ensure_min_samples, ensure_min_features)\u001b[0m\n\u001b[0;32m    350\u001b[0m                              array.ndim)\n\u001b[0;32m    351\u001b[0m         \u001b[1;32mif\u001b[0m \u001b[0mforce_all_finite\u001b[0m\u001b[1;33m:\u001b[0m\u001b[1;33m\u001b[0m\u001b[0m\n\u001b[1;32m--> 352\u001b[1;33m             \u001b[0m_assert_all_finite\u001b[0m\u001b[1;33m(\u001b[0m\u001b[0marray\u001b[0m\u001b[1;33m)\u001b[0m\u001b[1;33m\u001b[0m\u001b[0m\n\u001b[0m\u001b[0;32m    353\u001b[0m \u001b[1;33m\u001b[0m\u001b[0m\n\u001b[0;32m    354\u001b[0m     \u001b[0mshape_repr\u001b[0m \u001b[1;33m=\u001b[0m \u001b[0m_shape_repr\u001b[0m\u001b[1;33m(\u001b[0m\u001b[0marray\u001b[0m\u001b[1;33m.\u001b[0m\u001b[0mshape\u001b[0m\u001b[1;33m)\u001b[0m\u001b[1;33m\u001b[0m\u001b[0m\n",
      "\u001b[1;32mC:\\Users\\ks692\\AppData\\Local\\Continuum\\Anaconda3\\lib\\site-packages\\sklearn\\utils\\validation.py\u001b[0m in \u001b[0;36m_assert_all_finite\u001b[1;34m(X)\u001b[0m\n\u001b[0;32m     50\u001b[0m             and not np.isfinite(X).all()):\n\u001b[0;32m     51\u001b[0m         raise ValueError(\"Input contains NaN, infinity\"\n\u001b[1;32m---> 52\u001b[1;33m                          \" or a value too large for %r.\" % X.dtype)\n\u001b[0m\u001b[0;32m     53\u001b[0m \u001b[1;33m\u001b[0m\u001b[0m\n\u001b[0;32m     54\u001b[0m \u001b[1;33m\u001b[0m\u001b[0m\n",
      "\u001b[1;31mValueError\u001b[0m: Input contains NaN, infinity or a value too large for dtype('float64')."
     ]
=======
     "data": {
      "text/plain": [
       "SVR(C=1.0, cache_size=200, coef0=0.0, degree=3, epsilon=0.2, gamma=0.0,\n",
       "  kernel='rbf', max_iter=-1, shrinking=True, tol=0.001, verbose=False)"
      ]
     },
     "execution_count": 36,
     "metadata": {},
     "output_type": "execute_result"
>>>>>>> cc98d0a5d9de28dbcf50863d5aa1c5a1e393ea6d
    }
   ],
   "source": [
    "## Try Support Vector Regression\n",
    "# failed as there are a lot string type predictors in Y\n",
    "clf = SVR(C=1.0, epsilon=0.2)\n",
    "clf.fit(X, y)"
   ]
  },
  {
   "cell_type": "code",
<<<<<<< HEAD
   "execution_count": 195,
=======
   "execution_count": 40,
>>>>>>> cc98d0a5d9de28dbcf50863d5aa1c5a1e393ea6d
   "metadata": {
    "collapsed": false
   },
   "outputs": [
    {
<<<<<<< HEAD
     "ename": "LinAlgError",
     "evalue": "SVD did not converge",
     "output_type": "error",
     "traceback": [
      "\u001b[1;31m---------------------------------------------------------------------------\u001b[0m",
      "\u001b[1;31mLinAlgError\u001b[0m                               Traceback (most recent call last)",
      "\u001b[1;32m<ipython-input-195-878c1ad9074f>\u001b[0m in \u001b[0;36m<module>\u001b[1;34m()\u001b[0m\n\u001b[0;32m      1\u001b[0m \u001b[1;31m## Odinary Linear Regression\u001b[0m\u001b[1;33m\u001b[0m\u001b[1;33m\u001b[0m\u001b[0m\n\u001b[0;32m      2\u001b[0m \u001b[0mmodel\u001b[0m \u001b[1;33m=\u001b[0m \u001b[0msm\u001b[0m\u001b[1;33m.\u001b[0m\u001b[0mOLS\u001b[0m\u001b[1;33m(\u001b[0m\u001b[0my\u001b[0m\u001b[1;33m,\u001b[0m\u001b[0mX\u001b[0m\u001b[1;33m)\u001b[0m\u001b[1;33m\u001b[0m\u001b[0m\n\u001b[1;32m----> 3\u001b[1;33m \u001b[0mf\u001b[0m \u001b[1;33m=\u001b[0m \u001b[0mmodel\u001b[0m\u001b[1;33m.\u001b[0m\u001b[0mfit\u001b[0m\u001b[1;33m(\u001b[0m\u001b[1;33m)\u001b[0m\u001b[1;33m\u001b[0m\u001b[0m\n\u001b[0m\u001b[0;32m      4\u001b[0m \u001b[1;33m\u001b[0m\u001b[0m\n\u001b[0;32m      5\u001b[0m \u001b[0mprint\u001b[0m \u001b[1;33m(\u001b[0m\u001b[1;34m'Coefficients: '\u001b[0m\u001b[1;33m,\u001b[0m \u001b[0mf\u001b[0m\u001b[1;33m.\u001b[0m\u001b[0mparams\u001b[0m\u001b[1;33m[\u001b[0m\u001b[1;36m0\u001b[0m\u001b[1;33m:\u001b[0m\u001b[1;36m2\u001b[0m\u001b[1;33m]\u001b[0m\u001b[1;33m)\u001b[0m\u001b[1;33m\u001b[0m\u001b[0m\n",
      "\u001b[1;32mC:\\Users\\ks692\\AppData\\Local\\Continuum\\Anaconda3\\lib\\site-packages\\statsmodels\\regression\\linear_model.py\u001b[0m in \u001b[0;36mfit\u001b[1;34m(self, method, cov_type, cov_kwds, use_t, **kwargs)\u001b[0m\n\u001b[0;32m    172\u001b[0m                 (not hasattr(self, 'rank'))):\n\u001b[0;32m    173\u001b[0m \u001b[1;33m\u001b[0m\u001b[0m\n\u001b[1;32m--> 174\u001b[1;33m                 \u001b[0mself\u001b[0m\u001b[1;33m.\u001b[0m\u001b[0mpinv_wexog\u001b[0m\u001b[1;33m,\u001b[0m \u001b[0msingular_values\u001b[0m \u001b[1;33m=\u001b[0m \u001b[0mpinv_extended\u001b[0m\u001b[1;33m(\u001b[0m\u001b[0mself\u001b[0m\u001b[1;33m.\u001b[0m\u001b[0mwexog\u001b[0m\u001b[1;33m)\u001b[0m\u001b[1;33m\u001b[0m\u001b[0m\n\u001b[0m\u001b[0;32m    175\u001b[0m                 self.normalized_cov_params = np.dot(self.pinv_wexog,\n\u001b[0;32m    176\u001b[0m                                         np.transpose(self.pinv_wexog))\n",
      "\u001b[1;32mC:\\Users\\ks692\\AppData\\Local\\Continuum\\Anaconda3\\lib\\site-packages\\statsmodels\\tools\\tools.py\u001b[0m in \u001b[0;36mpinv_extended\u001b[1;34m(X, rcond)\u001b[0m\n\u001b[0;32m    390\u001b[0m     \u001b[0mX\u001b[0m \u001b[1;33m=\u001b[0m \u001b[0mnp\u001b[0m\u001b[1;33m.\u001b[0m\u001b[0masarray\u001b[0m\u001b[1;33m(\u001b[0m\u001b[0mX\u001b[0m\u001b[1;33m)\u001b[0m\u001b[1;33m\u001b[0m\u001b[0m\n\u001b[0;32m    391\u001b[0m     \u001b[0mX\u001b[0m \u001b[1;33m=\u001b[0m \u001b[0mX\u001b[0m\u001b[1;33m.\u001b[0m\u001b[0mconjugate\u001b[0m\u001b[1;33m(\u001b[0m\u001b[1;33m)\u001b[0m\u001b[1;33m\u001b[0m\u001b[0m\n\u001b[1;32m--> 392\u001b[1;33m     \u001b[0mu\u001b[0m\u001b[1;33m,\u001b[0m \u001b[0ms\u001b[0m\u001b[1;33m,\u001b[0m \u001b[0mvt\u001b[0m \u001b[1;33m=\u001b[0m \u001b[0mnp\u001b[0m\u001b[1;33m.\u001b[0m\u001b[0mlinalg\u001b[0m\u001b[1;33m.\u001b[0m\u001b[0msvd\u001b[0m\u001b[1;33m(\u001b[0m\u001b[0mX\u001b[0m\u001b[1;33m,\u001b[0m \u001b[1;36m0\u001b[0m\u001b[1;33m)\u001b[0m\u001b[1;33m\u001b[0m\u001b[0m\n\u001b[0m\u001b[0;32m    393\u001b[0m     \u001b[0ms_orig\u001b[0m \u001b[1;33m=\u001b[0m \u001b[0mnp\u001b[0m\u001b[1;33m.\u001b[0m\u001b[0mcopy\u001b[0m\u001b[1;33m(\u001b[0m\u001b[0ms\u001b[0m\u001b[1;33m)\u001b[0m\u001b[1;33m\u001b[0m\u001b[0m\n\u001b[0;32m    394\u001b[0m     \u001b[0mm\u001b[0m \u001b[1;33m=\u001b[0m \u001b[0mu\u001b[0m\u001b[1;33m.\u001b[0m\u001b[0mshape\u001b[0m\u001b[1;33m[\u001b[0m\u001b[1;36m0\u001b[0m\u001b[1;33m]\u001b[0m\u001b[1;33m\u001b[0m\u001b[0m\n",
      "\u001b[1;32mC:\\Users\\ks692\\AppData\\Local\\Continuum\\Anaconda3\\lib\\site-packages\\numpy\\linalg\\linalg.py\u001b[0m in \u001b[0;36msvd\u001b[1;34m(a, full_matrices, compute_uv)\u001b[0m\n\u001b[0;32m   1325\u001b[0m \u001b[1;33m\u001b[0m\u001b[0m\n\u001b[0;32m   1326\u001b[0m         \u001b[0msignature\u001b[0m \u001b[1;33m=\u001b[0m \u001b[1;34m'D->DdD'\u001b[0m \u001b[1;32mif\u001b[0m \u001b[0misComplexType\u001b[0m\u001b[1;33m(\u001b[0m\u001b[0mt\u001b[0m\u001b[1;33m)\u001b[0m \u001b[1;32melse\u001b[0m \u001b[1;34m'd->ddd'\u001b[0m\u001b[1;33m\u001b[0m\u001b[0m\n\u001b[1;32m-> 1327\u001b[1;33m         \u001b[0mu\u001b[0m\u001b[1;33m,\u001b[0m \u001b[0ms\u001b[0m\u001b[1;33m,\u001b[0m \u001b[0mvt\u001b[0m \u001b[1;33m=\u001b[0m \u001b[0mgufunc\u001b[0m\u001b[1;33m(\u001b[0m\u001b[0ma\u001b[0m\u001b[1;33m,\u001b[0m \u001b[0msignature\u001b[0m\u001b[1;33m=\u001b[0m\u001b[0msignature\u001b[0m\u001b[1;33m,\u001b[0m \u001b[0mextobj\u001b[0m\u001b[1;33m=\u001b[0m\u001b[0mextobj\u001b[0m\u001b[1;33m)\u001b[0m\u001b[1;33m\u001b[0m\u001b[0m\n\u001b[0m\u001b[0;32m   1328\u001b[0m         \u001b[0mu\u001b[0m \u001b[1;33m=\u001b[0m \u001b[0mu\u001b[0m\u001b[1;33m.\u001b[0m\u001b[0mastype\u001b[0m\u001b[1;33m(\u001b[0m\u001b[0mresult_t\u001b[0m\u001b[1;33m)\u001b[0m\u001b[1;33m\u001b[0m\u001b[0m\n\u001b[0;32m   1329\u001b[0m         \u001b[0ms\u001b[0m \u001b[1;33m=\u001b[0m \u001b[0ms\u001b[0m\u001b[1;33m.\u001b[0m\u001b[0mastype\u001b[0m\u001b[1;33m(\u001b[0m\u001b[0m_realType\u001b[0m\u001b[1;33m(\u001b[0m\u001b[0mresult_t\u001b[0m\u001b[1;33m)\u001b[0m\u001b[1;33m)\u001b[0m\u001b[1;33m\u001b[0m\u001b[0m\n",
      "\u001b[1;32mC:\\Users\\ks692\\AppData\\Local\\Continuum\\Anaconda3\\lib\\site-packages\\numpy\\linalg\\linalg.py\u001b[0m in \u001b[0;36m_raise_linalgerror_svd_nonconvergence\u001b[1;34m(err, flag)\u001b[0m\n\u001b[0;32m     97\u001b[0m \u001b[1;33m\u001b[0m\u001b[0m\n\u001b[0;32m     98\u001b[0m \u001b[1;32mdef\u001b[0m \u001b[0m_raise_linalgerror_svd_nonconvergence\u001b[0m\u001b[1;33m(\u001b[0m\u001b[0merr\u001b[0m\u001b[1;33m,\u001b[0m \u001b[0mflag\u001b[0m\u001b[1;33m)\u001b[0m\u001b[1;33m:\u001b[0m\u001b[1;33m\u001b[0m\u001b[0m\n\u001b[1;32m---> 99\u001b[1;33m     \u001b[1;32mraise\u001b[0m \u001b[0mLinAlgError\u001b[0m\u001b[1;33m(\u001b[0m\u001b[1;34m\"SVD did not converge\"\u001b[0m\u001b[1;33m)\u001b[0m\u001b[1;33m\u001b[0m\u001b[0m\n\u001b[0m\u001b[0;32m    100\u001b[0m \u001b[1;33m\u001b[0m\u001b[0m\n\u001b[0;32m    101\u001b[0m \u001b[1;32mdef\u001b[0m \u001b[0mget_linalg_error_extobj\u001b[0m\u001b[1;33m(\u001b[0m\u001b[0mcallback\u001b[0m\u001b[1;33m)\u001b[0m\u001b[1;33m:\u001b[0m\u001b[1;33m\u001b[0m\u001b[0m\n",
      "\u001b[1;31mLinAlgError\u001b[0m: SVD did not converge"
=======
     "name": "stdout",
     "output_type": "stream",
     "text": [
      "Coefficients:  X2   -1.140427e-08\n",
      "X3    1.357400e-08\n",
      "dtype: float64\n",
      "Intercept:  6.255497628e-06\n",
      "P-Values:  X2     0.000000e+00\n",
      "X3     0.000000e+00\n",
      "X4    5.828193e-142\n",
      "X5     4.125758e-04\n",
      "dtype: float64\n",
      "R-Squared:  0.781409902785\n"
>>>>>>> cc98d0a5d9de28dbcf50863d5aa1c5a1e393ea6d
     ]
    }
   ],
   "source": [
    "## Odinary Linear Regression\n",
    "model = sm.OLS(y,X)\n",
    "f = model.fit()\n",
    "\n",
    "print ('Coefficients: ', f.params[0:2])\n",
    "print ('Intercept: ', f.params[2])\n",
    "print ('P-Values: ', f.pvalues)\n",
    "print ('R-Squared: ', f.rsquared)"
   ]
  },
  {
   "cell_type": "code",
<<<<<<< HEAD
   "execution_count": 196,
=======
   "execution_count": 41,
>>>>>>> cc98d0a5d9de28dbcf50863d5aa1c5a1e393ea6d
   "metadata": {
    "collapsed": false
   },
   "outputs": [
    {
<<<<<<< HEAD
     "ename": "ValueError",
     "evalue": "Input contains NaN, infinity or a value too large for dtype('float32').",
     "output_type": "error",
     "traceback": [
      "\u001b[1;31m---------------------------------------------------------------------------\u001b[0m",
      "\u001b[1;31mValueError\u001b[0m                                Traceback (most recent call last)",
      "\u001b[1;32m<ipython-input-196-5ef0abcd5e93>\u001b[0m in \u001b[0;36m<module>\u001b[1;34m()\u001b[0m\n\u001b[0;32m      8\u001b[0m \u001b[0mclf\u001b[0m \u001b[1;33m=\u001b[0m \u001b[0mensemble\u001b[0m\u001b[1;33m.\u001b[0m\u001b[0mGradientBoostingRegressor\u001b[0m\u001b[1;33m(\u001b[0m\u001b[1;33m**\u001b[0m\u001b[0mparams\u001b[0m\u001b[1;33m)\u001b[0m\u001b[1;33m\u001b[0m\u001b[0m\n\u001b[0;32m      9\u001b[0m \u001b[1;33m\u001b[0m\u001b[0m\n\u001b[1;32m---> 10\u001b[1;33m \u001b[0mclf\u001b[0m\u001b[1;33m.\u001b[0m\u001b[0mfit\u001b[0m\u001b[1;33m(\u001b[0m\u001b[0mX\u001b[0m\u001b[1;33m,\u001b[0m \u001b[0my\u001b[0m\u001b[1;33m)\u001b[0m\u001b[1;33m\u001b[0m\u001b[0m\n\u001b[0m\u001b[0;32m     11\u001b[0m \u001b[1;31m#mse = mean_squared_error(y_test, clf.predict(X_test))\u001b[0m\u001b[1;33m\u001b[0m\u001b[1;33m\u001b[0m\u001b[0m\n\u001b[0;32m     12\u001b[0m \u001b[1;31m#print(\"MSE: %.4f\" % mse)\u001b[0m\u001b[1;33m\u001b[0m\u001b[1;33m\u001b[0m\u001b[0m\n",
      "\u001b[1;32mC:\\Users\\ks692\\AppData\\Local\\Continuum\\Anaconda3\\lib\\site-packages\\sklearn\\ensemble\\gradient_boosting.py\u001b[0m in \u001b[0;36mfit\u001b[1;34m(self, X, y, sample_weight, monitor)\u001b[0m\n\u001b[0;32m    939\u001b[0m \u001b[1;33m\u001b[0m\u001b[0m\n\u001b[0;32m    940\u001b[0m         \u001b[1;31m# Check input\u001b[0m\u001b[1;33m\u001b[0m\u001b[1;33m\u001b[0m\u001b[0m\n\u001b[1;32m--> 941\u001b[1;33m         \u001b[0mX\u001b[0m\u001b[1;33m,\u001b[0m \u001b[0my\u001b[0m \u001b[1;33m=\u001b[0m \u001b[0mcheck_X_y\u001b[0m\u001b[1;33m(\u001b[0m\u001b[0mX\u001b[0m\u001b[1;33m,\u001b[0m \u001b[0my\u001b[0m\u001b[1;33m,\u001b[0m \u001b[0mdtype\u001b[0m\u001b[1;33m=\u001b[0m\u001b[0mDTYPE\u001b[0m\u001b[1;33m)\u001b[0m\u001b[1;33m\u001b[0m\u001b[0m\n\u001b[0m\u001b[0;32m    942\u001b[0m         \u001b[0mn_samples\u001b[0m\u001b[1;33m,\u001b[0m \u001b[0mself\u001b[0m\u001b[1;33m.\u001b[0m\u001b[0mn_features\u001b[0m \u001b[1;33m=\u001b[0m \u001b[0mX\u001b[0m\u001b[1;33m.\u001b[0m\u001b[0mshape\u001b[0m\u001b[1;33m\u001b[0m\u001b[0m\n\u001b[0;32m    943\u001b[0m         \u001b[1;32mif\u001b[0m \u001b[0msample_weight\u001b[0m \u001b[1;32mis\u001b[0m \u001b[1;32mNone\u001b[0m\u001b[1;33m:\u001b[0m\u001b[1;33m\u001b[0m\u001b[0m\n",
      "\u001b[1;32mC:\\Users\\ks692\\AppData\\Local\\Continuum\\Anaconda3\\lib\\site-packages\\sklearn\\utils\\validation.py\u001b[0m in \u001b[0;36mcheck_X_y\u001b[1;34m(X, y, accept_sparse, dtype, order, copy, force_all_finite, ensure_2d, allow_nd, multi_output, ensure_min_samples, ensure_min_features, y_numeric)\u001b[0m\n\u001b[0;32m    442\u001b[0m     X = check_array(X, accept_sparse, dtype, order, copy, force_all_finite,\n\u001b[0;32m    443\u001b[0m                     \u001b[0mensure_2d\u001b[0m\u001b[1;33m,\u001b[0m \u001b[0mallow_nd\u001b[0m\u001b[1;33m,\u001b[0m \u001b[0mensure_min_samples\u001b[0m\u001b[1;33m,\u001b[0m\u001b[1;33m\u001b[0m\u001b[0m\n\u001b[1;32m--> 444\u001b[1;33m                     ensure_min_features)\n\u001b[0m\u001b[0;32m    445\u001b[0m     \u001b[1;32mif\u001b[0m \u001b[0mmulti_output\u001b[0m\u001b[1;33m:\u001b[0m\u001b[1;33m\u001b[0m\u001b[0m\n\u001b[0;32m    446\u001b[0m         y = check_array(y, 'csr', force_all_finite=True, ensure_2d=False,\n",
      "\u001b[1;32mC:\\Users\\ks692\\AppData\\Local\\Continuum\\Anaconda3\\lib\\site-packages\\sklearn\\utils\\validation.py\u001b[0m in \u001b[0;36mcheck_array\u001b[1;34m(array, accept_sparse, dtype, order, copy, force_all_finite, ensure_2d, allow_nd, ensure_min_samples, ensure_min_features)\u001b[0m\n\u001b[0;32m    350\u001b[0m                              array.ndim)\n\u001b[0;32m    351\u001b[0m         \u001b[1;32mif\u001b[0m \u001b[0mforce_all_finite\u001b[0m\u001b[1;33m:\u001b[0m\u001b[1;33m\u001b[0m\u001b[0m\n\u001b[1;32m--> 352\u001b[1;33m             \u001b[0m_assert_all_finite\u001b[0m\u001b[1;33m(\u001b[0m\u001b[0marray\u001b[0m\u001b[1;33m)\u001b[0m\u001b[1;33m\u001b[0m\u001b[0m\n\u001b[0m\u001b[0;32m    353\u001b[0m \u001b[1;33m\u001b[0m\u001b[0m\n\u001b[0;32m    354\u001b[0m     \u001b[0mshape_repr\u001b[0m \u001b[1;33m=\u001b[0m \u001b[0m_shape_repr\u001b[0m\u001b[1;33m(\u001b[0m\u001b[0marray\u001b[0m\u001b[1;33m.\u001b[0m\u001b[0mshape\u001b[0m\u001b[1;33m)\u001b[0m\u001b[1;33m\u001b[0m\u001b[0m\n",
      "\u001b[1;32mC:\\Users\\ks692\\AppData\\Local\\Continuum\\Anaconda3\\lib\\site-packages\\sklearn\\utils\\validation.py\u001b[0m in \u001b[0;36m_assert_all_finite\u001b[1;34m(X)\u001b[0m\n\u001b[0;32m     50\u001b[0m             and not np.isfinite(X).all()):\n\u001b[0;32m     51\u001b[0m         raise ValueError(\"Input contains NaN, infinity\"\n\u001b[1;32m---> 52\u001b[1;33m                          \" or a value too large for %r.\" % X.dtype)\n\u001b[0m\u001b[0;32m     53\u001b[0m \u001b[1;33m\u001b[0m\u001b[0m\n\u001b[0;32m     54\u001b[0m \u001b[1;33m\u001b[0m\u001b[0m\n",
      "\u001b[1;31mValueError\u001b[0m: Input contains NaN, infinity or a value too large for dtype('float32')."
     ]
=======
     "data": {
      "text/plain": [
       "GradientBoostingRegressor(alpha=0.9, init=None, learning_rate=0.01, loss='ls',\n",
       "             max_depth=4, max_features=None, max_leaf_nodes=None,\n",
       "             min_samples_leaf=1, min_samples_split=1,\n",
       "             min_weight_fraction_leaf=0.0, n_estimators=500,\n",
       "             random_state=None, subsample=1.0, verbose=0, warm_start=False)"
      ]
     },
     "execution_count": 41,
     "metadata": {},
     "output_type": "execute_result"
>>>>>>> cc98d0a5d9de28dbcf50863d5aa1c5a1e393ea6d
    }
   ],
   "source": [
    "#http://scikit-learn.org/stable/auto_examples/ensemble/plot_gradient_boosting_regression.html\n",
    "## Gradient_boosting\n",
    "from sklearn import ensemble\n",
    "\n",
    "# Fit regression model\n",
    "params = {'n_estimators': 500, 'max_depth': 4, 'min_samples_split': 1,\n",
    "          'learning_rate': 0.01, 'loss': 'ls'}\n",
    "clf = ensemble.GradientBoostingRegressor(**params)\n",
    "\n",
    "clf.fit(X, y)\n",
    "#mse = mean_squared_error(y_test, clf.predict(X_test))\n",
    "#print(\"MSE: %.4f\" % mse)\n",
    "\n",
    "# Plot feature importance\n",
    "feature_importance = clf.feature_importances_\n",
    "# make importances relative to max importance\n",
    "feature_importance = 100.0 * (feature_importance / feature_importance.max())\n",
    "sorted_idx = np.argsort(feature_importance)\n",
    "pos = np.arange(sorted_idx.shape[0]) + .5\n",
    "plt.subplot(1, 2, 2)\n",
    "plt.barh(pos, feature_importance[sorted_idx], align='center')\n",
    "plt.yticks(pos, boston.feature_names[sorted_idx])\n",
    "plt.xlabel('Relative Importance')\n",
    "plt.title('Variable Importance')\n",
    "plt.show()"
   ]
  },
  {
   "cell_type": "code",
   "execution_count": 44,
   "metadata": {
    "collapsed": false
   },
   "outputs": [
    {
     "data": {
      "text/plain": [
       "AdaBoostRegressor(base_estimator=DecisionTreeRegressor(criterion='mse', max_depth=4, max_features=None,\n",
       "           max_leaf_nodes=None, min_samples_leaf=1, min_samples_split=2,\n",
       "           min_weight_fraction_leaf=0.0, random_state=None,\n",
       "           splitter='best'),\n",
       "         learning_rate=1.0, loss='linear', n_estimators=300,\n",
       "         random_state=<mtrand.RandomState object at 0x0000000010974EB8>)"
      ]
     },
     "execution_count": 44,
     "metadata": {},
     "output_type": "execute_result"
    }
   ],
   "source": [
    "#http://scikit-learn.org/stable/auto_examples/ensemble/plot_adaboost_regression.html\n",
    "# Decision tree regression with adaboost\n",
    "from sklearn.tree import DecisionTreeRegressor\n",
    "from sklearn.ensemble import AdaBoostRegressor\n",
    "rng = np.random.RandomState(1)\n",
    "regr_1 = DecisionTreeRegressor(max_depth=4)\n",
    "\n",
    "regr_2 = AdaBoostRegressor(DecisionTreeRegressor(max_depth=4),\n",
    "                          n_estimators=300, random_state=rng)\n",
    "regr_1.fit(X, y)\n",
    "regr_2.fit(X, y)\n",
    "\n",
    "#http://scikit-learn.org/stable/auto_examples/ensemble/plot_adaboost_hastie_10_2.html"
   ]
  }
 ],
 "metadata": {
  "kernelspec": {
   "display_name": "Python 3",
   "language": "python",
   "name": "python3"
  },
  "language_info": {
   "codemirror_mode": {
    "name": "ipython",
    "version": 3
   },
   "file_extension": ".py",
   "mimetype": "text/x-python",
   "name": "python",
   "nbconvert_exporter": "python",
   "pygments_lexer": "ipython3",
   "version": "3.4.3"
  }
 },
 "nbformat": 4,
 "nbformat_minor": 0
}
