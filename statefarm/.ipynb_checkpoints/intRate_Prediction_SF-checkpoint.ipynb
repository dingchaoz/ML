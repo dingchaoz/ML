{
 "cells": [
  {
   "cell_type": "markdown",
   "metadata": {},
   "source": [
    "##STEP 1 Predictors Filtering and Pre-Processing\n",
    "####Preliminary data exploratory, dropping useless attributes and cleaning-up/ modifying others"
   ]
  },
  {
   "cell_type": "markdown",
   "metadata": {},
   "source": [
    "Load the data and quickly review the first slice of data frame"
   ]
  },
  {
   "cell_type": "code",
   "execution_count": 2,
   "metadata": {
    "collapsed": false,
    "scrolled": false
   },
   "outputs": [
    {
     "data": {
      "text/html": [
       "<div>\n",
       "<table border=\"1\" class=\"dataframe\">\n",
       "  <thead>\n",
       "    <tr style=\"text-align: right;\">\n",
       "      <th></th>\n",
       "      <th>int_rate</th>\n",
       "      <th>id_loan</th>\n",
       "      <th>id_borrower</th>\n",
       "      <th>loan_amt</th>\n",
       "      <th>funded_amt</th>\n",
       "      <th>funded_amt_inv</th>\n",
       "      <th>term</th>\n",
       "      <th>grade</th>\n",
       "      <th>subgrade</th>\n",
       "      <th>emp_title</th>\n",
       "      <th>...</th>\n",
       "      <th>earliest_cr_line</th>\n",
       "      <th>inq_last_6mths</th>\n",
       "      <th>mths_since_last_deliq</th>\n",
       "      <th>mths_since_last_record</th>\n",
       "      <th>num_opencr_line</th>\n",
       "      <th>num_der_rec</th>\n",
       "      <th>revol_bal</th>\n",
       "      <th>revol_util</th>\n",
       "      <th>total_cr_line</th>\n",
       "      <th>init_list_status</th>\n",
       "    </tr>\n",
       "  </thead>\n",
       "  <tbody>\n",
       "    <tr>\n",
       "      <th>0</th>\n",
       "      <td>11.89%</td>\n",
       "      <td>54734</td>\n",
       "      <td>80364</td>\n",
       "      <td>$25,000</td>\n",
       "      <td>$25,000</td>\n",
       "      <td>$19,080</td>\n",
       "      <td>36 months</td>\n",
       "      <td>B</td>\n",
       "      <td>B4</td>\n",
       "      <td>NaN</td>\n",
       "      <td>...</td>\n",
       "      <td>Feb-94</td>\n",
       "      <td>0</td>\n",
       "      <td>NaN</td>\n",
       "      <td>NaN</td>\n",
       "      <td>10</td>\n",
       "      <td>0</td>\n",
       "      <td>28854</td>\n",
       "      <td>52.10%</td>\n",
       "      <td>42</td>\n",
       "      <td>f</td>\n",
       "    </tr>\n",
       "    <tr>\n",
       "      <th>1</th>\n",
       "      <td>10.71%</td>\n",
       "      <td>55742</td>\n",
       "      <td>114426</td>\n",
       "      <td>$7,000</td>\n",
       "      <td>$7,000</td>\n",
       "      <td>$673</td>\n",
       "      <td>36 months</td>\n",
       "      <td>B</td>\n",
       "      <td>B5</td>\n",
       "      <td>CNN</td>\n",
       "      <td>...</td>\n",
       "      <td>Oct-00</td>\n",
       "      <td>0</td>\n",
       "      <td>NaN</td>\n",
       "      <td>NaN</td>\n",
       "      <td>7</td>\n",
       "      <td>0</td>\n",
       "      <td>33623</td>\n",
       "      <td>76.70%</td>\n",
       "      <td>7</td>\n",
       "      <td>f</td>\n",
       "    </tr>\n",
       "    <tr>\n",
       "      <th>2</th>\n",
       "      <td>16.99%</td>\n",
       "      <td>57167</td>\n",
       "      <td>137225</td>\n",
       "      <td>$25,000</td>\n",
       "      <td>$25,000</td>\n",
       "      <td>$24,725</td>\n",
       "      <td>36 months</td>\n",
       "      <td>D</td>\n",
       "      <td>D3</td>\n",
       "      <td>Web Programmer</td>\n",
       "      <td>...</td>\n",
       "      <td>Jun-00</td>\n",
       "      <td>0</td>\n",
       "      <td>41</td>\n",
       "      <td>NaN</td>\n",
       "      <td>10</td>\n",
       "      <td>0</td>\n",
       "      <td>19878</td>\n",
       "      <td>66.30%</td>\n",
       "      <td>17</td>\n",
       "      <td>f</td>\n",
       "    </tr>\n",
       "  </tbody>\n",
       "</table>\n",
       "<p>3 rows × 32 columns</p>\n",
       "</div>"
      ],
      "text/plain": [
       "  int_rate  id_loan  id_borrower loan_amt funded_amt funded_amt_inv  \\\n",
       "0   11.89%    54734        80364  $25,000    $25,000        $19,080   \n",
       "1   10.71%    55742       114426   $7,000     $7,000           $673   \n",
       "2   16.99%    57167       137225  $25,000    $25,000        $24,725   \n",
       "\n",
       "         term grade subgrade       emp_title       ...         \\\n",
       "0   36 months     B       B4             NaN       ...          \n",
       "1   36 months     B       B5             CNN       ...          \n",
       "2   36 months     D       D3  Web Programmer       ...          \n",
       "\n",
       "  earliest_cr_line inq_last_6mths  mths_since_last_deliq  \\\n",
       "0           Feb-94              0                    NaN   \n",
       "1           Oct-00              0                    NaN   \n",
       "2           Jun-00              0                     41   \n",
       "\n",
       "  mths_since_last_record num_opencr_line num_der_rec revol_bal revol_util  \\\n",
       "0                    NaN              10           0     28854     52.10%   \n",
       "1                    NaN               7           0     33623     76.70%   \n",
       "2                    NaN              10           0     19878     66.30%   \n",
       "\n",
       "  total_cr_line init_list_status  \n",
       "0            42                f  \n",
       "1             7                f  \n",
       "2            17                f  \n",
       "\n",
       "[3 rows x 32 columns]"
      ]
     },
     "execution_count": 2,
     "metadata": {},
     "output_type": "execute_result"
    }
   ],
   "source": [
    "import matplotlib.pyplot as plt\n",
    "%matplotlib inline\n",
    "import numpy as np\n",
    "import pandas as pd\n",
    "import statsmodels.api as sm\n",
    "import decimal\n",
    "from pandas import Series, DataFrame\n",
    "from patsy import dmatrices\n",
    "from sklearn import datasets, svm\n",
    "from sklearn.svm import SVR\n",
    "\n",
    "# Read the training.csv into data frame df\n",
    "df = pd.read_csv(\"training.csv\", infer_datetime_format=True,low_memory=False)\n",
    "\n",
    "# Column names according to the Metadata.csv\n",
    "columnNames = ['int_rate','id_loan','id_borrower','loan_amt','funded_amt','funded_amt_inv',\n",
    "              'term','grade','subgrade','emp_title','emp_length','home_ownership','annual_inc',\n",
    "               'verification_status','issue_d','purpose','loan_cat','loan_title','zip_code',\n",
    "               'state','dti','delinq_2yrs','earliest_cr_line','inq_last_6mths','mths_since_last_deliq',\n",
    "               'mths_since_last_record','num_opencr_line','num_der_rec','revol_bal','revol_util',\n",
    "               'total_cr_line','init_list_status']\n",
    "\n",
    "# Name the data frame with the columnNames\n",
    "df.columns = columnNames\n",
    "\n",
    "# Review the head of the data frame\n",
    "df.head(3)"
   ]
  },
  {
   "cell_type": "markdown",
   "metadata": {},
   "source": [
    "Review the data type of the first several columns"
   ]
  },
  {
   "cell_type": "code",
   "execution_count": 3,
   "metadata": {
    "collapsed": false
   },
   "outputs": [
    {
     "data": {
      "text/plain": [
       "int_rate           object\n",
       "id_loan           float64\n",
       "id_borrower       float64\n",
       "loan_amt           object\n",
       "funded_amt         object\n",
       "funded_amt_inv     object\n",
       "term               object\n",
       "dtype: object"
      ]
     },
     "execution_count": 3,
     "metadata": {},
     "output_type": "execute_result"
    }
   ],
   "source": [
    "df.ix[:3,:7].dtypes"
   ]
  },
  {
   "cell_type": "markdown",
   "metadata": {},
   "source": [
    "### Convert data type column of int_rate, loan_amt,funded_amt, funded_amt_inv,term\n",
    "1. int_rate, loan_amt,funded_amt, funded_amt_inv,term were loaded as object data type due to '%' or '$' or 'months' characters,thus need strip those characters out and convert column type\n",
    "2. loan_amt,funded_amt, funded_amt_inv,term need to be converted to int type, and Pandas do not allow to store NaN in int column, thus will remove NaN from those columns before convert"
   ]
  },
  {
   "cell_type": "code",
   "execution_count": 4,
   "metadata": {
    "collapsed": false
   },
   "outputs": [],
   "source": [
    "# Pandas can not store NaN in int type column, thus had remove all NaNs from them as well\n",
    "for col in ('loan_amt','funded_amt','funded_amt_inv', 'term'):\n",
    "    df = df[pd.notnull(df[col])]\n",
    "    \n",
    "# reset index\n",
    "df = df.reset_index(drop=True)\n",
    "\n",
    "D = decimal.Decimal\n",
    "# Pandas can not store NaN in int type column, thus had remove all NaNs\n",
    "for col in ('loan_amt','funded_amt','funded_amt_inv','term'):\n",
    "    df[col] = df[col].str.replace(r'[^-+\\d.]', '').astype(D)\n",
    "    df[col] = df[col].astype('int')\n",
    "    \n",
    "#  Convert columns having % from obj(string type) to float and divide by 100    \n",
    "df['int_rate'] = df['int_rate'].str.replace('%','').astype('float')/100"
   ]
  },
  {
   "cell_type": "markdown",
   "metadata": {},
   "source": [
    "### Dealing missing values in int_rate column\n",
    "1. There were some NaN value in int_rate column, we need to examine the pattern of missingness to understand if it can be\n",
    "informative missingness, e.g.: certain loan requested by certain borrower were rejected thus no int_rate recorded\n",
    "2. lf it is no informative missingness, then we can remove the rows in which the int_rate is missing"
   ]
  },
  {
   "cell_type": "code",
   "execution_count": 5,
   "metadata": {
    "collapsed": false
   },
   "outputs": [
    {
     "data": {
      "text/html": [
       "<div>\n",
       "<table border=\"1\" class=\"dataframe\">\n",
       "  <thead>\n",
       "    <tr style=\"text-align: right;\">\n",
       "      <th></th>\n",
       "      <th>int_rate</th>\n",
       "      <th>id_loan</th>\n",
       "      <th>id_borrower</th>\n",
       "      <th>loan_amt</th>\n",
       "      <th>funded_amt</th>\n",
       "      <th>funded_amt_inv</th>\n",
       "      <th>term</th>\n",
       "      <th>annual_inc</th>\n",
       "      <th>dti</th>\n",
       "      <th>delinq_2yrs</th>\n",
       "      <th>inq_last_6mths</th>\n",
       "      <th>mths_since_last_deliq</th>\n",
       "      <th>mths_since_last_record</th>\n",
       "      <th>num_opencr_line</th>\n",
       "      <th>num_der_rec</th>\n",
       "      <th>revol_bal</th>\n",
       "      <th>total_cr_line</th>\n",
       "    </tr>\n",
       "  </thead>\n",
       "  <tbody>\n",
       "    <tr>\n",
       "      <th>count</th>\n",
       "      <td>0</td>\n",
       "      <td>61010.000000</td>\n",
       "      <td>61010.00000</td>\n",
       "      <td>61010.000000</td>\n",
       "      <td>61010.000000</td>\n",
       "      <td>61010.000000</td>\n",
       "      <td>61010.000000</td>\n",
       "      <td>51734.000000</td>\n",
       "      <td>61010.000000</td>\n",
       "      <td>61010.000000</td>\n",
       "      <td>61010.000000</td>\n",
       "      <td>27665.000000</td>\n",
       "      <td>7755.000000</td>\n",
       "      <td>61010.000000</td>\n",
       "      <td>61010.000000</td>\n",
       "      <td>61010.000000</td>\n",
       "      <td>61010.000000</td>\n",
       "    </tr>\n",
       "    <tr>\n",
       "      <th>mean</th>\n",
       "      <td>NaN</td>\n",
       "      <td>10013043.130634</td>\n",
       "      <td>11366605.92852</td>\n",
       "      <td>14257.931077</td>\n",
       "      <td>14231.621865</td>\n",
       "      <td>14188.417128</td>\n",
       "      <td>42.463990</td>\n",
       "      <td>73208.373956</td>\n",
       "      <td>17.020475</td>\n",
       "      <td>0.275873</td>\n",
       "      <td>0.812949</td>\n",
       "      <td>34.236255</td>\n",
       "      <td>77.198968</td>\n",
       "      <td>11.117243</td>\n",
       "      <td>0.150041</td>\n",
       "      <td>15854.421898</td>\n",
       "      <td>25.009130</td>\n",
       "    </tr>\n",
       "    <tr>\n",
       "      <th>std</th>\n",
       "      <td>NaN</td>\n",
       "      <td>7923666.061475</td>\n",
       "      <td>8659546.18622</td>\n",
       "      <td>8246.996054</td>\n",
       "      <td>8230.712767</td>\n",
       "      <td>8227.999839</td>\n",
       "      <td>10.646804</td>\n",
       "      <td>54045.679519</td>\n",
       "      <td>7.742808</td>\n",
       "      <td>0.772163</td>\n",
       "      <td>1.055861</td>\n",
       "      <td>21.780102</td>\n",
       "      <td>28.666714</td>\n",
       "      <td>4.912408</td>\n",
       "      <td>0.450513</td>\n",
       "      <td>18154.455242</td>\n",
       "      <td>11.485004</td>\n",
       "    </tr>\n",
       "    <tr>\n",
       "      <th>min</th>\n",
       "      <td>NaN</td>\n",
       "      <td>68926.000000</td>\n",
       "      <td>92390.00000</td>\n",
       "      <td>1000.000000</td>\n",
       "      <td>1000.000000</td>\n",
       "      <td>300.000000</td>\n",
       "      <td>36.000000</td>\n",
       "      <td>4800.000000</td>\n",
       "      <td>0.000000</td>\n",
       "      <td>0.000000</td>\n",
       "      <td>0.000000</td>\n",
       "      <td>0.000000</td>\n",
       "      <td>0.000000</td>\n",
       "      <td>0.000000</td>\n",
       "      <td>0.000000</td>\n",
       "      <td>0.000000</td>\n",
       "      <td>2.000000</td>\n",
       "    </tr>\n",
       "    <tr>\n",
       "      <th>25%</th>\n",
       "      <td>NaN</td>\n",
       "      <td>3158950.500000</td>\n",
       "      <td>3769079.25000</td>\n",
       "      <td>8000.000000</td>\n",
       "      <td>8000.000000</td>\n",
       "      <td>8000.000000</td>\n",
       "      <td>36.000000</td>\n",
       "      <td>45000.000000</td>\n",
       "      <td>11.240000</td>\n",
       "      <td>0.000000</td>\n",
       "      <td>0.000000</td>\n",
       "      <td>16.000000</td>\n",
       "      <td>55.000000</td>\n",
       "      <td>8.000000</td>\n",
       "      <td>0.000000</td>\n",
       "      <td>6408.000000</td>\n",
       "      <td>17.000000</td>\n",
       "    </tr>\n",
       "    <tr>\n",
       "      <th>50%</th>\n",
       "      <td>NaN</td>\n",
       "      <td>8295077.500000</td>\n",
       "      <td>9677484.00000</td>\n",
       "      <td>12000.000000</td>\n",
       "      <td>12000.000000</td>\n",
       "      <td>12000.000000</td>\n",
       "      <td>36.000000</td>\n",
       "      <td>63000.000000</td>\n",
       "      <td>16.740000</td>\n",
       "      <td>0.000000</td>\n",
       "      <td>0.000000</td>\n",
       "      <td>31.000000</td>\n",
       "      <td>80.000000</td>\n",
       "      <td>10.000000</td>\n",
       "      <td>0.000000</td>\n",
       "      <td>11757.000000</td>\n",
       "      <td>23.000000</td>\n",
       "    </tr>\n",
       "    <tr>\n",
       "      <th>75%</th>\n",
       "      <td>NaN</td>\n",
       "      <td>15340539.250000</td>\n",
       "      <td>17332998.25000</td>\n",
       "      <td>20000.000000</td>\n",
       "      <td>20000.000000</td>\n",
       "      <td>19925.000000</td>\n",
       "      <td>60.000000</td>\n",
       "      <td>88500.000000</td>\n",
       "      <td>22.600000</td>\n",
       "      <td>0.000000</td>\n",
       "      <td>1.000000</td>\n",
       "      <td>49.000000</td>\n",
       "      <td>103.000000</td>\n",
       "      <td>14.000000</td>\n",
       "      <td>0.000000</td>\n",
       "      <td>20055.000000</td>\n",
       "      <td>32.000000</td>\n",
       "    </tr>\n",
       "    <tr>\n",
       "      <th>max</th>\n",
       "      <td>NaN</td>\n",
       "      <td>28753078.000000</td>\n",
       "      <td>31278000.00000</td>\n",
       "      <td>35000.000000</td>\n",
       "      <td>35000.000000</td>\n",
       "      <td>35000.000000</td>\n",
       "      <td>60.000000</td>\n",
       "      <td>6000000.000000</td>\n",
       "      <td>39.950000</td>\n",
       "      <td>15.000000</td>\n",
       "      <td>8.000000</td>\n",
       "      <td>152.000000</td>\n",
       "      <td>119.000000</td>\n",
       "      <td>53.000000</td>\n",
       "      <td>11.000000</td>\n",
       "      <td>1190046.000000</td>\n",
       "      <td>121.000000</td>\n",
       "    </tr>\n",
       "  </tbody>\n",
       "</table>\n",
       "</div>"
      ],
      "text/plain": [
       "       int_rate          id_loan     id_borrower      loan_amt    funded_amt  \\\n",
       "count         0     61010.000000     61010.00000  61010.000000  61010.000000   \n",
       "mean        NaN  10013043.130634  11366605.92852  14257.931077  14231.621865   \n",
       "std         NaN   7923666.061475   8659546.18622   8246.996054   8230.712767   \n",
       "min         NaN     68926.000000     92390.00000   1000.000000   1000.000000   \n",
       "25%         NaN   3158950.500000   3769079.25000   8000.000000   8000.000000   \n",
       "50%         NaN   8295077.500000   9677484.00000  12000.000000  12000.000000   \n",
       "75%         NaN  15340539.250000  17332998.25000  20000.000000  20000.000000   \n",
       "max         NaN  28753078.000000  31278000.00000  35000.000000  35000.000000   \n",
       "\n",
       "       funded_amt_inv          term      annual_inc           dti  \\\n",
       "count    61010.000000  61010.000000    51734.000000  61010.000000   \n",
       "mean     14188.417128     42.463990    73208.373956     17.020475   \n",
       "std       8227.999839     10.646804    54045.679519      7.742808   \n",
       "min        300.000000     36.000000     4800.000000      0.000000   \n",
       "25%       8000.000000     36.000000    45000.000000     11.240000   \n",
       "50%      12000.000000     36.000000    63000.000000     16.740000   \n",
       "75%      19925.000000     60.000000    88500.000000     22.600000   \n",
       "max      35000.000000     60.000000  6000000.000000     39.950000   \n",
       "\n",
       "        delinq_2yrs  inq_last_6mths  mths_since_last_deliq  \\\n",
       "count  61010.000000    61010.000000           27665.000000   \n",
       "mean       0.275873        0.812949              34.236255   \n",
       "std        0.772163        1.055861              21.780102   \n",
       "min        0.000000        0.000000               0.000000   \n",
       "25%        0.000000        0.000000              16.000000   \n",
       "50%        0.000000        0.000000              31.000000   \n",
       "75%        0.000000        1.000000              49.000000   \n",
       "max       15.000000        8.000000             152.000000   \n",
       "\n",
       "       mths_since_last_record  num_opencr_line   num_der_rec       revol_bal  \\\n",
       "count             7755.000000     61010.000000  61010.000000    61010.000000   \n",
       "mean                77.198968        11.117243      0.150041    15854.421898   \n",
       "std                 28.666714         4.912408      0.450513    18154.455242   \n",
       "min                  0.000000         0.000000      0.000000        0.000000   \n",
       "25%                 55.000000         8.000000      0.000000     6408.000000   \n",
       "50%                 80.000000        10.000000      0.000000    11757.000000   \n",
       "75%                103.000000        14.000000      0.000000    20055.000000   \n",
       "max                119.000000        53.000000     11.000000  1190046.000000   \n",
       "\n",
       "       total_cr_line  \n",
       "count   61010.000000  \n",
       "mean       25.009130  \n",
       "std        11.485004  \n",
       "min         2.000000  \n",
       "25%        17.000000  \n",
       "50%        23.000000  \n",
       "75%        32.000000  \n",
       "max       121.000000  "
      ]
     },
     "execution_count": 5,
     "metadata": {},
     "output_type": "execute_result"
    }
   ],
   "source": [
    "# Describe the columns where int_rate value is missing\n",
    "df[pd.isnull(df['int_rate'])].describe()"
   ]
  },
  {
   "cell_type": "markdown",
   "metadata": {},
   "source": [
    "3  We can see that the min funded amt is 1000 thus no loan request was not approved, also skipping through the min and max range of other columns, we can see that there is no particular pattern of int_rate missingness, therefore we can safely remove rows of missing int_rate"
   ]
  },
  {
   "cell_type": "code",
   "execution_count": 6,
   "metadata": {
    "collapsed": false
   },
   "outputs": [],
   "source": [
    "# Remove the rows where int_rate is missing\n",
    "df = df[pd.notnull(df['int_rate'])]\n",
    "# Reset index, this is critical\n",
    "df = df.reset_index(drop=True)"
   ]
  },
  {
   "cell_type": "markdown",
   "metadata": {},
   "source": [
    "### Understand the relationship between Loan amount requested vs funded amount\n",
    "1. Let's discover the relationship between loan amount requested verus the funded amount see if a lower amount is issued and why."
   ]
  },
  {
   "cell_type": "code",
   "execution_count": 7,
   "metadata": {
    "collapsed": false
   },
   "outputs": [
    {
     "name": "stdout",
     "output_type": "stream",
     "text": [
      "Loan amount requested not equal to funded amount:\n",
      " False    337338\n",
      "True       1651\n",
      "dtype: int64\n",
      "\n",
      "Loan amount requested smaller than funded amount:\n",
      " False    337338\n",
      "True       1651\n",
      "dtype: int64\n"
     ]
    }
   ],
   "source": [
    "print (\"Loan amount requested not equal to funded amount:\\n\", (df['loan_amt'] != df['funded_amt']).value_counts())\n",
    "print (\"\\nLoan amount requested smaller than funded amount:\\n\",(df['loan_amt'] > df['funded_amt']).value_counts())"
   ]
  },
  {
   "cell_type": "markdown",
   "metadata": {},
   "source": [
    "2 There were 1651 instances where loan amt is not equal to funded amt and they were all funded amount lower than requested amount"
   ]
  },
  {
   "cell_type": "code",
   "execution_count": 8,
   "metadata": {
    "collapsed": false,
    "scrolled": true
   },
   "outputs": [
    {
     "data": {
      "text/html": [
       "<div>\n",
       "<table border=\"1\" class=\"dataframe\">\n",
       "  <thead>\n",
       "    <tr style=\"text-align: right;\">\n",
       "      <th></th>\n",
       "      <th>int_rate</th>\n",
       "      <th>id_loan</th>\n",
       "      <th>id_borrower</th>\n",
       "      <th>loan_amt</th>\n",
       "      <th>funded_amt</th>\n",
       "      <th>funded_amt_inv</th>\n",
       "      <th>term</th>\n",
       "      <th>annual_inc</th>\n",
       "      <th>dti</th>\n",
       "      <th>delinq_2yrs</th>\n",
       "      <th>inq_last_6mths</th>\n",
       "      <th>mths_since_last_deliq</th>\n",
       "      <th>mths_since_last_record</th>\n",
       "      <th>num_opencr_line</th>\n",
       "      <th>num_der_rec</th>\n",
       "      <th>revol_bal</th>\n",
       "      <th>total_cr_line</th>\n",
       "    </tr>\n",
       "  </thead>\n",
       "  <tbody>\n",
       "    <tr>\n",
       "      <th>count</th>\n",
       "      <td>1651.000000</td>\n",
       "      <td>1651.000000</td>\n",
       "      <td>1651.000000</td>\n",
       "      <td>1651.000000</td>\n",
       "      <td>1651.000000</td>\n",
       "      <td>1651.000000</td>\n",
       "      <td>1651.000000</td>\n",
       "      <td>1445.000000</td>\n",
       "      <td>1651.000000</td>\n",
       "      <td>1651.000000</td>\n",
       "      <td>1651.000000</td>\n",
       "      <td>512.000000</td>\n",
       "      <td>91.000000</td>\n",
       "      <td>1651.000000</td>\n",
       "      <td>1651.000000</td>\n",
       "      <td>1651.000000</td>\n",
       "      <td>1651.000000</td>\n",
       "    </tr>\n",
       "    <tr>\n",
       "      <th>mean</th>\n",
       "      <td>0.123344</td>\n",
       "      <td>661620.138704</td>\n",
       "      <td>820854.021805</td>\n",
       "      <td>18861.901878</td>\n",
       "      <td>12976.877650</td>\n",
       "      <td>11955.199273</td>\n",
       "      <td>49.998789</td>\n",
       "      <td>83621.750325</td>\n",
       "      <td>13.741593</td>\n",
       "      <td>0.137492</td>\n",
       "      <td>0.874016</td>\n",
       "      <td>35.378906</td>\n",
       "      <td>86.780220</td>\n",
       "      <td>10.180497</td>\n",
       "      <td>0.050878</td>\n",
       "      <td>19336.230769</td>\n",
       "      <td>25.677771</td>\n",
       "    </tr>\n",
       "    <tr>\n",
       "      <th>std</th>\n",
       "      <td>0.044364</td>\n",
       "      <td>383445.320296</td>\n",
       "      <td>468243.822001</td>\n",
       "      <td>7989.809082</td>\n",
       "      <td>5936.465913</td>\n",
       "      <td>6621.371746</td>\n",
       "      <td>11.835949</td>\n",
       "      <td>110624.861410</td>\n",
       "      <td>6.707110</td>\n",
       "      <td>0.453798</td>\n",
       "      <td>1.080347</td>\n",
       "      <td>21.631430</td>\n",
       "      <td>33.849603</td>\n",
       "      <td>4.264882</td>\n",
       "      <td>0.225262</td>\n",
       "      <td>20005.724271</td>\n",
       "      <td>11.507378</td>\n",
       "    </tr>\n",
       "    <tr>\n",
       "      <th>min</th>\n",
       "      <td>0.054200</td>\n",
       "      <td>58915.000000</td>\n",
       "      <td>136922.000000</td>\n",
       "      <td>1500.000000</td>\n",
       "      <td>1000.000000</td>\n",
       "      <td>0.000000</td>\n",
       "      <td>36.000000</td>\n",
       "      <td>12000.000000</td>\n",
       "      <td>0.000000</td>\n",
       "      <td>0.000000</td>\n",
       "      <td>0.000000</td>\n",
       "      <td>0.000000</td>\n",
       "      <td>0.000000</td>\n",
       "      <td>2.000000</td>\n",
       "      <td>0.000000</td>\n",
       "      <td>0.000000</td>\n",
       "      <td>3.000000</td>\n",
       "    </tr>\n",
       "    <tr>\n",
       "      <th>25%</th>\n",
       "      <td>0.086300</td>\n",
       "      <td>522173.000000</td>\n",
       "      <td>675128.500000</td>\n",
       "      <td>12425.000000</td>\n",
       "      <td>8400.000000</td>\n",
       "      <td>7600.000000</td>\n",
       "      <td>36.000000</td>\n",
       "      <td>50000.000000</td>\n",
       "      <td>8.610000</td>\n",
       "      <td>0.000000</td>\n",
       "      <td>0.000000</td>\n",
       "      <td>18.000000</td>\n",
       "      <td>86.500000</td>\n",
       "      <td>7.000000</td>\n",
       "      <td>0.000000</td>\n",
       "      <td>6774.500000</td>\n",
       "      <td>17.000000</td>\n",
       "    </tr>\n",
       "    <tr>\n",
       "      <th>50%</th>\n",
       "      <td>0.116600</td>\n",
       "      <td>611554.000000</td>\n",
       "      <td>783538.000000</td>\n",
       "      <td>19000.000000</td>\n",
       "      <td>12650.000000</td>\n",
       "      <td>12075.000000</td>\n",
       "      <td>60.000000</td>\n",
       "      <td>70099.000000</td>\n",
       "      <td>14.240000</td>\n",
       "      <td>0.000000</td>\n",
       "      <td>1.000000</td>\n",
       "      <td>32.000000</td>\n",
       "      <td>99.000000</td>\n",
       "      <td>9.000000</td>\n",
       "      <td>0.000000</td>\n",
       "      <td>13815.000000</td>\n",
       "      <td>24.000000</td>\n",
       "    </tr>\n",
       "    <tr>\n",
       "      <th>75%</th>\n",
       "      <td>0.159500</td>\n",
       "      <td>784370.500000</td>\n",
       "      <td>987210.000000</td>\n",
       "      <td>25000.000000</td>\n",
       "      <td>16675.000000</td>\n",
       "      <td>16104.500000</td>\n",
       "      <td>60.000000</td>\n",
       "      <td>98000.000000</td>\n",
       "      <td>19.055000</td>\n",
       "      <td>0.000000</td>\n",
       "      <td>1.000000</td>\n",
       "      <td>50.250000</td>\n",
       "      <td>108.000000</td>\n",
       "      <td>13.000000</td>\n",
       "      <td>0.000000</td>\n",
       "      <td>24675.500000</td>\n",
       "      <td>33.000000</td>\n",
       "    </tr>\n",
       "    <tr>\n",
       "      <th>max</th>\n",
       "      <td>0.247000</td>\n",
       "      <td>7060671.000000</td>\n",
       "      <td>8647048.000000</td>\n",
       "      <td>35000.000000</td>\n",
       "      <td>34675.000000</td>\n",
       "      <td>34650.000000</td>\n",
       "      <td>60.000000</td>\n",
       "      <td>3900000.000000</td>\n",
       "      <td>31.410000</td>\n",
       "      <td>5.000000</td>\n",
       "      <td>8.000000</td>\n",
       "      <td>82.000000</td>\n",
       "      <td>118.000000</td>\n",
       "      <td>28.000000</td>\n",
       "      <td>2.000000</td>\n",
       "      <td>147897.000000</td>\n",
       "      <td>79.000000</td>\n",
       "    </tr>\n",
       "  </tbody>\n",
       "</table>\n",
       "</div>"
      ],
      "text/plain": [
       "          int_rate         id_loan     id_borrower      loan_amt  \\\n",
       "count  1651.000000     1651.000000     1651.000000   1651.000000   \n",
       "mean      0.123344   661620.138704   820854.021805  18861.901878   \n",
       "std       0.044364   383445.320296   468243.822001   7989.809082   \n",
       "min       0.054200    58915.000000   136922.000000   1500.000000   \n",
       "25%       0.086300   522173.000000   675128.500000  12425.000000   \n",
       "50%       0.116600   611554.000000   783538.000000  19000.000000   \n",
       "75%       0.159500   784370.500000   987210.000000  25000.000000   \n",
       "max       0.247000  7060671.000000  8647048.000000  35000.000000   \n",
       "\n",
       "         funded_amt  funded_amt_inv         term      annual_inc          dti  \\\n",
       "count   1651.000000     1651.000000  1651.000000     1445.000000  1651.000000   \n",
       "mean   12976.877650    11955.199273    49.998789    83621.750325    13.741593   \n",
       "std     5936.465913     6621.371746    11.835949   110624.861410     6.707110   \n",
       "min     1000.000000        0.000000    36.000000    12000.000000     0.000000   \n",
       "25%     8400.000000     7600.000000    36.000000    50000.000000     8.610000   \n",
       "50%    12650.000000    12075.000000    60.000000    70099.000000    14.240000   \n",
       "75%    16675.000000    16104.500000    60.000000    98000.000000    19.055000   \n",
       "max    34675.000000    34650.000000    60.000000  3900000.000000    31.410000   \n",
       "\n",
       "       delinq_2yrs  inq_last_6mths  mths_since_last_deliq  \\\n",
       "count  1651.000000     1651.000000             512.000000   \n",
       "mean      0.137492        0.874016              35.378906   \n",
       "std       0.453798        1.080347              21.631430   \n",
       "min       0.000000        0.000000               0.000000   \n",
       "25%       0.000000        0.000000              18.000000   \n",
       "50%       0.000000        1.000000              32.000000   \n",
       "75%       0.000000        1.000000              50.250000   \n",
       "max       5.000000        8.000000              82.000000   \n",
       "\n",
       "       mths_since_last_record  num_opencr_line  num_der_rec      revol_bal  \\\n",
       "count               91.000000      1651.000000  1651.000000    1651.000000   \n",
       "mean                86.780220        10.180497     0.050878   19336.230769   \n",
       "std                 33.849603         4.264882     0.225262   20005.724271   \n",
       "min                  0.000000         2.000000     0.000000       0.000000   \n",
       "25%                 86.500000         7.000000     0.000000    6774.500000   \n",
       "50%                 99.000000         9.000000     0.000000   13815.000000   \n",
       "75%                108.000000        13.000000     0.000000   24675.500000   \n",
       "max                118.000000        28.000000     2.000000  147897.000000   \n",
       "\n",
       "       total_cr_line  \n",
       "count    1651.000000  \n",
       "mean       25.677771  \n",
       "std        11.507378  \n",
       "min         3.000000  \n",
       "25%        17.000000  \n",
       "50%        24.000000  \n",
       "75%        33.000000  \n",
       "max        79.000000  "
      ]
     },
     "execution_count": 8,
     "metadata": {},
     "output_type": "execute_result"
    }
   ],
   "source": [
    "df[(df['loan_amt'] > df['funded_amt'])].describe()"
   ]
  },
  {
   "cell_type": "code",
   "execution_count": 9,
   "metadata": {
    "collapsed": false
   },
   "outputs": [
    {
     "data": {
      "image/png": "[encoded data removed]",
      "text/plain": [
       "<matplotlib.figure.Figure at 0xac45898>"
      ]
     },
     "metadata": {},
     "output_type": "display_data"
    }
   ],
   "source": [
    "# Create a scatter plot to compare interest rate by if loan amnt is different than funded amnt or not\n",
    "x1 = np.ones((len(df[(df['loan_amt'] != df['funded_amt'])]['int_rate']), 1))\n",
    "y1 = df[(df['loan_amt'] != df['funded_amt'])]['int_rate']\n",
    "x0 = np.zeros((len(df[(df['loan_amt'] == df['funded_amt'])]['int_rate']), 1))\n",
    "y0 = df[(df['loan_amt'] == df['funded_amt'])]['int_rate']\n",
    "fig = plt.figure()\n",
    "ax1 = fig.add_subplot(111)\n",
    "\n",
    "ax1.scatter(x1, y1, s=10, c='b', marker=\"s\",label = '1= different')\n",
    "ax1.scatter(x0,y0, s=10, c='r', marker=\"o\",label = '0 = not different')\n",
    "plt.ylabel(\"Interest rate\")\n",
    "plt.legend(loc='upper center');\n",
    "plt.title(\"Interest rate by if loan amnt is different than funded amnt ,  (1 = different)\")\n",
    "plt.show()"
   ]
  },
  {
   "cell_type": "markdown",
   "metadata": {},
   "source": [
    "3 There is not significant different of interest rate issued comparing the above two cases, thus we don't need to stratefied resampling using loan_amt and funded_amt these two predictors"
   ]
  },
  {
   "cell_type": "markdown",
   "metadata": {},
   "source": [
    "### Examine any outliers in the relationship of id_loan vs id_borrower\n",
    "1. Let's look deeper into these two columns, first is to see if there were any typos like two different borrower share the same id_borrower or two different loans share the same id, if there are we may need to resolve any borrower or loan information conflict"
   ]
  },
  {
   "cell_type": "code",
   "execution_count": 10,
   "metadata": {
    "collapsed": false
   },
   "outputs": [
    {
     "name": "stdout",
     "output_type": "stream",
     "text": [
      "there are 338989 unique id_loan\n",
      "there are 338989 unique id_borrower\n"
     ]
    }
   ],
   "source": [
    "print('there are %d unique id_loan' % len(pd.unique(df.id_loan.ravel())))\n",
    "print('there are %d unique id_borrower' % len(pd.unique(df.id_borrower.ravel())))"
   ]
  },
  {
   "cell_type": "markdown",
   "metadata": {},
   "source": [
    "2 No duplicate id_loan or id_borrower, now we can remove these columns, since there were no conflicts to be resolved and these two columns have no predictive power"
   ]
  },
  {
   "cell_type": "code",
   "execution_count": 11,
   "metadata": {
    "collapsed": true
   },
   "outputs": [],
   "source": [
    "df.drop(['id_loan','id_borrower'],1, inplace=True)"
   ]
  },
  {
   "cell_type": "markdown",
   "metadata": {},
   "source": [
    "Now we keep moving to next slice of columns"
   ]
  },
  {
   "cell_type": "code",
   "execution_count": 12,
   "metadata": {
    "collapsed": false,
    "scrolled": true
   },
   "outputs": [
    {
     "data": {
      "text/html": [
       "<div>\n",
       "<table border=\"1\" class=\"dataframe\">\n",
       "  <thead>\n",
       "    <tr style=\"text-align: right;\">\n",
       "      <th></th>\n",
       "      <th>grade</th>\n",
       "      <th>subgrade</th>\n",
       "      <th>emp_title</th>\n",
       "      <th>emp_length</th>\n",
       "      <th>home_ownership</th>\n",
       "      <th>annual_inc</th>\n",
       "      <th>verification_status</th>\n",
       "      <th>issue_d</th>\n",
       "      <th>purpose</th>\n",
       "      <th>loan_cat</th>\n",
       "    </tr>\n",
       "  </thead>\n",
       "  <tbody>\n",
       "    <tr>\n",
       "      <th>0</th>\n",
       "      <td>B</td>\n",
       "      <td>B4</td>\n",
       "      <td>NaN</td>\n",
       "      <td>&lt; 1 year</td>\n",
       "      <td>RENT</td>\n",
       "      <td>85000</td>\n",
       "      <td>VERIFIED - income</td>\n",
       "      <td>Aug-09</td>\n",
       "      <td>Due to a lack of personal finance education an...</td>\n",
       "      <td>debt_consolidation</td>\n",
       "    </tr>\n",
       "    <tr>\n",
       "      <th>1</th>\n",
       "      <td>B</td>\n",
       "      <td>B5</td>\n",
       "      <td>CNN</td>\n",
       "      <td>&lt; 1 year</td>\n",
       "      <td>RENT</td>\n",
       "      <td>65000</td>\n",
       "      <td>not verified</td>\n",
       "      <td>May-08</td>\n",
       "      <td>Just want to pay off the last bit of credit ca...</td>\n",
       "      <td>credit_card</td>\n",
       "    </tr>\n",
       "    <tr>\n",
       "      <th>2</th>\n",
       "      <td>D</td>\n",
       "      <td>D3</td>\n",
       "      <td>Web Programmer</td>\n",
       "      <td>1 year</td>\n",
       "      <td>RENT</td>\n",
       "      <td>70000</td>\n",
       "      <td>VERIFIED - income</td>\n",
       "      <td>Aug-14</td>\n",
       "      <td>Trying to pay a friend back for apartment brok...</td>\n",
       "      <td>debt_consolidation</td>\n",
       "    </tr>\n",
       "    <tr>\n",
       "      <th>3</th>\n",
       "      <td>C</td>\n",
       "      <td>C2</td>\n",
       "      <td>city of beaumont texas</td>\n",
       "      <td>10+ years</td>\n",
       "      <td>OWN</td>\n",
       "      <td>54000</td>\n",
       "      <td>not verified</td>\n",
       "      <td>Mar-10</td>\n",
       "      <td>If funded, I would use this loan consolidate t...</td>\n",
       "      <td>debt_consolidation</td>\n",
       "    </tr>\n",
       "    <tr>\n",
       "      <th>4</th>\n",
       "      <td>C</td>\n",
       "      <td>C3</td>\n",
       "      <td>State Farm Insurance</td>\n",
       "      <td>6 years</td>\n",
       "      <td>RENT</td>\n",
       "      <td>32000</td>\n",
       "      <td>not verified</td>\n",
       "      <td>Nov-09</td>\n",
       "      <td>I currently have a personal loan with Citifina...</td>\n",
       "      <td>debt_consolidation</td>\n",
       "    </tr>\n",
       "    <tr>\n",
       "      <th>5</th>\n",
       "      <td>D</td>\n",
       "      <td>D4</td>\n",
       "      <td>Arkwright</td>\n",
       "      <td>9 years</td>\n",
       "      <td>RENT</td>\n",
       "      <td>58000</td>\n",
       "      <td>VERIFIED - income source</td>\n",
       "      <td>Aug-12</td>\n",
       "      <td>Credit cards are out of here, I am tired of be...</td>\n",
       "      <td>debt_consolidation</td>\n",
       "    </tr>\n",
       "  </tbody>\n",
       "</table>\n",
       "</div>"
      ],
      "text/plain": [
       "  grade subgrade               emp_title emp_length home_ownership  \\\n",
       "0     B       B4                     NaN   < 1 year           RENT   \n",
       "1     B       B5                     CNN   < 1 year           RENT   \n",
       "2     D       D3          Web Programmer     1 year           RENT   \n",
       "3     C       C2  city of beaumont texas  10+ years            OWN   \n",
       "4     C       C3    State Farm Insurance    6 years           RENT   \n",
       "5     D       D4               Arkwright    9 years           RENT   \n",
       "\n",
       "   annual_inc       verification_status issue_d  \\\n",
       "0       85000         VERIFIED - income  Aug-09   \n",
       "1       65000              not verified  May-08   \n",
       "2       70000         VERIFIED - income  Aug-14   \n",
       "3       54000              not verified  Mar-10   \n",
       "4       32000              not verified  Nov-09   \n",
       "5       58000  VERIFIED - income source  Aug-12   \n",
       "\n",
       "                                             purpose            loan_cat  \n",
       "0  Due to a lack of personal finance education an...  debt_consolidation  \n",
       "1  Just want to pay off the last bit of credit ca...         credit_card  \n",
       "2  Trying to pay a friend back for apartment brok...  debt_consolidation  \n",
       "3  If funded, I would use this loan consolidate t...  debt_consolidation  \n",
       "4  I currently have a personal loan with Citifina...  debt_consolidation  \n",
       "5  Credit cards are out of here, I am tired of be...  debt_consolidation  "
      ]
     },
     "execution_count": 12,
     "metadata": {},
     "output_type": "execute_result"
    }
   ],
   "source": [
    "df.ix[:5,5:15]"
   ]
  },
  {
   "cell_type": "markdown",
   "metadata": {},
   "source": [
    "### Examine the distribution of Grade and subgrade and their influence to interest rate\n",
    "1. Examine to confirm if the distribution of grades and subgrades overally map and examine their influence to interest rate, if the grade and subgrade exhibits similar distribution and influence, then we remove one of them to remove collinearity."
   ]
  },
  {
   "cell_type": "code",
   "execution_count": 17,
   "metadata": {
    "collapsed": false
   },
   "outputs": [
    {
     "data": {
      "text/plain": [
       "<matplotlib.text.Text at 0xce63978>"
      ]
     },
     "execution_count": 17,
     "metadata": {},
     "output_type": "execute_result"
    },
    {
     "data": {
      "image/png": "[encoded data removed]",
      "text/plain": [
       "<matplotlib.figure.Figure at 0xbdf1080>"
      ]
     },
     "metadata": {},
     "output_type": "display_data"
    }
   ],
   "source": [
    "# Plot the distribution of counts of different grades\n",
    "frequencies = []\n",
    "counts = df.grade.value_counts()\n",
    "keys = list(dict(counts).keys())\n",
    "keys.sort()\n",
    "for each in keys:\n",
    "    frequencies.append(dict(counts).get(each))\n",
    "\n",
    "pos = np.arange(len(keys))\n",
    "width = 1.0     # gives histogram aspect to the bar diagram\n",
    "\n",
    "\n",
    "ax = plt.axes()\n",
    "ax.set_xticks(pos + (width / 2))\n",
    "ax.set_xticklabels(keys)\n",
    "\n",
    "plt.bar(pos, frequencies, width, color='r')\n",
    "plt.title('Grade frequencies')\n"
   ]
  },
  {
   "cell_type": "code",
   "execution_count": 169,
   "metadata": {
    "collapsed": false
   },
   "outputs": [
    {
     "data": {
      "image/png": "[encoded data removed]",
      "text/plain": [
       "<matplotlib.figure.Figure at 0x677bfe10>"
      ]
     },
     "metadata": {},
     "output_type": "display_data"
    }
   ],
   "source": [
    "# Plot the distribution of counts of different subgrades\n",
    "\n",
    "frequencies = []\n",
    "counts = df.subgrade.value_counts()\n",
    "keys = list(dict(counts).keys())\n",
    "keys.sort()\n",
    "for each in keys:\n",
    "    frequencies.append(dict(counts).get(each))\n",
    "\n",
    "pos = np.arange(len(keys))\n",
    "width = 1.0     # gives histogram aspect to the bar diagram\n",
    "\n",
    "ax = plt.axes()\n",
    "ax.set_xticks(pos + (width / 2))\n",
    "ax.set_xticklabels(keys)\n",
    "\n",
    "plt.bar(pos, frequencies, width, color='r')\n",
    "plt.title('Subgrade frequencies')\n",
    "plt.show()"
   ]
  },
  {
   "cell_type": "code",
   "execution_count": 100,
   "metadata": {
    "collapsed": false
   },
   "outputs": [
    {
     "data": {
      "text/plain": [
       "<matplotlib.figure.Figure at 0x11da8e10>"
      ]
     },
     "metadata": {},
     "output_type": "display_data"
    },
    {
     "data": {
      "image/png": "[encoded data removed]",
      "text/plain": [
       "<matplotlib.figure.Figure at 0xbce50b8>"
      ]
     },
     "metadata": {},
     "output_type": "display_data"
    }
   ],
   "source": [
    "# Box plot of interest rate by different grades\n",
    "\n",
    "plt.figure()\n",
    "\n",
    "p = df.boxplot('int_rate','grade')\n",
    "\n",
    "q0 = p.set_xlabel('Loan Grade')\n",
    "q1 = p.set_ylabel('Interest Rate %')\n",
    "q2 = p.set_title('                          ')\n",
    "plt.show()"
   ]
  },
  {
   "cell_type": "code",
   "execution_count": 18,
   "metadata": {
    "collapsed": false
   },
   "outputs": [
    {
     "data": {
      "text/plain": [
       "<matplotlib.figure.Figure at 0xdd6dac8>"
      ]
     },
     "metadata": {},
     "output_type": "display_data"
    },
    {
     "data": {
      "image/png": "[encoded data removed]",
      "text/plain": [
       "<matplotlib.figure.Figure at 0xcf16160>"
      ]
     },
     "metadata": {},
     "output_type": "display_data"
    }
   ],
   "source": [
    "# Box plot of interest rate by different subgrades\n",
    "\n",
    "plt.figure(figsize=(3,4))\n",
    "\n",
    "p = df.boxplot('int_rate','subgrade')\n",
    "\n",
    "q0 = p.set_xlabel('Loan Subgrade')\n",
    "q1 = p.set_ylabel('Interest Rate %')\n",
    "q2 = p.set_title('                          ')\n",
    "plt.show()"
   ]
  },
  {
   "cell_type": "markdown",
   "metadata": {
    "collapsed": true
   },
   "source": [
    "2  We confirm the grade and subgrade exhibits similar distribution and influence, therefore we remove one of them to remove collinearity."
   ]
  },
  {
   "cell_type": "code",
   "execution_count": 19,
   "metadata": {
    "collapsed": true
   },
   "outputs": [],
   "source": [
    "df.drop(['subgrade'], axis=1, inplace=True)"
   ]
  },
  {
   "cell_type": "markdown",
   "metadata": {},
   "source": [
    "### Convert Issue date column type\n",
    "1. issue_d is currently an object dtype however we don't want to convert it to a date, rather a scalar to describe the length of time( in /year unit) since the first day of the year 2016, since all the loans were issued in the year of 2016. "
   ]
  },
  {
   "cell_type": "code",
   "execution_count": 20,
   "metadata": {
    "collapsed": true
   },
   "outputs": [],
   "source": [
    "from datetime import datetime\n",
    "# Read the column in the correct format\n",
    "temp = pd.to_datetime(df['issue_d'],format = '%b-%d')\n",
    "\n",
    "date_format = \"%m/%d/%Y\"\n",
    "dttoday = datetime.strptime('1/1/1900', date_format)\n",
    "\n",
    "d = np.zeros(len(temp))\n",
    "for i in range(len(temp)):\n",
    "    try:\n",
    "        d[i] = ((np.timedelta64(temp[i] - pd.Timestamp(dttoday),'D').astype(int))/365)\n",
    "        #break\n",
    "    except:\n",
    "        d[i] = ((np.timedelta64(temp[i] - pd.Timestamp(dttoday),'M').astype(int))/12)\n",
    "\n",
    "df['issue_d'] = d"
   ]
  },
  {
   "cell_type": "markdown",
   "metadata": {},
   "source": [
    "2 Converted issue_d showing the length of time( in /year unit) since the first day of the year 2016,"
   ]
  },
  {
   "cell_type": "code",
   "execution_count": 23,
   "metadata": {
    "collapsed": false
   },
   "outputs": [
    {
     "data": {
      "text/plain": [
       "0    0.602740\n",
       "1    0.347945\n",
       "2    0.616438\n",
       "Name: issue_d, dtype: float64"
      ]
     },
     "execution_count": 23,
     "metadata": {},
     "output_type": "execute_result"
    }
   ],
   "source": [
    "df['issue_d'].head(3)"
   ]
  },
  {
   "cell_type": "markdown",
   "metadata": {},
   "source": [
    "### Annual income outlier examination\n",
    "1. Let's examine if any outliers due to typos or other reasons of annual income existing in our data, if a borrower's annual income as claimed is millions per year but request to borrow a loan of several thousands, it would be suspicious record and may need to be drop that record\n",
    "2. From the statistics below, we see the maximum claimed annual income is $7.5 millions,which is certainly possible, \n",
    "highly implausible for a person seeking a loan of a few 10's of K dollars, i.e. implausible in this context."
   ]
  },
  {
   "cell_type": "code",
   "execution_count": 24,
   "metadata": {
    "collapsed": false
   },
   "outputs": [
    {
     "data": {
      "text/plain": [
       "count     287238.000000\n",
       "mean       73151.464096\n",
       "std        56189.665971\n",
       "min         3000.000000\n",
       "25%        45000.000000\n",
       "50%        63000.000000\n",
       "75%        88078.750000\n",
       "max      7500000.000000\n",
       "Name: annual_inc, dtype: float64"
      ]
     },
     "execution_count": 24,
     "metadata": {},
     "output_type": "execute_result"
    }
   ],
   "source": [
    "df['annual_inc'].describe()"
   ]
  },
  {
   "cell_type": "code",
   "execution_count": 25,
   "metadata": {
    "collapsed": false
   },
   "outputs": [
    {
     "data": {
      "text/plain": [
       "count    338989.000000\n",
       "mean      14276.968353\n",
       "std        8252.264104\n",
       "min         500.000000\n",
       "25%        8000.000000\n",
       "50%       12000.000000\n",
       "75%       20000.000000\n",
       "max       35000.000000\n",
       "Name: loan_amt, dtype: float64"
      ]
     },
     "execution_count": 25,
     "metadata": {},
     "output_type": "execute_result"
    }
   ],
   "source": [
    "df['loan_amt'].describe()"
   ]
  },
  {
   "cell_type": "markdown",
   "metadata": {},
   "source": [
    "3 We found the borrowers who claim make more than 1 million a year requested loan amount up to 35k only, and many of the employment title like technician raises suspiciousness about the claim of income over 1 million."
   ]
  },
  {
   "cell_type": "code",
   "execution_count": 26,
   "metadata": {
    "collapsed": false,
    "scrolled": true
   },
   "outputs": [
    {
     "data": {
      "text/html": [
       "<div>\n",
       "<table border=\"1\" class=\"dataframe\">\n",
       "  <thead>\n",
       "    <tr style=\"text-align: right;\">\n",
       "      <th></th>\n",
       "      <th>int_rate</th>\n",
       "      <th>loan_amt</th>\n",
       "      <th>funded_amt</th>\n",
       "      <th>funded_amt_inv</th>\n",
       "      <th>term</th>\n",
       "      <th>grade</th>\n",
       "      <th>emp_title</th>\n",
       "      <th>emp_length</th>\n",
       "      <th>home_ownership</th>\n",
       "      <th>annual_inc</th>\n",
       "      <th>...</th>\n",
       "      <th>earliest_cr_line</th>\n",
       "      <th>inq_last_6mths</th>\n",
       "      <th>mths_since_last_deliq</th>\n",
       "      <th>mths_since_last_record</th>\n",
       "      <th>num_opencr_line</th>\n",
       "      <th>num_der_rec</th>\n",
       "      <th>revol_bal</th>\n",
       "      <th>revol_util</th>\n",
       "      <th>total_cr_line</th>\n",
       "      <th>init_list_status</th>\n",
       "    </tr>\n",
       "  </thead>\n",
       "  <tbody>\n",
       "    <tr>\n",
       "      <th>626</th>\n",
       "      <td>0.1229</td>\n",
       "      <td>8450</td>\n",
       "      <td>8450</td>\n",
       "      <td>3747</td>\n",
       "      <td>36</td>\n",
       "      <td>C</td>\n",
       "      <td>at&amp;t wireless</td>\n",
       "      <td>&lt; 1 year</td>\n",
       "      <td>RENT</td>\n",
       "      <td>2039784</td>\n",
       "      <td>...</td>\n",
       "      <td>Aug-04</td>\n",
       "      <td>1</td>\n",
       "      <td>0</td>\n",
       "      <td>0</td>\n",
       "      <td>7</td>\n",
       "      <td>0</td>\n",
       "      <td>8747</td>\n",
       "      <td>51.80%</td>\n",
       "      <td>11</td>\n",
       "      <td>f</td>\n",
       "    </tr>\n",
       "    <tr>\n",
       "      <th>4964</th>\n",
       "      <td>0.0774</td>\n",
       "      <td>6600</td>\n",
       "      <td>6600</td>\n",
       "      <td>6600</td>\n",
       "      <td>36</td>\n",
       "      <td>A</td>\n",
       "      <td>Lockheed Martin</td>\n",
       "      <td>9 years</td>\n",
       "      <td>MORTGAGE</td>\n",
       "      <td>1362000</td>\n",
       "      <td>...</td>\n",
       "      <td>Nov-96</td>\n",
       "      <td>2</td>\n",
       "      <td>NaN</td>\n",
       "      <td>NaN</td>\n",
       "      <td>13</td>\n",
       "      <td>0</td>\n",
       "      <td>20</td>\n",
       "      <td>0.10%</td>\n",
       "      <td>36</td>\n",
       "      <td>f</td>\n",
       "    </tr>\n",
       "    <tr>\n",
       "      <th>5225</th>\n",
       "      <td>0.0740</td>\n",
       "      <td>6400</td>\n",
       "      <td>6400</td>\n",
       "      <td>6300</td>\n",
       "      <td>36</td>\n",
       "      <td>A</td>\n",
       "      <td>Hewlett Packard</td>\n",
       "      <td>7 years</td>\n",
       "      <td>MORTGAGE</td>\n",
       "      <td>1440000</td>\n",
       "      <td>...</td>\n",
       "      <td>Dec-95</td>\n",
       "      <td>0</td>\n",
       "      <td>39</td>\n",
       "      <td>NaN</td>\n",
       "      <td>6</td>\n",
       "      <td>0</td>\n",
       "      <td>2926</td>\n",
       "      <td>13%</td>\n",
       "      <td>38</td>\n",
       "      <td>f</td>\n",
       "    </tr>\n",
       "    <tr>\n",
       "      <th>8902</th>\n",
       "      <td>0.1062</td>\n",
       "      <td>25000</td>\n",
       "      <td>15500</td>\n",
       "      <td>11430</td>\n",
       "      <td>60</td>\n",
       "      <td>B</td>\n",
       "      <td>Lea Regional Hospital/Pecos Valley</td>\n",
       "      <td>3 years</td>\n",
       "      <td>MORTGAGE</td>\n",
       "      <td>3900000</td>\n",
       "      <td>...</td>\n",
       "      <td>Sep-99</td>\n",
       "      <td>3</td>\n",
       "      <td>NaN</td>\n",
       "      <td>NaN</td>\n",
       "      <td>12</td>\n",
       "      <td>0</td>\n",
       "      <td>3270</td>\n",
       "      <td>10.20%</td>\n",
       "      <td>32</td>\n",
       "      <td>f</td>\n",
       "    </tr>\n",
       "    <tr>\n",
       "      <th>9386</th>\n",
       "      <td>0.0788</td>\n",
       "      <td>4500</td>\n",
       "      <td>4500</td>\n",
       "      <td>4500</td>\n",
       "      <td>60</td>\n",
       "      <td>A</td>\n",
       "      <td>St. John Lutheran Church</td>\n",
       "      <td>8 years</td>\n",
       "      <td>MORTGAGE</td>\n",
       "      <td>1080000</td>\n",
       "      <td>...</td>\n",
       "      <td>Nov-83</td>\n",
       "      <td>0</td>\n",
       "      <td>31</td>\n",
       "      <td>NaN</td>\n",
       "      <td>7</td>\n",
       "      <td>0</td>\n",
       "      <td>46337</td>\n",
       "      <td>1.90%</td>\n",
       "      <td>20</td>\n",
       "      <td>f</td>\n",
       "    </tr>\n",
       "    <tr>\n",
       "      <th>10660</th>\n",
       "      <td>0.1361</td>\n",
       "      <td>5600</td>\n",
       "      <td>5600</td>\n",
       "      <td>5600</td>\n",
       "      <td>60</td>\n",
       "      <td>C</td>\n",
       "      <td>Dept of army</td>\n",
       "      <td>10+ years</td>\n",
       "      <td>MORTGAGE</td>\n",
       "      <td>1176000</td>\n",
       "      <td>...</td>\n",
       "      <td>Mar-97</td>\n",
       "      <td>0</td>\n",
       "      <td>4</td>\n",
       "      <td>NaN</td>\n",
       "      <td>6</td>\n",
       "      <td>0</td>\n",
       "      <td>11753</td>\n",
       "      <td>73.50%</td>\n",
       "      <td>25</td>\n",
       "      <td>f</td>\n",
       "    </tr>\n",
       "    <tr>\n",
       "      <th>11831</th>\n",
       "      <td>0.0751</td>\n",
       "      <td>12000</td>\n",
       "      <td>12000</td>\n",
       "      <td>12000</td>\n",
       "      <td>36</td>\n",
       "      <td>A</td>\n",
       "      <td>TelSource Corp</td>\n",
       "      <td>1 year</td>\n",
       "      <td>MORTGAGE</td>\n",
       "      <td>1200000</td>\n",
       "      <td>...</td>\n",
       "      <td>Oct-89</td>\n",
       "      <td>2</td>\n",
       "      <td>NaN</td>\n",
       "      <td>NaN</td>\n",
       "      <td>12</td>\n",
       "      <td>0</td>\n",
       "      <td>26684</td>\n",
       "      <td>51.90%</td>\n",
       "      <td>26</td>\n",
       "      <td>f</td>\n",
       "    </tr>\n",
       "    <tr>\n",
       "      <th>13568</th>\n",
       "      <td>0.1520</td>\n",
       "      <td>25000</td>\n",
       "      <td>25000</td>\n",
       "      <td>24493</td>\n",
       "      <td>60</td>\n",
       "      <td>D</td>\n",
       "      <td>Avis Budget Group</td>\n",
       "      <td>10+ years</td>\n",
       "      <td>RENT</td>\n",
       "      <td>1200000</td>\n",
       "      <td>...</td>\n",
       "      <td>Aug-98</td>\n",
       "      <td>1</td>\n",
       "      <td>NaN</td>\n",
       "      <td>NaN</td>\n",
       "      <td>4</td>\n",
       "      <td>0</td>\n",
       "      <td>11168</td>\n",
       "      <td>69.80%</td>\n",
       "      <td>12</td>\n",
       "      <td>f</td>\n",
       "    </tr>\n",
       "    <tr>\n",
       "      <th>14096</th>\n",
       "      <td>0.0617</td>\n",
       "      <td>1500</td>\n",
       "      <td>1500</td>\n",
       "      <td>1500</td>\n",
       "      <td>36</td>\n",
       "      <td>A</td>\n",
       "      <td>Montgomery ISD</td>\n",
       "      <td>5 years</td>\n",
       "      <td>MORTGAGE</td>\n",
       "      <td>1900000</td>\n",
       "      <td>...</td>\n",
       "      <td>Jun-81</td>\n",
       "      <td>2</td>\n",
       "      <td>NaN</td>\n",
       "      <td>NaN</td>\n",
       "      <td>17</td>\n",
       "      <td>0</td>\n",
       "      <td>17396</td>\n",
       "      <td>59.60%</td>\n",
       "      <td>36</td>\n",
       "      <td>f</td>\n",
       "    </tr>\n",
       "    <tr>\n",
       "      <th>15948</th>\n",
       "      <td>0.0654</td>\n",
       "      <td>10000</td>\n",
       "      <td>10000</td>\n",
       "      <td>9500</td>\n",
       "      <td>36</td>\n",
       "      <td>A</td>\n",
       "      <td>Convent of the Sacred Heart</td>\n",
       "      <td>10+ years</td>\n",
       "      <td>OWN</td>\n",
       "      <td>1200000</td>\n",
       "      <td>...</td>\n",
       "      <td>Jun-94</td>\n",
       "      <td>0</td>\n",
       "      <td>NaN</td>\n",
       "      <td>NaN</td>\n",
       "      <td>6</td>\n",
       "      <td>0</td>\n",
       "      <td>75706</td>\n",
       "      <td>49.10%</td>\n",
       "      <td>13</td>\n",
       "      <td>f</td>\n",
       "    </tr>\n",
       "    <tr>\n",
       "      <th>25199</th>\n",
       "      <td>0.1299</td>\n",
       "      <td>15775</td>\n",
       "      <td>15775</td>\n",
       "      <td>15750</td>\n",
       "      <td>60</td>\n",
       "      <td>C</td>\n",
       "      <td>Stryker Instruments</td>\n",
       "      <td>2 years</td>\n",
       "      <td>NaN</td>\n",
       "      <td>1250000</td>\n",
       "      <td>...</td>\n",
       "      <td>May-97</td>\n",
       "      <td>0</td>\n",
       "      <td>NaN</td>\n",
       "      <td>NaN</td>\n",
       "      <td>10</td>\n",
       "      <td>0</td>\n",
       "      <td>48258</td>\n",
       "      <td>83.20%</td>\n",
       "      <td>28</td>\n",
       "      <td>f</td>\n",
       "    </tr>\n",
       "    <tr>\n",
       "      <th>28082</th>\n",
       "      <td>0.1427</td>\n",
       "      <td>12025</td>\n",
       "      <td>12025</td>\n",
       "      <td>12000</td>\n",
       "      <td>36</td>\n",
       "      <td>NaN</td>\n",
       "      <td>NYCDOE</td>\n",
       "      <td>10+ years</td>\n",
       "      <td>RENT</td>\n",
       "      <td>1782000</td>\n",
       "      <td>...</td>\n",
       "      <td>Dec-87</td>\n",
       "      <td>0</td>\n",
       "      <td>46</td>\n",
       "      <td>NaN</td>\n",
       "      <td>9</td>\n",
       "      <td>0</td>\n",
       "      <td>49208</td>\n",
       "      <td>85.70%</td>\n",
       "      <td>30</td>\n",
       "      <td>f</td>\n",
       "    </tr>\n",
       "    <tr>\n",
       "      <th>39404</th>\n",
       "      <td>0.2100</td>\n",
       "      <td>24000</td>\n",
       "      <td>24000</td>\n",
       "      <td>24000</td>\n",
       "      <td>60</td>\n",
       "      <td>E</td>\n",
       "      <td>sfpd</td>\n",
       "      <td>7 years</td>\n",
       "      <td>NaN</td>\n",
       "      <td>1500000</td>\n",
       "      <td>...</td>\n",
       "      <td>Aug-01</td>\n",
       "      <td>0</td>\n",
       "      <td>NaN</td>\n",
       "      <td>NaN</td>\n",
       "      <td>20</td>\n",
       "      <td>0</td>\n",
       "      <td>18544</td>\n",
       "      <td>77%</td>\n",
       "      <td>32</td>\n",
       "      <td>f</td>\n",
       "    </tr>\n",
       "    <tr>\n",
       "      <th>47017</th>\n",
       "      <td>0.0762</td>\n",
       "      <td>33000</td>\n",
       "      <td>33000</td>\n",
       "      <td>33000</td>\n",
       "      <td>36</td>\n",
       "      <td>NaN</td>\n",
       "      <td>Fiam Pack corp</td>\n",
       "      <td>10+ years</td>\n",
       "      <td>NaN</td>\n",
       "      <td>1233000</td>\n",
       "      <td>...</td>\n",
       "      <td>Apr-88</td>\n",
       "      <td>0</td>\n",
       "      <td>NaN</td>\n",
       "      <td>NaN</td>\n",
       "      <td>7</td>\n",
       "      <td>0</td>\n",
       "      <td>95435</td>\n",
       "      <td>1.90%</td>\n",
       "      <td>26</td>\n",
       "      <td>f</td>\n",
       "    </tr>\n",
       "    <tr>\n",
       "      <th>62457</th>\n",
       "      <td>0.1212</td>\n",
       "      <td>35000</td>\n",
       "      <td>35000</td>\n",
       "      <td>35000</td>\n",
       "      <td>36</td>\n",
       "      <td>B</td>\n",
       "      <td>Highbridge Capital</td>\n",
       "      <td>5 years</td>\n",
       "      <td>MORTGAGE</td>\n",
       "      <td>1200000</td>\n",
       "      <td>...</td>\n",
       "      <td>Jan-87</td>\n",
       "      <td>2</td>\n",
       "      <td>71</td>\n",
       "      <td>NaN</td>\n",
       "      <td>5</td>\n",
       "      <td>0</td>\n",
       "      <td>20228</td>\n",
       "      <td>47.80%</td>\n",
       "      <td>11</td>\n",
       "      <td>f</td>\n",
       "    </tr>\n",
       "    <tr>\n",
       "      <th>78373</th>\n",
       "      <td>0.1531</td>\n",
       "      <td>35000</td>\n",
       "      <td>35000</td>\n",
       "      <td>35000</td>\n",
       "      <td>36</td>\n",
       "      <td>NaN</td>\n",
       "      <td>VISIUM asset management</td>\n",
       "      <td>10+ years</td>\n",
       "      <td>MORTGAGE</td>\n",
       "      <td>5000000</td>\n",
       "      <td>...</td>\n",
       "      <td>Apr-94</td>\n",
       "      <td>2</td>\n",
       "      <td>12</td>\n",
       "      <td>NaN</td>\n",
       "      <td>13</td>\n",
       "      <td>0</td>\n",
       "      <td>975800</td>\n",
       "      <td>0%</td>\n",
       "      <td>36</td>\n",
       "      <td>w</td>\n",
       "    </tr>\n",
       "    <tr>\n",
       "      <th>79072</th>\n",
       "      <td>0.1114</td>\n",
       "      <td>30000</td>\n",
       "      <td>30000</td>\n",
       "      <td>30000</td>\n",
       "      <td>36</td>\n",
       "      <td>B</td>\n",
       "      <td>Murray's Cheese</td>\n",
       "      <td>6 years</td>\n",
       "      <td>OWN</td>\n",
       "      <td>1200000</td>\n",
       "      <td>...</td>\n",
       "      <td>Apr-04</td>\n",
       "      <td>0</td>\n",
       "      <td>NaN</td>\n",
       "      <td>NaN</td>\n",
       "      <td>16</td>\n",
       "      <td>0</td>\n",
       "      <td>81138</td>\n",
       "      <td>78.20%</td>\n",
       "      <td>22</td>\n",
       "      <td>f</td>\n",
       "    </tr>\n",
       "    <tr>\n",
       "      <th>79455</th>\n",
       "      <td>0.1311</td>\n",
       "      <td>18000</td>\n",
       "      <td>18000</td>\n",
       "      <td>18000</td>\n",
       "      <td>36</td>\n",
       "      <td>B</td>\n",
       "      <td>Argus Health Stystems, Inc</td>\n",
       "      <td>7 years</td>\n",
       "      <td>MORTGAGE</td>\n",
       "      <td>1350000</td>\n",
       "      <td>...</td>\n",
       "      <td>Jul-00</td>\n",
       "      <td>5</td>\n",
       "      <td>NaN</td>\n",
       "      <td>NaN</td>\n",
       "      <td>10</td>\n",
       "      <td>0</td>\n",
       "      <td>17148</td>\n",
       "      <td>50.10%</td>\n",
       "      <td>29</td>\n",
       "      <td>w</td>\n",
       "    </tr>\n",
       "    <tr>\n",
       "      <th>80270</th>\n",
       "      <td>0.1311</td>\n",
       "      <td>14825</td>\n",
       "      <td>14825</td>\n",
       "      <td>14825</td>\n",
       "      <td>36</td>\n",
       "      <td>B</td>\n",
       "      <td>Us postal service</td>\n",
       "      <td>10+ years</td>\n",
       "      <td>MORTGAGE</td>\n",
       "      <td>7141778</td>\n",
       "      <td>...</td>\n",
       "      <td>Mar-96</td>\n",
       "      <td>2</td>\n",
       "      <td>26</td>\n",
       "      <td>NaN</td>\n",
       "      <td>17</td>\n",
       "      <td>0</td>\n",
       "      <td>11351</td>\n",
       "      <td>70.90%</td>\n",
       "      <td>31</td>\n",
       "      <td>w</td>\n",
       "    </tr>\n",
       "    <tr>\n",
       "      <th>86014</th>\n",
       "      <td>0.0890</td>\n",
       "      <td>21250</td>\n",
       "      <td>21250</td>\n",
       "      <td>21075</td>\n",
       "      <td>36</td>\n",
       "      <td>A</td>\n",
       "      <td>UPS</td>\n",
       "      <td>10+ years</td>\n",
       "      <td>NaN</td>\n",
       "      <td>1200000</td>\n",
       "      <td>...</td>\n",
       "      <td>Apr-94</td>\n",
       "      <td>0</td>\n",
       "      <td>NaN</td>\n",
       "      <td>NaN</td>\n",
       "      <td>13</td>\n",
       "      <td>0</td>\n",
       "      <td>12367</td>\n",
       "      <td>59.20%</td>\n",
       "      <td>31</td>\n",
       "      <td>f</td>\n",
       "    </tr>\n",
       "    <tr>\n",
       "      <th>88221</th>\n",
       "      <td>0.1580</td>\n",
       "      <td>35000</td>\n",
       "      <td>35000</td>\n",
       "      <td>34950</td>\n",
       "      <td>60</td>\n",
       "      <td>C</td>\n",
       "      <td>R Markey &amp;Sons Inc</td>\n",
       "      <td>5 years</td>\n",
       "      <td>MORTGAGE</td>\n",
       "      <td>2000000</td>\n",
       "      <td>...</td>\n",
       "      <td>Dec-91</td>\n",
       "      <td>2</td>\n",
       "      <td>NaN</td>\n",
       "      <td>NaN</td>\n",
       "      <td>14</td>\n",
       "      <td>0</td>\n",
       "      <td>694615</td>\n",
       "      <td>0%</td>\n",
       "      <td>48</td>\n",
       "      <td>f</td>\n",
       "    </tr>\n",
       "    <tr>\n",
       "      <th>90290</th>\n",
       "      <td>0.0762</td>\n",
       "      <td>21000</td>\n",
       "      <td>21000</td>\n",
       "      <td>21000</td>\n",
       "      <td>36</td>\n",
       "      <td>A</td>\n",
       "      <td>Texas A&amp;M university-Kingsville</td>\n",
       "      <td>10+ years</td>\n",
       "      <td>MORTGAGE</td>\n",
       "      <td>1200000</td>\n",
       "      <td>...</td>\n",
       "      <td>Sep-93</td>\n",
       "      <td>1</td>\n",
       "      <td>62</td>\n",
       "      <td>NaN</td>\n",
       "      <td>15</td>\n",
       "      <td>0</td>\n",
       "      <td>15654</td>\n",
       "      <td>68.10%</td>\n",
       "      <td>31</td>\n",
       "      <td>w</td>\n",
       "    </tr>\n",
       "    <tr>\n",
       "      <th>107022</th>\n",
       "      <td>0.0603</td>\n",
       "      <td>21000</td>\n",
       "      <td>21000</td>\n",
       "      <td>21000</td>\n",
       "      <td>36</td>\n",
       "      <td>NaN</td>\n",
       "      <td>RBC Capital Markets</td>\n",
       "      <td>3 years</td>\n",
       "      <td>RENT</td>\n",
       "      <td>1050000</td>\n",
       "      <td>...</td>\n",
       "      <td>Jul-00</td>\n",
       "      <td>1</td>\n",
       "      <td>NaN</td>\n",
       "      <td>NaN</td>\n",
       "      <td>12</td>\n",
       "      <td>0</td>\n",
       "      <td>1063</td>\n",
       "      <td>2.90%</td>\n",
       "      <td>29</td>\n",
       "      <td>w</td>\n",
       "    </tr>\n",
       "    <tr>\n",
       "      <th>107644</th>\n",
       "      <td>0.1727</td>\n",
       "      <td>35000</td>\n",
       "      <td>35000</td>\n",
       "      <td>35000</td>\n",
       "      <td>36</td>\n",
       "      <td>C</td>\n",
       "      <td>Harris C, Siskind, P.A.</td>\n",
       "      <td>5 years</td>\n",
       "      <td>MORTGAGE</td>\n",
       "      <td>1300000</td>\n",
       "      <td>...</td>\n",
       "      <td>Jun-87</td>\n",
       "      <td>3</td>\n",
       "      <td>16</td>\n",
       "      <td>NaN</td>\n",
       "      <td>13</td>\n",
       "      <td>0</td>\n",
       "      <td>103537</td>\n",
       "      <td>91%</td>\n",
       "      <td>43</td>\n",
       "      <td>w</td>\n",
       "    </tr>\n",
       "    <tr>\n",
       "      <th>165661</th>\n",
       "      <td>0.1952</td>\n",
       "      <td>15000</td>\n",
       "      <td>15000</td>\n",
       "      <td>15000</td>\n",
       "      <td>36</td>\n",
       "      <td>D</td>\n",
       "      <td>Group Supervisor</td>\n",
       "      <td>10+ years</td>\n",
       "      <td>MORTGAGE</td>\n",
       "      <td>1510000</td>\n",
       "      <td>...</td>\n",
       "      <td>Sep-94</td>\n",
       "      <td>1</td>\n",
       "      <td>4</td>\n",
       "      <td>NaN</td>\n",
       "      <td>20</td>\n",
       "      <td>0</td>\n",
       "      <td>31363</td>\n",
       "      <td>70.50%</td>\n",
       "      <td>47</td>\n",
       "      <td>f</td>\n",
       "    </tr>\n",
       "    <tr>\n",
       "      <th>176362</th>\n",
       "      <td>0.0890</td>\n",
       "      <td>35000</td>\n",
       "      <td>35000</td>\n",
       "      <td>35000</td>\n",
       "      <td>36</td>\n",
       "      <td>A</td>\n",
       "      <td>Sales</td>\n",
       "      <td>10+ years</td>\n",
       "      <td>MORTGAGE</td>\n",
       "      <td>2000000</td>\n",
       "      <td>...</td>\n",
       "      <td>Jul-01</td>\n",
       "      <td>1</td>\n",
       "      <td>NaN</td>\n",
       "      <td>NaN</td>\n",
       "      <td>16</td>\n",
       "      <td>0</td>\n",
       "      <td>2458</td>\n",
       "      <td>2.70%</td>\n",
       "      <td>23</td>\n",
       "      <td>f</td>\n",
       "    </tr>\n",
       "    <tr>\n",
       "      <th>197480</th>\n",
       "      <td>0.1447</td>\n",
       "      <td>35000</td>\n",
       "      <td>35000</td>\n",
       "      <td>34950</td>\n",
       "      <td>36</td>\n",
       "      <td>C</td>\n",
       "      <td>President, Alternative and Late night</td>\n",
       "      <td>5 years</td>\n",
       "      <td>NaN</td>\n",
       "      <td>2000000</td>\n",
       "      <td>...</td>\n",
       "      <td>Jul-04</td>\n",
       "      <td>0</td>\n",
       "      <td>44</td>\n",
       "      <td>NaN</td>\n",
       "      <td>9</td>\n",
       "      <td>0</td>\n",
       "      <td>3939</td>\n",
       "      <td>48.60%</td>\n",
       "      <td>24</td>\n",
       "      <td>f</td>\n",
       "    </tr>\n",
       "    <tr>\n",
       "      <th>208169</th>\n",
       "      <td>0.0762</td>\n",
       "      <td>20000</td>\n",
       "      <td>20000</td>\n",
       "      <td>20000</td>\n",
       "      <td>36</td>\n",
       "      <td>A</td>\n",
       "      <td>Registered Nurse</td>\n",
       "      <td>5 years</td>\n",
       "      <td>RENT</td>\n",
       "      <td>7446395</td>\n",
       "      <td>...</td>\n",
       "      <td>Apr-93</td>\n",
       "      <td>0</td>\n",
       "      <td>45</td>\n",
       "      <td>NaN</td>\n",
       "      <td>10</td>\n",
       "      <td>0</td>\n",
       "      <td>24494</td>\n",
       "      <td>50.70%</td>\n",
       "      <td>24</td>\n",
       "      <td>w</td>\n",
       "    </tr>\n",
       "    <tr>\n",
       "      <th>237807</th>\n",
       "      <td>0.1947</td>\n",
       "      <td>31175</td>\n",
       "      <td>31175</td>\n",
       "      <td>31175</td>\n",
       "      <td>36</td>\n",
       "      <td>D</td>\n",
       "      <td>ceo</td>\n",
       "      <td>10+ years</td>\n",
       "      <td>MORTGAGE</td>\n",
       "      <td>1300000</td>\n",
       "      <td>...</td>\n",
       "      <td>Nov-00</td>\n",
       "      <td>1</td>\n",
       "      <td>NaN</td>\n",
       "      <td>14</td>\n",
       "      <td>12</td>\n",
       "      <td>1</td>\n",
       "      <td>8103</td>\n",
       "      <td>23.20%</td>\n",
       "      <td>34</td>\n",
       "      <td>w</td>\n",
       "    </tr>\n",
       "    <tr>\n",
       "      <th>277471</th>\n",
       "      <td>0.1299</td>\n",
       "      <td>20000</td>\n",
       "      <td>20000</td>\n",
       "      <td>20000</td>\n",
       "      <td>60</td>\n",
       "      <td>C</td>\n",
       "      <td>test technician</td>\n",
       "      <td>10+ years</td>\n",
       "      <td>NaN</td>\n",
       "      <td>4560077</td>\n",
       "      <td>...</td>\n",
       "      <td>Jan-06</td>\n",
       "      <td>0</td>\n",
       "      <td>NaN</td>\n",
       "      <td>NaN</td>\n",
       "      <td>11</td>\n",
       "      <td>0</td>\n",
       "      <td>15429</td>\n",
       "      <td>36%</td>\n",
       "      <td>19</td>\n",
       "      <td>f</td>\n",
       "    </tr>\n",
       "    <tr>\n",
       "      <th>298406</th>\n",
       "      <td>0.0769</td>\n",
       "      <td>28000</td>\n",
       "      <td>28000</td>\n",
       "      <td>28000</td>\n",
       "      <td>36</td>\n",
       "      <td>A</td>\n",
       "      <td>Managing Director</td>\n",
       "      <td>4 years</td>\n",
       "      <td>MORTGAGE</td>\n",
       "      <td>1600000</td>\n",
       "      <td>...</td>\n",
       "      <td>Mar-91</td>\n",
       "      <td>1</td>\n",
       "      <td>NaN</td>\n",
       "      <td>NaN</td>\n",
       "      <td>12</td>\n",
       "      <td>0</td>\n",
       "      <td>840548</td>\n",
       "      <td>66.30%</td>\n",
       "      <td>28</td>\n",
       "      <td>f</td>\n",
       "    </tr>\n",
       "    <tr>\n",
       "      <th>305110</th>\n",
       "      <td>0.1757</td>\n",
       "      <td>28000</td>\n",
       "      <td>28000</td>\n",
       "      <td>28000</td>\n",
       "      <td>36</td>\n",
       "      <td>NaN</td>\n",
       "      <td>OWNER/OPERATOR</td>\n",
       "      <td>10+ years</td>\n",
       "      <td>NaN</td>\n",
       "      <td>2000000</td>\n",
       "      <td>...</td>\n",
       "      <td>Jun-00</td>\n",
       "      <td>1</td>\n",
       "      <td>7</td>\n",
       "      <td>10</td>\n",
       "      <td>8</td>\n",
       "      <td>6</td>\n",
       "      <td>12974</td>\n",
       "      <td>60.10%</td>\n",
       "      <td>15</td>\n",
       "      <td>f</td>\n",
       "    </tr>\n",
       "    <tr>\n",
       "      <th>309791</th>\n",
       "      <td>0.1449</td>\n",
       "      <td>8000</td>\n",
       "      <td>8000</td>\n",
       "      <td>8000</td>\n",
       "      <td>36</td>\n",
       "      <td>C</td>\n",
       "      <td>Sr. Eng. Project Mgr.</td>\n",
       "      <td>10+ years</td>\n",
       "      <td>RENT</td>\n",
       "      <td>1254000</td>\n",
       "      <td>...</td>\n",
       "      <td>Mar-95</td>\n",
       "      <td>1</td>\n",
       "      <td>19</td>\n",
       "      <td>NaN</td>\n",
       "      <td>9</td>\n",
       "      <td>0</td>\n",
       "      <td>4666</td>\n",
       "      <td>12.40%</td>\n",
       "      <td>21</td>\n",
       "      <td>w</td>\n",
       "    </tr>\n",
       "    <tr>\n",
       "      <th>316111</th>\n",
       "      <td>0.1952</td>\n",
       "      <td>15000</td>\n",
       "      <td>15000</td>\n",
       "      <td>15000</td>\n",
       "      <td>36</td>\n",
       "      <td>E</td>\n",
       "      <td>Sales &amp; service rep</td>\n",
       "      <td>10+ years</td>\n",
       "      <td>MORTGAGE</td>\n",
       "      <td>7500000</td>\n",
       "      <td>...</td>\n",
       "      <td>Jan-88</td>\n",
       "      <td>5</td>\n",
       "      <td>17</td>\n",
       "      <td>82</td>\n",
       "      <td>29</td>\n",
       "      <td>1</td>\n",
       "      <td>9872</td>\n",
       "      <td>27.30%</td>\n",
       "      <td>42</td>\n",
       "      <td>f</td>\n",
       "    </tr>\n",
       "    <tr>\n",
       "      <th>324303</th>\n",
       "      <td>0.1561</td>\n",
       "      <td>35000</td>\n",
       "      <td>35000</td>\n",
       "      <td>35000</td>\n",
       "      <td>60</td>\n",
       "      <td>D</td>\n",
       "      <td>Managing Director</td>\n",
       "      <td>4 years</td>\n",
       "      <td>MORTGAGE</td>\n",
       "      <td>1100000</td>\n",
       "      <td>...</td>\n",
       "      <td>Dec-99</td>\n",
       "      <td>0</td>\n",
       "      <td>NaN</td>\n",
       "      <td>NaN</td>\n",
       "      <td>10</td>\n",
       "      <td>0</td>\n",
       "      <td>46663</td>\n",
       "      <td>64.20%</td>\n",
       "      <td>15</td>\n",
       "      <td>w</td>\n",
       "    </tr>\n",
       "    <tr>\n",
       "      <th>330460</th>\n",
       "      <td>0.0769</td>\n",
       "      <td>15600</td>\n",
       "      <td>15600</td>\n",
       "      <td>15600</td>\n",
       "      <td>36</td>\n",
       "      <td>A</td>\n",
       "      <td>quality lead</td>\n",
       "      <td>8 years</td>\n",
       "      <td>MORTGAGE</td>\n",
       "      <td>4900000</td>\n",
       "      <td>...</td>\n",
       "      <td>Jul-05</td>\n",
       "      <td>0</td>\n",
       "      <td>4</td>\n",
       "      <td>NaN</td>\n",
       "      <td>13</td>\n",
       "      <td>0</td>\n",
       "      <td>9015</td>\n",
       "      <td>26.10%</td>\n",
       "      <td>26</td>\n",
       "      <td>f</td>\n",
       "    </tr>\n",
       "    <tr>\n",
       "      <th>330652</th>\n",
       "      <td>0.0603</td>\n",
       "      <td>28000</td>\n",
       "      <td>28000</td>\n",
       "      <td>28000</td>\n",
       "      <td>36</td>\n",
       "      <td>A</td>\n",
       "      <td>Portfolio Manager</td>\n",
       "      <td>10+ years</td>\n",
       "      <td>MORTGAGE</td>\n",
       "      <td>1100000</td>\n",
       "      <td>...</td>\n",
       "      <td>Jul-98</td>\n",
       "      <td>0</td>\n",
       "      <td>NaN</td>\n",
       "      <td>NaN</td>\n",
       "      <td>6</td>\n",
       "      <td>0</td>\n",
       "      <td>62740</td>\n",
       "      <td>39.40%</td>\n",
       "      <td>14</td>\n",
       "      <td>f</td>\n",
       "    </tr>\n",
       "  </tbody>\n",
       "</table>\n",
       "<p>37 rows × 29 columns</p>\n",
       "</div>"
      ],
      "text/plain": [
       "        int_rate  loan_amt  funded_amt  funded_amt_inv  term grade  \\\n",
       "626       0.1229      8450        8450            3747    36     C   \n",
       "4964      0.0774      6600        6600            6600    36     A   \n",
       "5225      0.0740      6400        6400            6300    36     A   \n",
       "8902      0.1062     25000       15500           11430    60     B   \n",
       "9386      0.0788      4500        4500            4500    60     A   \n",
       "10660     0.1361      5600        5600            5600    60     C   \n",
       "11831     0.0751     12000       12000           12000    36     A   \n",
       "13568     0.1520     25000       25000           24493    60     D   \n",
       "14096     0.0617      1500        1500            1500    36     A   \n",
       "15948     0.0654     10000       10000            9500    36     A   \n",
       "25199     0.1299     15775       15775           15750    60     C   \n",
       "28082     0.1427     12025       12025           12000    36   NaN   \n",
       "39404     0.2100     24000       24000           24000    60     E   \n",
       "47017     0.0762     33000       33000           33000    36   NaN   \n",
       "62457     0.1212     35000       35000           35000    36     B   \n",
       "78373     0.1531     35000       35000           35000    36   NaN   \n",
       "79072     0.1114     30000       30000           30000    36     B   \n",
       "79455     0.1311     18000       18000           18000    36     B   \n",
       "80270     0.1311     14825       14825           14825    36     B   \n",
       "86014     0.0890     21250       21250           21075    36     A   \n",
       "88221     0.1580     35000       35000           34950    60     C   \n",
       "90290     0.0762     21000       21000           21000    36     A   \n",
       "107022    0.0603     21000       21000           21000    36   NaN   \n",
       "107644    0.1727     35000       35000           35000    36     C   \n",
       "165661    0.1952     15000       15000           15000    36     D   \n",
       "176362    0.0890     35000       35000           35000    36     A   \n",
       "197480    0.1447     35000       35000           34950    36     C   \n",
       "208169    0.0762     20000       20000           20000    36     A   \n",
       "237807    0.1947     31175       31175           31175    36     D   \n",
       "277471    0.1299     20000       20000           20000    60     C   \n",
       "298406    0.0769     28000       28000           28000    36     A   \n",
       "305110    0.1757     28000       28000           28000    36   NaN   \n",
       "309791    0.1449      8000        8000            8000    36     C   \n",
       "316111    0.1952     15000       15000           15000    36     E   \n",
       "324303    0.1561     35000       35000           35000    60     D   \n",
       "330460    0.0769     15600       15600           15600    36     A   \n",
       "330652    0.0603     28000       28000           28000    36     A   \n",
       "\n",
       "                                    emp_title emp_length home_ownership  \\\n",
       "626                             at&t wireless   < 1 year           RENT   \n",
       "4964                          Lockheed Martin    9 years       MORTGAGE   \n",
       "5225                          Hewlett Packard    7 years       MORTGAGE   \n",
       "8902       Lea Regional Hospital/Pecos Valley    3 years       MORTGAGE   \n",
       "9386                 St. John Lutheran Church    8 years       MORTGAGE   \n",
       "10660                            Dept of army  10+ years       MORTGAGE   \n",
       "11831                          TelSource Corp     1 year       MORTGAGE   \n",
       "13568                       Avis Budget Group  10+ years           RENT   \n",
       "14096                          Montgomery ISD    5 years       MORTGAGE   \n",
       "15948             Convent of the Sacred Heart  10+ years            OWN   \n",
       "25199                     Stryker Instruments    2 years            NaN   \n",
       "28082                                  NYCDOE  10+ years           RENT   \n",
       "39404                                    sfpd    7 years            NaN   \n",
       "47017                          Fiam Pack corp  10+ years            NaN   \n",
       "62457                      Highbridge Capital    5 years       MORTGAGE   \n",
       "78373                 VISIUM asset management  10+ years       MORTGAGE   \n",
       "79072                         Murray's Cheese    6 years            OWN   \n",
       "79455              Argus Health Stystems, Inc    7 years       MORTGAGE   \n",
       "80270                       Us postal service  10+ years       MORTGAGE   \n",
       "86014                                     UPS  10+ years            NaN   \n",
       "88221                      R Markey &Sons Inc    5 years       MORTGAGE   \n",
       "90290         Texas A&M university-Kingsville  10+ years       MORTGAGE   \n",
       "107022                    RBC Capital Markets    3 years           RENT   \n",
       "107644                Harris C, Siskind, P.A.    5 years       MORTGAGE   \n",
       "165661                       Group Supervisor  10+ years       MORTGAGE   \n",
       "176362                                  Sales  10+ years       MORTGAGE   \n",
       "197480  President, Alternative and Late night    5 years            NaN   \n",
       "208169                       Registered Nurse    5 years           RENT   \n",
       "237807                                    ceo  10+ years       MORTGAGE   \n",
       "277471                        test technician  10+ years            NaN   \n",
       "298406                     Managing Director     4 years       MORTGAGE   \n",
       "305110                         OWNER/OPERATOR  10+ years            NaN   \n",
       "309791                  Sr. Eng. Project Mgr.  10+ years           RENT   \n",
       "316111                    Sales & service rep  10+ years       MORTGAGE   \n",
       "324303                      Managing Director    4 years       MORTGAGE   \n",
       "330460                           quality lead    8 years       MORTGAGE   \n",
       "330652                      Portfolio Manager  10+ years       MORTGAGE   \n",
       "\n",
       "        annual_inc       ...        earliest_cr_line  inq_last_6mths  \\\n",
       "626        2039784       ...                  Aug-04               1   \n",
       "4964       1362000       ...                  Nov-96               2   \n",
       "5225       1440000       ...                  Dec-95               0   \n",
       "8902       3900000       ...                  Sep-99               3   \n",
       "9386       1080000       ...                  Nov-83               0   \n",
       "10660      1176000       ...                  Mar-97               0   \n",
       "11831      1200000       ...                  Oct-89               2   \n",
       "13568      1200000       ...                  Aug-98               1   \n",
       "14096      1900000       ...                  Jun-81               2   \n",
       "15948      1200000       ...                  Jun-94               0   \n",
       "25199      1250000       ...                  May-97               0   \n",
       "28082      1782000       ...                  Dec-87               0   \n",
       "39404      1500000       ...                  Aug-01               0   \n",
       "47017      1233000       ...                  Apr-88               0   \n",
       "62457      1200000       ...                  Jan-87               2   \n",
       "78373      5000000       ...                  Apr-94               2   \n",
       "79072      1200000       ...                  Apr-04               0   \n",
       "79455      1350000       ...                  Jul-00               5   \n",
       "80270      7141778       ...                  Mar-96               2   \n",
       "86014      1200000       ...                  Apr-94               0   \n",
       "88221      2000000       ...                  Dec-91               2   \n",
       "90290      1200000       ...                  Sep-93               1   \n",
       "107022     1050000       ...                  Jul-00               1   \n",
       "107644     1300000       ...                  Jun-87               3   \n",
       "165661     1510000       ...                  Sep-94               1   \n",
       "176362     2000000       ...                  Jul-01               1   \n",
       "197480     2000000       ...                  Jul-04               0   \n",
       "208169     7446395       ...                  Apr-93               0   \n",
       "237807     1300000       ...                  Nov-00               1   \n",
       "277471     4560077       ...                  Jan-06               0   \n",
       "298406     1600000       ...                  Mar-91               1   \n",
       "305110     2000000       ...                  Jun-00               1   \n",
       "309791     1254000       ...                  Mar-95               1   \n",
       "316111     7500000       ...                  Jan-88               5   \n",
       "324303     1100000       ...                  Dec-99               0   \n",
       "330460     4900000       ...                  Jul-05               0   \n",
       "330652     1100000       ...                  Jul-98               0   \n",
       "\n",
       "       mths_since_last_deliq mths_since_last_record num_opencr_line  \\\n",
       "626                        0                      0               7   \n",
       "4964                     NaN                    NaN              13   \n",
       "5225                      39                    NaN               6   \n",
       "8902                     NaN                    NaN              12   \n",
       "9386                      31                    NaN               7   \n",
       "10660                      4                    NaN               6   \n",
       "11831                    NaN                    NaN              12   \n",
       "13568                    NaN                    NaN               4   \n",
       "14096                    NaN                    NaN              17   \n",
       "15948                    NaN                    NaN               6   \n",
       "25199                    NaN                    NaN              10   \n",
       "28082                     46                    NaN               9   \n",
       "39404                    NaN                    NaN              20   \n",
       "47017                    NaN                    NaN               7   \n",
       "62457                     71                    NaN               5   \n",
       "78373                     12                    NaN              13   \n",
       "79072                    NaN                    NaN              16   \n",
       "79455                    NaN                    NaN              10   \n",
       "80270                     26                    NaN              17   \n",
       "86014                    NaN                    NaN              13   \n",
       "88221                    NaN                    NaN              14   \n",
       "90290                     62                    NaN              15   \n",
       "107022                   NaN                    NaN              12   \n",
       "107644                    16                    NaN              13   \n",
       "165661                     4                    NaN              20   \n",
       "176362                   NaN                    NaN              16   \n",
       "197480                    44                    NaN               9   \n",
       "208169                    45                    NaN              10   \n",
       "237807                   NaN                     14              12   \n",
       "277471                   NaN                    NaN              11   \n",
       "298406                   NaN                    NaN              12   \n",
       "305110                     7                     10               8   \n",
       "309791                    19                    NaN               9   \n",
       "316111                    17                     82              29   \n",
       "324303                   NaN                    NaN              10   \n",
       "330460                     4                    NaN              13   \n",
       "330652                   NaN                    NaN               6   \n",
       "\n",
       "       num_der_rec revol_bal  revol_util  total_cr_line init_list_status  \n",
       "626              0      8747      51.80%             11                f  \n",
       "4964             0        20       0.10%             36                f  \n",
       "5225             0      2926         13%             38                f  \n",
       "8902             0      3270      10.20%             32                f  \n",
       "9386             0     46337       1.90%             20                f  \n",
       "10660            0     11753      73.50%             25                f  \n",
       "11831            0     26684      51.90%             26                f  \n",
       "13568            0     11168      69.80%             12                f  \n",
       "14096            0     17396      59.60%             36                f  \n",
       "15948            0     75706      49.10%             13                f  \n",
       "25199            0     48258      83.20%             28                f  \n",
       "28082            0     49208      85.70%             30                f  \n",
       "39404            0     18544         77%             32                f  \n",
       "47017            0     95435       1.90%             26                f  \n",
       "62457            0     20228      47.80%             11                f  \n",
       "78373            0    975800          0%             36                w  \n",
       "79072            0     81138      78.20%             22                f  \n",
       "79455            0     17148      50.10%             29                w  \n",
       "80270            0     11351      70.90%             31                w  \n",
       "86014            0     12367      59.20%             31                f  \n",
       "88221            0    694615          0%             48                f  \n",
       "90290            0     15654      68.10%             31                w  \n",
       "107022           0      1063       2.90%             29                w  \n",
       "107644           0    103537         91%             43                w  \n",
       "165661           0     31363      70.50%             47                f  \n",
       "176362           0      2458       2.70%             23                f  \n",
       "197480           0      3939      48.60%             24                f  \n",
       "208169           0     24494      50.70%             24                w  \n",
       "237807           1      8103      23.20%             34                w  \n",
       "277471           0     15429         36%             19                f  \n",
       "298406           0    840548      66.30%             28                f  \n",
       "305110           6     12974      60.10%             15                f  \n",
       "309791           0      4666      12.40%             21                w  \n",
       "316111           1      9872      27.30%             42                f  \n",
       "324303           0     46663      64.20%             15                w  \n",
       "330460           0      9015      26.10%             26                f  \n",
       "330652           0     62740      39.40%             14                f  \n",
       "\n",
       "[37 rows x 29 columns]"
      ]
     },
     "execution_count": 26,
     "metadata": {},
     "output_type": "execute_result"
    }
   ],
   "source": [
    "# Examine the information of borrowers who annual income is more than 1 million\n",
    "df[df['annual_inc'] > 1000000]"
   ]
  },
  {
   "cell_type": "code",
   "execution_count": 8,
   "metadata": {
    "collapsed": true
   },
   "outputs": [],
   "source": [
    "# Remove the rows where annual income claim is larger than 1 million\n",
    "df = df[df['annual_inc'] <= 1000000]\n",
    "# Reset index, this is critical\n",
    "df = df.reset_index(drop=True)"
   ]
  },
  {
   "cell_type": "markdown",
   "metadata": {},
   "source": [
    "### Examine Employment title and remove\n",
    "emp_title is a free text field. Let's examine how many unique values exist:"
   ]
  },
  {
   "cell_type": "code",
   "execution_count": 27,
   "metadata": {
    "collapsed": false
   },
   "outputs": [
    {
     "name": "stdout",
     "output_type": "stream",
     "text": [
      "Teacher             3602\n",
      "Manager             2875\n",
      "Registered Nurse    1537\n",
      "RN                  1452\n",
      "Supervisor          1286\n",
      "dtype: int64\n",
      "teacher/head football coach          1\n",
      "Group Reservation Sales              1\n",
      "School District 11                   1\n",
      "Sacy's kitchen supervisor            1\n",
      "Mifflin Township Division of Fire    1\n",
      "dtype: int64\n"
     ]
    },
    {
     "data": {
      "text/plain": [
       "(163397,)"
      ]
     },
     "execution_count": 27,
     "metadata": {},
     "output_type": "execute_result"
    }
   ],
   "source": [
    "print (df.emp_title.value_counts().head())\n",
    "print (df.emp_title.value_counts().tail())\n",
    "df.emp_title.unique().shape"
   ]
  },
  {
   "cell_type": "markdown",
   "metadata": {},
   "source": [
    "There were 163397 unique entries among 338989 observations.It shows some suspiciously specific titles such as EvaluMed/c.t. tech aid. This predictor won't be meaningful and any relationship we might observe might be due to confounding relationships with other predictors like income, employment length."
   ]
  },
  {
   "cell_type": "code",
   "execution_count": 28,
   "metadata": {
    "collapsed": true
   },
   "outputs": [],
   "source": [
    "df.drop(['emp_title'],1, inplace=True)"
   ]
  },
  {
   "cell_type": "markdown",
   "metadata": {},
   "source": [
    "### Convert data type of column Employment length\n",
    "emp_length may or may not be confounding with other predictors like income( a 2 year director may make more income than a 10 year tech aid), we can convert this column to int type and leave it for now, and we will examine further pair-wise correlation among predictors to determine if we remove it or not."
   ]
  },
  {
   "cell_type": "code",
   "execution_count": 29,
   "metadata": {
    "collapsed": true
   },
   "outputs": [],
   "source": [
    "df.replace('n/a', np.nan,inplace=True)\n",
    "df.emp_length.fillna(value=0,inplace=True)\n",
    "df['emp_length'].replace(to_replace='[^0-9]+', value='', inplace=True, regex=True)\n",
    "df['emp_length'] = df['emp_length'].astype(int)"
   ]
  },
  {
   "cell_type": "markdown",
   "metadata": {},
   "source": [
    "###Examine Verification Status\n",
    "VERIFIED - income and VERIFIED - income source could potentially be the same criteria.For now we'll trust that these are indeed different methods "
   ]
  },
  {
   "cell_type": "code",
   "execution_count": 95,
   "metadata": {
    "collapsed": false
   },
   "outputs": [
    {
     "data": {
      "text/plain": [
       "VERIFIED - income           127040\n",
       "not verified                107873\n",
       "VERIFIED - income source    104076\n",
       "dtype: int64"
      ]
     },
     "execution_count": 95,
     "metadata": {},
     "output_type": "execute_result"
    }
   ],
   "source": [
    "df.verification_status.value_counts()"
   ]
  },
  {
   "cell_type": "markdown",
   "metadata": {},
   "source": [
    "###Purpose loan category and loan title\n",
    "1. Loan purpose is self filled by borrower and we can use natural language processing technique to extract useful n-grams words and cluster them into different subgroups using unsupervised learning techniques, to keep this project not too sophisticated, for now we will drop this column \n",
    "2. Examing the loan category unique counts show they are state farm selected options.\n",
    "3. Examing the loan title unique counts show they are free text fields and we can drop this column."
   ]
  },
  {
   "cell_type": "code",
   "execution_count": 30,
   "metadata": {
    "collapsed": false
   },
   "outputs": [
    {
     "name": "stdout",
     "output_type": "stream",
     "text": [
      "loan category unique counts:\n",
      "debt_consolidation    198226\n",
      "credit_card            75680\n",
      "home_improvement       19625\n",
      "other                  17154\n",
      "major_purchase          7312\n",
      "small_business          5359\n",
      "car                     4115\n",
      "medical                 3329\n",
      "moving                  2138\n",
      "wedding                 1934\n",
      "vacation                1848\n",
      "house                   1723\n",
      "educational              279\n",
      "renewable_energy         267\n",
      "dtype: int64\n",
      "\n",
      "loan title unique counts:\n",
      "Debt consolidation                              105698\n",
      "Credit card refinancing                          40499\n",
      "Debt Consolidation                               13275\n",
      "Home improvement                                  9888\n",
      "Other                                             8188\n",
      "Consolidation                                     4504\n",
      "debt consolidation                                4075\n",
      "Debt Consolidation Loan                           3247\n",
      "Major purchase                                    3010\n",
      "Business                                          2397\n",
      "Credit Card Consolidation                         1982\n",
      "consolidation                                     1827\n",
      "Personal Loan                                     1806\n",
      "Medical expenses                                  1803\n",
      "Consolidation Loan                                1499\n",
      "Home Improvement                                  1481\n",
      "Car financing                                     1373\n",
      "Credit Card Refinance                             1246\n",
      "Credit Card Payoff                                1177\n",
      "Vacation                                          1078\n",
      "Consolidate                                       1038\n",
      "Personal                                           979\n",
      "Moving and relocation                              947\n",
      "Loan                                               885\n",
      "Freedom                                            680\n",
      "Credit Card Loan                                   669\n",
      "consolidate                                        656\n",
      "personal                                           637\n",
      "Home buying                                        615\n",
      "personal loan                                      614\n",
      "                                                 ...  \n",
      "Freedom Management                                   1\n",
      "MBAGradConsolidation                                 1\n",
      "Working to lower my bills                            1\n",
      "Current Lending club member in good standing         1\n",
      "An Alternative to High School                        1\n",
      "High Rate Credit Cards 8%+                           1\n",
      "Dr Bills Gone                                        1\n",
      "Home remodelling                                     1\n",
      "HONDA                                                1\n",
      "Pre-Deployment Debt Consolidation                    1\n",
      "need a little please                                 1\n",
      "Accounts                                             1\n",
      "room to breath                                       1\n",
      "HD Refinance                                         1\n",
      "FLY DAY                                              1\n",
      "Business Opportunity for MBA Graduate                1\n",
      "Calvin23                                             1\n",
      "Home Improvement - CC Consolidation                  1\n",
      "JWpayback                                            1\n",
      "Help make me the happiest man alive                  1\n",
      "interior home repairs                                1\n",
      "foxfire                                              1\n",
      "Complete Refinance                                   1\n",
      "Vacation  and pay Credit Card                        1\n",
      "Survival Fund                                        1\n",
      "Debtconslodation                                     1\n",
      "House payment                                        1\n",
      "Buying a Double Wide Mobile Home                     1\n",
      "Consolidating Two High APR Credit Cards              1\n",
      "$6,000 Loan for New Home                             1\n",
      "dtype: int64\n"
     ]
    }
   ],
   "source": [
    "df.drop(['purpose'],1, inplace=True)\n",
    "print('loan category unique counts:')\n",
    "print (df.loan_cat.value_counts())\n",
    "print('\\nloan title unique counts:')\n",
    "print (df.loan_title.value_counts())"
   ]
  },
  {
   "cell_type": "code",
   "execution_count": 31,
   "metadata": {
    "collapsed": true
   },
   "outputs": [],
   "source": [
    "df.drop(['loan_title'],1, inplace=True)"
   ]
  },
  {
   "cell_type": "markdown",
   "metadata": {},
   "source": [
    "let's keep moving to the next slice of data"
   ]
  },
  {
   "cell_type": "code",
   "execution_count": 32,
   "metadata": {
    "collapsed": false
   },
   "outputs": [
    {
     "data": {
      "text/html": [
       "<div>\n",
       "<table border=\"1\" class=\"dataframe\">\n",
       "  <thead>\n",
       "    <tr style=\"text-align: right;\">\n",
       "      <th></th>\n",
       "      <th>state</th>\n",
       "      <th>dti</th>\n",
       "      <th>delinq_2yrs</th>\n",
       "      <th>earliest_cr_line</th>\n",
       "      <th>inq_last_6mths</th>\n",
       "      <th>mths_since_last_deliq</th>\n",
       "      <th>mths_since_last_record</th>\n",
       "      <th>num_opencr_line</th>\n",
       "      <th>num_der_rec</th>\n",
       "    </tr>\n",
       "  </thead>\n",
       "  <tbody>\n",
       "    <tr>\n",
       "      <th>0</th>\n",
       "      <td>CA</td>\n",
       "      <td>19.48</td>\n",
       "      <td>0</td>\n",
       "      <td>Feb-94</td>\n",
       "      <td>0</td>\n",
       "      <td>NaN</td>\n",
       "      <td>NaN</td>\n",
       "      <td>10</td>\n",
       "      <td>0</td>\n",
       "    </tr>\n",
       "    <tr>\n",
       "      <th>1</th>\n",
       "      <td>NY</td>\n",
       "      <td>14.29</td>\n",
       "      <td>0</td>\n",
       "      <td>Oct-00</td>\n",
       "      <td>0</td>\n",
       "      <td>NaN</td>\n",
       "      <td>NaN</td>\n",
       "      <td>7</td>\n",
       "      <td>0</td>\n",
       "    </tr>\n",
       "    <tr>\n",
       "      <th>2</th>\n",
       "      <td>NY</td>\n",
       "      <td>10.50</td>\n",
       "      <td>0</td>\n",
       "      <td>Jun-00</td>\n",
       "      <td>0</td>\n",
       "      <td>41</td>\n",
       "      <td>NaN</td>\n",
       "      <td>10</td>\n",
       "      <td>0</td>\n",
       "    </tr>\n",
       "    <tr>\n",
       "      <th>3</th>\n",
       "      <td>TX</td>\n",
       "      <td>5.47</td>\n",
       "      <td>0</td>\n",
       "      <td>Jan-85</td>\n",
       "      <td>0</td>\n",
       "      <td>64</td>\n",
       "      <td>NaN</td>\n",
       "      <td>5</td>\n",
       "      <td>0</td>\n",
       "    </tr>\n",
       "    <tr>\n",
       "      <th>4</th>\n",
       "      <td>CT</td>\n",
       "      <td>11.63</td>\n",
       "      <td>0</td>\n",
       "      <td>Dec-96</td>\n",
       "      <td>1</td>\n",
       "      <td>58</td>\n",
       "      <td>NaN</td>\n",
       "      <td>14</td>\n",
       "      <td>0</td>\n",
       "    </tr>\n",
       "    <tr>\n",
       "      <th>5</th>\n",
       "      <td>RI</td>\n",
       "      <td>2.05</td>\n",
       "      <td>0</td>\n",
       "      <td>Apr-94</td>\n",
       "      <td>0</td>\n",
       "      <td>26</td>\n",
       "      <td>NaN</td>\n",
       "      <td>6</td>\n",
       "      <td>0</td>\n",
       "    </tr>\n",
       "  </tbody>\n",
       "</table>\n",
       "</div>"
      ],
      "text/plain": [
       "  state    dti  delinq_2yrs earliest_cr_line  inq_last_6mths  \\\n",
       "0    CA  19.48            0           Feb-94               0   \n",
       "1    NY  14.29            0           Oct-00               0   \n",
       "2    NY  10.50            0           Jun-00               0   \n",
       "3    TX   5.47            0           Jan-85               0   \n",
       "4    CT  11.63            0           Dec-96               1   \n",
       "5    RI   2.05            0           Apr-94               0   \n",
       "\n",
       "   mths_since_last_deliq  mths_since_last_record  num_opencr_line  num_der_rec  \n",
       "0                    NaN                     NaN               10            0  \n",
       "1                    NaN                     NaN                7            0  \n",
       "2                     41                     NaN               10            0  \n",
       "3                     64                     NaN                5            0  \n",
       "4                     58                     NaN               14            0  \n",
       "5                     26                     NaN                6            0  "
      ]
     },
     "execution_count": 32,
     "metadata": {},
     "output_type": "execute_result"
    }
   ],
   "source": [
    "df.ix[:5,13:22]"
   ]
  },
  {
   "cell_type": "code",
   "execution_count": 33,
   "metadata": {
    "collapsed": true
   },
   "outputs": [],
   "source": [
    "df.drop(['zip_code'],1, inplace=True)"
   ]
  },
  {
   "cell_type": "markdown",
   "metadata": {},
   "source": [
    "### Delinquency skewed distribution\n",
    "Examine the distribution of delinquency, it shows it is a right skewed distribution and may need apply box-cox transformation in some cases before modelling depending on what model is used."
   ]
  },
  {
   "cell_type": "code",
   "execution_count": 35,
   "metadata": {
    "collapsed": false
   },
   "outputs": [
    {
     "data": {
      "text/plain": [
       "0     280249\n",
       "1      39796\n",
       "2      11494\n",
       "3       3964\n",
       "4       1658\n",
       "5        841\n",
       "6        441\n",
       "7        226\n",
       "8        111\n",
       "9         68\n",
       "10        48\n",
       "11        27\n",
       "12        23\n",
       "13        13\n",
       "14         6\n",
       "18         6\n",
       "16         5\n",
       "15         4\n",
       "17         3\n",
       "19         2\n",
       "24         1\n",
       "21         1\n",
       "22         1\n",
       "29         1\n",
       "dtype: int64"
      ]
     },
     "execution_count": 35,
     "metadata": {},
     "output_type": "execute_result"
    }
   ],
   "source": [
    "df.delinq_2yrs.value_counts()"
   ]
  },
  {
   "cell_type": "markdown",
   "metadata": {},
   "source": [
    "### Earliest Credit Line type conversion\n",
    "We will convert this column from object type to a scalar to describe the length of time since the first line of credit. "
   ]
  },
  {
   "cell_type": "code",
   "execution_count": 36,
   "metadata": {
    "collapsed": false
   },
   "outputs": [],
   "source": [
    "from datetime import datetime\n",
    "# Read the column in the correct format\n",
    "t = pd.to_datetime(df['earliest_cr_line'],format = '%b-%y')\n",
    "\n",
    "date_format = \"%m/%d/%Y\"\n",
    "dttoday = datetime.strptime('1/1/2017', date_format)\n",
    "\n",
    "d = np.zeros(len(t))\n",
    "for i in range(len(t)):\n",
    "    try:\n",
    "        d[i] = ((np.timedelta64(t[i] - pd.Timestamp(dttoday),'D').astype(int))/-365)\n",
    "        #break\n",
    "    except:\n",
    "        d[i] = ((np.timedelta64(t[i] - pd.Timestamp(dttoday),'M').astype(int))/-12)\n",
    "\n",
    "d[d<0] = d[d<0] + 100\n",
    "\n",
    "df['earliest_cr_line'] = d"
   ]
  },
  {
   "cell_type": "markdown",
   "metadata": {},
   "source": [
    "We move to the last slice of the predictors"
   ]
  },
  {
   "cell_type": "code",
   "execution_count": 37,
   "metadata": {
    "collapsed": false
   },
   "outputs": [
    {
     "data": {
      "text/html": [
       "<div>\n",
       "<table border=\"1\" class=\"dataframe\">\n",
       "  <thead>\n",
       "    <tr style=\"text-align: right;\">\n",
       "      <th></th>\n",
       "      <th>revol_bal</th>\n",
       "      <th>revol_util</th>\n",
       "      <th>total_cr_line</th>\n",
       "      <th>init_list_status</th>\n",
       "    </tr>\n",
       "  </thead>\n",
       "  <tbody>\n",
       "    <tr>\n",
       "      <th>0</th>\n",
       "      <td>28854</td>\n",
       "      <td>52.10%</td>\n",
       "      <td>42</td>\n",
       "      <td>f</td>\n",
       "    </tr>\n",
       "    <tr>\n",
       "      <th>1</th>\n",
       "      <td>33623</td>\n",
       "      <td>76.70%</td>\n",
       "      <td>7</td>\n",
       "      <td>f</td>\n",
       "    </tr>\n",
       "    <tr>\n",
       "      <th>2</th>\n",
       "      <td>19878</td>\n",
       "      <td>66.30%</td>\n",
       "      <td>17</td>\n",
       "      <td>f</td>\n",
       "    </tr>\n",
       "    <tr>\n",
       "      <th>3</th>\n",
       "      <td>2584</td>\n",
       "      <td>40.40%</td>\n",
       "      <td>31</td>\n",
       "      <td>f</td>\n",
       "    </tr>\n",
       "    <tr>\n",
       "      <th>4</th>\n",
       "      <td>3511</td>\n",
       "      <td>25.60%</td>\n",
       "      <td>40</td>\n",
       "      <td>f</td>\n",
       "    </tr>\n",
       "    <tr>\n",
       "      <th>5</th>\n",
       "      <td>3874</td>\n",
       "      <td>90.10%</td>\n",
       "      <td>25</td>\n",
       "      <td>f</td>\n",
       "    </tr>\n",
       "  </tbody>\n",
       "</table>\n",
       "</div>"
      ],
      "text/plain": [
       "   revol_bal revol_util  total_cr_line init_list_status\n",
       "0      28854     52.10%             42                f\n",
       "1      33623     76.70%              7                f\n",
       "2      19878     66.30%             17                f\n",
       "3       2584     40.40%             31                f\n",
       "4       3511     25.60%             40                f\n",
       "5       3874     90.10%             25                f"
      ]
     },
     "execution_count": 37,
     "metadata": {},
     "output_type": "execute_result"
    }
   ],
   "source": [
    "df.ix[:5,21:]"
   ]
  },
  {
   "cell_type": "markdown",
   "metadata": {},
   "source": [
    "### Convert data type of column Revolving utility\n",
    "Remove the % sign and convert it to float type"
   ]
  },
  {
   "cell_type": "code",
   "execution_count": 38,
   "metadata": {
    "collapsed": true
   },
   "outputs": [],
   "source": [
    "df.revol_util = pd.Series(df.revol_util).str.replace('%', '').astype(float)"
   ]
  },
  {
   "cell_type": "markdown",
   "metadata": {},
   "source": [
    "### Remove highly correlated data\n",
    "Examine correlation matrix and remove highly correlated data to address multicollinearity"
   ]
  },
  {
   "cell_type": "code",
   "execution_count": 39,
   "metadata": {
    "collapsed": false
   },
   "outputs": [
    {
     "data": {
      "text/plain": [
       "funded_amt             loan_amt           0.998331\n",
       "funded_amt_inv         loan_amt           0.994394\n",
       "                       funded_amt         0.996400\n",
       "mths_since_last_deliq  delinq_2yrs       -0.577098\n",
       "total_cr_line          num_opencr_line    0.677866\n",
       "dtype: float64"
      ]
     },
     "execution_count": 39,
     "metadata": {},
     "output_type": "execute_result"
    }
   ],
   "source": [
    "cor = df.corr()\n",
    "cor.loc[:,:] = np.tril(cor, k=-1) # below main lower triangle of an array\n",
    "cor = cor.stack()\n",
    "cor[(cor > 0.55) | (cor < -0.55)]"
   ]
  },
  {
   "cell_type": "code",
   "execution_count": 40,
   "metadata": {
    "collapsed": false
   },
   "outputs": [],
   "source": [
    "df.drop(['funded_amt','funded_amt_inv','mths_since_last_deliq', 'total_cr_line'], axis=1, inplace=True)"
   ]
  },
  {
   "cell_type": "markdown",
   "metadata": {},
   "source": [
    "### Additional Data Preprocessing for Ordinary Linear Regession Model\n",
    "### Create dummy variables to encode categorical variables\n",
    "So far our the data frame df is ready to be used by any recursive partitioning model which will be the first machine learning model I use, and to prepare the data for other models like OLS, additional steps need to be completed such as creating dummy variables to encode categorical columns."
   ]
  },
  {
   "cell_type": "code",
   "execution_count": 49,
   "metadata": {
    "collapsed": true
   },
   "outputs": [],
   "source": [
    "################################\n",
    "## Categorical predictors one hot encoding ###\n",
    "################################\n",
    "df2 = df.copy()\n",
    "\n",
    "## Create dummy variables for linear regression\n",
    "df2 = pd.get_dummies(df2)\n",
    "\n",
    "## Drop NaN values, another option is to impute\n",
    "df2 = df2.dropna()\n",
    "# reset index\n",
    "df2 = df2.reset_index(drop=True)"
   ]
  },
  {
   "cell_type": "markdown",
   "metadata": {},
   "source": [
    "### Remove highly correlated data\n",
    "Examine correlation matrix again after dummy variables have been created and remove highly correlated data to address multicollinearity"
   ]
  },
  {
   "cell_type": "code",
   "execution_count": 50,
   "metadata": {
    "collapsed": false
   },
   "outputs": [
    {
     "data": {
      "text/plain": [
       "home_ownership_RENT                           home_ownership_MORTGAGE                 -0.628412\n",
       "verification_status_VERIFIED - income source  verification_status_VERIFIED - income   -0.589617\n",
       "loan_cat_debt_consolidation                   loan_cat_credit_card                    -0.615345\n",
       "init_list_status_w                            init_list_status_f                      -1.000000\n",
       "dtype: float64"
      ]
     },
     "execution_count": 50,
     "metadata": {},
     "output_type": "execute_result"
    }
   ],
   "source": [
    "cor = df2.corr()\n",
    "cor.loc[:,:] = np.tril(cor, k=-1) # below main lower triangle of an array\n",
    "cor = cor.stack()\n",
    "cor[(cor > 0.55) | (cor < -0.55)]"
   ]
  },
  {
   "cell_type": "code",
   "execution_count": 51,
   "metadata": {
    "collapsed": false
   },
   "outputs": [],
   "source": [
    "df2.drop(['home_ownership_RENT', 'verification_status_VERIFIED - income source',\n",
    "         'loan_cat_debt_consolidation','init_list_status_w'], axis=1, inplace=True)"
   ]
  },
  {
   "cell_type": "markdown",
   "metadata": {},
   "source": [
    "## STEP 2 Build Models\n",
    "## MODEL1 : Gradient Boosting Regression\n",
    "###  Gradient Boosting for regression Introduction\n",
    "GB builds an additive model in a forward stage-wise fashion; it allows for the optimization of arbitrary differentiable loss functions. In each stage a regression tree is fit on the negative gradient of the given loss function."
   ]
  },
  {
   "cell_type": "markdown",
   "metadata": {},
   "source": [
    "###  Parameters Tuning and Loss Function \n",
    "1. The loss function here we specify as mean_squared_error\n",
    "2. A set of testing parameters are defined and Gradient Search is used to find the parameters setting that return the smallest loss\n",
    "3. The returned loss values are reported in a mean +/- std way using 5 cross validation\n",
    "4. 75% samples are used for training, and 25% are used for validation(testing)"
   ]
  },
  {
   "cell_type": "code",
   "execution_count": null,
   "metadata": {
    "collapsed": true
   },
   "outputs": [],
   "source": [
    "from sklearn import ensemble\n",
    "from sklearn import datasets\n",
    "from sklearn.utils import shuffle\n",
    "from sklearn.metrics import mean_squared_error, make_scorer\n",
    "from matplotlib import pyplot as plt\n",
    "from sklearn.grid_search import GridSearchCV\n",
    "\n",
    "param_grid = {'learning_rate': [0.1, 0.05, 0.02, 0.01],\n",
    "              'max_depth': [4, 6],\n",
    "              'min_samples_leaf': [3, 5, 9, 17],\n",
    "              'max_features': [1.0, 0.3, 0.1]\n",
    "              }\n",
    "\n",
    "#training file is huge so using non-repeated 5 cv is sufficient\n",
    "est = GridSearchCV(ensemble.GradientBoostingRegressor(n_estimators=100),\n",
    "                   param_grid, n_jobs=4, refit=True, cv = 5,scoring='mean_squared_error')\n",
    "\n",
    "# Create an acceptable formula for our machine learning algorithms\n",
    "formula_ml = 'int_rate ~ loan_amt '\n",
    "for i in range(2,len(df.columns)):\n",
    "    \n",
    "    if str(df.dtypes[i]) == 'object': \n",
    "        formula_ml = formula_ml + ' + ' + 'C(' + df.columns[i] + ')'\n",
    "    elif (str(df.dtypes[i]) == 'float64') | (str(df.dtypes[i]) == 'float32'):\n",
    "        formula_ml = formula_ml + ' + ' + df.columns[i]\n",
    "        \n",
    "# import the machine learning library that holds the randomforest\n",
    "import sklearn.ensemble as ske\n",
    "\n",
    "# Create the random forest model and fit the model to our training data\n",
    "y1, x1 = dmatrices(formula_ml, data=df, return_type='dataframe')\n",
    "y1 = np.asarray(y1).ravel()\n",
    "\n",
    "## Split data for testing and training\n",
    "offset = int(x1.shape[0] * 0.75)\n",
    "X_train1, y_train1 = x1[:offset], y1[:offset]\n",
    "X_test1, y_test1 = x1[offset:], y1[offset:]\n",
    "\n",
    "#instantiate and fit our model\n",
    "est.fit(X_train1, y_train1)\n",
    "\n",
    "# Tuning parameter phase\n",
    "print(\"Best parameters set found on development set:\")\n",
    "print()\n",
    "print(est.best_params_)\n",
    "print()\n",
    "print(\"It has the best score of %f\" %est.best_score_ )\n",
    "print()\n",
    "print(\"Grid scores on development set:\")\n",
    "print()\n",
    "for params, mean_score, scores in est.grid_scores_:\n",
    "    print(\"%0.6f (+/-%0.06f) for %r\"\n",
    "            % (mean_score, scores.std() * 2, params))\n",
    "    print()    \n"
   ]
  },
  {
   "cell_type": "markdown",
   "metadata": {},
   "source": [
    "### Model evaluation using tuned parameter set\n",
    "1. Return the squared mean_squared_error of the GSD model applied on test(validation) data set\n",
    "2. Plot the RMSE reduction rate by the number of estimators and find that the number of estimators approach to 200, the plot reduction of RMSE becomes flat\n",
    "3. Sort and rank the top 20 influenced predictors "
   ]
  },
  {
   "cell_type": "code",
   "execution_count": null,
   "metadata": {
    "collapsed": true
   },
   "outputs": [],
   "source": [
    "## Evaluate model using tuned parameter\n",
    "# Fit G boosting model using the tuned selected parameter set\n",
    "clf = ensemble.GradientBoostingRegressor(n_estimators=200,**est.best_params_)\n",
    "\n",
    "clf.fit(X_train1, y_train1)\n",
    "rmse = mean_squared_error(y_test1, clf.predict(X_test1))**0.5\n",
    "print(\"RMSE: %.4f\" % rmse)\n",
    "\n",
    "params['n_estimators'] = 200\n",
    "\n",
    "# Plot training deviance\n",
    "\n",
    "# compute test set deviance\n",
    "test_score = np.zeros((params['n_estimators'],), dtype=np.float64)\n",
    "\n",
    "for i, y_pred in enumerate(clf.staged_predict(X_test1)):\n",
    "    test_score[i] = mean_squared_error(y_test1, y_pred)**0.5\n",
    "    #test_score[i] = clf.loss_(y_test, y_pred)\n",
    "\n",
    "plt.figure(figsize=(20, 6))\n",
    "plt.subplot(1, 2, 1)\n",
    "plt.title('Deviance')\n",
    "plt.plot(np.arange(params['n_estimators']) + 1, clf.train_score_, 'b-',\n",
    "         label='Training Set RMSE')\n",
    "plt.plot(np.arange(params['n_estimators']) + 1, test_score, 'r-',\n",
    "         label='Test Set RMSE')\n",
    "plt.legend(loc='upper right')\n",
    "plt.xlabel('Boosting Iterations')\n",
    "plt.ylabel('RMSE')\n",
    "\n",
    "# Plot feature importance\n",
    "feature_importance = clf.feature_importances_\n",
    "# make importances relative to max importance\n",
    "feature_importance = 100.0 * (feature_importance / feature_importance.max())\n",
    "sorted_idx = np.argsort(feature_importance)[-20:]\n",
    "pos = np.arange(sorted_idx.shape[0]) + .5\n",
    "plt.subplot(1, 2, 2)\n",
    "plt.barh(pos, feature_importance[sorted_idx], align='center')\n",
    "plt.yticks(pos, np.array(x1.columns)[sorted_idx])\n",
    "plt.xlabel('Relative Importance')\n",
    "plt.title('Variable Importance')\n",
    "plt.show()"
   ]
  },
  {
   "cell_type": "markdown",
   "metadata": {},
   "source": [
    "### Predicted vs Observed and Residuals Plot Examination\n",
    "1. Predicted vs Observed dots were nicely scattered around the 45 degree angle line\n",
    "2. Residuals appear to be randomly scattered about 0 respect to the predicted values, with a few outliers"
   ]
  },
  {
   "cell_type": "code",
   "execution_count": null,
   "metadata": {
    "collapsed": true
   },
   "outputs": [],
   "source": [
    "plt.subplot(121) \n",
    "plt.plot(clf.predict(X_test1),y_test1,'bo')\n",
    "plt.title(\"GSD Predicted vs Observed\")\n",
    "plt.xlabel('Predicted')\n",
    "plt.ylabel('Observed')\n",
    "\n",
    "plt.subplot(122) \n",
    "plt.plot(clf.predict(X_test1),y_test1 - clf.predict(X_test1),'ro')\n",
    "plt.title(\"GSD Residual\")\n",
    "plt.xlabel('Predicted')\n",
    "plt.ylabel('Observed')"
   ]
  },
  {
   "cell_type": "markdown",
   "metadata": {},
   "source": [
    "##MODEL2 : Regularized Ordinary Linear Regression\n",
    "### Ordinary Linear Regression Introduction\n",
    "LinearRegression fits a linear model with coefficients w = (w_1, ..., w_p) to minimize the residual sum of squares between the observed responses in the dataset, and the responses predicted by the linear approximation. \n",
    "### Regularization Introduction\n",
    "Regularization is a technique used in an attempt to solve the overfitting problem in statistical models and in this project regularization is given by the l2-Ridge and l1 Lasso are evaluated, compared and selected the one with the lowest AIC."
   ]
  },
  {
   "cell_type": "markdown",
   "metadata": {},
   "source": [
    "### Extract predictors and response data"
   ]
  },
  {
   "cell_type": "code",
   "execution_count": 52,
   "metadata": {
    "collapsed": false
   },
   "outputs": [],
   "source": [
    "from sklearn.utils import shuffle\n",
    "\n",
    "# Create response vector y and flattern it\n",
    "y = df2.int_rate.values\n",
    "y = np.asarray(y).ravel()\n",
    "\n",
    "# Create a copy of df\n",
    "df2.drop('int_rate',axis = 1, inplace=True)\n",
    "\n",
    "# Randomly shuffle \n",
    "x, y = shuffle(df2.values, y, random_state=30)"
   ]
  },
  {
   "cell_type": "markdown",
   "metadata": {},
   "source": [
    "### Centering and scaling predictors\n",
    "Centering and scaling predictors assures the intercept term is interpreted as the expected value of YiYi when the predictor values are set to their means and it avoids the situation where one variable has a very large scale and influence the RMSE largely.\n"
   ]
  },
  {
   "cell_type": "code",
   "execution_count": 53,
   "metadata": {
    "collapsed": true
   },
   "outputs": [],
   "source": [
    "## Centering and scaling data\n",
    "from sklearn import preprocessing\n",
    "x = preprocessing.scale(x)"
   ]
  },
  {
   "cell_type": "markdown",
   "metadata": {},
   "source": [
    "### Split training and test data sets"
   ]
  },
  {
   "cell_type": "code",
   "execution_count": 54,
   "metadata": {
    "collapsed": true
   },
   "outputs": [],
   "source": [
    "## Split data for testing and training\n",
    "offset = int(x.shape[0] * 0.75)\n",
    "X_train, y_train = x[:offset], y[:offset]\n",
    "X_test, y_test = x[offset:], y[offset:]"
   ]
  },
  {
   "cell_type": "markdown",
   "metadata": {},
   "source": [
    "### Lasso Regularized Ordinary Linear Regression\n",
    "###  Parameters Tuning and Loss Function \n",
    "1. The loss function here we specify as mean_squared_error\n",
    "2. A set of testing parameters are defined and Gradient Search is used to find the parameters setting that return the smallest loss\n",
    "3. The returned loss values are reported in a mean +/- std way using 5 cross validation\n",
    "4. 75% samples are used for training, and 25% are used for validation(testing)\n",
    "5. Least angle regression with BIC/AIC criterion is used to visually help locate the Alpha parameter that returns the lowest AIC/BIC"
   ]
  },
  {
   "cell_type": "code",
   "execution_count": 64,
   "metadata": {
    "collapsed": false
   },
   "outputs": [
    {
     "name": "stdout",
     "output_type": "stream",
     "text": [
      "Best parameters set found on development set:\n",
      "\n",
      "{'alpha': 0.0001}\n",
      "\n",
      "It has the best score of -0.000314\n",
      "\n",
      "Grid scores on development set:\n",
      "\n",
      "-0.001482 (+/-0.000068) for {'alpha': 0.1}\n",
      "\n",
      "-0.000851 (+/-0.000052) for {'alpha': 0.01}\n",
      "\n",
      "-0.000328 (+/-0.000017) for {'alpha': 0.001}\n",
      "\n",
      "-0.000314 (+/-0.000014) for {'alpha': 0.0001}\n",
      "\n",
      "-0.000314 (+/-0.000014) for {'alpha': 1e-05}\n",
      "\n"
     ]
    },
    {
     "data": {
      "image/png": "[encoded data removed]",
      "text/plain": [
       "<matplotlib.figure.Figure at 0xbe4eef0>"
      ]
     },
     "metadata": {},
     "output_type": "display_data"
    }
   ],
   "source": [
    "################################\n",
    "        ## Lasso OLS ###\n",
    "################################\n",
    "from sklearn import linear_model\n",
    "from sklearn.grid_search import GridSearchCV\n",
    "from sklearn.metrics import mean_squared_error, make_scorer\n",
    "\n",
    "# Alpha parameters to be tuned\n",
    "param_grid = {'alpha': [0.1,0.01,0.001,0.0001, 0.00001],\n",
    "              }\n",
    "# Grid searching lasso regulated regression, using mean_squared_error as the scoring method\n",
    "est = GridSearchCV(linear_model.Lasso(),\n",
    "                   param_grid, n_jobs=4, refit=True, cv = 5,scoring='mean_squared_error')\n",
    "est.fit(X_train, y_train)\n",
    "\n",
    "# Tuning parameter phase\n",
    "print(\"Best parameters set found on development set:\")\n",
    "print()\n",
    "print(est.best_params_)\n",
    "print()\n",
    "print(\"It has the best score of %f\" %est.best_score_ )\n",
    "print()\n",
    "print(\"Grid scores on development set:\")\n",
    "print()\n",
    "for params, mean_score, scores in est.grid_scores_:\n",
    "    print(\"%0.6f (+/-%0.06f) for %r\"\n",
    "            % (mean_score, scores.std() * 2, params))\n",
    "    print()    \n",
    " \n",
    "\n",
    "import time\n",
    "\n",
    "import matplotlib.pyplot as plt\n",
    "\n",
    "from sklearn.linear_model import LassoCV, LassoLarsCV, LassoLarsIC\n",
    "\n",
    "\n",
    "\n",
    "##############################################################################\n",
    "# LassoLarsIC: least angle regression with BIC/AIC criterion\n",
    "\n",
    "model_bic = LassoLarsIC(criterion='bic')\n",
    "t1 = time.time()\n",
    "model_bic.fit(X_train, y_train)\n",
    "t_bic = time.time() - t1\n",
    "alpha_bic_ = model_bic.alpha_\n",
    "\n",
    "model_aic = LassoLarsIC(criterion='aic')\n",
    "model_aic.fit(X_train, y_train)\n",
    "alpha_aic_ = model_aic.alpha_\n",
    "\n",
    "\n",
    "def plot_ic_criterion(model, name, color):\n",
    "    alpha_ = model.alpha_\n",
    "    alphas_ = model.alphas_\n",
    "    criterion_ = model.criterion_\n",
    "    plt.plot(-np.log10(alphas_), criterion_, '--', color=color,\n",
    "             linewidth=3, label='%s criterion' % name)\n",
    "    plt.axvline(-np.log10(alpha_), color=color, linewidth=3,\n",
    "                label='alpha: %s estimate' % name)\n",
    "    plt.xlabel('-log(alpha)')\n",
    "    plt.ylabel('criterion')\n",
    "\n",
    "plt.figure()\n",
    "plot_ic_criterion(model_aic, 'AIC', 'b')\n",
    "plot_ic_criterion(model_bic, 'BIC', 'r')\n",
    "plt.legend()\n",
    "plt.title('Information-criterion for model selection (training time %.3fs)'\n",
    "          % t_bic)\n",
    "\n",
    "plt.show()"
   ]
  },
  {
   "cell_type": "markdown",
   "metadata": {},
   "source": [
    "### Lasso Model evaluation using tuned parameter set\n",
    "1. Return the squared mean_squared_error of the Lasso OLS model applied on test(validation) data set"
   ]
  },
  {
   "cell_type": "code",
   "execution_count": 59,
   "metadata": {
    "collapsed": false
   },
   "outputs": [
    {
     "name": "stdout",
     "output_type": "stream",
     "text": [
      "RMSE of using Lasso regulated OLS is: 0.017742\n"
     ]
    }
   ],
   "source": [
    "# Build lasso model using the best params set\n",
    "lasso = linear_model.Lasso(**est.best_params_)\n",
    "\n",
    "lasso.fit(X_train, y_train)\n",
    "rmse = mean_squared_error(y_test, lasso.predict(X_test))**0.5\n",
    "print(\"RMSE of using Lasso regulated OLS is: %.6f\" % rmse)"
   ]
  },
  {
   "cell_type": "markdown",
   "metadata": {},
   "source": [
    "### Ridge Ordinary Linear Regression\n",
    "###  Parameters Tuning and Loss Function \n",
    "1. The loss function here we specify as mean_squared_error\n",
    "2. A set of testing parameters are defined and Gradient Search is used to find the parameters setting that return the smallest loss\n",
    "3. The returned loss values are reported in a mean +/- std way using 5 cross validation\n",
    "4. 75% samples are used for training, and 25% are used for validation(testing)\n"
   ]
  },
  {
   "cell_type": "code",
   "execution_count": 65,
   "metadata": {
    "collapsed": false
   },
   "outputs": [
    {
     "name": "stdout",
     "output_type": "stream",
     "text": [
      "Best parameters set found on development set:\n",
      "\n",
      "{'alpha': 1}\n",
      "\n",
      "It has the best score of -0.000314\n",
      "\n",
      "Grid scores on development set:\n",
      "\n",
      "-0.000314 (+/-0.000014) for {'alpha': 1}\n",
      "\n",
      "-0.000314 (+/-0.000014) for {'alpha': 0.5}\n",
      "\n",
      "-0.000314 (+/-0.000014) for {'alpha': 0.2}\n",
      "\n",
      "-0.000314 (+/-0.000014) for {'alpha': 0.1}\n",
      "\n",
      "-0.000314 (+/-0.000014) for {'alpha': 0.05}\n",
      "\n",
      "-0.000314 (+/-0.000014) for {'alpha': 0.02}\n",
      "\n",
      "-0.000314 (+/-0.000014) for {'alpha': 0.01}\n",
      "\n",
      "RMSE of using Ridge regulated OLS is: 0.017741\n"
     ]
    }
   ],
   "source": [
    "################################\n",
    "        ## Ridge OLS ###\n",
    "################################\n",
    "param_grid = {'alpha': [1,0.5,0.2,0.1, 0.05, 0.02, 0.01],\n",
    "              }\n",
    "# http://scikit-learn.org/stable/modules/linear_model.html using Ridge\n",
    "est = GridSearchCV(linear_model.Ridge(),\n",
    "                   param_grid, n_jobs=4, refit=True, cv = 5,scoring='mean_squared_error')\n",
    "est.fit(X_train, y_train)\n",
    "\n",
    "# Tuning parameter phase\n",
    "print(\"Best parameters set found on development set:\")\n",
    "print()\n",
    "print(est.best_params_)\n",
    "print()\n",
    "print(\"It has the best score of %f\" %est.best_score_ )\n",
    "print()\n",
    "print(\"Grid scores on development set:\")\n",
    "print()\n",
    "for params, mean_score, scores in est.grid_scores_:\n",
    "    print(\"%0.6f (+/-%0.06f) for %r\"\n",
    "            % (mean_score, scores.std() * 2, params))\n",
    "    print()   \n",
    "    \n",
    "    \n",
    "# Build ridge model using the best params set\n",
    "ridge = linear_model.Ridge(**est.best_params_)\n",
    "\n",
    "ridge.fit(X_train, y_train)\n",
    "rmse = mean_squared_error(y_test, ridge.predict(X_test))**0.5\n",
    "print(\"RMSE of using Ridge regulated OLS is: %.6f\" % rmse)\n"
   ]
  },
  {
   "cell_type": "markdown",
   "metadata": {},
   "source": [
    "### Predicted vs Observed and Residuals Plot Examination\n",
    "1. Predicted vs Observed dots were nicely scattered around the 45 degree angle line, while when predicted interest rate is around 0.15 the observed interest rate can range from 0.05 t0 0.25.\n",
    "2. Residuals appear to be randomly scattered about 0 respect to the predicted values, while when predicted interest rate is around 0.15 there residuals can range from 0.15 to -.01."
   ]
  },
  {
   "cell_type": "code",
   "execution_count": 69,
   "metadata": {
    "collapsed": false
   },
   "outputs": [
    {
     "data": {
      "text/plain": [
       "<matplotlib.text.Text at 0xeacb7b8>"
      ]
     },
     "execution_count": 69,
     "metadata": {},
     "output_type": "execute_result"
    },
    {
     "data": {
      "image/png": "[encoded data removed]",
      "text/plain": [
       "<matplotlib.figure.Figure at 0xdbbb588>"
      ]
     },
     "metadata": {},
     "output_type": "display_data"
    }
   ],
   "source": [
    "#lasso.fit(X_train, y_train)\n",
    "plt.subplot(221) \n",
    "plt.plot(lasso.predict(X_test),y_test,'bo')\n",
    "plt.title(\"Lasso Predicted vs Observed\")\n",
    "plt.xlabel('Predicted')\n",
    "plt.ylabel('Observed')\n",
    "\n",
    "\n",
    "plt.subplot(222) \n",
    "plt.plot(lasso.predict(X_test),y_test - lasso.predict(X_test),'ro')\n",
    "plt.title(\"Lasso Residual\")\n",
    "plt.xlabel('Predicted')\n",
    "plt.ylabel('Observed')\n",
    "\n",
    "#lasso.fit(X_train, y_train)\n",
    "plt.subplot(223) \n",
    "plt.plot(ridge.predict(X_test),y_test,'bo')\n",
    "plt.xlabel('Ridge Predicted')\n",
    "plt.ylabel('Observed')\n",
    "\n",
    "\n",
    "plt.subplot(224) \n",
    "plt.plot(ridge.predict(X_test),y_test - lasso.predict(X_test),'ro')\n",
    "plt.xlabel('Ridge Predicted')\n",
    "plt.ylabel('Observed')\n"
   ]
  },
  {
   "cell_type": "markdown",
   "metadata": {},
   "source": [
    "###  Model select between Ridge and Lasso\n",
    "1. Bootstrap\n",
    "2. T test to rmse difference \n",
    "3. AIC \n",
    "4. Pick Lasso Model"
   ]
  },
  {
   "cell_type": "code",
   "execution_count": 70,
   "metadata": {
    "collapsed": false
   },
   "outputs": [
    {
     "name": "stdout",
     "output_type": "stream",
     "text": [
      "TRAIN: [14662 29969 17821 ..., 16955 33099 21990] TEST: [17592 12574 28763 ..., 15946 32571 15110]\n",
      "\n",
      "RMSE of using Ridge regulated OLS is: 0.017887\n",
      "\n",
      "RMSE of using Lasso regulated OLS is: 0.017887\n",
      "TRAIN: [12336 20811 22798 ..., 23426 30887 12968] TEST: [15989 33499 11269 ..., 27615 11966 11843]\n",
      "\n",
      "RMSE of using Ridge regulated OLS is: 0.017185\n",
      "\n",
      "RMSE of using Lasso regulated OLS is: 0.017157\n",
      "TRAIN: [ 1084 32197 28076 ..., 35529  9939  7380] TEST: [21111 23854 22073 ..., 27074  4648  3832]\n",
      "\n",
      "RMSE of using Ridge regulated OLS is: 0.018371\n",
      "\n",
      "RMSE of using Lasso regulated OLS is: 0.018368\n",
      "ttest_ind: t = -0.0218154  p = 0.983641\n",
      "We reject the null hypothesis and believe Lasso's rmse is not greater than Ridge's mse since when p/2 < alpha and t < 0\n",
      "the ACI of Lasso is: -74224.52096691671\n",
      "the ACI of Ridge is: -74213.39741714468\n"
     ]
    },
    {
     "name": "stderr",
     "output_type": "stream",
     "text": [
      "C:\\Users\\ks692\\AppData\\Local\\Continuum\\Anaconda3\\lib\\site-packages\\sklearn\\cross_validation.py:688: DeprecationWarning: Bootstrap will no longer be supported as a cross-validation method as of version 0.15 and will be removed in 0.17\n",
      "  \"will be removed in 0.17\", DeprecationWarning)\n"
     ]
    }
   ],
   "source": [
    "################################\n",
    "## Model select between Ridge and Lasso ###\n",
    "################################\n",
    "\n",
    "## Bootstrap sampling index preparation\n",
    "from sklearn import cross_validation\n",
    "bs = cross_validation.Bootstrap(len(x), n_iter=3, test_size=.25, random_state=0)\n",
    "\n",
    "# Bootstrap Cross validation\n",
    "r_rmse = []\n",
    "l_rmse = []\n",
    "for train_index, test_index in bs:\n",
    "    print(\"TRAIN:\", train_index, \"TEST:\", test_index)\n",
    "    print()\n",
    "    ridge.fit(x[train_index], y[train_index])\n",
    "    rmse = mean_squared_error(y[test_index], ridge.predict(x[test_index]))**0.5\n",
    "    r_rmse.append(rmse)\n",
    "    print(\"RMSE of using Ridge regulated OLS is: %.6f\" % rmse)\n",
    "    print()\n",
    "    lasso.fit(x[train_index], y[train_index])\n",
    "    rmse = mean_squared_error(y[test_index], lasso.predict(x[test_index]))**0.5\n",
    "    l_rmse.append(rmse)\n",
    "    print(\"RMSE of using Lasso regulated OLS is: %.6f\" % rmse)\n",
    "\n",
    "## t test statistical difference of performance\n",
    "from scipy.stats import ttest_ind\n",
    "\n",
    "# Use scipy.stats.ttest_ind.\n",
    "t, p = ttest_ind (l_rmse, r_rmse, equal_var=False)\n",
    "print (\"ttest_ind: t = %g  p = %g\" % (t, p))\n",
    "\n",
    "alpha = 0.5\n",
    "if (t >0) & (p/2 < alpha): \n",
    "    print(\"We reject the null hypothesis and believe Lasso's rmse is greater than Ridge's mse since when p/2 < alpha and t > 0\")\n",
    "elif (t <0) & (p/2 < alpha): \n",
    "    print(\"We reject the null hypothesis and believe Lasso's rmse is not greater than Ridge's mse since when p/2 < alpha and t < 0\")\n",
    "\n",
    "import math\n",
    "print(\"the ACI of Lasso is:\", math.log(np.mean(l_rmse)**2)*len(y[test_index]) + 2*len(df.columns))\n",
    "print(\"the ACI of Ridge is:\",math.log(np.mean(r_rmse)**2)*len(y[test_index]) + 2*len(df.columns))"
   ]
  },
  {
   "cell_type": "markdown",
   "metadata": {},
   "source": [
    "### Plot feature importance for Lasso OLS"
   ]
  },
  {
   "cell_type": "code",
   "execution_count": 66,
   "metadata": {
    "collapsed": false
   },
   "outputs": [
    {
     "data": {
      "image/png": "[encoded data removed]",
      "text/plain": [
       "<matplotlib.figure.Figure at 0xdc13b38>"
      ]
     },
     "metadata": {},
     "output_type": "display_data"
    }
   ],
   "source": [
    "###############################################################################\n",
    "# Plot feature importance for Lasso OLS\n",
    "\n",
    "coeff = list(lasso.coef_)\n",
    "indices = [i for i, x in enumerate(coeff) if x != 0]\n",
    "\n",
    "coe_importance = lasso.coef_\n",
    "coe_importance = abs(coe_importance)\n",
    "#coe_importance = sorted(coe_importance,reverse=True)\n",
    "# make importances relative to max importance\n",
    "\n",
    "coe_importance = 100.0 * (coe_importance / coe_importance.max())\n",
    "sorted_idx = np.argsort(abs(coe_importance))[-20:]\n",
    "pos = np.arange(sorted_idx.shape[0]) + .5\n",
    "plt.subplot(1, 2, 2)\n",
    "plt.barh(pos, coe_importance[sorted_idx], align='center')\n",
    "plt.yticks(pos, np.array(df2.columns)[sorted_idx])\n",
    "plt.xlabel('Relative Importance')\n",
    "plt.title('Variable Importance')\n",
    "plt.show()"
   ]
  },
  {
   "cell_type": "markdown",
   "metadata": {},
   "source": [
    "##STEP 3 Test Modesl with hold out for testing files"
   ]
  },
  {
   "cell_type": "code",
   "execution_count": 210,
   "metadata": {
    "collapsed": true
   },
   "outputs": [],
   "source": [
    "# Read the training.csv into data frame df\n",
    "td = pd.read_csv(\"testing.csv\", infer_datetime_format=True,low_memory=False)\n",
    "\n",
    "# Name the data frame with the columnNames\n",
    "td.columns = columnNames"
   ]
  },
  {
   "cell_type": "code",
   "execution_count": 211,
   "metadata": {
    "collapsed": false
   },
   "outputs": [],
   "source": [
    "## Data pre-processing function for GSD\n",
    "# Pandas can not store NaN in int type column, thus had remove all NaNs from them as well\n",
    "\n",
    "def dataPreprocessGSD(df):\n",
    "    \n",
    "\n",
    "        D = decimal.Decimal\n",
    "        # Pandas can not store NaN in int type column, thus had remove all NaNs\n",
    "        for col in ('loan_amt','funded_amt','funded_amt_inv','term'):\n",
    "            df[col] = df[col].str.replace(r'[^-+\\d.]', '').astype(D)\n",
    "            df[col] = df[col].astype('int')\n",
    "\n",
    "        df = df.reset_index(drop=True)\n",
    "\n",
    "        df.drop(['id_loan','id_borrower'],1, inplace=True)\n",
    "\n",
    "        from datetime import datetime\n",
    "        # Read the column in the correct format\n",
    "        temp = pd.to_datetime(df['issue_d'],format = '%m/%d/%Y')\n",
    "\n",
    "        date_format = \"%m/%d/%Y\"\n",
    "        dttoday = datetime.strptime('1/1/1900', date_format)\n",
    "\n",
    "        d = np.zeros(len(temp))\n",
    "        for i in range(len(temp)):\n",
    "            try:\n",
    "                d[i] = ((np.timedelta64(temp[i] - pd.Timestamp(dttoday),'D').astype(int))/365)\n",
    "                #break\n",
    "            except:\n",
    "                d[i] = ((np.timedelta64(temp[i] - pd.Timestamp(dttoday),'M').astype(int))/12)\n",
    "\n",
    "        df['issue_d'] = d\n",
    "\n",
    "\n",
    "        df.drop(['emp_title'],1, inplace=True)\n",
    "\n",
    "        df.replace('n/a', np.nan,inplace=True)\n",
    "        df.emp_length.fillna(value=0,inplace=True)\n",
    "        df['emp_length'].replace(to_replace='[^0-9]+', value='', inplace=True, regex=True)\n",
    "        df['emp_length'] = df['emp_length'].astype(int)\n",
    "\n",
    "        df.drop(['purpose'],1, inplace=True)\n",
    "        df.drop(['loan_title'],1, inplace=True)\n",
    "        df.drop(['zip_code'],1, inplace=True)\n",
    "\n",
    "        from datetime import datetime\n",
    "        # Read the column in the correct format\n",
    "        t = pd.to_datetime(df['earliest_cr_line'],format = '%m/%d/%Y')\n",
    "\n",
    "        date_format = \"%m/%d/%Y\"\n",
    "        dttoday = datetime.strptime('1/1/2017', date_format)\n",
    "\n",
    "        d = np.zeros(len(t))\n",
    "        for i in range(len(t)):\n",
    "            try:\n",
    "                d[i] = ((np.timedelta64(t[i] - pd.Timestamp(dttoday),'D').astype(int))/-365)\n",
    "                #break\n",
    "            except:\n",
    "                d[i] = ((np.timedelta64(t[i] - pd.Timestamp(dttoday),'M').astype(int))/-12)\n",
    "\n",
    "        d[d<0] = d[d<0] + 100\n",
    "\n",
    "        df['earliest_cr_line'] = d\n",
    "\n",
    "        df.revol_util = pd.Series(df.revol_util).str.replace('%', '').astype(float)\n",
    "\n",
    "        df.drop(['funded_amt','funded_amt_inv','mths_since_last_record', 'total_cr_line','subgrade'], axis=1, inplace=True)\n",
    "\n",
    "#         cor = df.corr()\n",
    "#         cor.loc[:,:] = np.tril(cor, k=-1) # below main lower triangle of an array\n",
    "#         cor = cor.stack()\n",
    "#         cor[(cor > 0.55) | (cor < -0.55)]\n",
    "\n",
    "        df.drop(['mths_since_last_deliq'], axis=1, inplace=True)\n",
    "\n",
    "        return df"
   ]
  },
  {
   "cell_type": "code",
   "execution_count": 226,
   "metadata": {
    "collapsed": false
   },
   "outputs": [
    {
     "data": {
      "text/plain": [
       "20"
      ]
     },
     "execution_count": 226,
     "metadata": {},
     "output_type": "execute_result"
    }
   ],
   "source": [
    "len(td.columns)"
   ]
  },
  {
   "cell_type": "code",
   "execution_count": 212,
   "metadata": {
    "collapsed": false
   },
   "outputs": [],
   "source": [
    "td = dataPreprocessGSD(td)"
   ]
  },
  {
   "cell_type": "code",
   "execution_count": 219,
   "metadata": {
    "collapsed": true
   },
   "outputs": [],
   "source": [
    "td.fillna(0, inplace=True)"
   ]
  },
  {
   "cell_type": "code",
   "execution_count": 241,
   "metadata": {
    "collapsed": false
   },
   "outputs": [],
   "source": [
    "def dataPreprocessOLR(df):\n",
    "\n",
    "    df2 = df.copy()\n",
    "\n",
    "    ## Create dummy variables for linear regression\n",
    "    df2 = pd.get_dummies(df2)\n",
    "    \n",
    "#     # Create response vector y and flattern it\n",
    "#     y = df2.loan_amt.values\n",
    "#     y = np.asarray(y).ravel()\n",
    "\n",
    "    # Create a copy of df\n",
    "    df2.drop('int_rate',axis = 1, inplace=True)\n",
    "    \n",
    "    df2.drop(['home_ownership_RENT', 'verification_status_VERIFIED - income source',\n",
    "         'loan_cat_debt_consolidation','init_list_status_w'], axis=1, inplace=True)\n",
    "\n",
    "    # Randomly shuffle \n",
    "#     x, y = shuffle(df2.values, y, random_state=30)\n",
    "    \n",
    "    #x = preprocessing.scale(x)\n",
    "    \n",
    "    return df2"
   ]
  },
  {
   "cell_type": "code",
   "execution_count": 267,
   "metadata": {
    "collapsed": false
   },
   "outputs": [],
   "source": [
    "td2 = dataPreprocessOLR(td)"
   ]
  },
  {
   "cell_type": "code",
   "execution_count": 249,
   "metadata": {
    "collapsed": false
   },
   "outputs": [
    {
     "name": "stdout",
     "output_type": "stream",
     "text": [
      "Index(['loan_amt', 'term', 'emp_length', 'annual_inc', 'issue_d', 'dti',\n",
      "       'delinq_2yrs', 'earliest_cr_line', 'inq_last_6mths',\n",
      "       'mths_since_last_record', 'num_opencr_line', 'num_der_rec', 'revol_bal',\n",
      "       'revol_util', 'grade_A', 'grade_B', 'grade_C', 'grade_D', 'grade_E',\n",
      "       'grade_F', 'grade_G', 'home_ownership_ANY', 'home_ownership_MORTGAGE',\n",
      "       'home_ownership_NONE', 'home_ownership_OTHER', 'home_ownership_OWN',\n",
      "       'verification_status_VERIFIED - income',\n",
      "       'verification_status_not verified', 'loan_cat_car',\n",
      "       'loan_cat_credit_card', 'loan_cat_educational',\n",
      "       'loan_cat_home_improvement', 'loan_cat_house',\n",
      "       'loan_cat_major_purchase', 'loan_cat_medical', 'loan_cat_moving',\n",
      "       'loan_cat_other', 'loan_cat_renewable_energy',\n",
      "       'loan_cat_small_business', 'loan_cat_vacation', 'loan_cat_wedding',\n",
      "       'state_AK', 'state_AL', 'state_AR', 'state_AZ', 'state_CA', 'state_CO',\n",
      "       'state_CT', 'state_DC', 'state_DE', 'state_FL', 'state_GA', 'state_HI',\n",
      "       'state_IA', 'state_ID', 'state_IL', 'state_IN', 'state_KS', 'state_KY',\n",
      "       'state_LA', 'state_MA', 'state_MD', 'state_ME', 'state_MI', 'state_MN',\n",
      "       'state_MO', 'state_MS', 'state_MT', 'state_NC', 'state_NE', 'state_NH',\n",
      "       'state_NJ', 'state_NM', 'state_NV', 'state_NY', 'state_OH', 'state_OK',\n",
      "       'state_OR', 'state_PA', 'state_RI', 'state_SC', 'state_SD', 'state_TN',\n",
      "       'state_TX', 'state_UT', 'state_VA', 'state_VT', 'state_WA', 'state_WI',\n",
      "       'state_WV', 'state_WY', 'init_list_status_f'],\n",
      "      dtype='object')\n",
      "Index(['loan_amt', 'term', 'emp_length', 'annual_inc', 'issue_d', 'dti',\n",
      "       'delinq_2yrs', 'earliest_cr_line', 'inq_last_6mths', 'num_opencr_line',\n",
      "       'num_der_rec', 'revol_bal', 'revol_util', 'grade_A', 'grade_B',\n",
      "       'grade_C', 'grade_D', 'grade_E', 'grade_F', 'grade_G',\n",
      "       'home_ownership_MORTGAGE', 'home_ownership_OWN',\n",
      "       'verification_status_VERIFIED - income',\n",
      "       'verification_status_not verified', 'loan_cat_car',\n",
      "       'loan_cat_credit_card', 'loan_cat_home_improvement', 'loan_cat_house',\n",
      "       'loan_cat_major_purchase', 'loan_cat_medical', 'loan_cat_moving',\n",
      "       'loan_cat_other', 'loan_cat_renewable_energy',\n",
      "       'loan_cat_small_business', 'loan_cat_vacation', 'loan_cat_wedding',\n",
      "       'state_AK', 'state_AL', 'state_AR', 'state_AZ', 'state_CA', 'state_CO',\n",
      "       'state_CT', 'state_DC', 'state_DE', 'state_FL', 'state_GA', 'state_HI',\n",
      "       'state_IL', 'state_IN', 'state_KS', 'state_KY', 'state_LA', 'state_MA',\n",
      "       'state_MD', 'state_MI', 'state_MN', 'state_MO', 'state_MS', 'state_MT',\n",
      "       'state_NC', 'state_NH', 'state_NJ', 'state_NM', 'state_NV', 'state_NY',\n",
      "       'state_OH', 'state_OK', 'state_OR', 'state_PA', 'state_RI', 'state_SC',\n",
      "       'state_SD', 'state_TN', 'state_TX', 'state_UT', 'state_VA', 'state_VT',\n",
      "       'state_WA', 'state_WI', 'state_WV', 'state_WY', 'init_list_status_f'],\n",
      "      dtype='object')\n"
     ]
    }
   ],
   "source": [
    "## Compare find those missing columns, and fill the missing ones with 0s\n",
    "print(df2.columns)\n",
    "print(td2.columns)"
   ]
  },
  {
   "cell_type": "code",
   "execution_count": 268,
   "metadata": {
    "collapsed": true
   },
   "outputs": [],
   "source": [
    "td2.insert(9, 'mths_since_last_record', 0)\n",
    "td2.insert(21, 'home_ownership_ANY', 0)\n",
    "td2.insert(23, 'home_ownership_NONE', 0)\n",
    "td2.insert(24, 'home_ownership_OTHER', 0)\n",
    "td2.insert(30, 'loan_cat_educational', 0)\n",
    "td2.insert(53, 'state_IA', 0)\n",
    "td2.insert(54, 'state_ID', 0)\n",
    "td2.insert(62, 'state_ME', 0)\n",
    "td2.insert(69, 'state_NE', 0)"
   ]
  },
  {
   "cell_type": "code",
   "execution_count": 284,
   "metadata": {
    "collapsed": false
   },
   "outputs": [],
   "source": [
    "# td2.drop('int_rate',axis = 1, inplace=True)\n",
    "x = td2.values\n",
    "x = preprocessing.scale(x)\n",
    "lasso.predict(x)"
   ]
  },
  {
   "cell_type": "code",
   "execution_count": 277,
   "metadata": {
    "collapsed": false
   },
   "outputs": [],
   "source": [
    "for i in range(len(df2.columns)):\n",
    "    if df2.columns[i] != td2.columns[i]:\n",
    "        print(i,df2.columns[i],td2.columns[i])"
   ]
  },
  {
   "cell_type": "code",
   "execution_count": 286,
   "metadata": {
    "collapsed": true
   },
   "outputs": [],
   "source": [
    "result = lasso.predict(x)"
   ]
  },
  {
   "cell_type": "code",
   "execution_count": 343,
   "metadata": {
    "collapsed": false
   },
   "outputs": [],
   "source": [
    "np.savetxt(\"t1.csv\", result, delimiter=\",\")"
   ]
  },
  {
   "cell_type": "code",
   "execution_count": 340,
   "metadata": {
    "collapsed": false
   },
   "outputs": [],
   "source": [
    "with open('t1.csv') as fin, open('Result from Dingchao Zhang.csv', 'w') as fout:\n",
    "        index = 0\n",
    "        for line in iter(fin.readline, ''):\n",
    "            fout.write(line.replace('\\n', ', ' + str(result[index]) + '\\n'))\n",
    "            index += 1"
   ]
  },
  {
   "cell_type": "code",
   "execution_count": 341,
   "metadata": {
    "collapsed": true
   },
   "outputs": [],
   "source": [
    "import csv\n",
    "with open('Result from Dingchao Zhang.csv',newline='') as f:\n",
    "    r = csv.reader(f)\n",
    "    data = [line for line in r]\n",
    "with open('Result from Dingchao Zhang.csv','w',newline='') as f:\n",
    "    w = csv.writer(f)\n",
    "    w.writerow(['Gradient Boosting Prediction','Lasso OLR Prediction'])\n",
    "    w.writerows(data)"
   ]
  },
  {
   "cell_type": "code",
   "execution_count": 342,
   "metadata": {
    "collapsed": false
   },
   "outputs": [],
   "source": [
    "import os\n",
    "os.remove('t1.csv')"
   ]
  },
  {
   "cell_type": "code",
   "execution_count": null,
   "metadata": {
    "collapsed": true
   },
   "outputs": [],
   "source": []
  }
 ],
 "metadata": {
  "kernelspec": {
   "display_name": "Python 3",
   "language": "python",
   "name": "python3"
  },
  "language_info": {
   "codemirror_mode": {
    "name": "ipython",
    "version": 3
   },
   "file_extension": ".py",
   "mimetype": "text/x-python",
   "name": "python",
   "nbconvert_exporter": "python",
   "pygments_lexer": "ipython3",
   "version": "3.4.3"
  }
 },
 "nbformat": 4,
 "nbformat_minor": 0
}
