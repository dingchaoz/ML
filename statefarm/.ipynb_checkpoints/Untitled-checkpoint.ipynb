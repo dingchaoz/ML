{
 "cells": [
  {
   "cell_type": "code",
   "execution_count": 2,
   "metadata": {
    "collapsed": false
   },
   "outputs": [],
   "source": [
    "import matplotlib.pyplot as plt\n",
    "%matplotlib inline\n",
    "import numpy as np\n",
    "import pandas as pd\n",
    "import statsmodels.api as sm\n",
    "import decimal\n",
    "from statsmodels.nonparametric.kde import KDEUnivariate\n",
    "from statsmodels.nonparametric import smoothers_lowess\n",
    "from pandas import Series, DataFrame\n",
    "from patsy import dmatrices\n",
    "from sklearn import datasets, svm\n",
    "from sklearn.svm import SVR\n",
    "\n",
    "#data = pd.read_csv('data', parse_dates=[[0,1]], infer_datetime_format=True)\n",
    "df = pd.read_csv(\"training.csv\", infer_datetime_format=True,low_memory=False)\n",
    "\n",
    "columnNames = ['int_rate','id_loan','id_borrower','loan_amt','funded_amt','funded_amt_inv',\n",
    "              'term','grade','subgrade','emp_title','emp_length','home_ownership','annal_inc',\n",
    "               'verification_status','issue_d','purpose','loan_cat','loan_title','zip_code',\n",
    "               'state','dti','delinq_2yrs','earliest_cr_line','inq_last_6mths','mths_since_last_deliq',\n",
    "               'mths_since_last_record','num_opencr_line','num_der_rec','revol_bal','revol_util',\n",
    "               'total_cr_line','init_list_status']\n",
    "\n",
    "df.columns = columnNames\n",
    "\n",
    "# # Remove the following columns since it has too many missing values\n",
    "# df = df.drop(['X16','X25','X26'], axis=1)\n",
    "# # Remove NaN values if any of the column has a NaN\n",
    "# #df = df.dropna()\n",
    "\n",
    "\n",
    "# # X1 is the response column, thus removing all NaNs from it\n",
    "# # X4,X5,X6 are currency and need to be converted to int\n",
    "# # Pandas can not store NaN in int type column, thus had remove all NaNs from them as well\n",
    "# for col in ('X1','X4', 'X5','X6'):\n",
    "#     df = df[pd.notnull(df[col])]\n",
    "\n",
    "# D = decimal.Decimal\n",
    "# # Pandas can not store NaN in int type column, thus had remove all NaNs\n",
    "# for col in ('X4', 'X5','X6'):\n",
    "#     df[col] = df[col].str.replace(r'[^-+\\d.]', '').astype(D)\n",
    "#     df[col] = df[col].astype('int')\n",
    "    \n",
    "# # Convert columns having % from obj(string type) to float and divide by 100 \n",
    "# for col in ('X1', 'X30'):\n",
    "#     df[col] = df[col].str.replace('%','').astype('float')/100\n",
    "\n",
    "# #df.dtypes"
   ]
  },
  {
   "cell_type": "markdown",
   "metadata": {},
   "source": [
    "##Predictors Filtering and Pre-Processing\n",
    "####Preliminary data exploratory, dropping useless attributes and cleaning-up/ modifying others"
   ]
  },
  {
   "cell_type": "markdown",
   "metadata": {},
   "source": [
    "Quickly review the first slice of data frame"
   ]
  },
  {
   "cell_type": "code",
   "execution_count": 17,
   "metadata": {
    "collapsed": false,
    "scrolled": false
   },
   "outputs": [
    {
     "data": {
      "text/html": [
       "<div>\n",
       "<table border=\"1\" class=\"dataframe\">\n",
       "  <thead>\n",
       "    <tr style=\"text-align: right;\">\n",
       "      <th></th>\n",
       "      <th>int_rate</th>\n",
       "      <th>id_loan</th>\n",
       "      <th>id_borrower</th>\n",
       "      <th>loan_amt</th>\n",
       "      <th>funded_amt</th>\n",
       "      <th>funded_amt_inv</th>\n",
       "      <th>term</th>\n",
       "      <th>grade</th>\n",
       "      <th>subgrade</th>\n",
       "      <th>emp_title</th>\n",
       "      <th>...</th>\n",
       "      <th>earliest_cr_line</th>\n",
       "      <th>inq_last_6mths</th>\n",
       "      <th>mths_since_last_deliq</th>\n",
       "      <th>mths_since_last_record</th>\n",
       "      <th>num_opencr_line</th>\n",
       "      <th>num_der_rec</th>\n",
       "      <th>revol_bal</th>\n",
       "      <th>revol_util</th>\n",
       "      <th>total_cr_line</th>\n",
       "      <th>init_list_status</th>\n",
       "    </tr>\n",
       "  </thead>\n",
       "  <tbody>\n",
       "    <tr>\n",
       "      <th>0</th>\n",
       "      <td>11.89%</td>\n",
       "      <td>54734</td>\n",
       "      <td>80364</td>\n",
       "      <td>$25,000</td>\n",
       "      <td>$25,000</td>\n",
       "      <td>$19,080</td>\n",
       "      <td>36 months</td>\n",
       "      <td>B</td>\n",
       "      <td>B4</td>\n",
       "      <td>NaN</td>\n",
       "      <td>...</td>\n",
       "      <td>Feb-94</td>\n",
       "      <td>0</td>\n",
       "      <td>NaN</td>\n",
       "      <td>NaN</td>\n",
       "      <td>10</td>\n",
       "      <td>0</td>\n",
       "      <td>28854</td>\n",
       "      <td>52.10%</td>\n",
       "      <td>42</td>\n",
       "      <td>f</td>\n",
       "    </tr>\n",
       "    <tr>\n",
       "      <th>1</th>\n",
       "      <td>10.71%</td>\n",
       "      <td>55742</td>\n",
       "      <td>114426</td>\n",
       "      <td>$7,000</td>\n",
       "      <td>$7,000</td>\n",
       "      <td>$673</td>\n",
       "      <td>36 months</td>\n",
       "      <td>B</td>\n",
       "      <td>B5</td>\n",
       "      <td>CNN</td>\n",
       "      <td>...</td>\n",
       "      <td>Oct-00</td>\n",
       "      <td>0</td>\n",
       "      <td>NaN</td>\n",
       "      <td>NaN</td>\n",
       "      <td>7</td>\n",
       "      <td>0</td>\n",
       "      <td>33623</td>\n",
       "      <td>76.70%</td>\n",
       "      <td>7</td>\n",
       "      <td>f</td>\n",
       "    </tr>\n",
       "    <tr>\n",
       "      <th>2</th>\n",
       "      <td>16.99%</td>\n",
       "      <td>57167</td>\n",
       "      <td>137225</td>\n",
       "      <td>$25,000</td>\n",
       "      <td>$25,000</td>\n",
       "      <td>$24,725</td>\n",
       "      <td>36 months</td>\n",
       "      <td>D</td>\n",
       "      <td>D3</td>\n",
       "      <td>Web Programmer</td>\n",
       "      <td>...</td>\n",
       "      <td>Jun-00</td>\n",
       "      <td>0</td>\n",
       "      <td>41</td>\n",
       "      <td>NaN</td>\n",
       "      <td>10</td>\n",
       "      <td>0</td>\n",
       "      <td>19878</td>\n",
       "      <td>66.30%</td>\n",
       "      <td>17</td>\n",
       "      <td>f</td>\n",
       "    </tr>\n",
       "  </tbody>\n",
       "</table>\n",
       "<p>3 rows × 32 columns</p>\n",
       "</div>"
      ],
      "text/plain": [
       "  int_rate  id_loan  id_borrower loan_amt funded_amt funded_amt_inv  \\\n",
       "0   11.89%    54734        80364  $25,000    $25,000        $19,080   \n",
       "1   10.71%    55742       114426   $7,000     $7,000           $673   \n",
       "2   16.99%    57167       137225  $25,000    $25,000        $24,725   \n",
       "\n",
       "         term grade subgrade       emp_title       ...         \\\n",
       "0   36 months     B       B4             NaN       ...          \n",
       "1   36 months     B       B5             CNN       ...          \n",
       "2   36 months     D       D3  Web Programmer       ...          \n",
       "\n",
       "  earliest_cr_line inq_last_6mths  mths_since_last_deliq  \\\n",
       "0           Feb-94              0                    NaN   \n",
       "1           Oct-00              0                    NaN   \n",
       "2           Jun-00              0                     41   \n",
       "\n",
       "  mths_since_last_record num_opencr_line num_der_rec revol_bal revol_util  \\\n",
       "0                    NaN              10           0     28854     52.10%   \n",
       "1                    NaN               7           0     33623     76.70%   \n",
       "2                    NaN              10           0     19878     66.30%   \n",
       "\n",
       "  total_cr_line init_list_status  \n",
       "0            42                f  \n",
       "1             7                f  \n",
       "2            17                f  \n",
       "\n",
       "[3 rows x 32 columns]"
      ]
     },
     "execution_count": 17,
     "metadata": {},
     "output_type": "execute_result"
    }
   ],
   "source": [
    "df.head(3)"
   ]
  },
  {
   "cell_type": "markdown",
   "metadata": {},
   "source": [
    "Review the data type of the first several columns"
   ]
  },
  {
   "cell_type": "code",
   "execution_count": 15,
   "metadata": {
    "collapsed": false
   },
   "outputs": [
    {
     "data": {
      "text/plain": [
       "int_rate           object\n",
       "id_loan           float64\n",
       "id_borrower       float64\n",
       "loan_amt           object\n",
       "funded_amt         object\n",
       "funded_amt_inv     object\n",
       "term               object\n",
       "dtype: object"
      ]
     },
     "execution_count": 15,
     "metadata": {},
     "output_type": "execute_result"
    }
   ],
   "source": [
    "df.ix[:3,:7].dtypes"
   ]
  },
  {
   "cell_type": "markdown",
   "metadata": {},
   "source": [
    "### Convert data type column of int_rate, loan_amt,funded_amt, funded_amt_inv,term\n",
    "1. int_rate, loan_amt,funded_amt, funded_amt_inv,term were loaded as object data type due to '%' or '$' or 'months' characters,thus need strip those characters out and convert column type\n",
    "2. loan_amt,funded_amt, funded_amt_inv,term need to be converted to int type, and Pandas do not allow to store NaN in int column, thus will remove NaN from those columns before convert"
   ]
  },
  {
   "cell_type": "code",
   "execution_count": 3,
   "metadata": {
    "collapsed": false
   },
   "outputs": [],
   "source": [
    "# Pandas can not store NaN in int type column, thus had remove all NaNs from them as well\n",
    "for col in ('loan_amt','funded_amt','funded_amt_inv', 'term'):\n",
    "    df = df[pd.notnull(df[col])]\n",
    "    \n",
    "# reset index\n",
    "df = df.reset_index(drop=True)\n",
    "\n",
    "D = decimal.Decimal\n",
    "# Pandas can not store NaN in int type column, thus had remove all NaNs\n",
    "for col in ('loan_amt','funded_amt','funded_amt_inv','term'):\n",
    "    df[col] = df[col].str.replace(r'[^-+\\d.]', '').astype(D)\n",
    "    df[col] = df[col].astype('int')\n",
    "    \n",
    "#  Convert columns having % from obj(string type) to float and divide by 100    \n",
    "df['int_rate'] = df['int_rate'].str.replace('%','').astype('float')/100"
   ]
  },
  {
   "cell_type": "markdown",
   "metadata": {},
   "source": [
    "### Dealing missing values in int_rate column\n",
    "1. There were some NaN value in int_rate column, we need to examine the pattern of missingness to understand if it can be\n",
    "informative missingness, e.g.: certain loan requested by certain borrower were rejected thus no int_rate recorded\n",
    "2. lf it is no informative missingness, then we can remove the rows in which the int_rate is missing"
   ]
  },
  {
   "cell_type": "code",
   "execution_count": 34,
   "metadata": {
    "collapsed": false
   },
   "outputs": [
    {
     "data": {
      "text/html": [
       "<div>\n",
       "<table border=\"1\" class=\"dataframe\">\n",
       "  <thead>\n",
       "    <tr style=\"text-align: right;\">\n",
       "      <th></th>\n",
       "      <th>int_rate</th>\n",
       "      <th>id_loan</th>\n",
       "      <th>id_borrower</th>\n",
       "      <th>loan_amt</th>\n",
       "      <th>funded_amt</th>\n",
       "      <th>funded_amt_inv</th>\n",
       "      <th>term</th>\n",
       "      <th>annal_inc</th>\n",
       "      <th>dti</th>\n",
       "      <th>delinq_2yrs</th>\n",
       "      <th>inq_last_6mths</th>\n",
       "      <th>mths_since_last_deliq</th>\n",
       "      <th>mths_since_last_record</th>\n",
       "      <th>num_opencr_line</th>\n",
       "      <th>num_der_rec</th>\n",
       "      <th>revol_bal</th>\n",
       "      <th>total_cr_line</th>\n",
       "    </tr>\n",
       "  </thead>\n",
       "  <tbody>\n",
       "    <tr>\n",
       "      <th>count</th>\n",
       "      <td>0</td>\n",
       "      <td>61010.000000</td>\n",
       "      <td>61010.00000</td>\n",
       "      <td>61010.000000</td>\n",
       "      <td>61010.000000</td>\n",
       "      <td>61010.000000</td>\n",
       "      <td>61010.000000</td>\n",
       "      <td>51734.000000</td>\n",
       "      <td>61010.000000</td>\n",
       "      <td>61010.000000</td>\n",
       "      <td>61010.000000</td>\n",
       "      <td>27665.000000</td>\n",
       "      <td>7755.000000</td>\n",
       "      <td>61010.000000</td>\n",
       "      <td>61010.000000</td>\n",
       "      <td>61010.000000</td>\n",
       "      <td>61010.000000</td>\n",
       "    </tr>\n",
       "    <tr>\n",
       "      <th>mean</th>\n",
       "      <td>NaN</td>\n",
       "      <td>10013043.130634</td>\n",
       "      <td>11366605.92852</td>\n",
       "      <td>14257.931077</td>\n",
       "      <td>14231.621865</td>\n",
       "      <td>14188.417128</td>\n",
       "      <td>42.463990</td>\n",
       "      <td>73208.373956</td>\n",
       "      <td>17.020475</td>\n",
       "      <td>0.275873</td>\n",
       "      <td>0.812949</td>\n",
       "      <td>34.236255</td>\n",
       "      <td>77.198968</td>\n",
       "      <td>11.117243</td>\n",
       "      <td>0.150041</td>\n",
       "      <td>15854.421898</td>\n",
       "      <td>25.009130</td>\n",
       "    </tr>\n",
       "    <tr>\n",
       "      <th>std</th>\n",
       "      <td>NaN</td>\n",
       "      <td>7923666.061475</td>\n",
       "      <td>8659546.18622</td>\n",
       "      <td>8246.996054</td>\n",
       "      <td>8230.712767</td>\n",
       "      <td>8227.999839</td>\n",
       "      <td>10.646804</td>\n",
       "      <td>54045.679519</td>\n",
       "      <td>7.742808</td>\n",
       "      <td>0.772163</td>\n",
       "      <td>1.055861</td>\n",
       "      <td>21.780102</td>\n",
       "      <td>28.666714</td>\n",
       "      <td>4.912408</td>\n",
       "      <td>0.450513</td>\n",
       "      <td>18154.455242</td>\n",
       "      <td>11.485004</td>\n",
       "    </tr>\n",
       "    <tr>\n",
       "      <th>min</th>\n",
       "      <td>NaN</td>\n",
       "      <td>68926.000000</td>\n",
       "      <td>92390.00000</td>\n",
       "      <td>1000.000000</td>\n",
       "      <td>1000.000000</td>\n",
       "      <td>300.000000</td>\n",
       "      <td>36.000000</td>\n",
       "      <td>4800.000000</td>\n",
       "      <td>0.000000</td>\n",
       "      <td>0.000000</td>\n",
       "      <td>0.000000</td>\n",
       "      <td>0.000000</td>\n",
       "      <td>0.000000</td>\n",
       "      <td>0.000000</td>\n",
       "      <td>0.000000</td>\n",
       "      <td>0.000000</td>\n",
       "      <td>2.000000</td>\n",
       "    </tr>\n",
       "    <tr>\n",
       "      <th>25%</th>\n",
       "      <td>NaN</td>\n",
       "      <td>3158950.500000</td>\n",
       "      <td>3769079.25000</td>\n",
       "      <td>8000.000000</td>\n",
       "      <td>8000.000000</td>\n",
       "      <td>8000.000000</td>\n",
       "      <td>36.000000</td>\n",
       "      <td>45000.000000</td>\n",
       "      <td>11.240000</td>\n",
       "      <td>0.000000</td>\n",
       "      <td>0.000000</td>\n",
       "      <td>16.000000</td>\n",
       "      <td>55.000000</td>\n",
       "      <td>8.000000</td>\n",
       "      <td>0.000000</td>\n",
       "      <td>6408.000000</td>\n",
       "      <td>17.000000</td>\n",
       "    </tr>\n",
       "    <tr>\n",
       "      <th>50%</th>\n",
       "      <td>NaN</td>\n",
       "      <td>8295077.500000</td>\n",
       "      <td>9677484.00000</td>\n",
       "      <td>12000.000000</td>\n",
       "      <td>12000.000000</td>\n",
       "      <td>12000.000000</td>\n",
       "      <td>36.000000</td>\n",
       "      <td>63000.000000</td>\n",
       "      <td>16.740000</td>\n",
       "      <td>0.000000</td>\n",
       "      <td>0.000000</td>\n",
       "      <td>31.000000</td>\n",
       "      <td>80.000000</td>\n",
       "      <td>10.000000</td>\n",
       "      <td>0.000000</td>\n",
       "      <td>11757.000000</td>\n",
       "      <td>23.000000</td>\n",
       "    </tr>\n",
       "    <tr>\n",
       "      <th>75%</th>\n",
       "      <td>NaN</td>\n",
       "      <td>15340539.250000</td>\n",
       "      <td>17332998.25000</td>\n",
       "      <td>20000.000000</td>\n",
       "      <td>20000.000000</td>\n",
       "      <td>19925.000000</td>\n",
       "      <td>60.000000</td>\n",
       "      <td>88500.000000</td>\n",
       "      <td>22.600000</td>\n",
       "      <td>0.000000</td>\n",
       "      <td>1.000000</td>\n",
       "      <td>49.000000</td>\n",
       "      <td>103.000000</td>\n",
       "      <td>14.000000</td>\n",
       "      <td>0.000000</td>\n",
       "      <td>20055.000000</td>\n",
       "      <td>32.000000</td>\n",
       "    </tr>\n",
       "    <tr>\n",
       "      <th>max</th>\n",
       "      <td>NaN</td>\n",
       "      <td>28753078.000000</td>\n",
       "      <td>31278000.00000</td>\n",
       "      <td>35000.000000</td>\n",
       "      <td>35000.000000</td>\n",
       "      <td>35000.000000</td>\n",
       "      <td>60.000000</td>\n",
       "      <td>6000000.000000</td>\n",
       "      <td>39.950000</td>\n",
       "      <td>15.000000</td>\n",
       "      <td>8.000000</td>\n",
       "      <td>152.000000</td>\n",
       "      <td>119.000000</td>\n",
       "      <td>53.000000</td>\n",
       "      <td>11.000000</td>\n",
       "      <td>1190046.000000</td>\n",
       "      <td>121.000000</td>\n",
       "    </tr>\n",
       "  </tbody>\n",
       "</table>\n",
       "</div>"
      ],
      "text/plain": [
       "       int_rate          id_loan     id_borrower      loan_amt    funded_amt  \\\n",
       "count         0     61010.000000     61010.00000  61010.000000  61010.000000   \n",
       "mean        NaN  10013043.130634  11366605.92852  14257.931077  14231.621865   \n",
       "std         NaN   7923666.061475   8659546.18622   8246.996054   8230.712767   \n",
       "min         NaN     68926.000000     92390.00000   1000.000000   1000.000000   \n",
       "25%         NaN   3158950.500000   3769079.25000   8000.000000   8000.000000   \n",
       "50%         NaN   8295077.500000   9677484.00000  12000.000000  12000.000000   \n",
       "75%         NaN  15340539.250000  17332998.25000  20000.000000  20000.000000   \n",
       "max         NaN  28753078.000000  31278000.00000  35000.000000  35000.000000   \n",
       "\n",
       "       funded_amt_inv          term       annal_inc           dti  \\\n",
       "count    61010.000000  61010.000000    51734.000000  61010.000000   \n",
       "mean     14188.417128     42.463990    73208.373956     17.020475   \n",
       "std       8227.999839     10.646804    54045.679519      7.742808   \n",
       "min        300.000000     36.000000     4800.000000      0.000000   \n",
       "25%       8000.000000     36.000000    45000.000000     11.240000   \n",
       "50%      12000.000000     36.000000    63000.000000     16.740000   \n",
       "75%      19925.000000     60.000000    88500.000000     22.600000   \n",
       "max      35000.000000     60.000000  6000000.000000     39.950000   \n",
       "\n",
       "        delinq_2yrs  inq_last_6mths  mths_since_last_deliq  \\\n",
       "count  61010.000000    61010.000000           27665.000000   \n",
       "mean       0.275873        0.812949              34.236255   \n",
       "std        0.772163        1.055861              21.780102   \n",
       "min        0.000000        0.000000               0.000000   \n",
       "25%        0.000000        0.000000              16.000000   \n",
       "50%        0.000000        0.000000              31.000000   \n",
       "75%        0.000000        1.000000              49.000000   \n",
       "max       15.000000        8.000000             152.000000   \n",
       "\n",
       "       mths_since_last_record  num_opencr_line   num_der_rec       revol_bal  \\\n",
       "count             7755.000000     61010.000000  61010.000000    61010.000000   \n",
       "mean                77.198968        11.117243      0.150041    15854.421898   \n",
       "std                 28.666714         4.912408      0.450513    18154.455242   \n",
       "min                  0.000000         0.000000      0.000000        0.000000   \n",
       "25%                 55.000000         8.000000      0.000000     6408.000000   \n",
       "50%                 80.000000        10.000000      0.000000    11757.000000   \n",
       "75%                103.000000        14.000000      0.000000    20055.000000   \n",
       "max                119.000000        53.000000     11.000000  1190046.000000   \n",
       "\n",
       "       total_cr_line  \n",
       "count   61010.000000  \n",
       "mean       25.009130  \n",
       "std        11.485004  \n",
       "min         2.000000  \n",
       "25%        17.000000  \n",
       "50%        23.000000  \n",
       "75%        32.000000  \n",
       "max       121.000000  "
      ]
     },
     "execution_count": 34,
     "metadata": {},
     "output_type": "execute_result"
    }
   ],
   "source": [
    "# Describe the columns where int_rate value is missing\n",
    "df[pd.isnull(df['int_rate'])].describe()"
   ]
  },
  {
   "cell_type": "markdown",
   "metadata": {},
   "source": [
    "3  We can see that the min funded amt is 1000 thus no loan request was not approved, also skipping through the min and max range of other columns, we can see that there is no particular pattern of int_rate missingness, therefore we can safely remove rows of missing int_rate"
   ]
  },
  {
   "cell_type": "code",
   "execution_count": 4,
   "metadata": {
    "collapsed": false
   },
   "outputs": [],
   "source": [
    "# Remove the rows where int_rate is missing\n",
    "df = df[pd.notnull(df['int_rate'])]\n",
    "# Reset index, this is critical\n",
    "df = df.reset_index(drop=True)"
   ]
  },
  {
   "cell_type": "markdown",
   "metadata": {},
   "source": [
    "### Loan amount requested vs funded amount\n",
    "1. Let's discover the relationship between loan amount requested verus the funded amount see if a lower amount is issued and why."
   ]
  },
  {
   "cell_type": "code",
   "execution_count": null,
   "metadata": {
    "collapsed": true
   },
   "outputs": [],
   "source": [
    "#df = pd.read_csv(\"training.csv\", parse_dates=True,index_col = [14,22],infer_datetime_format=True,low_memory=False)\n",
    "## Need to deal with date, maybe convert it to month or days of the year,since interest rate is related to timing"
   ]
  },
  {
   "cell_type": "code",
   "execution_count": 89,
   "metadata": {
    "collapsed": false
   },
   "outputs": [
    {
     "name": "stdout",
     "output_type": "stream",
     "text": [
      "Loan amount requested not equal to funded amount:\n",
      " False    337338\n",
      "True       1651\n",
      "dtype: int64\n",
      "\n",
      "Loan amount requested smaller than funded amount:\n",
      " False    337338\n",
      "True       1651\n",
      "dtype: int64\n"
     ]
    }
   ],
   "source": [
    "print (\"Loan amount requested not equal to funded amount:\\n\", (df['loan_amt'] != df['funded_amt']).value_counts())\n",
    "print (\"\\nLoan amount requested smaller than funded amount:\\n\",(df['loan_amt'] > df['funded_amt']).value_counts())"
   ]
  },
  {
   "cell_type": "markdown",
   "metadata": {},
   "source": [
    "2 There were 1651 instances where loan amt is not equal to funded amt and they were all funded amount lower than requested amount"
   ]
  },
  {
   "cell_type": "code",
   "execution_count": 50,
   "metadata": {
    "collapsed": false,
    "scrolled": true
   },
   "outputs": [
    {
     "data": {
      "text/html": [
       "<div>\n",
       "<table border=\"1\" class=\"dataframe\">\n",
       "  <thead>\n",
       "    <tr style=\"text-align: right;\">\n",
       "      <th></th>\n",
       "      <th>int_rate</th>\n",
       "      <th>id_loan</th>\n",
       "      <th>id_borrower</th>\n",
       "      <th>loan_amt</th>\n",
       "      <th>funded_amt</th>\n",
       "      <th>funded_amt_inv</th>\n",
       "      <th>term</th>\n",
       "      <th>annal_inc</th>\n",
       "      <th>dti</th>\n",
       "      <th>delinq_2yrs</th>\n",
       "      <th>inq_last_6mths</th>\n",
       "      <th>mths_since_last_deliq</th>\n",
       "      <th>mths_since_last_record</th>\n",
       "      <th>num_opencr_line</th>\n",
       "      <th>num_der_rec</th>\n",
       "      <th>revol_bal</th>\n",
       "      <th>total_cr_line</th>\n",
       "    </tr>\n",
       "  </thead>\n",
       "  <tbody>\n",
       "    <tr>\n",
       "      <th>count</th>\n",
       "      <td>1651.000000</td>\n",
       "      <td>1651.000000</td>\n",
       "      <td>1651.000000</td>\n",
       "      <td>1651.000000</td>\n",
       "      <td>1651.000000</td>\n",
       "      <td>1651.000000</td>\n",
       "      <td>1651.000000</td>\n",
       "      <td>1445.000000</td>\n",
       "      <td>1651.000000</td>\n",
       "      <td>1651.000000</td>\n",
       "      <td>1651.000000</td>\n",
       "      <td>512.000000</td>\n",
       "      <td>91.000000</td>\n",
       "      <td>1651.000000</td>\n",
       "      <td>1651.000000</td>\n",
       "      <td>1651.000000</td>\n",
       "      <td>1651.000000</td>\n",
       "    </tr>\n",
       "    <tr>\n",
       "      <th>mean</th>\n",
       "      <td>0.123344</td>\n",
       "      <td>661620.138704</td>\n",
       "      <td>820854.021805</td>\n",
       "      <td>18861.901878</td>\n",
       "      <td>12976.877650</td>\n",
       "      <td>11955.199273</td>\n",
       "      <td>49.998789</td>\n",
       "      <td>83621.750325</td>\n",
       "      <td>13.741593</td>\n",
       "      <td>0.137492</td>\n",
       "      <td>0.874016</td>\n",
       "      <td>35.378906</td>\n",
       "      <td>86.780220</td>\n",
       "      <td>10.180497</td>\n",
       "      <td>0.050878</td>\n",
       "      <td>19336.230769</td>\n",
       "      <td>25.677771</td>\n",
       "    </tr>\n",
       "    <tr>\n",
       "      <th>std</th>\n",
       "      <td>0.044364</td>\n",
       "      <td>383445.320296</td>\n",
       "      <td>468243.822001</td>\n",
       "      <td>7989.809082</td>\n",
       "      <td>5936.465913</td>\n",
       "      <td>6621.371746</td>\n",
       "      <td>11.835949</td>\n",
       "      <td>110624.861410</td>\n",
       "      <td>6.707110</td>\n",
       "      <td>0.453798</td>\n",
       "      <td>1.080347</td>\n",
       "      <td>21.631430</td>\n",
       "      <td>33.849603</td>\n",
       "      <td>4.264882</td>\n",
       "      <td>0.225262</td>\n",
       "      <td>20005.724271</td>\n",
       "      <td>11.507378</td>\n",
       "    </tr>\n",
       "    <tr>\n",
       "      <th>min</th>\n",
       "      <td>0.054200</td>\n",
       "      <td>58915.000000</td>\n",
       "      <td>136922.000000</td>\n",
       "      <td>1500.000000</td>\n",
       "      <td>1000.000000</td>\n",
       "      <td>0.000000</td>\n",
       "      <td>36.000000</td>\n",
       "      <td>12000.000000</td>\n",
       "      <td>0.000000</td>\n",
       "      <td>0.000000</td>\n",
       "      <td>0.000000</td>\n",
       "      <td>0.000000</td>\n",
       "      <td>0.000000</td>\n",
       "      <td>2.000000</td>\n",
       "      <td>0.000000</td>\n",
       "      <td>0.000000</td>\n",
       "      <td>3.000000</td>\n",
       "    </tr>\n",
       "    <tr>\n",
       "      <th>25%</th>\n",
       "      <td>0.086300</td>\n",
       "      <td>522173.000000</td>\n",
       "      <td>675128.500000</td>\n",
       "      <td>12425.000000</td>\n",
       "      <td>8400.000000</td>\n",
       "      <td>7600.000000</td>\n",
       "      <td>36.000000</td>\n",
       "      <td>50000.000000</td>\n",
       "      <td>8.610000</td>\n",
       "      <td>0.000000</td>\n",
       "      <td>0.000000</td>\n",
       "      <td>18.000000</td>\n",
       "      <td>86.500000</td>\n",
       "      <td>7.000000</td>\n",
       "      <td>0.000000</td>\n",
       "      <td>6774.500000</td>\n",
       "      <td>17.000000</td>\n",
       "    </tr>\n",
       "    <tr>\n",
       "      <th>50%</th>\n",
       "      <td>0.116600</td>\n",
       "      <td>611554.000000</td>\n",
       "      <td>783538.000000</td>\n",
       "      <td>19000.000000</td>\n",
       "      <td>12650.000000</td>\n",
       "      <td>12075.000000</td>\n",
       "      <td>60.000000</td>\n",
       "      <td>70099.000000</td>\n",
       "      <td>14.240000</td>\n",
       "      <td>0.000000</td>\n",
       "      <td>1.000000</td>\n",
       "      <td>32.000000</td>\n",
       "      <td>99.000000</td>\n",
       "      <td>9.000000</td>\n",
       "      <td>0.000000</td>\n",
       "      <td>13815.000000</td>\n",
       "      <td>24.000000</td>\n",
       "    </tr>\n",
       "    <tr>\n",
       "      <th>75%</th>\n",
       "      <td>0.159500</td>\n",
       "      <td>784370.500000</td>\n",
       "      <td>987210.000000</td>\n",
       "      <td>25000.000000</td>\n",
       "      <td>16675.000000</td>\n",
       "      <td>16104.500000</td>\n",
       "      <td>60.000000</td>\n",
       "      <td>98000.000000</td>\n",
       "      <td>19.055000</td>\n",
       "      <td>0.000000</td>\n",
       "      <td>1.000000</td>\n",
       "      <td>50.250000</td>\n",
       "      <td>108.000000</td>\n",
       "      <td>13.000000</td>\n",
       "      <td>0.000000</td>\n",
       "      <td>24675.500000</td>\n",
       "      <td>33.000000</td>\n",
       "    </tr>\n",
       "    <tr>\n",
       "      <th>max</th>\n",
       "      <td>0.247000</td>\n",
       "      <td>7060671.000000</td>\n",
       "      <td>8647048.000000</td>\n",
       "      <td>35000.000000</td>\n",
       "      <td>34675.000000</td>\n",
       "      <td>34650.000000</td>\n",
       "      <td>60.000000</td>\n",
       "      <td>3900000.000000</td>\n",
       "      <td>31.410000</td>\n",
       "      <td>5.000000</td>\n",
       "      <td>8.000000</td>\n",
       "      <td>82.000000</td>\n",
       "      <td>118.000000</td>\n",
       "      <td>28.000000</td>\n",
       "      <td>2.000000</td>\n",
       "      <td>147897.000000</td>\n",
       "      <td>79.000000</td>\n",
       "    </tr>\n",
       "  </tbody>\n",
       "</table>\n",
       "</div>"
      ],
      "text/plain": [
       "          int_rate         id_loan     id_borrower      loan_amt  \\\n",
       "count  1651.000000     1651.000000     1651.000000   1651.000000   \n",
       "mean      0.123344   661620.138704   820854.021805  18861.901878   \n",
       "std       0.044364   383445.320296   468243.822001   7989.809082   \n",
       "min       0.054200    58915.000000   136922.000000   1500.000000   \n",
       "25%       0.086300   522173.000000   675128.500000  12425.000000   \n",
       "50%       0.116600   611554.000000   783538.000000  19000.000000   \n",
       "75%       0.159500   784370.500000   987210.000000  25000.000000   \n",
       "max       0.247000  7060671.000000  8647048.000000  35000.000000   \n",
       "\n",
       "         funded_amt  funded_amt_inv         term       annal_inc          dti  \\\n",
       "count   1651.000000     1651.000000  1651.000000     1445.000000  1651.000000   \n",
       "mean   12976.877650    11955.199273    49.998789    83621.750325    13.741593   \n",
       "std     5936.465913     6621.371746    11.835949   110624.861410     6.707110   \n",
       "min     1000.000000        0.000000    36.000000    12000.000000     0.000000   \n",
       "25%     8400.000000     7600.000000    36.000000    50000.000000     8.610000   \n",
       "50%    12650.000000    12075.000000    60.000000    70099.000000    14.240000   \n",
       "75%    16675.000000    16104.500000    60.000000    98000.000000    19.055000   \n",
       "max    34675.000000    34650.000000    60.000000  3900000.000000    31.410000   \n",
       "\n",
       "       delinq_2yrs  inq_last_6mths  mths_since_last_deliq  \\\n",
       "count  1651.000000     1651.000000             512.000000   \n",
       "mean      0.137492        0.874016              35.378906   \n",
       "std       0.453798        1.080347              21.631430   \n",
       "min       0.000000        0.000000               0.000000   \n",
       "25%       0.000000        0.000000              18.000000   \n",
       "50%       0.000000        1.000000              32.000000   \n",
       "75%       0.000000        1.000000              50.250000   \n",
       "max       5.000000        8.000000              82.000000   \n",
       "\n",
       "       mths_since_last_record  num_opencr_line  num_der_rec      revol_bal  \\\n",
       "count               91.000000      1651.000000  1651.000000    1651.000000   \n",
       "mean                86.780220        10.180497     0.050878   19336.230769   \n",
       "std                 33.849603         4.264882     0.225262   20005.724271   \n",
       "min                  0.000000         2.000000     0.000000       0.000000   \n",
       "25%                 86.500000         7.000000     0.000000    6774.500000   \n",
       "50%                 99.000000         9.000000     0.000000   13815.000000   \n",
       "75%                108.000000        13.000000     0.000000   24675.500000   \n",
       "max                118.000000        28.000000     2.000000  147897.000000   \n",
       "\n",
       "       total_cr_line  \n",
       "count    1651.000000  \n",
       "mean       25.677771  \n",
       "std        11.507378  \n",
       "min         3.000000  \n",
       "25%        17.000000  \n",
       "50%        24.000000  \n",
       "75%        33.000000  \n",
       "max        79.000000  "
      ]
     },
     "execution_count": 50,
     "metadata": {},
     "output_type": "execute_result"
    }
   ],
   "source": [
    "df[(df['loan_amt'] > df['funded_amt'])].describe()"
   ]
  },
  {
   "cell_type": "code",
   "execution_count": 69,
   "metadata": {
    "collapsed": false
   },
   "outputs": [
    {
     "data": {
      "image/png": "[encoded data removed]",
      "text/plain": [
       "<matplotlib.figure.Figure at 0xaff5630>"
      ]
     },
     "metadata": {},
     "output_type": "display_data"
    }
   ],
   "source": [
    "# Create a scatter plot to compare interest rate by if loan amnt is different than funded amnt or not\n",
    "x1 = np.ones((len(df[(df['loan_amt'] != df['funded_amt'])]['int_rate']), 1))\n",
    "y1 = df[(df['loan_amt'] != df['funded_amt'])]['int_rate']\n",
    "x0 = np.zeros((len(df[(df['loan_amt'] == df['funded_amt'])]['int_rate']), 1))\n",
    "y0 = df[(df['loan_amt'] == df['funded_amt'])]['int_rate']\n",
    "fig = plt.figure()\n",
    "ax1 = fig.add_subplot(111)\n",
    "\n",
    "ax1.scatter(x1, y1, s=10, c='b', marker=\"s\",label = '1= different')\n",
    "ax1.scatter(x0,y0, s=10, c='r', marker=\"o\",label = '0 = not different')\n",
    "plt.ylabel(\"Interest rate\")\n",
    "plt.legend(loc='upper center');\n",
    "plt.title(\"Interest rate by if loan amnt is different than funded amnt ,  (1 = different)\")\n",
    "plt.show()"
   ]
  },
  {
   "cell_type": "markdown",
   "metadata": {},
   "source": [
    "3 There is not significant different of interest rate issued comparing the above two cases, thus we don't need to stratefied resampling using loan_amt and funded_amt these two predictors"
   ]
  },
  {
   "cell_type": "markdown",
   "metadata": {},
   "source": [
    "### id_loan vs id_borrower\n",
    "1. Let's look deeper into these two columns, first is to see if there were any typos like two different borrower share the same id_borrower or two different loans share the same id, if there are we may need to resolve any borrower or loan information conflict"
   ]
  },
  {
   "cell_type": "code",
   "execution_count": 76,
   "metadata": {
    "collapsed": false
   },
   "outputs": [
    {
     "name": "stdout",
     "output_type": "stream",
     "text": [
      "there are 338989 unique id_loan\n",
      "there are 338989 unique id_borrower\n"
     ]
    }
   ],
   "source": [
    "print('there are %d unique id_loan' % len(pd.unique(df.id_loan.ravel())))\n",
    "print('there are %d unique id_borrower' % len(pd.unique(df.id_borrower.ravel())))"
   ]
  },
  {
   "cell_type": "markdown",
   "metadata": {},
   "source": [
    "2 No duplicate id_loan or id_borrower, now we can remove these columns, since there were no conflicts to be resolved and these two columns have no predictive power"
   ]
  },
  {
   "cell_type": "code",
   "execution_count": 5,
   "metadata": {
    "collapsed": true
   },
   "outputs": [],
   "source": [
    "df.drop(['id_loan','id_borrower'],1, inplace=True)"
   ]
  },
  {
   "cell_type": "markdown",
   "metadata": {},
   "source": [
    "Now we keep moving to next slice of columns"
   ]
  },
  {
   "cell_type": "code",
   "execution_count": 79,
   "metadata": {
    "collapsed": false,
    "scrolled": true
   },
   "outputs": [
    {
     "data": {
      "text/html": [
       "<div>\n",
       "<table border=\"1\" class=\"dataframe\">\n",
       "  <thead>\n",
       "    <tr style=\"text-align: right;\">\n",
       "      <th></th>\n",
       "      <th>grade</th>\n",
       "      <th>subgrade</th>\n",
       "      <th>emp_title</th>\n",
       "      <th>emp_length</th>\n",
       "      <th>home_ownership</th>\n",
       "      <th>annal_inc</th>\n",
       "      <th>verification_status</th>\n",
       "      <th>issue_d</th>\n",
       "      <th>purpose</th>\n",
       "      <th>loan_cat</th>\n",
       "    </tr>\n",
       "  </thead>\n",
       "  <tbody>\n",
       "    <tr>\n",
       "      <th>0</th>\n",
       "      <td>B</td>\n",
       "      <td>B4</td>\n",
       "      <td>NaN</td>\n",
       "      <td>&lt; 1 year</td>\n",
       "      <td>RENT</td>\n",
       "      <td>85000</td>\n",
       "      <td>VERIFIED - income</td>\n",
       "      <td>Aug-09</td>\n",
       "      <td>Due to a lack of personal finance education an...</td>\n",
       "      <td>debt_consolidation</td>\n",
       "    </tr>\n",
       "    <tr>\n",
       "      <th>1</th>\n",
       "      <td>B</td>\n",
       "      <td>B5</td>\n",
       "      <td>CNN</td>\n",
       "      <td>&lt; 1 year</td>\n",
       "      <td>RENT</td>\n",
       "      <td>65000</td>\n",
       "      <td>not verified</td>\n",
       "      <td>May-08</td>\n",
       "      <td>Just want to pay off the last bit of credit ca...</td>\n",
       "      <td>credit_card</td>\n",
       "    </tr>\n",
       "    <tr>\n",
       "      <th>2</th>\n",
       "      <td>D</td>\n",
       "      <td>D3</td>\n",
       "      <td>Web Programmer</td>\n",
       "      <td>1 year</td>\n",
       "      <td>RENT</td>\n",
       "      <td>70000</td>\n",
       "      <td>VERIFIED - income</td>\n",
       "      <td>Aug-14</td>\n",
       "      <td>Trying to pay a friend back for apartment brok...</td>\n",
       "      <td>debt_consolidation</td>\n",
       "    </tr>\n",
       "    <tr>\n",
       "      <th>3</th>\n",
       "      <td>C</td>\n",
       "      <td>C2</td>\n",
       "      <td>city of beaumont texas</td>\n",
       "      <td>10+ years</td>\n",
       "      <td>OWN</td>\n",
       "      <td>54000</td>\n",
       "      <td>not verified</td>\n",
       "      <td>Mar-10</td>\n",
       "      <td>If funded, I would use this loan consolidate t...</td>\n",
       "      <td>debt_consolidation</td>\n",
       "    </tr>\n",
       "    <tr>\n",
       "      <th>4</th>\n",
       "      <td>C</td>\n",
       "      <td>C3</td>\n",
       "      <td>State Farm Insurance</td>\n",
       "      <td>6 years</td>\n",
       "      <td>RENT</td>\n",
       "      <td>32000</td>\n",
       "      <td>not verified</td>\n",
       "      <td>Nov-09</td>\n",
       "      <td>I currently have a personal loan with Citifina...</td>\n",
       "      <td>debt_consolidation</td>\n",
       "    </tr>\n",
       "    <tr>\n",
       "      <th>5</th>\n",
       "      <td>D</td>\n",
       "      <td>D4</td>\n",
       "      <td>Arkwright</td>\n",
       "      <td>9 years</td>\n",
       "      <td>RENT</td>\n",
       "      <td>58000</td>\n",
       "      <td>VERIFIED - income source</td>\n",
       "      <td>Aug-12</td>\n",
       "      <td>Credit cards are out of here, I am tired of be...</td>\n",
       "      <td>debt_consolidation</td>\n",
       "    </tr>\n",
       "  </tbody>\n",
       "</table>\n",
       "</div>"
      ],
      "text/plain": [
       "  grade subgrade               emp_title emp_length home_ownership  annal_inc  \\\n",
       "0     B       B4                     NaN   < 1 year           RENT      85000   \n",
       "1     B       B5                     CNN   < 1 year           RENT      65000   \n",
       "2     D       D3          Web Programmer     1 year           RENT      70000   \n",
       "3     C       C2  city of beaumont texas  10+ years            OWN      54000   \n",
       "4     C       C3    State Farm Insurance    6 years           RENT      32000   \n",
       "5     D       D4               Arkwright    9 years           RENT      58000   \n",
       "\n",
       "        verification_status issue_d  \\\n",
       "0         VERIFIED - income  Aug-09   \n",
       "1              not verified  May-08   \n",
       "2         VERIFIED - income  Aug-14   \n",
       "3              not verified  Mar-10   \n",
       "4              not verified  Nov-09   \n",
       "5  VERIFIED - income source  Aug-12   \n",
       "\n",
       "                                             purpose            loan_cat  \n",
       "0  Due to a lack of personal finance education an...  debt_consolidation  \n",
       "1  Just want to pay off the last bit of credit ca...         credit_card  \n",
       "2  Trying to pay a friend back for apartment brok...  debt_consolidation  \n",
       "3  If funded, I would use this loan consolidate t...  debt_consolidation  \n",
       "4  I currently have a personal loan with Citifina...  debt_consolidation  \n",
       "5  Credit cards are out of here, I am tired of be...  debt_consolidation  "
      ]
     },
     "execution_count": 79,
     "metadata": {},
     "output_type": "execute_result"
    }
   ],
   "source": [
    "df.ix[:5,5:15]"
   ]
  },
  {
   "cell_type": "markdown",
   "metadata": {},
   "source": [
    "### Examine the distribution of Grade and subgrade and their influence to interest rate\n",
    "1. If the distribution of different grades and subgrades were not even, and the range of interest rate associated with different grades and subgrades are distince, we need to perform stratefied resampling to assure no grade or subgrade class were missing from the training data set "
   ]
  },
  {
   "cell_type": "code",
   "execution_count": 85,
   "metadata": {
    "collapsed": false
   },
   "outputs": [
    {
     "name": "stdout",
     "output_type": "stream",
     "text": [
      "Grades count B    86121\n",
      "C    76446\n",
      "D    46984\n",
      "A    45525\n",
      "E    21628\n",
      "F     8395\n",
      "G     2024\n",
      "dtype: int64\n",
      "\n",
      "Subgrades count B3    20352\n",
      "B4    19137\n",
      "B2    16767\n",
      "C1    16342\n",
      "C2    16310\n",
      "B5    15521\n",
      "C3    15425\n",
      "C4    14646\n",
      "B1    14344\n",
      "C5    13723\n",
      "A5    13086\n",
      "A4    11806\n",
      "D1    11720\n",
      "D2    10498\n",
      "D3     9091\n",
      "D4     8573\n",
      "A3     7653\n",
      "D5     7102\n",
      "A2     6496\n",
      "A1     6484\n",
      "E1     5447\n",
      "E2     5246\n",
      "E3     4230\n",
      "E4     3640\n",
      "E5     3065\n",
      "F1     2490\n",
      "F2     1873\n",
      "F3     1712\n",
      "F4     1331\n",
      "F5      989\n",
      "G1      677\n",
      "G2      511\n",
      "G3      378\n",
      "G4      252\n",
      "G5      206\n",
      "dtype: int64\n"
     ]
    }
   ],
   "source": [
    "print (\"Grades count\", df.grade.value_counts())\n",
    "print (\"\\nSubgrades count\",df.subgrade.value_counts())"
   ]
  },
  {
   "cell_type": "markdown",
   "metadata": {},
   "source": [
    "# To continue the above: scatter plot of interest rate by different grade, subgrade, distribution plot"
   ]
  },
  {
   "cell_type": "markdown",
   "metadata": {},
   "source": [
    "### Employment title\n",
    "emp_title is a free text field. Let's examine how many unique values exist:"
   ]
  },
  {
   "cell_type": "code",
   "execution_count": 92,
   "metadata": {
    "collapsed": false
   },
   "outputs": [
    {
     "name": "stdout",
     "output_type": "stream",
     "text": [
      "Teacher             3602\n",
      "Manager             2875\n",
      "Registered Nurse    1537\n",
      "RN                  1452\n",
      "Supervisor          1286\n",
      "dtype: int64\n",
      "AMSTER ROTHSTEIN & EBENSTEIN LLP    1\n",
      "EvaluMed                            1\n",
      "c.t. tech aid                       1\n",
      "Dr Jani Rollins MD                  1\n",
      "Kintetsu World Express USA Inc.     1\n",
      "dtype: int64\n"
     ]
    },
    {
     "data": {
      "text/plain": [
       "(163397,)"
      ]
     },
     "execution_count": 92,
     "metadata": {},
     "output_type": "execute_result"
    }
   ],
   "source": [
    "print (df.emp_title.value_counts().head())\n",
    "print (df.emp_title.value_counts().tail())\n",
    "df.emp_title.unique().shape"
   ]
  },
  {
   "cell_type": "markdown",
   "metadata": {},
   "source": [
    "There were 163397 unique entries among 338989 observations.It shows some suspiciously specific titles such as EvaluMed/c.t. tech aid. This predictor won't be meaningful and any relationship we might observe might be due to confounding relationships with other predictors like income, employment length."
   ]
  },
  {
   "cell_type": "code",
   "execution_count": 6,
   "metadata": {
    "collapsed": true
   },
   "outputs": [],
   "source": [
    "df.drop(['emp_title'],1, inplace=True)"
   ]
  },
  {
   "cell_type": "markdown",
   "metadata": {},
   "source": [
    "### Employment length\n",
    "emp_length may or may not be confounding with other predictors like income( a 2 year director may make more income than a 10 year tech aid), we can convert this column to int type and leave it for now, and we will examine further pair-wise correlation among predictors to determine if we remove it or not."
   ]
  },
  {
   "cell_type": "code",
   "execution_count": 7,
   "metadata": {
    "collapsed": true
   },
   "outputs": [],
   "source": [
    "df.replace('n/a', np.nan,inplace=True)\n",
    "df.emp_length.fillna(value=0,inplace=True)\n",
    "df['emp_length'].replace(to_replace='[^0-9]+', value='', inplace=True, regex=True)\n",
    "df['emp_length'] = df['emp_length'].astype(int)"
   ]
  },
  {
   "cell_type": "markdown",
   "metadata": {},
   "source": [
    "###Verification Status\n",
    "VERIFIED - income and VERIFIED - income source could potentially be the same criteria.For now we'll trust that these are indeed different methods or levels (perhaps even ordinal) of verification."
   ]
  },
  {
   "cell_type": "code",
   "execution_count": 95,
   "metadata": {
    "collapsed": false
   },
   "outputs": [
    {
     "data": {
      "text/plain": [
       "VERIFIED - income           127040\n",
       "not verified                107873\n",
       "VERIFIED - income source    104076\n",
       "dtype: int64"
      ]
     },
     "execution_count": 95,
     "metadata": {},
     "output_type": "execute_result"
    }
   ],
   "source": [
    "df.verification_status.value_counts()"
   ]
  },
  {
   "cell_type": "markdown",
   "metadata": {},
   "source": [
    "###Purpose loan category and loan title\n",
    "1. Loan purpose is self filled by borrower and we can use natural language processing technique to extract useful n-grams words and cluster them into different subgroups using unsupervised learning techniques, to keep this project not too sophisticated, for now we will drop this column \n",
    "2. Examing the loan category unique counts show they are state farm selected options.\n",
    "3. Examing the loan title unique counts show they are free text fields and we can drop this column."
   ]
  },
  {
   "cell_type": "code",
   "execution_count": 8,
   "metadata": {
    "collapsed": false
   },
   "outputs": [
    {
     "name": "stdout",
     "output_type": "stream",
     "text": [
      "loan category unique counts:\n",
      "debt_consolidation    198226\n",
      "credit_card            75680\n",
      "home_improvement       19625\n",
      "other                  17154\n",
      "major_purchase          7312\n",
      "small_business          5359\n",
      "car                     4115\n",
      "medical                 3329\n",
      "moving                  2138\n",
      "wedding                 1934\n",
      "vacation                1848\n",
      "house                   1723\n",
      "educational              279\n",
      "renewable_energy         267\n",
      "dtype: int64\n",
      "\n",
      "loan title unique counts:\n",
      "Debt consolidation                          105698\n",
      "Credit card refinancing                      40499\n",
      "Debt Consolidation                           13275\n",
      "Home improvement                              9888\n",
      "Other                                         8188\n",
      "Consolidation                                 4504\n",
      "debt consolidation                            4075\n",
      "Debt Consolidation Loan                       3247\n",
      "Major purchase                                3010\n",
      "Business                                      2397\n",
      "Credit Card Consolidation                     1982\n",
      "consolidation                                 1827\n",
      "Personal Loan                                 1806\n",
      "Medical expenses                              1803\n",
      "Consolidation Loan                            1499\n",
      "Home Improvement                              1481\n",
      "Car financing                                 1373\n",
      "Credit Card Refinance                         1246\n",
      "Credit Card Payoff                            1177\n",
      "Vacation                                      1078\n",
      "Consolidate                                   1038\n",
      "Personal                                       979\n",
      "Moving and relocation                          947\n",
      "Loan                                           885\n",
      "Freedom                                        680\n",
      "Credit Card Loan                               669\n",
      "consolidate                                    656\n",
      "personal                                       637\n",
      "Home buying                                    615\n",
      "personal loan                                  614\n",
      "                                             ...  \n",
      "Consolidate debt single fixed payment            1\n",
      "Super Tub Spa                                    1\n",
      "great rate loan                                  1\n",
      "USBank/Citi Consolidation                        1\n",
      "Construction Truck                               1\n",
      "Taking my credit score to the next level         1\n",
      "Clear 3 cards to 1 payment                       1\n",
      "conloan1                                         1\n",
      "Monkey Off My Back Loan                          1\n",
      "Debt Paydown Accelerator                         1\n",
      "maybe enough left for short vacation             1\n",
      "Rid Credit To Breathe                            1\n",
      "consolidate-credit car                           1\n",
      "Credit Debt Demolition                           1\n",
      "Debt Consolidate/Simplification                  1\n",
      "lending money                                    1\n",
      "ConsolidationHelp                                1\n",
      "credit card pay                                  1\n",
      "Brooklyn Relocate                                1\n",
      "Wedding Debt / Credit Card Refinancing           1\n",
      "Moving/Down Payment on Home                      1\n",
      "Watch                                            1\n",
      "Closer To Freedom                                1\n",
      "workable                                         1\n",
      "Reduce payments.                                 1\n",
      "Wedding/Credit Card                              1\n",
      "Kitchen Update                                   1\n",
      "Flipflop Girl Wants To Be Debt-Free!!            1\n",
      "Refinance Debt Consolidation                     1\n",
      "Heating/Cooling                                  1\n",
      "dtype: int64\n"
     ]
    }
   ],
   "source": [
    "df.drop(['purpose'],1, inplace=True)\n",
    "print('loan category unique counts:')\n",
    "print (df.loan_cat.value_counts())\n",
    "print('\\nloan title unique counts:')\n",
    "print (df.loan_title.value_counts())"
   ]
  },
  {
   "cell_type": "code",
   "execution_count": 9,
   "metadata": {
    "collapsed": true
   },
   "outputs": [],
   "source": [
    "df.drop(['loan_title'],1, inplace=True)"
   ]
  },
  {
   "cell_type": "markdown",
   "metadata": {},
   "source": [
    "let's keep moving to the next slice of data"
   ]
  },
  {
   "cell_type": "code",
   "execution_count": 111,
   "metadata": {
    "collapsed": false
   },
   "outputs": [
    {
     "data": {
      "text/html": [
       "<div>\n",
       "<table border=\"1\" class=\"dataframe\">\n",
       "  <thead>\n",
       "    <tr style=\"text-align: right;\">\n",
       "      <th></th>\n",
       "      <th>zip_code</th>\n",
       "      <th>state</th>\n",
       "      <th>dti</th>\n",
       "      <th>delinq_2yrs</th>\n",
       "      <th>earliest_cr_line</th>\n",
       "      <th>inq_last_6mths</th>\n",
       "      <th>mths_since_last_deliq</th>\n",
       "      <th>mths_since_last_record</th>\n",
       "      <th>num_opencr_line</th>\n",
       "    </tr>\n",
       "  </thead>\n",
       "  <tbody>\n",
       "    <tr>\n",
       "      <th>0</th>\n",
       "      <td>941xx</td>\n",
       "      <td>CA</td>\n",
       "      <td>19.48</td>\n",
       "      <td>0</td>\n",
       "      <td>Feb-94</td>\n",
       "      <td>0</td>\n",
       "      <td>NaN</td>\n",
       "      <td>NaN</td>\n",
       "      <td>10</td>\n",
       "    </tr>\n",
       "    <tr>\n",
       "      <th>1</th>\n",
       "      <td>112xx</td>\n",
       "      <td>NY</td>\n",
       "      <td>14.29</td>\n",
       "      <td>0</td>\n",
       "      <td>Oct-00</td>\n",
       "      <td>0</td>\n",
       "      <td>NaN</td>\n",
       "      <td>NaN</td>\n",
       "      <td>7</td>\n",
       "    </tr>\n",
       "    <tr>\n",
       "      <th>2</th>\n",
       "      <td>100xx</td>\n",
       "      <td>NY</td>\n",
       "      <td>10.50</td>\n",
       "      <td>0</td>\n",
       "      <td>Jun-00</td>\n",
       "      <td>0</td>\n",
       "      <td>41</td>\n",
       "      <td>NaN</td>\n",
       "      <td>10</td>\n",
       "    </tr>\n",
       "    <tr>\n",
       "      <th>3</th>\n",
       "      <td>777xx</td>\n",
       "      <td>TX</td>\n",
       "      <td>5.47</td>\n",
       "      <td>0</td>\n",
       "      <td>Jan-85</td>\n",
       "      <td>0</td>\n",
       "      <td>64</td>\n",
       "      <td>NaN</td>\n",
       "      <td>5</td>\n",
       "    </tr>\n",
       "    <tr>\n",
       "      <th>4</th>\n",
       "      <td>067xx</td>\n",
       "      <td>CT</td>\n",
       "      <td>11.63</td>\n",
       "      <td>0</td>\n",
       "      <td>Dec-96</td>\n",
       "      <td>1</td>\n",
       "      <td>58</td>\n",
       "      <td>NaN</td>\n",
       "      <td>14</td>\n",
       "    </tr>\n",
       "    <tr>\n",
       "      <th>5</th>\n",
       "      <td>028xx</td>\n",
       "      <td>RI</td>\n",
       "      <td>2.05</td>\n",
       "      <td>0</td>\n",
       "      <td>Apr-94</td>\n",
       "      <td>0</td>\n",
       "      <td>26</td>\n",
       "      <td>NaN</td>\n",
       "      <td>6</td>\n",
       "    </tr>\n",
       "  </tbody>\n",
       "</table>\n",
       "</div>"
      ],
      "text/plain": [
       "  zip_code state    dti  delinq_2yrs earliest_cr_line  inq_last_6mths  \\\n",
       "0    941xx    CA  19.48            0           Feb-94               0   \n",
       "1    112xx    NY  14.29            0           Oct-00               0   \n",
       "2    100xx    NY  10.50            0           Jun-00               0   \n",
       "3    777xx    TX   5.47            0           Jan-85               0   \n",
       "4    067xx    CT  11.63            0           Dec-96               1   \n",
       "5    028xx    RI   2.05            0           Apr-94               0   \n",
       "\n",
       "   mths_since_last_deliq  mths_since_last_record  num_opencr_line  \n",
       "0                    NaN                     NaN               10  \n",
       "1                    NaN                     NaN                7  \n",
       "2                     41                     NaN               10  \n",
       "3                     64                     NaN                5  \n",
       "4                     58                     NaN               14  \n",
       "5                     26                     NaN                6  "
      ]
     },
     "execution_count": 111,
     "metadata": {},
     "output_type": "execute_result"
    }
   ],
   "source": [
    "df.ix[:5,13:22]"
   ]
  },
  {
   "cell_type": "code",
   "execution_count": 10,
   "metadata": {
    "collapsed": true
   },
   "outputs": [],
   "source": [
    "df.drop(['zip_code'],1, inplace=True)"
   ]
  },
  {
   "cell_type": "markdown",
   "metadata": {},
   "source": [
    "### Delinquency skewed distribution\n",
    "Examine the distribution of delinquency, it shows it is a right skewed distribution and may need apply box-cox transformation in some cases before modelling depending on what model is used."
   ]
  },
  {
   "cell_type": "code",
   "execution_count": 113,
   "metadata": {
    "collapsed": false
   },
   "outputs": [
    {
     "data": {
      "text/plain": [
       "0     280249\n",
       "1      39796\n",
       "2      11494\n",
       "3       3964\n",
       "4       1658\n",
       "5        841\n",
       "6        441\n",
       "7        226\n",
       "8        111\n",
       "9         68\n",
       "10        48\n",
       "11        27\n",
       "12        23\n",
       "13        13\n",
       "14         6\n",
       "18         6\n",
       "16         5\n",
       "15         4\n",
       "17         3\n",
       "19         2\n",
       "24         1\n",
       "21         1\n",
       "22         1\n",
       "29         1\n",
       "dtype: int64"
      ]
     },
     "execution_count": 113,
     "metadata": {},
     "output_type": "execute_result"
    }
   ],
   "source": [
    "df.delinq_2yrs.value_counts()"
   ]
  },
  {
   "cell_type": "markdown",
   "metadata": {},
   "source": [
    "### Earliest Credit Line type conversion\n",
    "We will convert this column from object type to a scalar to describe the length of time since the first line of credit. "
   ]
  },
  {
   "cell_type": "code",
   "execution_count": 23,
   "metadata": {
    "collapsed": false
   },
   "outputs": [],
   "source": [
    "from datetime import datetime\n",
    "# Read the column in the correct format\n",
    "t = pd.to_datetime(df['earliest_cr_line'],format = '%b-%y')\n",
    "\n",
    "date_format = \"%m/%d/%Y\"\n",
    "dttoday = datetime.strptime('1/1/2017', date_format)\n",
    "\n",
    "d = np.zeros(len(t))\n",
    "for i in range(len(t)):\n",
    "    try:\n",
    "        d[i] = ((np.timedelta64(t[i] - pd.Timestamp(dttoday),'D').astype(int))/-365)\n",
    "        #break\n",
    "    except:\n",
    "        d[i] = ((np.timedelta64(t[i] - pd.Timestamp(dttoday),'M').astype(int))/-12)\n",
    "\n",
    "d[d<0] = d[d<0] + 100\n",
    "\n",
    "df['earliest_cr_line'] = d\n",
    "# d[d<0]\n",
    "# print(np.nonzero(d <0)[0][0])\n",
    "# t[np.nonzero(d <0)[0][0]]"
   ]
  },
  {
   "cell_type": "markdown",
   "metadata": {},
   "source": [
    "We move to the last slice of the predictors"
   ]
  },
  {
   "cell_type": "code",
   "execution_count": 52,
   "metadata": {
    "collapsed": false
   },
   "outputs": [
    {
     "data": {
      "text/html": [
       "<div>\n",
       "<table border=\"1\" class=\"dataframe\">\n",
       "  <thead>\n",
       "    <tr style=\"text-align: right;\">\n",
       "      <th></th>\n",
       "      <th>num_der_rec</th>\n",
       "      <th>revol_bal</th>\n",
       "      <th>revol_util</th>\n",
       "      <th>total_cr_line</th>\n",
       "      <th>init_list_status</th>\n",
       "    </tr>\n",
       "  </thead>\n",
       "  <tbody>\n",
       "    <tr>\n",
       "      <th>0</th>\n",
       "      <td>0</td>\n",
       "      <td>28854</td>\n",
       "      <td>52.10%</td>\n",
       "      <td>42</td>\n",
       "      <td>f</td>\n",
       "    </tr>\n",
       "    <tr>\n",
       "      <th>1</th>\n",
       "      <td>0</td>\n",
       "      <td>33623</td>\n",
       "      <td>76.70%</td>\n",
       "      <td>7</td>\n",
       "      <td>f</td>\n",
       "    </tr>\n",
       "    <tr>\n",
       "      <th>2</th>\n",
       "      <td>0</td>\n",
       "      <td>19878</td>\n",
       "      <td>66.30%</td>\n",
       "      <td>17</td>\n",
       "      <td>f</td>\n",
       "    </tr>\n",
       "    <tr>\n",
       "      <th>3</th>\n",
       "      <td>0</td>\n",
       "      <td>2584</td>\n",
       "      <td>40.40%</td>\n",
       "      <td>31</td>\n",
       "      <td>f</td>\n",
       "    </tr>\n",
       "    <tr>\n",
       "      <th>4</th>\n",
       "      <td>0</td>\n",
       "      <td>3511</td>\n",
       "      <td>25.60%</td>\n",
       "      <td>40</td>\n",
       "      <td>f</td>\n",
       "    </tr>\n",
       "    <tr>\n",
       "      <th>5</th>\n",
       "      <td>0</td>\n",
       "      <td>3874</td>\n",
       "      <td>90.10%</td>\n",
       "      <td>25</td>\n",
       "      <td>f</td>\n",
       "    </tr>\n",
       "  </tbody>\n",
       "</table>\n",
       "</div>"
      ],
      "text/plain": [
       "   num_der_rec  revol_bal revol_util  total_cr_line init_list_status\n",
       "0            0      28854     52.10%             42                f\n",
       "1            0      33623     76.70%              7                f\n",
       "2            0      19878     66.30%             17                f\n",
       "3            0       2584     40.40%             31                f\n",
       "4            0       3511     25.60%             40                f\n",
       "5            0       3874     90.10%             25                f"
      ]
     },
     "execution_count": 52,
     "metadata": {},
     "output_type": "execute_result"
    }
   ],
   "source": [
    "df.ix[:5,21:]"
   ]
  },
  {
   "cell_type": "markdown",
   "metadata": {},
   "source": [
    "### Revolving utility\n",
    "Remove the % sign and convert it to float type"
   ]
  },
  {
   "cell_type": "code",
   "execution_count": 53,
   "metadata": {
    "collapsed": true
   },
   "outputs": [],
   "source": [
    "df.revol_util = pd.Series(df.revol_util).str.replace('%', '').astype(float)"
   ]
  },
  {
   "cell_type": "code",
   "execution_count": 35,
   "metadata": {
    "collapsed": false
   },
   "outputs": [
    {
     "data": {
      "text/plain": [
       "SGDRegressor(alpha=0.0001, average=False, epsilon=0.1, eta0=0.01,\n",
       "       fit_intercept=True, l1_ratio=0.15, learning_rate='invscaling',\n",
       "       loss='squared_loss', n_iter=5, penalty='l2', power_t=0.25,\n",
       "       random_state=None, shuffle=True, verbose=0, warm_start=False)"
      ]
     },
     "execution_count": 35,
     "metadata": {},
     "output_type": "execute_result"
    }
   ],
   "source": [
    "# n_samples, n_features = 10, 5\n",
    "# np.random.seed(0)\n",
    "# y = np.random.randn(n_samples)\n",
    "# X = np.random.randn(n_samples, n_features)\n",
    "from sklearn import linear_model\n",
    "\n",
    "clf = linear_model.SGDRegressor()\n",
    "clf.fit(X, y)"
   ]
  },
  {
   "cell_type": "code",
   "execution_count": 34,
   "metadata": {
    "collapsed": false
   },
   "outputs": [],
   "source": [
    "# Define X and Y vectors for model fitting\n",
    "# flattern the vector column y into an 1-d array which is a required format for model fitting\n",
    "y = np.ravel(df.ix[:, :1])\n",
    "X = df.ix[:, 1:5]"
   ]
  },
  {
   "cell_type": "code",
   "execution_count": null,
   "metadata": {
    "collapsed": false
   },
   "outputs": [],
   "source": [
    "# Try random forest\n",
    "#import randomforests as rf\n",
    "# rf super slow, and interation 10 is not sufficient\n",
    "# with error thrown out ome inputs do not have OOB scores. This probably means too few trees were used to compute any reliable oob estimates.\n",
    "#  warn(\"Some inputs do not have OOB scores. \"\n",
    "import sklearn.ensemble as sk\n",
    "rfc = sk.RandomForestClassifier(n_estimators=100, oob_score=True)\n",
    "model = rfc.fit(X, y)"
   ]
  },
  {
   "cell_type": "code",
   "execution_count": 36,
   "metadata": {
    "collapsed": false
   },
   "outputs": [
    {
     "data": {
      "text/plain": [
       "SVR(C=1.0, cache_size=200, coef0=0.0, degree=3, epsilon=0.2, gamma=0.0,\n",
       "  kernel='rbf', max_iter=-1, shrinking=True, tol=0.001, verbose=False)"
      ]
     },
     "execution_count": 36,
     "metadata": {},
     "output_type": "execute_result"
    }
   ],
   "source": [
    "## Try Support Vector Regression\n",
    "# failed as there are a lot string type predictors in Y\n",
    "clf = SVR(C=1.0, epsilon=0.2)\n",
    "clf.fit(X, y)"
   ]
  },
  {
   "cell_type": "code",
   "execution_count": 40,
   "metadata": {
    "collapsed": false
   },
   "outputs": [
    {
     "name": "stdout",
     "output_type": "stream",
     "text": [
      "Coefficients:  X2   -1.140427e-08\n",
      "X3    1.357400e-08\n",
      "dtype: float64\n",
      "Intercept:  6.255497628e-06\n",
      "P-Values:  X2     0.000000e+00\n",
      "X3     0.000000e+00\n",
      "X4    5.828193e-142\n",
      "X5     4.125758e-04\n",
      "dtype: float64\n",
      "R-Squared:  0.781409902785\n"
     ]
    }
   ],
   "source": [
    "## Odinary Linear Regression\n",
    "model = sm.OLS(y,X)\n",
    "f = model.fit()\n",
    "\n",
    "print ('Coefficients: ', f.params[0:2])\n",
    "print ('Intercept: ', f.params[2])\n",
    "print ('P-Values: ', f.pvalues)\n",
    "print ('R-Squared: ', f.rsquared)"
   ]
  },
  {
   "cell_type": "code",
   "execution_count": 41,
   "metadata": {
    "collapsed": false
   },
   "outputs": [
    {
     "data": {
      "text/plain": [
       "GradientBoostingRegressor(alpha=0.9, init=None, learning_rate=0.01, loss='ls',\n",
       "             max_depth=4, max_features=None, max_leaf_nodes=None,\n",
       "             min_samples_leaf=1, min_samples_split=1,\n",
       "             min_weight_fraction_leaf=0.0, n_estimators=500,\n",
       "             random_state=None, subsample=1.0, verbose=0, warm_start=False)"
      ]
     },
     "execution_count": 41,
     "metadata": {},
     "output_type": "execute_result"
    }
   ],
   "source": [
    "#http://scikit-learn.org/stable/auto_examples/ensemble/plot_gradient_boosting_regression.html\n",
    "## Gradient_boosting\n",
    "from sklearn import ensemble\n",
    "\n",
    "# Fit regression model\n",
    "params = {'n_estimators': 500, 'max_depth': 4, 'min_samples_split': 1,\n",
    "          'learning_rate': 0.01, 'loss': 'ls'}\n",
    "clf = ensemble.GradientBoostingRegressor(**params)\n",
    "\n",
    "clf.fit(X, y)\n",
    "#mse = mean_squared_error(y_test, clf.predict(X_test))\n",
    "#print(\"MSE: %.4f\" % mse)\n",
    "\n",
    "# Plot feature importance\n",
    "feature_importance = clf.feature_importances_\n",
    "# make importances relative to max importance\n",
    "feature_importance = 100.0 * (feature_importance / feature_importance.max())\n",
    "sorted_idx = np.argsort(feature_importance)\n",
    "pos = np.arange(sorted_idx.shape[0]) + .5\n",
    "plt.subplot(1, 2, 2)\n",
    "plt.barh(pos, feature_importance[sorted_idx], align='center')\n",
    "plt.yticks(pos, boston.feature_names[sorted_idx])\n",
    "plt.xlabel('Relative Importance')\n",
    "plt.title('Variable Importance')\n",
    "plt.show()"
   ]
  },
  {
   "cell_type": "code",
   "execution_count": 44,
   "metadata": {
    "collapsed": false
   },
   "outputs": [
    {
     "data": {
      "text/plain": [
       "AdaBoostRegressor(base_estimator=DecisionTreeRegressor(criterion='mse', max_depth=4, max_features=None,\n",
       "           max_leaf_nodes=None, min_samples_leaf=1, min_samples_split=2,\n",
       "           min_weight_fraction_leaf=0.0, random_state=None,\n",
       "           splitter='best'),\n",
       "         learning_rate=1.0, loss='linear', n_estimators=300,\n",
       "         random_state=<mtrand.RandomState object at 0x0000000010974EB8>)"
      ]
     },
     "execution_count": 44,
     "metadata": {},
     "output_type": "execute_result"
    }
   ],
   "source": [
    "#http://scikit-learn.org/stable/auto_examples/ensemble/plot_adaboost_regression.html\n",
    "# Decision tree regression with adaboost\n",
    "from sklearn.tree import DecisionTreeRegressor\n",
    "from sklearn.ensemble import AdaBoostRegressor\n",
    "rng = np.random.RandomState(1)\n",
    "regr_1 = DecisionTreeRegressor(max_depth=4)\n",
    "\n",
    "regr_2 = AdaBoostRegressor(DecisionTreeRegressor(max_depth=4),\n",
    "                          n_estimators=300, random_state=rng)\n",
    "regr_1.fit(X, y)\n",
    "regr_2.fit(X, y)\n",
    "\n",
    "#http://scikit-learn.org/stable/auto_examples/ensemble/plot_adaboost_hastie_10_2.html"
   ]
  }
 ],
 "metadata": {
  "kernelspec": {
   "display_name": "Python 3",
   "language": "python",
   "name": "python3"
  },
  "language_info": {
   "codemirror_mode": {
    "name": "ipython",
    "version": 3
   },
   "file_extension": ".py",
   "mimetype": "text/x-python",
   "name": "python",
   "nbconvert_exporter": "python",
   "pygments_lexer": "ipython3",
   "version": "3.4.3"
  }
 },
 "nbformat": 4,
 "nbformat_minor": 0
}
