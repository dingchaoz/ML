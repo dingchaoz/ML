{
 "cells": [
  {
   "cell_type": "code",
   "execution_count": 1,
   "metadata": {
    "collapsed": false
   },
   "outputs": [],
   "source": [
    "import matplotlib.pyplot as plt\n",
    "%matplotlib inline\n",
    "import numpy as np\n",
    "import pandas as pd\n",
    "import statsmodels.api as sm\n",
    "import decimal\n",
    "from statsmodels.nonparametric.kde import KDEUnivariate\n",
    "from statsmodels.nonparametric import smoothers_lowess\n",
    "from pandas import Series, DataFrame\n",
    "from patsy import dmatrices\n",
    "from sklearn import datasets, svm\n",
    "from sklearn.svm import SVR\n",
    "\n",
    "#data = pd.read_csv('data', parse_dates=[[0,1]], infer_datetime_format=True)\n",
    "df = pd.read_csv(\"training.csv\", infer_datetime_format=True,low_memory=False)\n",
    "\n",
    "# Remove the following columns since it has too many missing values\n",
    "df = df.drop(['X16','X25','X26'], axis=1)\n",
    "# Remove NaN values if any of the column has a NaN\n",
    "#df = df.dropna()\n",
    "\n",
    "\n",
    "# X1 is the response column, thus removing all NaNs from it\n",
    "# X4,X5,X6 are currency and need to be converted to int\n",
    "# Pandas can not store NaN in int type column, thus had remove all NaNs from them as well\n",
    "for col in ('X1','X4', 'X5','X6'):\n",
    "    df = df[pd.notnull(df[col])]\n",
    "\n",
    "D = decimal.Decimal\n",
    "# Pandas can not store NaN in int type column, thus had remove all NaNs\n",
    "for col in ('X4', 'X5','X6'):\n",
    "    df[col] = df[col].str.replace(r'[^-+\\d.]', '').astype(D)\n",
    "    df[col] = df[col].astype('int')\n",
    "    \n",
    "# Convert columns having % from obj(string type) to float and divide by 100 \n",
    "for col in ('X1', 'X30'):\n",
    "    df[col] = df[col].str.replace('%','').astype('float')/100\n",
    "\n",
    "#df.dtypes"
   ]
  },
  {
   "cell_type": "code",
   "execution_count": 111,
   "metadata": {
    "collapsed": false
   },
   "outputs": [],
   "source": [
    "#df = pd.read_csv(\"training.csv\", parse_dates=True,index_col = [14,22],infer_datetime_format=True,low_memory=False)\n",
    "## Need to deal with date, maybe convert it to month or days of the year,since interest rate is related to timing"
   ]
  },
  {
   "cell_type": "code",
   "execution_count": 54,
   "metadata": {
    "collapsed": false
   },
   "outputs": [
    {
     "data": {
      "text/html": [
       "<div>\n",
       "<table border=\"1\" class=\"dataframe\">\n",
       "  <thead>\n",
       "    <tr style=\"text-align: right;\">\n",
       "      <th></th>\n",
       "      <th>X13</th>\n",
       "      <th>X21</th>\n",
       "      <th>X22</th>\n",
       "    </tr>\n",
       "  </thead>\n",
       "  <tbody>\n",
       "    <tr>\n",
       "      <th>count</th>\n",
       "      <td>338972.000000</td>\n",
       "      <td>399999.000000</td>\n",
       "      <td>399999.000000</td>\n",
       "    </tr>\n",
       "    <tr>\n",
       "      <th>mean</th>\n",
       "      <td>73160.149695</td>\n",
       "      <td>17.000786</td>\n",
       "      <td>0.274528</td>\n",
       "    </tr>\n",
       "    <tr>\n",
       "      <th>std</th>\n",
       "      <td>55867.696483</td>\n",
       "      <td>7.704189</td>\n",
       "      <td>0.778209</td>\n",
       "    </tr>\n",
       "    <tr>\n",
       "      <th>min</th>\n",
       "      <td>3000.000000</td>\n",
       "      <td>0.000000</td>\n",
       "      <td>0.000000</td>\n",
       "    </tr>\n",
       "    <tr>\n",
       "      <th>25%</th>\n",
       "      <td>45000.000000</td>\n",
       "      <td>11.250000</td>\n",
       "      <td>0.000000</td>\n",
       "    </tr>\n",
       "    <tr>\n",
       "      <th>50%</th>\n",
       "      <td>63000.000000</td>\n",
       "      <td>16.700000</td>\n",
       "      <td>0.000000</td>\n",
       "    </tr>\n",
       "    <tr>\n",
       "      <th>75%</th>\n",
       "      <td>88200.000000</td>\n",
       "      <td>22.520000</td>\n",
       "      <td>0.000000</td>\n",
       "    </tr>\n",
       "    <tr>\n",
       "      <th>max</th>\n",
       "      <td>7500000.000000</td>\n",
       "      <td>39.990000</td>\n",
       "      <td>29.000000</td>\n",
       "    </tr>\n",
       "  </tbody>\n",
       "</table>\n",
       "</div>"
      ],
      "text/plain": [
       "                  X13            X21            X22\n",
       "count   338972.000000  399999.000000  399999.000000\n",
       "mean     73160.149695      17.000786       0.274528\n",
       "std      55867.696483       7.704189       0.778209\n",
       "min       3000.000000       0.000000       0.000000\n",
       "25%      45000.000000      11.250000       0.000000\n",
       "50%      63000.000000      16.700000       0.000000\n",
       "75%      88200.000000      22.520000       0.000000\n",
       "max    7500000.000000      39.990000      29.000000"
      ]
     },
     "execution_count": 54,
     "metadata": {},
     "output_type": "execute_result"
    }
   ],
   "source": [
    "#df.describe()\n",
    "#df.ix[:, 10:23].describe()\n",
    "\n",
    "# Column X32,X7,X8,X24,X14,X12,X17,X22 unique values are very few, need to look into further if they are sparse predictors\n",
    "# regression based models need to remove sparse predictors\n",
    "\n",
    "# Column X26,X25,X16 a lot of missing values, maybe worth removing them"
   ]
  },
  {
   "cell_type": "code",
   "execution_count": 34,
   "metadata": {
    "collapsed": false
   },
   "outputs": [],
   "source": [
    "# Define X and Y vectors for model fitting\n",
    "# flattern the vector column y into an 1-d array which is a required format for model fitting\n",
    "y = np.ravel(df.ix[:, :1])\n",
    "X = df.ix[:, 1:5]"
   ]
  },
  {
   "cell_type": "code",
   "execution_count": 35,
   "metadata": {
    "collapsed": false
   },
   "outputs": [
    {
     "data": {
      "text/plain": [
       "SGDRegressor(alpha=0.0001, average=False, epsilon=0.1, eta0=0.01,\n",
       "       fit_intercept=True, l1_ratio=0.15, learning_rate='invscaling',\n",
       "       loss='squared_loss', n_iter=5, penalty='l2', power_t=0.25,\n",
       "       random_state=None, shuffle=True, verbose=0, warm_start=False)"
      ]
     },
     "execution_count": 35,
     "metadata": {},
     "output_type": "execute_result"
    }
   ],
   "source": [
    "# n_samples, n_features = 10, 5\n",
    "# np.random.seed(0)\n",
    "# y = np.random.randn(n_samples)\n",
    "# X = np.random.randn(n_samples, n_features)\n",
    "from sklearn import linear_model\n",
    "\n",
    "clf = linear_model.SGDRegressor()\n",
    "clf.fit(X, y)"
   ]
  },
  {
   "cell_type": "code",
   "execution_count": null,
   "metadata": {
    "collapsed": false
   },
   "outputs": [],
   "source": [
    "# Try random forest\n",
    "#import randomforests as rf\n",
    "# rf super slow, and interation 10 is not sufficient\n",
    "# with error thrown out ome inputs do not have OOB scores. This probably means too few trees were used to compute any reliable oob estimates.\n",
    "#  warn(\"Some inputs do not have OOB scores. \"\n",
    "import sklearn.ensemble as sk\n",
    "rfc = sk.RandomForestClassifier(n_estimators=100, oob_score=True)\n",
    "model = rfc.fit(X, y)"
   ]
  },
  {
   "cell_type": "code",
   "execution_count": 36,
   "metadata": {
    "collapsed": false
   },
   "outputs": [
    {
     "data": {
      "text/plain": [
       "SVR(C=1.0, cache_size=200, coef0=0.0, degree=3, epsilon=0.2, gamma=0.0,\n",
       "  kernel='rbf', max_iter=-1, shrinking=True, tol=0.001, verbose=False)"
      ]
     },
     "execution_count": 36,
     "metadata": {},
     "output_type": "execute_result"
    }
   ],
   "source": [
    "## Try Support Vector Regression\n",
    "# failed as there are a lot string type predictors in Y\n",
    "clf = SVR(C=1.0, epsilon=0.2)\n",
    "clf.fit(X, y)"
   ]
  },
  {
   "cell_type": "code",
   "execution_count": 40,
   "metadata": {
    "collapsed": false
   },
   "outputs": [
    {
     "name": "stdout",
     "output_type": "stream",
     "text": [
      "Coefficients:  X2   -1.140427e-08\n",
      "X3    1.357400e-08\n",
      "dtype: float64\n",
      "Intercept:  6.255497628e-06\n",
      "P-Values:  X2     0.000000e+00\n",
      "X3     0.000000e+00\n",
      "X4    5.828193e-142\n",
      "X5     4.125758e-04\n",
      "dtype: float64\n",
      "R-Squared:  0.781409902785\n"
     ]
    }
   ],
   "source": [
    "## Odinary Linear Regression\n",
    "model = sm.OLS(y,X)\n",
    "f = model.fit()\n",
    "\n",
    "print ('Coefficients: ', f.params[0:2])\n",
    "print ('Intercept: ', f.params[2])\n",
    "print ('P-Values: ', f.pvalues)\n",
    "print ('R-Squared: ', f.rsquared)"
   ]
  },
  {
   "cell_type": "code",
   "execution_count": 41,
   "metadata": {
    "collapsed": false
   },
   "outputs": [
    {
     "data": {
      "text/plain": [
       "GradientBoostingRegressor(alpha=0.9, init=None, learning_rate=0.01, loss='ls',\n",
       "             max_depth=4, max_features=None, max_leaf_nodes=None,\n",
       "             min_samples_leaf=1, min_samples_split=1,\n",
       "             min_weight_fraction_leaf=0.0, n_estimators=500,\n",
       "             random_state=None, subsample=1.0, verbose=0, warm_start=False)"
      ]
     },
     "execution_count": 41,
     "metadata": {},
     "output_type": "execute_result"
    }
   ],
   "source": [
    "#http://scikit-learn.org/stable/auto_examples/ensemble/plot_gradient_boosting_regression.html\n",
    "## Gradient_boosting\n",
    "from sklearn import ensemble\n",
    "\n",
    "# Fit regression model\n",
    "params = {'n_estimators': 500, 'max_depth': 4, 'min_samples_split': 1,\n",
    "          'learning_rate': 0.01, 'loss': 'ls'}\n",
    "clf = ensemble.GradientBoostingRegressor(**params)\n",
    "\n",
    "clf.fit(X, y)\n",
    "#mse = mean_squared_error(y_test, clf.predict(X_test))\n",
    "#print(\"MSE: %.4f\" % mse)\n",
    "\n",
    "# Plot feature importance\n",
    "feature_importance = clf.feature_importances_\n",
    "# make importances relative to max importance\n",
    "feature_importance = 100.0 * (feature_importance / feature_importance.max())\n",
    "sorted_idx = np.argsort(feature_importance)\n",
    "pos = np.arange(sorted_idx.shape[0]) + .5\n",
    "plt.subplot(1, 2, 2)\n",
    "plt.barh(pos, feature_importance[sorted_idx], align='center')\n",
    "plt.yticks(pos, boston.feature_names[sorted_idx])\n",
    "plt.xlabel('Relative Importance')\n",
    "plt.title('Variable Importance')\n",
    "plt.show()"
   ]
  },
  {
   "cell_type": "code",
   "execution_count": 44,
   "metadata": {
    "collapsed": false
   },
   "outputs": [
    {
     "data": {
      "text/plain": [
       "AdaBoostRegressor(base_estimator=DecisionTreeRegressor(criterion='mse', max_depth=4, max_features=None,\n",
       "           max_leaf_nodes=None, min_samples_leaf=1, min_samples_split=2,\n",
       "           min_weight_fraction_leaf=0.0, random_state=None,\n",
       "           splitter='best'),\n",
       "         learning_rate=1.0, loss='linear', n_estimators=300,\n",
       "         random_state=<mtrand.RandomState object at 0x0000000010974EB8>)"
      ]
     },
     "execution_count": 44,
     "metadata": {},
     "output_type": "execute_result"
    }
   ],
   "source": [
    "#http://scikit-learn.org/stable/auto_examples/ensemble/plot_adaboost_regression.html\n",
    "# Decision tree regression with adaboost\n",
    "from sklearn.tree import DecisionTreeRegressor\n",
    "from sklearn.ensemble import AdaBoostRegressor\n",
    "rng = np.random.RandomState(1)\n",
    "regr_1 = DecisionTreeRegressor(max_depth=4)\n",
    "\n",
    "regr_2 = AdaBoostRegressor(DecisionTreeRegressor(max_depth=4),\n",
    "                          n_estimators=300, random_state=rng)\n",
    "regr_1.fit(X, y)\n",
    "regr_2.fit(X, y)\n",
    "\n",
    "#http://scikit-learn.org/stable/auto_examples/ensemble/plot_adaboost_hastie_10_2.html"
   ]
  }
 ],
 "metadata": {
  "kernelspec": {
   "display_name": "Python 3",
   "language": "python",
   "name": "python3"
  },
  "language_info": {
   "codemirror_mode": {
    "name": "ipython",
    "version": 3
   },
   "file_extension": ".py",
   "mimetype": "text/x-python",
   "name": "python",
   "nbconvert_exporter": "python",
   "pygments_lexer": "ipython3",
   "version": "3.4.3"
  }
 },
 "nbformat": 4,
 "nbformat_minor": 0
}
