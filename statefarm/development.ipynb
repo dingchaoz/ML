{
 "cells": [
  {
   "cell_type": "code",
   "execution_count": 56,
   "metadata": {
    "collapsed": false
   },
   "outputs": [],
   "source": [
    "import matplotlib.pyplot as plt\n",
    "%matplotlib inline\n",
    "import numpy as np\n",
    "import pandas as pd\n",
    "import statsmodels.api as sm\n",
    "import decimal\n",
    "from statsmodels.nonparametric.kde import KDEUnivariate\n",
    "from statsmodels.nonparametric import smoothers_lowess\n",
    "from pandas import Series, DataFrame\n",
    "from patsy import dmatrices\n",
    "from sklearn import datasets, svm\n",
    "from sklearn.svm import SVR\n",
    "\n",
    "#data = pd.read_csv('data', parse_dates=[[0,1]], infer_datetime_format=True)\n",
    "df = pd.read_csv(\"training.csv\", infer_datetime_format=True,low_memory=False)\n",
    "\n",
    "columnNames = ['int_rate','id_loan','id_borrower','loan_amt','funded_amt','funded_amt_inv',\n",
    "              'term','grade','subgrade','emp_title','emp_length','home_ownership','annual_inc',\n",
    "               'verification_status','issue_d','purpose','loan_cat','loan_title','zip_code',\n",
    "               'state','dti','delinq_2yrs','earliest_cr_line','inq_last_6mths','mths_since_last_deliq',\n",
    "               'mths_since_last_record','num_opencr_line','num_der_rec','revol_bal','revol_util',\n",
    "               'total_cr_line','init_list_status']\n",
    "\n",
    "df.columns = columnNames\n",
    "\n",
    "# Pandas can not store NaN in int type column, thus had remove all NaNs from them as well\n",
    "for col in ('loan_amt','funded_amt','funded_amt_inv', 'term'):\n",
    "    df = df[pd.notnull(df[col])]\n",
    "    \n",
    "# reset index\n",
    "df = df.reset_index(drop=True)\n",
    "\n",
    "D = decimal.Decimal\n",
    "# Pandas can not store NaN in int type column, thus had remove all NaNs\n",
    "for col in ('loan_amt','funded_amt','funded_amt_inv','term'):\n",
    "    df[col] = df[col].str.replace(r'[^-+\\d.]', '').astype(D)\n",
    "    df[col] = df[col].astype('int')\n",
    "    \n",
    "#  Convert columns having % from obj(string type) to float and divide by 100    \n",
    "df['int_rate'] = df['int_rate'].str.replace('%','').astype('float')/100\n",
    "\n",
    "# Remove the rows where int_rate is missing\n",
    "df = df[pd.notnull(df['int_rate'])]\n",
    "# Reset index, this is critical\n",
    "df = df.reset_index(drop=True)\n",
    "\n",
    "df.drop(['id_loan','id_borrower'],1, inplace=True)\n",
    "\n",
    "from datetime import datetime\n",
    "# Read the column in the correct format\n",
    "temp = pd.to_datetime(df['issue_d'],format = '%b-%d')\n",
    "\n",
    "date_format = \"%m/%d/%Y\"\n",
    "dttoday = datetime.strptime('1/1/1900', date_format)\n",
    "\n",
    "d = np.zeros(len(temp))\n",
    "for i in range(len(temp)):\n",
    "    try:\n",
    "        d[i] = ((np.timedelta64(temp[i] - pd.Timestamp(dttoday),'D').astype(int))/365)\n",
    "        #break\n",
    "    except:\n",
    "        d[i] = ((np.timedelta64(temp[i] - pd.Timestamp(dttoday),'M').astype(int))/12)\n",
    "\n",
    "df['issue_d'] = d\n",
    "\n",
    "# Remove the rows where annual income claim is larger than 1 million\n",
    "df = df[df['annual_inc'] <= 1000000]\n",
    "# Reset index, this is critical\n",
    "df = df.reset_index(drop=True)\n",
    "\n",
    "df.drop(['emp_title'],1, inplace=True)\n",
    "\n",
    "df.replace('n/a', np.nan,inplace=True)\n",
    "df.emp_length.fillna(value=0,inplace=True)\n",
    "df['emp_length'].replace(to_replace='[^0-9]+', value='', inplace=True, regex=True)\n",
    "df['emp_length'] = df['emp_length'].astype(int)\n",
    "\n",
    "df.drop(['purpose'],1, inplace=True)\n",
    "df.drop(['loan_title'],1, inplace=True)\n",
    "df.drop(['zip_code'],1, inplace=True)\n",
    "\n",
    "from datetime import datetime\n",
    "# Read the column in the correct format\n",
    "t = pd.to_datetime(df['earliest_cr_line'],format = '%b-%y')\n",
    "\n",
    "date_format = \"%m/%d/%Y\"\n",
    "dttoday = datetime.strptime('1/1/2017', date_format)\n",
    "\n",
    "d = np.zeros(len(t))\n",
    "for i in range(len(t)):\n",
    "    try:\n",
    "        d[i] = ((np.timedelta64(t[i] - pd.Timestamp(dttoday),'D').astype(int))/-365)\n",
    "        #break\n",
    "    except:\n",
    "        d[i] = ((np.timedelta64(t[i] - pd.Timestamp(dttoday),'M').astype(int))/-12)\n",
    "\n",
    "d[d<0] = d[d<0] + 100\n",
    "\n",
    "df['earliest_cr_line'] = d\n",
    "\n",
    "df.revol_util = pd.Series(df.revol_util).str.replace('%', '').astype(float)\n",
    "\n",
    "df.drop(['funded_amt','funded_amt_inv','mths_since_last_deliq', 'total_cr_line'], axis=1, inplace=True)"
   ]
  },
  {
   "cell_type": "code",
   "execution_count": 41,
   "metadata": {
    "collapsed": false
   },
   "outputs": [],
   "source": [
    "# from sklearn import ensemble\n",
    "# from sklearn import datasets\n",
    "# from sklearn.utils import shuffle\n",
    "# from sklearn.metrics import mean_squared_error\n",
    "# from matplotlib import pyplot as plt\n",
    "\n",
    "# y = df2.int_rate.values\n",
    "# df2.drop('int_rate',axis = 1, inplace=True)\n",
    "\n",
    "# X, y = shuffle(df2.values, y, random_state=30)\n",
    "# #X = X.astype(np.float64)\n",
    "\n",
    "# offset = int(X.shape[0] * 0.75)\n",
    "# X_train, y_train = X[:offset], y[:offset]\n",
    "# X_test, y_test = X[offset:], y[offset:]"
   ]
  },
  {
   "cell_type": "code",
   "execution_count": 44,
   "metadata": {
    "collapsed": false
   },
   "outputs": [
    {
     "name": "stdout",
     "output_type": "stream",
     "text": [
      "Best parameters set found on development set:\n",
      "\n",
      "{'max_depth': 4, 'min_samples_leaf': 3, 'learning_rate': 0.1, 'max_features': 0.3}\n",
      "\n",
      "It has the best score of -0.000110\n",
      "\n",
      "Grid scores on development set:\n",
      "\n",
      "-0.000129 (+/-0.000147) for {'max_depth': 4, 'learning_rate': 0.1, 'min_samples_leaf': 3, 'max_features': 1.0}\n",
      "\n",
      "-0.000134 (+/-0.000150) for {'max_depth': 4, 'learning_rate': 0.1, 'min_samples_leaf': 5, 'max_features': 1.0}\n",
      "\n",
      "-0.000138 (+/-0.000137) for {'max_depth': 4, 'learning_rate': 0.1, 'min_samples_leaf': 9, 'max_features': 1.0}\n",
      "\n",
      "-0.000146 (+/-0.000151) for {'max_depth': 4, 'min_samples_leaf': 17, 'learning_rate': 0.1, 'max_features': 1.0}\n",
      "\n",
      "-0.000110 (+/-0.000132) for {'max_depth': 4, 'min_samples_leaf': 3, 'learning_rate': 0.1, 'max_features': 0.3}\n",
      "\n",
      "-0.000127 (+/-0.000136) for {'max_depth': 4, 'min_samples_leaf': 5, 'learning_rate': 0.1, 'max_features': 0.3}\n",
      "\n",
      "-0.000126 (+/-0.000125) for {'max_depth': 4, 'min_samples_leaf': 9, 'learning_rate': 0.1, 'max_features': 0.3}\n",
      "\n",
      "-0.000136 (+/-0.000152) for {'max_depth': 4, 'min_samples_leaf': 17, 'learning_rate': 0.1, 'max_features': 0.3}\n",
      "\n",
      "-0.000116 (+/-0.000122) for {'max_depth': 4, 'learning_rate': 0.1, 'min_samples_leaf': 3, 'max_features': 0.1}\n",
      "\n",
      "-0.000129 (+/-0.000145) for {'max_depth': 4, 'min_samples_leaf': 5, 'learning_rate': 0.1, 'max_features': 0.1}\n",
      "\n",
      "-0.000128 (+/-0.000117) for {'max_depth': 4, 'learning_rate': 0.1, 'min_samples_leaf': 9, 'max_features': 0.1}\n",
      "\n",
      "-0.000151 (+/-0.000149) for {'max_depth': 4, 'min_samples_leaf': 17, 'learning_rate': 0.1, 'max_features': 0.1}\n",
      "\n",
      "-0.000133 (+/-0.000138) for {'max_depth': 6, 'min_samples_leaf': 3, 'learning_rate': 0.1, 'max_features': 1.0}\n",
      "\n",
      "-0.000145 (+/-0.000153) for {'max_depth': 6, 'learning_rate': 0.1, 'min_samples_leaf': 5, 'max_features': 1.0}\n",
      "\n",
      "-0.000160 (+/-0.000183) for {'max_depth': 6, 'learning_rate': 0.1, 'min_samples_leaf': 9, 'max_features': 1.0}\n",
      "\n",
      "-0.000150 (+/-0.000186) for {'max_depth': 6, 'learning_rate': 0.1, 'min_samples_leaf': 17, 'max_features': 1.0}\n",
      "\n",
      "-0.000120 (+/-0.000151) for {'max_depth': 6, 'min_samples_leaf': 3, 'learning_rate': 0.1, 'max_features': 0.3}\n",
      "\n",
      "-0.000125 (+/-0.000153) for {'max_depth': 6, 'min_samples_leaf': 5, 'learning_rate': 0.1, 'max_features': 0.3}\n",
      "\n",
      "-0.000128 (+/-0.000144) for {'max_depth': 6, 'learning_rate': 0.1, 'min_samples_leaf': 9, 'max_features': 0.3}\n",
      "\n",
      "-0.000139 (+/-0.000159) for {'max_depth': 6, 'learning_rate': 0.1, 'min_samples_leaf': 17, 'max_features': 0.3}\n",
      "\n",
      "-0.000119 (+/-0.000143) for {'max_depth': 6, 'min_samples_leaf': 3, 'learning_rate': 0.1, 'max_features': 0.1}\n",
      "\n",
      "-0.000125 (+/-0.000122) for {'max_depth': 6, 'min_samples_leaf': 5, 'learning_rate': 0.1, 'max_features': 0.1}\n",
      "\n",
      "-0.000125 (+/-0.000134) for {'max_depth': 6, 'learning_rate': 0.1, 'min_samples_leaf': 9, 'max_features': 0.1}\n",
      "\n",
      "-0.000137 (+/-0.000147) for {'max_depth': 6, 'learning_rate': 0.1, 'min_samples_leaf': 17, 'max_features': 0.1}\n",
      "\n",
      "-0.000140 (+/-0.000162) for {'max_depth': 4, 'min_samples_leaf': 3, 'learning_rate': 0.05, 'max_features': 1.0}\n",
      "\n",
      "-0.000137 (+/-0.000153) for {'max_depth': 4, 'min_samples_leaf': 5, 'learning_rate': 0.05, 'max_features': 1.0}\n",
      "\n",
      "-0.000145 (+/-0.000166) for {'max_depth': 4, 'learning_rate': 0.05, 'min_samples_leaf': 9, 'max_features': 1.0}\n",
      "\n",
      "-0.000151 (+/-0.000176) for {'max_depth': 4, 'learning_rate': 0.05, 'min_samples_leaf': 17, 'max_features': 1.0}\n",
      "\n",
      "-0.000127 (+/-0.000144) for {'max_depth': 4, 'min_samples_leaf': 3, 'learning_rate': 0.05, 'max_features': 0.3}\n",
      "\n",
      "-0.000139 (+/-0.000154) for {'max_depth': 4, 'learning_rate': 0.05, 'min_samples_leaf': 5, 'max_features': 0.3}\n",
      "\n",
      "-0.000131 (+/-0.000129) for {'max_depth': 4, 'min_samples_leaf': 9, 'learning_rate': 0.05, 'max_features': 0.3}\n",
      "\n",
      "-0.000149 (+/-0.000171) for {'max_depth': 4, 'learning_rate': 0.05, 'min_samples_leaf': 17, 'max_features': 0.3}\n",
      "\n",
      "-0.000139 (+/-0.000161) for {'max_depth': 4, 'min_samples_leaf': 3, 'learning_rate': 0.05, 'max_features': 0.1}\n",
      "\n",
      "-0.000143 (+/-0.000150) for {'max_depth': 4, 'min_samples_leaf': 5, 'learning_rate': 0.05, 'max_features': 0.1}\n",
      "\n",
      "-0.000141 (+/-0.000148) for {'max_depth': 4, 'min_samples_leaf': 9, 'learning_rate': 0.05, 'max_features': 0.1}\n",
      "\n",
      "-0.000166 (+/-0.000188) for {'max_depth': 4, 'learning_rate': 0.05, 'min_samples_leaf': 17, 'max_features': 0.1}\n",
      "\n",
      "-0.000135 (+/-0.000151) for {'max_depth': 6, 'min_samples_leaf': 3, 'learning_rate': 0.05, 'max_features': 1.0}\n",
      "\n",
      "-0.000143 (+/-0.000152) for {'max_depth': 6, 'min_samples_leaf': 5, 'learning_rate': 0.05, 'max_features': 1.0}\n",
      "\n",
      "-0.000161 (+/-0.000190) for {'max_depth': 6, 'learning_rate': 0.05, 'min_samples_leaf': 9, 'max_features': 1.0}\n",
      "\n",
      "-0.000153 (+/-0.000197) for {'max_depth': 6, 'learning_rate': 0.05, 'min_samples_leaf': 17, 'max_features': 1.0}\n",
      "\n",
      "-0.000129 (+/-0.000161) for {'max_depth': 6, 'min_samples_leaf': 3, 'learning_rate': 0.05, 'max_features': 0.3}\n",
      "\n",
      "-0.000128 (+/-0.000147) for {'max_depth': 6, 'min_samples_leaf': 5, 'learning_rate': 0.05, 'max_features': 0.3}\n",
      "\n",
      "-0.000134 (+/-0.000149) for {'max_depth': 6, 'min_samples_leaf': 9, 'learning_rate': 0.05, 'max_features': 0.3}\n",
      "\n",
      "-0.000142 (+/-0.000169) for {'max_depth': 6, 'learning_rate': 0.05, 'min_samples_leaf': 17, 'max_features': 0.3}\n",
      "\n",
      "-0.000128 (+/-0.000140) for {'max_depth': 6, 'min_samples_leaf': 3, 'learning_rate': 0.05, 'max_features': 0.1}\n",
      "\n",
      "-0.000130 (+/-0.000152) for {'max_depth': 6, 'learning_rate': 0.05, 'min_samples_leaf': 5, 'max_features': 0.1}\n",
      "\n",
      "-0.000131 (+/-0.000143) for {'max_depth': 6, 'min_samples_leaf': 9, 'learning_rate': 0.05, 'max_features': 0.1}\n",
      "\n",
      "-0.000161 (+/-0.000178) for {'max_depth': 6, 'learning_rate': 0.05, 'min_samples_leaf': 17, 'max_features': 0.1}\n",
      "\n",
      "-0.000185 (+/-0.000223) for {'max_depth': 4, 'learning_rate': 0.02, 'min_samples_leaf': 3, 'max_features': 1.0}\n",
      "\n",
      "-0.000188 (+/-0.000226) for {'max_depth': 4, 'learning_rate': 0.02, 'min_samples_leaf': 5, 'max_features': 1.0}\n",
      "\n",
      "-0.000190 (+/-0.000229) for {'max_depth': 4, 'min_samples_leaf': 9, 'learning_rate': 0.02, 'max_features': 1.0}\n",
      "\n",
      "-0.000192 (+/-0.000240) for {'max_depth': 4, 'min_samples_leaf': 17, 'learning_rate': 0.02, 'max_features': 1.0}\n",
      "\n",
      "-0.000189 (+/-0.000221) for {'max_depth': 4, 'learning_rate': 0.02, 'min_samples_leaf': 3, 'max_features': 0.3}\n",
      "\n",
      "-0.000190 (+/-0.000205) for {'max_depth': 4, 'learning_rate': 0.02, 'min_samples_leaf': 5, 'max_features': 0.3}\n",
      "\n",
      "-0.000197 (+/-0.000210) for {'max_depth': 4, 'learning_rate': 0.02, 'min_samples_leaf': 9, 'max_features': 0.3}\n",
      "\n",
      "-0.000204 (+/-0.000237) for {'max_depth': 4, 'min_samples_leaf': 17, 'learning_rate': 0.02, 'max_features': 0.3}\n",
      "\n",
      "-0.000240 (+/-0.000253) for {'max_depth': 4, 'learning_rate': 0.02, 'min_samples_leaf': 3, 'max_features': 0.1}\n",
      "\n",
      "-0.000246 (+/-0.000275) for {'max_depth': 4, 'learning_rate': 0.02, 'min_samples_leaf': 5, 'max_features': 0.1}\n",
      "\n",
      "-0.000251 (+/-0.000262) for {'max_depth': 4, 'min_samples_leaf': 9, 'learning_rate': 0.02, 'max_features': 0.1}\n",
      "\n",
      "-0.000274 (+/-0.000279) for {'max_depth': 4, 'min_samples_leaf': 17, 'learning_rate': 0.02, 'max_features': 0.1}\n",
      "\n",
      "-0.000164 (+/-0.000208) for {'max_depth': 6, 'learning_rate': 0.02, 'min_samples_leaf': 3, 'max_features': 1.0}\n",
      "\n",
      "-0.000170 (+/-0.000200) for {'max_depth': 6, 'min_samples_leaf': 5, 'learning_rate': 0.02, 'max_features': 1.0}\n",
      "\n",
      "-0.000181 (+/-0.000208) for {'max_depth': 6, 'learning_rate': 0.02, 'min_samples_leaf': 9, 'max_features': 1.0}\n",
      "\n",
      "-0.000184 (+/-0.000252) for {'max_depth': 6, 'learning_rate': 0.02, 'min_samples_leaf': 17, 'max_features': 1.0}\n",
      "\n",
      "-0.000163 (+/-0.000200) for {'max_depth': 6, 'min_samples_leaf': 3, 'learning_rate': 0.02, 'max_features': 0.3}\n",
      "\n",
      "-0.000167 (+/-0.000212) for {'max_depth': 6, 'learning_rate': 0.02, 'min_samples_leaf': 5, 'max_features': 0.3}\n",
      "\n",
      "-0.000174 (+/-0.000210) for {'max_depth': 6, 'learning_rate': 0.02, 'min_samples_leaf': 9, 'max_features': 0.3}\n",
      "\n",
      "-0.000181 (+/-0.000227) for {'max_depth': 6, 'learning_rate': 0.02, 'min_samples_leaf': 17, 'max_features': 0.3}\n",
      "\n",
      "-0.000193 (+/-0.000237) for {'max_depth': 6, 'learning_rate': 0.02, 'min_samples_leaf': 3, 'max_features': 0.1}\n",
      "\n",
      "-0.000203 (+/-0.000227) for {'max_depth': 6, 'learning_rate': 0.02, 'min_samples_leaf': 5, 'max_features': 0.1}\n",
      "\n",
      "-0.000207 (+/-0.000224) for {'max_depth': 6, 'learning_rate': 0.02, 'min_samples_leaf': 9, 'max_features': 0.1}\n",
      "\n",
      "-0.000236 (+/-0.000270) for {'max_depth': 6, 'min_samples_leaf': 17, 'learning_rate': 0.02, 'max_features': 0.1}\n",
      "\n",
      "-0.000290 (+/-0.000338) for {'max_depth': 4, 'learning_rate': 0.01, 'min_samples_leaf': 3, 'max_features': 1.0}\n",
      "\n",
      "-0.000283 (+/-0.000312) for {'max_depth': 4, 'learning_rate': 0.01, 'min_samples_leaf': 5, 'max_features': 1.0}\n",
      "\n",
      "-0.000289 (+/-0.000303) for {'max_depth': 4, 'learning_rate': 0.01, 'min_samples_leaf': 9, 'max_features': 1.0}\n",
      "\n",
      "-0.000299 (+/-0.000341) for {'max_depth': 4, 'learning_rate': 0.01, 'min_samples_leaf': 17, 'max_features': 1.0}\n",
      "\n",
      "-0.000310 (+/-0.000312) for {'max_depth': 4, 'min_samples_leaf': 3, 'learning_rate': 0.01, 'max_features': 0.3}\n",
      "\n",
      "-0.000311 (+/-0.000314) for {'max_depth': 4, 'min_samples_leaf': 5, 'learning_rate': 0.01, 'max_features': 0.3}\n",
      "\n",
      "-0.000312 (+/-0.000311) for {'max_depth': 4, 'learning_rate': 0.01, 'min_samples_leaf': 9, 'max_features': 0.3}\n",
      "\n",
      "-0.000326 (+/-0.000323) for {'max_depth': 4, 'learning_rate': 0.01, 'min_samples_leaf': 17, 'max_features': 0.3}\n",
      "\n",
      "-0.000387 (+/-0.000373) for {'max_depth': 4, 'min_samples_leaf': 3, 'learning_rate': 0.01, 'max_features': 0.1}\n",
      "\n",
      "-0.000383 (+/-0.000366) for {'max_depth': 4, 'min_samples_leaf': 5, 'learning_rate': 0.01, 'max_features': 0.1}\n",
      "\n",
      "-0.000394 (+/-0.000357) for {'max_depth': 4, 'learning_rate': 0.01, 'min_samples_leaf': 9, 'max_features': 0.1}\n",
      "\n",
      "-0.000413 (+/-0.000390) for {'max_depth': 4, 'learning_rate': 0.01, 'min_samples_leaf': 17, 'max_features': 0.1}\n",
      "\n",
      "-0.000246 (+/-0.000307) for {'max_depth': 6, 'min_samples_leaf': 3, 'learning_rate': 0.01, 'max_features': 1.0}\n",
      "\n",
      "-0.000246 (+/-0.000293) for {'max_depth': 6, 'learning_rate': 0.01, 'min_samples_leaf': 5, 'max_features': 1.0}\n",
      "\n",
      "-0.000265 (+/-0.000289) for {'max_depth': 6, 'min_samples_leaf': 9, 'learning_rate': 0.01, 'max_features': 1.0}\n",
      "\n",
      "-0.000283 (+/-0.000322) for {'max_depth': 6, 'min_samples_leaf': 17, 'learning_rate': 0.01, 'max_features': 1.0}\n",
      "\n",
      "-0.000259 (+/-0.000298) for {'max_depth': 6, 'learning_rate': 0.01, 'min_samples_leaf': 3, 'max_features': 0.3}\n",
      "\n",
      "-0.000266 (+/-0.000295) for {'max_depth': 6, 'learning_rate': 0.01, 'min_samples_leaf': 5, 'max_features': 0.3}\n",
      "\n",
      "-0.000277 (+/-0.000302) for {'max_depth': 6, 'min_samples_leaf': 9, 'learning_rate': 0.01, 'max_features': 0.3}\n",
      "\n",
      "-0.000295 (+/-0.000321) for {'max_depth': 6, 'min_samples_leaf': 17, 'learning_rate': 0.01, 'max_features': 0.3}\n",
      "\n",
      "-0.000323 (+/-0.000323) for {'max_depth': 6, 'learning_rate': 0.01, 'min_samples_leaf': 3, 'max_features': 0.1}\n",
      "\n",
      "-0.000330 (+/-0.000326) for {'max_depth': 6, 'min_samples_leaf': 5, 'learning_rate': 0.01, 'max_features': 0.1}\n",
      "\n",
      "-0.000335 (+/-0.000354) for {'max_depth': 6, 'learning_rate': 0.01, 'min_samples_leaf': 9, 'max_features': 0.1}\n",
      "\n",
      "-0.000364 (+/-0.000367) for {'max_depth': 6, 'learning_rate': 0.01, 'min_samples_leaf': 17, 'max_features': 0.1}\n",
      "\n"
     ]
    }
   ],
   "source": [
    "from sklearn import ensemble\n",
    "from sklearn import datasets\n",
    "from sklearn.utils import shuffle\n",
    "from sklearn.metrics import mean_squared_error\n",
    "from matplotlib import pyplot as plt\n",
    "from sklearn.grid_search import GridSearchCV\n",
    "\n",
    "param_grid = {'learning_rate': [0.1, 0.05, 0.02, 0.01],\n",
    "              'max_depth': [4, 6],\n",
    "              'min_samples_leaf': [3, 5, 9, 17],\n",
    "              'max_features': [1.0, 0.3, 0.1]\n",
    "              }\n",
    "# param_grid = {'learning_rate': [0.1],\n",
    "#               'max_depth': [4],\n",
    "#               'min_samples_leaf': [3],\n",
    "#               'max_features': [1.0],\n",
    "#               }\n",
    "\n",
    "#http://scikit-learn.org/stable/modules/generated/sklearn.grid_search.GridSearchCV.html#sklearn.grid_search.GridSearchCV\n",
    "#http://scikit-learn.org/stable/modules/model_evaluation.html#scoring-parameter\n",
    "#training file is huge so using non-repeated 5 cv is sufficient\n",
    "est = GridSearchCV(ensemble.GradientBoostingRegressor(n_estimators=100),\n",
    "                   param_grid, n_jobs=4, refit=True, cv = 5,scoring='mean_squared_error')\n",
    "\n",
    "\n",
    "# Create an acceptable formula for our machine learning algorithms\n",
    "formula_ml = 'int_rate ~ loan_amt '\n",
    "for i in range(2,len(df.columns)):\n",
    "    \n",
    "    if str(df.dtypes[i]) == 'object': \n",
    "        formula_ml = formula_ml + ' + ' + 'C(' + df.columns[i] + ')'\n",
    "    elif (str(df.dtypes[i]) == 'float64') | (str(df.dtypes[i]) == 'float32'):\n",
    "        formula_ml = formula_ml + ' + ' + df.columns[i]\n",
    "        \n",
    "# import the machine learning library that holds the randomforest\n",
    "import sklearn.ensemble as ske\n",
    "\n",
    "# Create the random forest model and fit the model to our training data\n",
    "y, x = dmatrices(formula_ml, data=df, return_type='dataframe')\n",
    "y = np.asarray(y).ravel()\n",
    "\n",
    "# For prototype build, only use a tiny portion to test to save time\n",
    "testet = int(x.shape[0] * 0.05)\n",
    "x,y =  x[:testet], y[:testet]\n",
    "\n",
    "## Split data for testing and training\n",
    "offset = int(x.shape[0] * 0.75)\n",
    "X_train, y_train = x[:offset], y[:offset]\n",
    "X_test, y_test = x[offset:], y[offset:]\n",
    "\n",
    "#instantiate and fit our model\n",
    "est.fit(X_train, y_train)\n",
    "\n",
    "# Tuning parameter phase, using \n",
    "#http://scikit-learn.org/stable/auto_examples/model_selection/grid_search_digits.html\n",
    "print(\"Best parameters set found on development set:\")\n",
    "print()\n",
    "print(est.best_params_)\n",
    "print()\n",
    "print(\"It has the best score of %f\" %est.best_score_ )\n",
    "print()\n",
    "print(\"Grid scores on development set:\")\n",
    "print()\n",
    "for params, mean_score, scores in est.grid_scores_:\n",
    "    print(\"%0.6f (+/-%0.06f) for %r\"\n",
    "            % (mean_score, scores.std() * 2, params))\n",
    "    print()    \n",
    "## TO-DO: draw plots to visualize the scores e.g. http://scikit-learn.org/stable/auto_examples/svm/plot_rbf_parameters.html\n"
   ]
  },
  {
   "cell_type": "code",
   "execution_count": 43,
   "metadata": {
    "collapsed": false
   },
   "outputs": [
    {
     "name": "stdout",
     "output_type": "stream",
     "text": [
      "MSE: 0.0001\n"
     ]
    },
    {
     "ename": "IndexError",
     "evalue": "index 82 is out of bounds for axis 1 with size 22",
     "output_type": "error",
     "traceback": [
      "\u001b[1;31m---------------------------------------------------------------------------\u001b[0m",
      "\u001b[1;31mIndexError\u001b[0m                                Traceback (most recent call last)",
      "\u001b[1;32m<ipython-input-43-a3a81c014eab>\u001b[0m in \u001b[0;36m<module>\u001b[1;34m()\u001b[0m\n\u001b[0;32m     39\u001b[0m \u001b[0mplt\u001b[0m\u001b[1;33m.\u001b[0m\u001b[0msubplot\u001b[0m\u001b[1;33m(\u001b[0m\u001b[1;36m1\u001b[0m\u001b[1;33m,\u001b[0m \u001b[1;36m2\u001b[0m\u001b[1;33m,\u001b[0m \u001b[1;36m2\u001b[0m\u001b[1;33m)\u001b[0m\u001b[1;33m\u001b[0m\u001b[0m\n\u001b[0;32m     40\u001b[0m \u001b[0mplt\u001b[0m\u001b[1;33m.\u001b[0m\u001b[0mbarh\u001b[0m\u001b[1;33m(\u001b[0m\u001b[0mpos\u001b[0m\u001b[1;33m,\u001b[0m \u001b[0mfeature_importance\u001b[0m\u001b[1;33m[\u001b[0m\u001b[0msorted_idx\u001b[0m\u001b[1;33m]\u001b[0m\u001b[1;33m,\u001b[0m \u001b[0malign\u001b[0m\u001b[1;33m=\u001b[0m\u001b[1;34m'center'\u001b[0m\u001b[1;33m)\u001b[0m\u001b[1;33m\u001b[0m\u001b[0m\n\u001b[1;32m---> 41\u001b[1;33m \u001b[0mplt\u001b[0m\u001b[1;33m.\u001b[0m\u001b[0myticks\u001b[0m\u001b[1;33m(\u001b[0m\u001b[0mpos\u001b[0m\u001b[1;33m,\u001b[0m \u001b[0mnp\u001b[0m\u001b[1;33m.\u001b[0m\u001b[0marray\u001b[0m\u001b[1;33m(\u001b[0m\u001b[0mdf\u001b[0m\u001b[1;33m.\u001b[0m\u001b[0mcolumns\u001b[0m\u001b[1;33m)\u001b[0m\u001b[1;33m[\u001b[0m\u001b[0msorted_idx\u001b[0m\u001b[1;33m]\u001b[0m\u001b[1;33m)\u001b[0m\u001b[1;33m\u001b[0m\u001b[0m\n\u001b[0m\u001b[0;32m     42\u001b[0m \u001b[0mplt\u001b[0m\u001b[1;33m.\u001b[0m\u001b[0mxlabel\u001b[0m\u001b[1;33m(\u001b[0m\u001b[1;34m'Relative Importance'\u001b[0m\u001b[1;33m)\u001b[0m\u001b[1;33m\u001b[0m\u001b[0m\n\u001b[0;32m     43\u001b[0m \u001b[0mplt\u001b[0m\u001b[1;33m.\u001b[0m\u001b[0mtitle\u001b[0m\u001b[1;33m(\u001b[0m\u001b[1;34m'Variable Importance'\u001b[0m\u001b[1;33m)\u001b[0m\u001b[1;33m\u001b[0m\u001b[0m\n",
      "\u001b[1;31mIndexError\u001b[0m: index 82 is out of bounds for axis 1 with size 22"
     ]
    },
    {
     "data": {
      "image/png": "[encoded data removed]",
      "text/plain": [
       "<matplotlib.figure.Figure at 0x110aea90>"
      ]
     },
     "metadata": {},
     "output_type": "display_data"
    }
   ],
   "source": [
    "## Evaluate model using tuned parameter\n",
    "#: http://scikit-learn.org/stable/auto_examples/ensemble/plot_gradient_boosting_regression.html variable importance\n",
    "# Fit G boosting model using the tuned selected parameter set\n",
    "clf = ensemble.GradientBoostingRegressor(n_estimators=2000,**est.best_params_)\n",
    "\n",
    "clf.fit(X_train, y_train)\n",
    "mse = mean_squared_error(y_test, clf.predict(X_test))\n",
    "print(\"MSE: %.4f\" % mse)\n",
    "\n",
    "params['n_estimators'] = 2000\n",
    "\n",
    "###############################################################################\n",
    "# Plot training deviance\n",
    "\n",
    "# compute test set deviance\n",
    "test_score = np.zeros((params['n_estimators'],), dtype=np.float64)\n",
    "\n",
    "for i, y_pred in enumerate(clf.staged_predict(X_test)):\n",
    "    test_score[i] = clf.loss_(y_test, y_pred)\n",
    "\n",
    "plt.figure(figsize=(12, 6))\n",
    "plt.subplot(1, 2, 1)\n",
    "plt.title('Deviance')\n",
    "plt.plot(np.arange(params['n_estimators']) + 1, clf.train_score_, 'b-',\n",
    "         label='Training Set Deviance')\n",
    "plt.plot(np.arange(params['n_estimators']) + 1, test_score, 'r-',\n",
    "         label='Test Set Deviance')\n",
    "plt.legend(loc='upper right')\n",
    "plt.xlabel('Boosting Iterations')\n",
    "plt.ylabel('Deviance')\n",
    "\n",
    "###############################################################################\n",
    "# Plot feature importance\n",
    "feature_importance = clf.feature_importances_\n",
    "# make importances relative to max importance\n",
    "feature_importance = 100.0 * (feature_importance / feature_importance.max())\n",
    "sorted_idx = np.argsort(feature_importance)[-20:]\n",
    "pos = np.arange(sorted_idx.shape[0]) + .5\n",
    "plt.subplot(1, 2, 2)\n",
    "plt.barh(pos, feature_importance[sorted_idx], align='center')\n",
    "plt.yticks(pos, np.array(df.columns)[sorted_idx])\n",
    "plt.xlabel('Relative Importance')\n",
    "plt.title('Variable Importance')\n",
    "plt.show()"
   ]
  },
  {
   "cell_type": "code",
   "execution_count": 46,
   "metadata": {
    "collapsed": false
   },
   "outputs": [
    {
     "data": {
      "text/plain": [
       "array(['int_rate', 'loan_amt', 'term', 'grade', 'subgrade', 'emp_length',\n",
       "       'home_ownership', 'annual_inc', 'verification_status', 'issue_d',\n",
       "       'loan_cat', 'state', 'dti', 'delinq_2yrs', 'earliest_cr_line',\n",
       "       'inq_last_6mths', 'mths_since_last_record', 'num_opencr_line',\n",
       "       'num_der_rec', 'revol_bal', 'revol_util', 'init_list_status'], dtype=object)"
      ]
     },
     "execution_count": 46,
     "metadata": {},
     "output_type": "execute_result"
    }
   ],
   "source": [
    "np.array(df.columns)"
   ]
  },
  {
   "cell_type": "code",
   "execution_count": 45,
   "metadata": {
    "collapsed": false
   },
   "outputs": [
    {
     "data": {
      "text/plain": [
       "123"
      ]
     },
     "execution_count": 45,
     "metadata": {},
     "output_type": "execute_result"
    }
   ],
   "source": [
    "len(feature_importance)"
   ]
  },
  {
   "cell_type": "code",
   "execution_count": 57,
   "metadata": {
    "collapsed": true
   },
   "outputs": [],
   "source": [
    "## Create dummy variables for linear regression\n",
    "df = pd.get_dummies(df)\n",
    "\n",
    "## Drop NaN values, another option is to impute\n",
    "df = df.dropna()\n",
    "# reset index\n",
    "df = df.reset_index(drop=True)"
   ]
  },
  {
   "cell_type": "code",
   "execution_count": 71,
   "metadata": {
    "collapsed": false
   },
   "outputs": [],
   "source": [
    "y = df.int_rate.values\n",
    "y = np.asarray(y).ravel()\n",
    "\n",
    "df2 = df.copy()\n",
    "df2.drop('int_rate',axis = 1, inplace=True)\n",
    "\n",
    "x, y = shuffle(df2.values, y, random_state=30)"
   ]
  },
  {
   "cell_type": "code",
   "execution_count": 95,
   "metadata": {
    "collapsed": false,
    "scrolled": true
   },
   "outputs": [
    {
     "name": "stdout",
     "output_type": "stream",
     "text": [
      "Best parameters set found on development set:\n",
      "\n",
      "{'alpha': 0.05}\n",
      "\n",
      "It has the best score of -0.001296\n",
      "\n",
      "Grid scores on development set:\n",
      "\n",
      "-0.001309 (+/-0.001078) for {'alpha': 0.1}\n",
      "\n",
      "-0.001296 (+/-0.000806) for {'alpha': 0.05}\n",
      "\n",
      "-0.001367 (+/-0.000800) for {'alpha': 0.02}\n",
      "\n",
      "-0.001408 (+/-0.000827) for {'alpha': 0.01}\n",
      "\n"
     ]
    }
   ],
   "source": [
    "from sklearn import linear_model\n",
    "\n",
    "\n",
    "param_grid = {'alpha': [0.1, 0.05, 0.02, 0.01],\n",
    "              }\n",
    "# http://scikit-learn.org/stable/modules/linear_model.html # using lasso\n",
    "est = GridSearchCV(linear_model.Lasso(),\n",
    "                   param_grid, n_jobs=4, refit=True, cv = 5,scoring='mean_squared_error')\n",
    "est.fit(X_train, y_train)\n",
    "\n",
    "# Tuning parameter phase, using \n",
    "#http://scikit-learn.org/stable/auto_examples/model_selection/grid_search_digits.html\n",
    "print(\"Best parameters set found on development set:\")\n",
    "print()\n",
    "print(est.best_params_)\n",
    "print()\n",
    "print(\"It has the best score of %f\" %est.best_score_ )\n",
    "print()\n",
    "print(\"Grid scores on development set:\")\n",
    "print()\n",
    "for params, mean_score, scores in est.grid_scores_:\n",
    "    print(\"%0.6f (+/-%0.06f) for %r\"\n",
    "            % (mean_score, scores.std() * 2, params))\n",
    "    print()    "
   ]
  },
  {
   "cell_type": "code",
   "execution_count": 111,
   "metadata": {
    "collapsed": false
   },
   "outputs": [
    {
     "name": "stdout",
     "output_type": "stream",
     "text": [
      "Best parameters set found on development set:\n",
      "\n",
      "{'alpha': 0.1}\n",
      "\n",
      "It has the best score of -0.000892\n",
      "\n",
      "Grid scores on development set:\n",
      "\n",
      "-0.000892 (+/-0.000514) for {'alpha': 0.1}\n",
      "\n",
      "-0.000975 (+/-0.000623) for {'alpha': 0.05}\n",
      "\n",
      "-0.001047 (+/-0.000710) for {'alpha': 0.02}\n",
      "\n",
      "-0.001077 (+/-0.000743) for {'alpha': 0.01}\n",
      "\n"
     ]
    }
   ],
   "source": [
    "from sklearn import linear_model\n",
    "\n",
    "\n",
    "param_grid = {'alpha': [0.1, 0.05, 0.02, 0.01],\n",
    "              }\n",
    "# http://scikit-learn.org/stable/modules/linear_model.html using Ridge\n",
    "est = GridSearchCV(linear_model.Ridge(),\n",
    "                   param_grid, n_jobs=4, refit=True, cv = 5,scoring='mean_squared_error')\n",
    "est.fit(X_train, y_train)\n",
    "\n",
    "# Tuning parameter phase, using \n",
    "#http://scikit-learn.org/stable/auto_examples/model_selection/grid_search_digits.html\n",
    "print(\"Best parameters set found on development set:\")\n",
    "print()\n",
    "print(est.best_params_)\n",
    "print()\n",
    "print(\"It has the best score of %f\" %est.best_score_ )\n",
    "print()\n",
    "print(\"Grid scores on development set:\")\n",
    "print()\n",
    "for params, mean_score, scores in est.grid_scores_:\n",
    "    print(\"%0.6f (+/-%0.06f) for %r\"\n",
    "            % (mean_score, scores.std() * 2, params))\n",
    "    print()    "
   ]
  },
  {
   "cell_type": "code",
   "execution_count": 112,
   "metadata": {
    "collapsed": false
   },
   "outputs": [
    {
     "name": "stdout",
     "output_type": "stream",
     "text": [
      "MSE: 0.001100\n"
     ]
    }
   ],
   "source": [
    "clf = linear_model.Lasso(**est.best_params_)\n",
    "\n",
    "clf.fit(X_train, y_train)\n",
    "mse = mean_squared_error(y_test, clf.predict(X_test))\n",
    "print(\"MSE: %.6f\" % mse)\n"
   ]
  },
  {
   "cell_type": "code",
   "execution_count": 109,
   "metadata": {
    "collapsed": false
   },
   "outputs": [
    {
     "name": "stdout",
     "output_type": "stream",
     "text": [
      "MSE: 0.001118\n"
     ]
    }
   ],
   "source": [
    "clf = linear_model.ElasticNetCV()\n",
    "clf.fit(X_train, y_train)\n",
    "mse = mean_squared_error(y_test, clf.predict(X_test))\n",
    "print(\"MSE: %.6f\" % mse)"
   ]
  },
  {
   "cell_type": "code",
   "execution_count": 114,
   "metadata": {
    "collapsed": false
   },
   "outputs": [
    {
     "name": "stdout",
     "output_type": "stream",
     "text": [
      "Computing regularization path using the lasso...\n",
      "Computing regularization path using the positive lasso...\n",
      "Computing regularization path using the elastic net...\n",
      "Computing regularization path using the positve elastic net...\n"
     ]
    },
    {
     "data": {
      "image/png": "[encoded data removed]",
      "text/plain": [
       "<matplotlib.figure.Figure at 0x10651fd0>"
      ]
     },
     "metadata": {},
     "output_type": "display_data"
    },
    {
     "data": {
      "image/png": "[encoded data removed]",
      "text/plain": [
       "<matplotlib.figure.Figure at 0x17e1d208>"
      ]
     },
     "metadata": {},
     "output_type": "display_data"
    },
    {
     "data": {
      "image/png": "[encoded data removed]",
      "text/plain": [
       "<matplotlib.figure.Figure at 0x105eb2e8>"
      ]
     },
     "metadata": {},
     "output_type": "display_data"
    }
   ],
   "source": [
    "#http://scikit-learn.org/stable/auto_examples/linear_model/plot_lasso_coordinate_descent_path.html\n",
    "\n",
    "import numpy as np\n",
    "import matplotlib.pyplot as plt\n",
    "\n",
    "from sklearn.linear_model import lasso_path, enet_path\n",
    "from sklearn import datasets\n",
    "\n",
    "# diabetes = datasets.load_diabetes()\n",
    "# X = diabetes.data\n",
    "# y = diabetes.target\n",
    "\n",
    "# X /= X.std(axis=0)  # Standardize data (easier to set the l1_ratio parameter)\n",
    "\n",
    "# Compute paths\n",
    "\n",
    "eps = 5e-3  # the smaller it is the longer is the path\n",
    "\n",
    "print(\"Computing regularization path using the lasso...\")\n",
    "alphas_lasso, coefs_lasso, _ = lasso_path(X_train, y_train, eps, fit_intercept=False)\n",
    "\n",
    "print(\"Computing regularization path using the positive lasso...\")\n",
    "alphas_positive_lasso, coefs_positive_lasso, _ = lasso_path(\n",
    "    X_train, y_train, eps, positive=True, fit_intercept=False)\n",
    "print(\"Computing regularization path using the elastic net...\")\n",
    "alphas_enet, coefs_enet, _ = enet_path(\n",
    "    X_train, y_train, eps=eps, l1_ratio=0.8, fit_intercept=False)\n",
    "\n",
    "print(\"Computing regularization path using the positve elastic net...\")\n",
    "alphas_positive_enet, coefs_positive_enet, _ = enet_path(\n",
    "    X_train, y_train, eps=eps, l1_ratio=0.8, positive=True, fit_intercept=False)\n",
    "\n",
    "# Display results\n",
    "\n",
    "plt.figure(1)\n",
    "ax = plt.gca()\n",
    "ax.set_color_cycle(2 * ['b', 'r', 'g', 'c', 'k'])\n",
    "l1 = plt.plot(-np.log10(alphas_lasso), coefs_lasso.T)\n",
    "l2 = plt.plot(-np.log10(alphas_enet), coefs_enet.T, linestyle='--')\n",
    "\n",
    "plt.xlabel('-Log(alpha)')\n",
    "plt.ylabel('coefficients')\n",
    "plt.title('Lasso and Elastic-Net Paths')\n",
    "plt.legend((l1[-1], l2[-1]), ('Lasso', 'Elastic-Net'), loc='lower left')\n",
    "plt.axis('tight')\n",
    "\n",
    "\n",
    "plt.figure(2)\n",
    "ax = plt.gca()\n",
    "ax.set_color_cycle(2 * ['b', 'r', 'g', 'c', 'k'])\n",
    "l1 = plt.plot(-np.log10(alphas_lasso), coefs_lasso.T)\n",
    "l2 = plt.plot(-np.log10(alphas_positive_lasso), coefs_positive_lasso.T,\n",
    "              linestyle='--')\n",
    "\n",
    "plt.xlabel('-Log(alpha)')\n",
    "plt.ylabel('coefficients')\n",
    "plt.title('Lasso and positive Lasso')\n",
    "plt.legend((l1[-1], l2[-1]), ('Lasso', 'positive Lasso'), loc='lower left')\n",
    "plt.axis('tight')\n",
    "\n",
    "\n",
    "plt.figure(3)\n",
    "ax = plt.gca()\n",
    "ax.set_color_cycle(2 * ['b', 'r', 'g', 'c', 'k'])\n",
    "l1 = plt.plot(-np.log10(alphas_enet), coefs_enet.T)\n",
    "l2 = plt.plot(-np.log10(alphas_positive_enet), coefs_positive_enet.T,\n",
    "              linestyle='--')\n",
    "\n",
    "plt.xlabel('-Log(alpha)')\n",
    "plt.ylabel('coefficients')\n",
    "plt.title('Elastic-Net and positive Elastic-Net')\n",
    "plt.legend((l1[-1], l2[-1]), ('Elastic-Net', 'positive Elastic-Net'),\n",
    "           loc='lower left')\n",
    "plt.axis('tight')\n",
    "plt.show()\n"
   ]
  },
  {
   "cell_type": "code",
   "execution_count": 98,
   "metadata": {
    "collapsed": false
   },
   "outputs": [
    {
     "data": {
      "text/plain": [
       "array([ -3.92075222e-07,   2.47945783e-03,   0.00000000e+00,\n",
       "         2.62971076e-08,  -0.00000000e+00,  -0.00000000e+00,\n",
       "        -0.00000000e+00,  -0.00000000e+00,   0.00000000e+00,\n",
       "        -7.16029807e-05,  -0.00000000e+00,   0.00000000e+00,\n",
       "        -4.47248176e-07,   0.00000000e+00,   0.00000000e+00,\n",
       "        -0.00000000e+00,  -0.00000000e+00,   0.00000000e+00,\n",
       "         0.00000000e+00,   0.00000000e+00,   0.00000000e+00,\n",
       "         0.00000000e+00,   0.00000000e+00,   0.00000000e+00,\n",
       "         0.00000000e+00,   0.00000000e+00,  -0.00000000e+00,\n",
       "        -0.00000000e+00,  -0.00000000e+00,  -0.00000000e+00,\n",
       "         0.00000000e+00,  -0.00000000e+00,  -0.00000000e+00,\n",
       "        -0.00000000e+00,  -0.00000000e+00,  -0.00000000e+00,\n",
       "         0.00000000e+00,   0.00000000e+00,   0.00000000e+00,\n",
       "        -0.00000000e+00,   0.00000000e+00,   0.00000000e+00,\n",
       "         0.00000000e+00,   0.00000000e+00,   0.00000000e+00,\n",
       "         0.00000000e+00,   0.00000000e+00,   0.00000000e+00,\n",
       "         0.00000000e+00,   0.00000000e+00,   0.00000000e+00,\n",
       "         0.00000000e+00,   0.00000000e+00,   0.00000000e+00,\n",
       "         0.00000000e+00,   0.00000000e+00,   0.00000000e+00,\n",
       "        -0.00000000e+00,   0.00000000e+00,   0.00000000e+00,\n",
       "         0.00000000e+00,   0.00000000e+00,   0.00000000e+00,\n",
       "        -0.00000000e+00,  -0.00000000e+00,   0.00000000e+00,\n",
       "        -0.00000000e+00,  -0.00000000e+00,   0.00000000e+00,\n",
       "         0.00000000e+00,   0.00000000e+00,  -0.00000000e+00,\n",
       "        -0.00000000e+00,   0.00000000e+00,   0.00000000e+00,\n",
       "         0.00000000e+00,   0.00000000e+00,   0.00000000e+00,\n",
       "         0.00000000e+00,   0.00000000e+00,  -0.00000000e+00,\n",
       "         0.00000000e+00,  -0.00000000e+00,   0.00000000e+00,\n",
       "         0.00000000e+00,   0.00000000e+00,   0.00000000e+00,\n",
       "        -0.00000000e+00,   0.00000000e+00,   0.00000000e+00,\n",
       "         0.00000000e+00,   0.00000000e+00,   0.00000000e+00,\n",
       "        -0.00000000e+00,   0.00000000e+00,   0.00000000e+00,\n",
       "         0.00000000e+00,   0.00000000e+00,  -0.00000000e+00,\n",
       "         0.00000000e+00,   0.00000000e+00,   0.00000000e+00,\n",
       "        -0.00000000e+00,   0.00000000e+00,   0.00000000e+00,\n",
       "         0.00000000e+00,   0.00000000e+00,   0.00000000e+00,\n",
       "        -0.00000000e+00,   0.00000000e+00,   0.00000000e+00,\n",
       "        -0.00000000e+00,  -0.00000000e+00,  -0.00000000e+00,\n",
       "         0.00000000e+00,  -0.00000000e+00,  -0.00000000e+00,\n",
       "         0.00000000e+00,  -0.00000000e+00,   0.00000000e+00,\n",
       "        -0.00000000e+00,   0.00000000e+00,   0.00000000e+00,\n",
       "         0.00000000e+00,   0.00000000e+00,   0.00000000e+00,\n",
       "         0.00000000e+00,  -0.00000000e+00,  -0.00000000e+00,\n",
       "        -0.00000000e+00,   0.00000000e+00])"
      ]
     },
     "execution_count": 98,
     "metadata": {},
     "output_type": "execute_result"
    }
   ],
   "source": [
    "clf.coef_"
   ]
  },
  {
   "cell_type": "code",
   "execution_count": 99,
   "metadata": {
    "collapsed": false
   },
   "outputs": [
    {
     "data": {
      "text/plain": [
       "array([ 0.14229965,  0.19699317,  0.20253809,  0.14194569,  0.1475503 ,\n",
       "        0.15045875,  0.19376489,  0.20830351,  0.14083601,  0.15208268,\n",
       "        0.20140166,  0.14456354,  0.14691581,  0.15229998,  0.14118439,\n",
       "        0.14359178,  0.14539271,  0.14509416,  0.15449851,  0.20864885,\n",
       "        0.15360931,  0.13850081,  0.14059863])"
      ]
     },
     "execution_count": 99,
     "metadata": {},
     "output_type": "execute_result"
    }
   ],
   "source": [
    "clf.predict(X_test)"
   ]
  },
  {
   "cell_type": "code",
   "execution_count": 100,
   "metadata": {
    "collapsed": false
   },
   "outputs": [
    {
     "data": {
      "text/plain": [
       "array([ 0.1249,  0.1825,  0.202 ,  0.1199,  0.1299,  0.1416,  0.1699,\n",
       "        0.1757,  0.162 ,  0.1699,  0.1757,  0.202 ,  0.1299,  0.0976,\n",
       "        0.1311,  0.1757,  0.1249,  0.2215,  0.1099,  0.1449,  0.1499,\n",
       "        0.1235,  0.0999])"
      ]
     },
     "execution_count": 100,
     "metadata": {},
     "output_type": "execute_result"
    }
   ],
   "source": [
    "y_test"
   ]
  },
  {
   "cell_type": "code",
   "execution_count": null,
   "metadata": {
    "collapsed": true
   },
   "outputs": [],
   "source": [
    "#TO-DO compare two models http://scikit-learn.org/stable/auto_examples/plot_kernel_ridge_regression.html\n",
    "#      include training and predicting time"
   ]
  }
 ],
 "metadata": {
  "kernelspec": {
   "display_name": "Python 3",
   "language": "python",
   "name": "python3"
  },
  "language_info": {
   "codemirror_mode": {
    "name": "ipython",
    "version": 3
   },
   "file_extension": ".py",
   "mimetype": "text/x-python",
   "name": "python",
   "nbconvert_exporter": "python",
   "pygments_lexer": "ipython3",
   "version": "3.4.3"
  }
 },
 "nbformat": 4,
 "nbformat_minor": 0
}
