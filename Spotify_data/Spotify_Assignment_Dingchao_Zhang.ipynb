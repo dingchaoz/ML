{
 "cells": [
  {
   "cell_type": "code",
   "execution_count": 1,
   "metadata": {
    "collapsed": true
   },
   "outputs": [],
   "source": [
    "import pandas as pd\n",
    "import numpy as np\n",
    "import matplotlib.pyplot as plt\n",
    "%matplotlib inline"
   ]
  },
  {
   "cell_type": "code",
   "execution_count": 5,
   "metadata": {
    "collapsed": true
   },
   "outputs": [],
   "source": [
    "df_songs = pd.read_csv(\"end_song_sample.csv\")\n",
    "df_users = pd.read_csv(\"user_data_sample.csv\")"
   ]
  },
  {
   "cell_type": "code",
   "execution_count": 15,
   "metadata": {
    "collapsed": false
   },
   "outputs": [],
   "source": [
    "df = pd.merge(df_songs,df_users, on = 'user_id')"
   ]
  },
  {
   "cell_type": "code",
   "execution_count": 16,
   "metadata": {
    "collapsed": false,
    "scrolled": true
   },
   "outputs": [
    {
     "data": {
      "text/html": [
       "<div>\n",
       "<table border=\"1\" class=\"dataframe\">\n",
       "  <thead>\n",
       "    <tr style=\"text-align: right;\">\n",
       "      <th></th>\n",
       "      <th>ms_played</th>\n",
       "      <th>context</th>\n",
       "      <th>track_id</th>\n",
       "      <th>product</th>\n",
       "      <th>end_timestamp</th>\n",
       "      <th>user_id</th>\n",
       "      <th>gender</th>\n",
       "      <th>age_range</th>\n",
       "      <th>country</th>\n",
       "      <th>acct_age_weeks</th>\n",
       "    </tr>\n",
       "  </thead>\n",
       "  <tbody>\n",
       "    <tr>\n",
       "      <th>0</th>\n",
       "      <td>330962</td>\n",
       "      <td>album</td>\n",
       "      <td>2ab4f3b3a6c34fbaba95c2451b65efbd</td>\n",
       "      <td>open</td>\n",
       "      <td>1.444790e+09</td>\n",
       "      <td>a9abbb14c8544898a0e06feb94f8051e</td>\n",
       "      <td>male</td>\n",
       "      <td>18 - 24</td>\n",
       "      <td>US</td>\n",
       "      <td>35</td>\n",
       "    </tr>\n",
       "    <tr>\n",
       "      <th>1</th>\n",
       "      <td>7476</td>\n",
       "      <td>album</td>\n",
       "      <td>0f5f2acbcf244490948ac2e63adade73</td>\n",
       "      <td>open</td>\n",
       "      <td>1.444790e+09</td>\n",
       "      <td>a9abbb14c8544898a0e06feb94f8051e</td>\n",
       "      <td>male</td>\n",
       "      <td>18 - 24</td>\n",
       "      <td>US</td>\n",
       "      <td>35</td>\n",
       "    </tr>\n",
       "    <tr>\n",
       "      <th>2</th>\n",
       "      <td>227280</td>\n",
       "      <td>collection</td>\n",
       "      <td>0f4a2173eb1f4aa9b8693ad7a92fab73</td>\n",
       "      <td>open</td>\n",
       "      <td>1.444797e+09</td>\n",
       "      <td>a9abbb14c8544898a0e06feb94f8051e</td>\n",
       "      <td>male</td>\n",
       "      <td>18 - 24</td>\n",
       "      <td>US</td>\n",
       "      <td>35</td>\n",
       "    </tr>\n",
       "    <tr>\n",
       "      <th>3</th>\n",
       "      <td>325</td>\n",
       "      <td>playlist</td>\n",
       "      <td>affc7467b68e4dfab9d1d7b9ec8d4673</td>\n",
       "      <td>open</td>\n",
       "      <td>1.444796e+09</td>\n",
       "      <td>a9abbb14c8544898a0e06feb94f8051e</td>\n",
       "      <td>male</td>\n",
       "      <td>18 - 24</td>\n",
       "      <td>US</td>\n",
       "      <td>35</td>\n",
       "    </tr>\n",
       "    <tr>\n",
       "      <th>4</th>\n",
       "      <td>204196</td>\n",
       "      <td>collection</td>\n",
       "      <td>427fd37cbfe640a8a78179477c9f33d3</td>\n",
       "      <td>open</td>\n",
       "      <td>1.444799e+09</td>\n",
       "      <td>a9abbb14c8544898a0e06feb94f8051e</td>\n",
       "      <td>male</td>\n",
       "      <td>18 - 24</td>\n",
       "      <td>US</td>\n",
       "      <td>35</td>\n",
       "    </tr>\n",
       "    <tr>\n",
       "      <th>5</th>\n",
       "      <td>184519</td>\n",
       "      <td>collection</td>\n",
       "      <td>0923482becad4ddb8d456dee1d15c3e7</td>\n",
       "      <td>open</td>\n",
       "      <td>1.444688e+09</td>\n",
       "      <td>a9abbb14c8544898a0e06feb94f8051e</td>\n",
       "      <td>male</td>\n",
       "      <td>18 - 24</td>\n",
       "      <td>US</td>\n",
       "      <td>35</td>\n",
       "    </tr>\n",
       "    <tr>\n",
       "      <th>6</th>\n",
       "      <td>249626</td>\n",
       "      <td>collection</td>\n",
       "      <td>f6c7f8f87620458dad4ab2a251730c09</td>\n",
       "      <td>open</td>\n",
       "      <td>1.444681e+09</td>\n",
       "      <td>a9abbb14c8544898a0e06feb94f8051e</td>\n",
       "      <td>male</td>\n",
       "      <td>18 - 24</td>\n",
       "      <td>US</td>\n",
       "      <td>35</td>\n",
       "    </tr>\n",
       "    <tr>\n",
       "      <th>7</th>\n",
       "      <td>258516</td>\n",
       "      <td>collection</td>\n",
       "      <td>afb87a969fe84f9e86511db96f368013</td>\n",
       "      <td>open</td>\n",
       "      <td>1.443675e+09</td>\n",
       "      <td>a9abbb14c8544898a0e06feb94f8051e</td>\n",
       "      <td>male</td>\n",
       "      <td>18 - 24</td>\n",
       "      <td>US</td>\n",
       "      <td>35</td>\n",
       "    </tr>\n",
       "    <tr>\n",
       "      <th>8</th>\n",
       "      <td>3854</td>\n",
       "      <td>playlist</td>\n",
       "      <td>bd236bfbc89e4b0d939b97e78fbf29c5</td>\n",
       "      <td>open</td>\n",
       "      <td>1.444791e+09</td>\n",
       "      <td>a9abbb14c8544898a0e06feb94f8051e</td>\n",
       "      <td>male</td>\n",
       "      <td>18 - 24</td>\n",
       "      <td>US</td>\n",
       "      <td>35</td>\n",
       "    </tr>\n",
       "    <tr>\n",
       "      <th>9</th>\n",
       "      <td>297146</td>\n",
       "      <td>playlist</td>\n",
       "      <td>517ec448bda24791a1369531cbf4ce85</td>\n",
       "      <td>open</td>\n",
       "      <td>1.444791e+09</td>\n",
       "      <td>a9abbb14c8544898a0e06feb94f8051e</td>\n",
       "      <td>male</td>\n",
       "      <td>18 - 24</td>\n",
       "      <td>US</td>\n",
       "      <td>35</td>\n",
       "    </tr>\n",
       "  </tbody>\n",
       "</table>\n",
       "</div>"
      ],
      "text/plain": [
       "   ms_played     context                          track_id product  \\\n",
       "0     330962       album  2ab4f3b3a6c34fbaba95c2451b65efbd    open   \n",
       "1       7476       album  0f5f2acbcf244490948ac2e63adade73    open   \n",
       "2     227280  collection  0f4a2173eb1f4aa9b8693ad7a92fab73    open   \n",
       "3        325    playlist  affc7467b68e4dfab9d1d7b9ec8d4673    open   \n",
       "4     204196  collection  427fd37cbfe640a8a78179477c9f33d3    open   \n",
       "5     184519  collection  0923482becad4ddb8d456dee1d15c3e7    open   \n",
       "6     249626  collection  f6c7f8f87620458dad4ab2a251730c09    open   \n",
       "7     258516  collection  afb87a969fe84f9e86511db96f368013    open   \n",
       "8       3854    playlist  bd236bfbc89e4b0d939b97e78fbf29c5    open   \n",
       "9     297146    playlist  517ec448bda24791a1369531cbf4ce85    open   \n",
       "\n",
       "   end_timestamp                           user_id gender age_range country  \\\n",
       "0   1.444790e+09  a9abbb14c8544898a0e06feb94f8051e   male   18 - 24      US   \n",
       "1   1.444790e+09  a9abbb14c8544898a0e06feb94f8051e   male   18 - 24      US   \n",
       "2   1.444797e+09  a9abbb14c8544898a0e06feb94f8051e   male   18 - 24      US   \n",
       "3   1.444796e+09  a9abbb14c8544898a0e06feb94f8051e   male   18 - 24      US   \n",
       "4   1.444799e+09  a9abbb14c8544898a0e06feb94f8051e   male   18 - 24      US   \n",
       "5   1.444688e+09  a9abbb14c8544898a0e06feb94f8051e   male   18 - 24      US   \n",
       "6   1.444681e+09  a9abbb14c8544898a0e06feb94f8051e   male   18 - 24      US   \n",
       "7   1.443675e+09  a9abbb14c8544898a0e06feb94f8051e   male   18 - 24      US   \n",
       "8   1.444791e+09  a9abbb14c8544898a0e06feb94f8051e   male   18 - 24      US   \n",
       "9   1.444791e+09  a9abbb14c8544898a0e06feb94f8051e   male   18 - 24      US   \n",
       "\n",
       "   acct_age_weeks  \n",
       "0              35  \n",
       "1              35  \n",
       "2              35  \n",
       "3              35  \n",
       "4              35  \n",
       "5              35  \n",
       "6              35  \n",
       "7              35  \n",
       "8              35  \n",
       "9              35  "
      ]
     },
     "execution_count": 16,
     "metadata": {},
     "output_type": "execute_result"
    }
   ],
   "source": [
    "df.head(10)"
   ]
  },
  {
   "cell_type": "code",
   "execution_count": 21,
   "metadata": {
    "collapsed": false
   },
   "outputs": [
    {
     "data": {
      "text/plain": [
       "ms_played           int64\n",
       "context            object\n",
       "track_id           object\n",
       "product            object\n",
       "end_timestamp     float64\n",
       "user_id            object\n",
       "gender             object\n",
       "age_range          object\n",
       "country            object\n",
       "acct_age_weeks      int64\n",
       "dtype: object"
      ]
     },
     "execution_count": 21,
     "metadata": {},
     "output_type": "execute_result"
    }
   ],
   "source": [
    "df.dtypes"
   ]
  },
  {
   "cell_type": "code",
   "execution_count": 51,
   "metadata": {
    "collapsed": false
   },
   "outputs": [
    {
     "data": {
      "text/plain": [
       "user_id\n",
       "000eb8799c9344c8853e8a2b57d835ff    17469466\n",
       "001fbc268150424e82b2af6a13b300eb    23646800\n",
       "00289460efa342d19d317065e3709705    13442413\n",
       "00328770830a4f80a02eeb49716bd8f0      255562\n",
       "00533d876c9c417bb632d6df747897eb     1717784\n",
       "005d1c7c553441288e59a788c05644fe      190653\n",
       "0060f6f117f04f839a4a1daf2a7f71f4     6959848\n",
       "0080c3077edf40c5ab355abc6028b6aa    93177228\n",
       "00990bd93aba46edaf991cdc14ba65bb     3821440\n",
       "00a2fb9b28ed4b778eba1dcfa6d6c28e    44629110\n",
       "Name: ms_played, dtype: int64"
      ]
     },
     "execution_count": 51,
     "metadata": {},
     "output_type": "execute_result"
    }
   ],
   "source": [
    "df_m.head(10)"
   ]
  },
  {
   "cell_type": "code",
   "execution_count": 131,
   "metadata": {
    "collapsed": false
   },
   "outputs": [],
   "source": [
    "df_m_ttime = df[df['gender'] == 'male'].groupby('user_id').ms_played.apply(lambda x: sum(x)/60000)\n",
    "df_f_ttime = df[df['gender'] == 'female'].groupby('user_id').ms_played.apply(lambda x: sum(x)/60000)"
   ]
  },
  {
   "cell_type": "code",
   "execution_count": 70,
   "metadata": {
    "collapsed": false
   },
   "outputs": [],
   "source": [
    "df_m_counts = df[df['gender'] == 'male'].groupby('user_id').ms_played.apply(lambda x : sum(1 for y in x))\n",
    "df_f_counts = df[df['gender'] == 'female'].groupby('user_id').ms_played.apply(lambda x : sum(1 for y in x))"
   ]
  },
  {
   "cell_type": "code",
   "execution_count": 132,
   "metadata": {
    "collapsed": true
   },
   "outputs": [],
   "source": [
    "df_m_avgtime = df[df['gender'] == 'male'].groupby('user_id').ms_played.apply(lambda x :sum(x)/sum(1 for y in x)/60000)\n",
    "df_f_avgtime = df[df['gender'] == 'female'].groupby('user_id').ms_played.apply(lambda x :sum(x)/sum(1 for y in x)/60000)"
   ]
  },
  {
   "cell_type": "code",
   "execution_count": 78,
   "metadata": {
    "collapsed": false
   },
   "outputs": [
    {
     "data": {
      "text/plain": [
       "(-0.49487725289252299, 0.62069816865329197)"
      ]
     },
     "execution_count": 78,
     "metadata": {},
     "output_type": "execute_result"
    }
   ],
   "source": [
    "from scipy.stats import ttest_ind\n",
    "ttest_ind(df_m_ttime, df_f_ttime)"
   ]
  },
  {
   "cell_type": "code",
   "execution_count": 137,
   "metadata": {
    "collapsed": false
   },
   "outputs": [
    {
     "data": {
      "image/png": "[encoded data removed]",
      "text/plain": [
       "<matplotlib.figure.Figure at 0x467f4c88>"
      ]
     },
     "metadata": {},
     "output_type": "display_data"
    }
   ],
   "source": [
    "plt.figure(figsize=(20, 20))\n",
    "\n",
    "plt.subplot(3, 3, 1)\n",
    "bins = np.linspace(0, 500, 30)\n",
    "plt.hist(df_f_counts, color='r',bins=bins,label='Female')\n",
    "plt.hist(df_m_counts, color='b',alpha=0.5,bins=bins,label='Male')\n",
    "plt.title(\"Number of Tracks Gender Comparison\")\n",
    "plt.xlabel(\"Number of Tracks\")\n",
    "plt.ylabel(\"Number of users\")\n",
    "plt.legend()\n",
    "\n",
    "plt.subplot(3, 3, 2)\n",
    "bins = np.linspace(0, 500, 30)\n",
    "plt.hist(df_f_ttime, color='r',bins=bins,label='Female')\n",
    "plt.hist(df_m_ttime, color='b',alpha=0.5,bins=bins,label='Male')\n",
    "plt.title(\"Total listen time Gender Comparison\")\n",
    "plt.xlabel(\"Total Listen Time minutes\")\n",
    "plt.ylabel(\"Number of users\")\n",
    "plt.legend()\n",
    "\n",
    "plt.subplot(3, 3, 3)\n",
    "bins = np.linspace(0, 6, 30)\n",
    "plt.hist(df_f_avgtime, color='r',bins=bins,label='Female')\n",
    "plt.hist(df_m_avgtime, color='b',alpha=0.5,bins=bins,label='Male')\n",
    "plt.title(\"Average listen time per track Gender Comparison\")\n",
    "plt.xlabel(\"Average Listen Time per track minutes\")\n",
    "plt.ylabel(\"Number of users\")\n",
    "plt.legend()\n",
    "\n",
    "plt.show()"
   ]
  },
  {
   "cell_type": "code",
   "execution_count": 138,
   "metadata": {
    "collapsed": false
   },
   "outputs": [
    {
     "data": {
      "text/plain": [
       "17.555755555555553"
      ]
     },
     "execution_count": 138,
     "metadata": {},
     "output_type": "execute_result"
    }
   ],
   "source": [
    "np.max(df_f_avgtime)"
   ]
  },
  {
   "cell_type": "code",
   "execution_count": null,
   "metadata": {
    "collapsed": true
   },
   "outputs": [],
   "source": []
  }
 ],
 "metadata": {
  "kernelspec": {
   "display_name": "Python 3",
   "language": "python",
   "name": "python3"
  },
  "language_info": {
   "codemirror_mode": {
    "name": "ipython",
    "version": 3
   },
   "file_extension": ".py",
   "mimetype": "text/x-python",
   "name": "python",
   "nbconvert_exporter": "python",
   "pygments_lexer": "ipython3",
   "version": "3.4.3"
  }
 },
 "nbformat": 4,
 "nbformat_minor": 0
}
